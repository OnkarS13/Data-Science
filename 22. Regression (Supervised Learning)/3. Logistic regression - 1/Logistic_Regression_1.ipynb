{
  "cells": [
    {
      "cell_type": "code",
      "execution_count": 6,
      "metadata": {
        "colab": {
          "base_uri": "https://localhost:8080/",
          "height": 422
        },
        "id": "fPOmqpWtiHy2",
        "outputId": "82636b8b-58d7-4caf-9d82-e6a3c4952714"
      },
      "outputs": [
        {
          "name": "stdout",
          "output_type": "stream",
          "text": [
            "Optimization terminated successfully.\n",
            "         Current function value: 0.609131\n",
            "         Iterations 7\n",
            "Area under the ROC curve : 0.760101\n",
            "Optimization terminated successfully.\n",
            "         Current function value: 0.615751\n",
            "         Iterations 7\n",
            "0.7217484008528785\n"
          ]
        },
        {
          "data": {
            "image/png": "[encoded data removed]",
            "text/plain": [
              "<Figure size 432x288 with 1 Axes>"
            ]
          },
          "metadata": {
            "needs_background": "light"
          },
          "output_type": "display_data"
        }
      ],
      "source": [
        "import pandas as pd\n",
        "import numpy as np\n",
        "import matplotlib.pyplot as plt\n",
        "\n",
        "import statsmodels.formula.api as sm\n",
        "from sklearn.model_selection import train_test_split # train and test \n",
        "from sklearn import metrics\n",
        "from sklearn.metrics import roc_curve, auc\n",
        "from sklearn.metrics import classification_report\n",
        "\n",
        "#Importing Data\n",
        "claimants = pd.read_csv(\"claimants.csv\", sep = \",\")\n",
        "\n",
        "# Removing CASENUM\n",
        "c1 = claimants.drop('CASENUM', axis = 1)\n",
        "c1.head(11)\n",
        "c1.describe()\n",
        "c1.isna().sum()\n",
        "\n",
        "# To drop NaN values\n",
        "df = claimants.dropna()\n",
        "\n",
        "# Imputating the missing values           \n",
        "# Mean Imputation - CLMAGE is a continuous data\n",
        "\n",
        "mean_value = c1.CLMAGE.mean()\n",
        "mean_value\n",
        "c1.CLMAGE = c1.CLMAGE.fillna(mean_value)\n",
        "c1.CLMAGE.isna().sum()\n",
        "\n",
        "# For Median imputation try this\n",
        "# median_value = claimants.CLMAGE.median()\n",
        "# claimants1['CLMAGE'] = claimants1['CLMAGE'].fillna(median_value)\n",
        "\n",
        "\n",
        "# For Mode - for Discrete variables\n",
        "# CLMSEX\n",
        "mode_CLMSEX = c1.CLMSEX.mode()\n",
        "mode_CLMSEX\n",
        "c1.CLMSEX = c1.CLMSEX.fillna((mode_CLMSEX)[0])\n",
        "c1.CLMSEX.isna().sum()\n",
        "\n",
        "# CLMINSUR\n",
        "mode_INSUR = c1['CLMINSUR'].mode()\n",
        "mode_INSUR\n",
        "c1['CLMINSUR'] = c1['CLMINSUR'].fillna((mode_INSUR)[0])\n",
        "c1.CLMINSUR.isna().sum()\n",
        "\n",
        "# SEATBELT\n",
        "mode_SB = c1['SEATBELT'].mode()\n",
        "mode_SB\n",
        "c1['SEATBELT'] = c1['SEATBELT'].fillna((mode_SB)[0])\n",
        "c1.SEATBELT.isna().sum()\n",
        "\n",
        "# Alternate approach\n",
        "########## Median Imputation for all the columns ############\n",
        "c1.fillna(c1.median(), inplace=True)\n",
        "c1.isna().sum()\n",
        "\n",
        "c1.CLMAGE.median()\n",
        "c1.CLMINSUR.median()\n",
        "#############################################################\n",
        "\n",
        "# Model building \n",
        "# import statsmodels.formula.api as sm\n",
        "logit_model = sm.logit('ATTORNEY ~ CLMAGE + LOSS + CLMINSUR + CLMSEX + SEATBELT', data = c1).fit()\n",
        "\n",
        "#summary\n",
        "logit_model.summary()\n",
        "logit_model.summary2() # for AIC\n",
        "\n",
        "\n",
        "pred = logit_model.predict(c1.iloc[ :, 1: ])\n",
        "\n",
        "# from sklearn import metrics\n",
        "fpr, tpr, thresholds = roc_curve(c1.ATTORNEY, pred)\n",
        "optimal_idx = np.argmax(tpr - fpr)\n",
        "optimal_threshold = thresholds[optimal_idx]\n",
        "optimal_threshold\n",
        "\n",
        "# import pylab as pl\n",
        "\n",
        "i = np.arange(len(tpr))\n",
        "roc = pd.DataFrame({'fpr' : pd.Series(fpr, index=i),'tpr' : pd.Series(tpr, index = i), '1-fpr' : pd.Series(1-fpr, index = i), 'tf' : pd.Series(tpr - (1-fpr), index = i), 'thresholds' : pd.Series(thresholds, index = i)})\n",
        "# roc.iloc[(roc.tf-0).abs().argsort()[:1]]\n",
        "\n",
        "\n",
        "#ROC CURVE AND AUC\n",
        "#PLOT OF ROC\n",
        "plt.plot(fpr, tpr);plt.xlabel(\"False positive rate\");plt.ylabel(\"True positive rate\")\n",
        "\n",
        "\n",
        "# Plot 1-fpr vs tpr\n",
        "# fig, ax = pl.subplots()\n",
        "# pl.plot(roc['1-fpr'], color = 'blue')\n",
        "# pl.plot(roc['tpr'], color = 'red')\n",
        "# pl.xlabel('1-False Positive Rate')\n",
        "# pl.ylabel('True Positive Rate')\n",
        "# pl.title('Receiver operating characteristic')\n",
        "# ax.set_xticklabels([])\n",
        "\n",
        "roc_auc = auc(fpr, tpr)\n",
        "print(\"Area under the ROC curve : %f\" % roc_auc)\n",
        "\n",
        "# filling all the cells with zeroes\n",
        "c1[\"pred\"] = np.zeros(1340)\n",
        "# taking threshold value and above the prob value will be treated as correct value \n",
        "c1.loc[pred > optimal_threshold, \"pred\"] = 1\n",
        "\n",
        "# classification report\n",
        "classification = classification_report(c1[\"pred\"], c1[\"ATTORNEY\"])\n",
        "classification\n",
        "\n",
        "\n",
        "### Splitting the data into train and test data \n",
        "# from sklearn.model_selection import train_test_split\n",
        "train_data, test_data = train_test_split(c1, test_size = 0.3) # 30% test data\n",
        "\n",
        "# Model building \n",
        "# import statsmodels.formula.api as sm\n",
        "model = sm.logit('ATTORNEY ~ CLMAGE + LOSS + CLMINSUR + CLMSEX + SEATBELT', data = train_data).fit()\n",
        "\n",
        "#summary\n",
        "model.summary2() # for AIC\n",
        "model.summary()\n",
        "\n",
        "# Prediction on Test data set\n",
        "test_pred = model.predict(test_data)\n",
        "\n",
        "# Creating new column for storing predicted class of Attorney\n",
        "# filling all the cells with zeroes\n",
        "test_data[\"test_pred\"] = np.zeros(402)\n",
        "\n",
        "# taking threshold value as 'optimal_threshold' and above the thresold prob value will be treated as 1 \n",
        "test_data.loc[test_pred > optimal_threshold, \"test_pred\"] = 1\n",
        "\n",
        "# confusion matrix \n",
        "confusion_matrix = pd.crosstab(test_data.test_pred, test_data['ATTORNEY'])\n",
        "confusion_matrix\n",
        "\n",
        "accuracy_test = (129 + 147)/(402) \n",
        "accuracy_test\n",
        "\n",
        "# classification report\n",
        "classification_test = classification_report(test_data[\"test_pred\"], test_data[\"ATTORNEY\"])\n",
        "classification_test\n",
        "\n",
        "#ROC CURVE AND AUC\n",
        "fpr, tpr, threshold = metrics.roc_curve(test_data[\"ATTORNEY\"], test_pred)\n",
        "\n",
        "#PLOT OF ROC\n",
        "plt.plot(fpr, tpr);plt.xlabel(\"False positive rate\");plt.ylabel(\"True positive rate\")\n",
        "\n",
        "roc_auc_test = metrics.auc(fpr, tpr)\n",
        "roc_auc_test\n",
        "\n",
        "\n",
        "# prediction on train data\n",
        "train_pred = model.predict(train_data.iloc[ :, 1: ])\n",
        "\n",
        "# Creating new column \n",
        "# filling all the cells with zeroes\n",
        "train_data[\"train_pred\"] = np.zeros(938)\n",
        "\n",
        "# taking threshold value and above the prob value will be treated as correct value \n",
        "train_data.loc[train_pred > optimal_threshold, \"train_pred\"] = 1\n",
        "\n",
        "# confusion matrix\n",
        "confusion_matrx = pd.crosstab(train_data.train_pred, train_data['ATTORNEY'])\n",
        "confusion_matrx\n",
        "\n",
        "accuracy_train = (338 + 339)/(938)\n",
        "print(accuracy_train)\n"
      ]
    },
    {
      "cell_type": "code",
      "execution_count": 2,
      "metadata": {
        "colab": {
          "base_uri": "https://localhost:8080/"
        },
        "id": "7SWbXeIJijI6",
        "outputId": "90fe11a1-0447-438c-96f5-d3382b796aa8"
      },
      "outputs": [
        {
          "data": {
            "text/plain": [
              "ATTORNEY    0\n",
              "CLMSEX      0\n",
              "CLMINSUR    0\n",
              "SEATBELT    0\n",
              "CLMAGE      0\n",
              "LOSS        0\n",
              "pred        0\n",
              "dtype: int64"
            ]
          },
          "execution_count": 2,
          "metadata": {},
          "output_type": "execute_result"
        }
      ],
      "source": [
        "c1.fillna(c1.median(), inplace=True)\n",
        "c1.isna().sum()"
      ]
    },
    {
      "cell_type": "code",
      "execution_count": 3,
      "metadata": {
        "colab": {
          "base_uri": "https://localhost:8080/",
          "height": 337
        },
        "id": "8JgnUvaFk7vN",
        "outputId": "3204099f-1b54-48d7-c056-97e24548516e"
      },
      "outputs": [
        {
          "data": {
            "text/html": [
              "<table class=\"simpletable\">\n",
              "<caption>Logit Regression Results</caption>\n",
              "<tr>\n",
              "  <th>Dep. Variable:</th>       <td>ATTORNEY</td>     <th>  No. Observations:  </th>  <td>  1340</td>  \n",
              "</tr>\n",
              "<tr>\n",
              "  <th>Model:</th>                 <td>Logit</td>      <th>  Df Residuals:      </th>  <td>  1334</td>  \n",
              "</tr>\n",
              "<tr>\n",
              "  <th>Method:</th>                 <td>MLE</td>       <th>  Df Model:          </th>  <td>     5</td>  \n",
              "</tr>\n",
              "<tr>\n",
              "  <th>Date:</th>            <td>Sun, 25 Sep 2022</td> <th>  Pseudo R-squ.:     </th>  <td>0.1209</td>  \n",
              "</tr>\n",
              "<tr>\n",
              "  <th>Time:</th>                <td>07:41:37</td>     <th>  Log-Likelihood:    </th> <td> -816.24</td> \n",
              "</tr>\n",
              "<tr>\n",
              "  <th>converged:</th>             <td>True</td>       <th>  LL-Null:           </th> <td> -928.48</td> \n",
              "</tr>\n",
              "<tr>\n",
              "  <th>Covariance Type:</th>     <td>nonrobust</td>    <th>  LLR p-value:       </th> <td>1.620e-46</td>\n",
              "</tr>\n",
              "</table>\n",
              "<table class=\"simpletable\">\n",
              "<tr>\n",
              "      <td></td>         <th>coef</th>     <th>std err</th>      <th>z</th>      <th>P>|z|</th>  <th>[0.025</th>    <th>0.975]</th>  \n",
              "</tr>\n",
              "<tr>\n",
              "  <th>Intercept</th> <td>   -0.1493</td> <td>    0.226</td> <td>   -0.660</td> <td> 0.509</td> <td>   -0.592</td> <td>    0.294</td>\n",
              "</tr>\n",
              "<tr>\n",
              "  <th>CLMAGE</th>    <td>    0.0066</td> <td>    0.003</td> <td>    2.058</td> <td> 0.040</td> <td>    0.000</td> <td>    0.013</td>\n",
              "</tr>\n",
              "<tr>\n",
              "  <th>LOSS</th>      <td>   -0.3228</td> <td>    0.029</td> <td>  -10.962</td> <td> 0.000</td> <td>   -0.381</td> <td>   -0.265</td>\n",
              "</tr>\n",
              "<tr>\n",
              "  <th>CLMINSUR</th>  <td>    0.5284</td> <td>    0.210</td> <td>    2.516</td> <td> 0.012</td> <td>    0.117</td> <td>    0.940</td>\n",
              "</tr>\n",
              "<tr>\n",
              "  <th>CLMSEX</th>    <td>    0.3204</td> <td>    0.120</td> <td>    2.674</td> <td> 0.008</td> <td>    0.086</td> <td>    0.555</td>\n",
              "</tr>\n",
              "<tr>\n",
              "  <th>SEATBELT</th>  <td>   -0.6718</td> <td>    0.522</td> <td>   -1.286</td> <td> 0.198</td> <td>   -1.696</td> <td>    0.352</td>\n",
              "</tr>\n",
              "</table>"
            ],
            "text/plain": [
              "<class 'statsmodels.iolib.summary.Summary'>\n",
              "\"\"\"\n",
              "                           Logit Regression Results                           \n",
              "==============================================================================\n",
              "Dep. Variable:               ATTORNEY   No. Observations:                 1340\n",
              "Model:                          Logit   Df Residuals:                     1334\n",
              "Method:                           MLE   Df Model:                            5\n",
              "Date:                Sun, 25 Sep 2022   Pseudo R-squ.:                  0.1209\n",
              "Time:                        07:41:37   Log-Likelihood:                -816.24\n",
              "converged:                       True   LL-Null:                       -928.48\n",
              "Covariance Type:            nonrobust   LLR p-value:                 1.620e-46\n",
              "==============================================================================\n",
              "                 coef    std err          z      P>|z|      [0.025      0.975]\n",
              "------------------------------------------------------------------------------\n",
              "Intercept     -0.1493      0.226     -0.660      0.509      -0.592       0.294\n",
              "CLMAGE         0.0066      0.003      2.058      0.040       0.000       0.013\n",
              "LOSS          -0.3228      0.029    -10.962      0.000      -0.381      -0.265\n",
              "CLMINSUR       0.5284      0.210      2.516      0.012       0.117       0.940\n",
              "CLMSEX         0.3204      0.120      2.674      0.008       0.086       0.555\n",
              "SEATBELT      -0.6718      0.522     -1.286      0.198      -1.696       0.352\n",
              "==============================================================================\n",
              "\"\"\""
            ]
          },
          "execution_count": 3,
          "metadata": {},
          "output_type": "execute_result"
        }
      ],
      "source": [
        "logit_model.summary()"
      ]
    },
    {
      "cell_type": "code",
      "execution_count": 4,
      "metadata": {
        "colab": {
          "base_uri": "https://localhost:8080/",
          "height": 341
        },
        "id": "t30EaUsTl-ys",
        "outputId": "15d86891-2c99-4293-b91d-fb3493ab6c75"
      },
      "outputs": [
        {
          "data": {
            "text/html": [
              "<table class=\"simpletable\">\n",
              "<tr>\n",
              "        <td>Model:</td>              <td>Logit</td>      <td>Pseudo R-squared:</td>    <td>0.121</td>  \n",
              "</tr>\n",
              "<tr>\n",
              "  <td>Dependent Variable:</td>     <td>ATTORNEY</td>           <td>AIC:</td>         <td>1644.4709</td>\n",
              "</tr>\n",
              "<tr>\n",
              "         <td>Date:</td>        <td>2022-09-25 07:42</td>       <td>BIC:</td>         <td>1675.6734</td>\n",
              "</tr>\n",
              "<tr>\n",
              "   <td>No. Observations:</td>        <td>1340</td>        <td>Log-Likelihood:</td>    <td>-816.24</td> \n",
              "</tr>\n",
              "<tr>\n",
              "       <td>Df Model:</td>              <td>5</td>            <td>LL-Null:</td>        <td>-928.48</td> \n",
              "</tr>\n",
              "<tr>\n",
              "     <td>Df Residuals:</td>          <td>1334</td>         <td>LLR p-value:</td>    <td>1.6204e-46</td>\n",
              "</tr>\n",
              "<tr>\n",
              "      <td>Converged:</td>           <td>1.0000</td>           <td>Scale:</td>         <td>1.0000</td>  \n",
              "</tr>\n",
              "<tr>\n",
              "    <td>No. Iterations:</td>        <td>7.0000</td>              <td></td>               <td></td>     \n",
              "</tr>\n",
              "</table>\n",
              "<table class=\"simpletable\">\n",
              "<tr>\n",
              "      <td></td>       <th>Coef.</th>  <th>Std.Err.</th>     <th>z</th>     <th>P>|z|</th> <th>[0.025</th>  <th>0.975]</th> \n",
              "</tr>\n",
              "<tr>\n",
              "  <th>Intercept</th> <td>-0.1493</td>  <td>0.2260</td>   <td>-0.6604</td> <td>0.5090</td> <td>-0.5922</td> <td>0.2937</td> \n",
              "</tr>\n",
              "<tr>\n",
              "  <th>CLMAGE</th>    <td>0.0066</td>   <td>0.0032</td>   <td>2.0583</td>  <td>0.0396</td> <td>0.0003</td>  <td>0.0128</td> \n",
              "</tr>\n",
              "<tr>\n",
              "  <th>LOSS</th>      <td>-0.3228</td>  <td>0.0294</td>  <td>-10.9615</td> <td>0.0000</td> <td>-0.3805</td> <td>-0.2651</td>\n",
              "</tr>\n",
              "<tr>\n",
              "  <th>CLMINSUR</th>  <td>0.5284</td>   <td>0.2100</td>   <td>2.5159</td>  <td>0.0119</td> <td>0.1168</td>  <td>0.9400</td> \n",
              "</tr>\n",
              "<tr>\n",
              "  <th>CLMSEX</th>    <td>0.3204</td>   <td>0.1198</td>   <td>2.6736</td>  <td>0.0075</td> <td>0.0855</td>  <td>0.5552</td> \n",
              "</tr>\n",
              "<tr>\n",
              "  <th>SEATBELT</th>  <td>-0.6718</td>  <td>0.5224</td>   <td>-1.2860</td> <td>0.1984</td> <td>-1.6958</td> <td>0.3521</td> \n",
              "</tr>\n",
              "</table>"
            ],
            "text/plain": [
              "<class 'statsmodels.iolib.summary2.Summary'>\n",
              "\"\"\"\n",
              "                         Results: Logit\n",
              "=================================================================\n",
              "Model:              Logit            Pseudo R-squared: 0.121     \n",
              "Dependent Variable: ATTORNEY         AIC:              1644.4709 \n",
              "Date:               2022-09-25 07:42 BIC:              1675.6734 \n",
              "No. Observations:   1340             Log-Likelihood:   -816.24   \n",
              "Df Model:           5                LL-Null:          -928.48   \n",
              "Df Residuals:       1334             LLR p-value:      1.6204e-46\n",
              "Converged:          1.0000           Scale:            1.0000    \n",
              "No. Iterations:     7.0000                                       \n",
              "------------------------------------------------------------------\n",
              "              Coef.   Std.Err.     z      P>|z|    [0.025   0.975]\n",
              "------------------------------------------------------------------\n",
              "Intercept    -0.1493    0.2260   -0.6604  0.5090  -0.5922   0.2937\n",
              "CLMAGE        0.0066    0.0032    2.0583  0.0396   0.0003   0.0128\n",
              "LOSS         -0.3228    0.0294  -10.9615  0.0000  -0.3805  -0.2651\n",
              "CLMINSUR      0.5284    0.2100    2.5159  0.0119   0.1168   0.9400\n",
              "CLMSEX        0.3204    0.1198    2.6736  0.0075   0.0855   0.5552\n",
              "SEATBELT     -0.6718    0.5224   -1.2860  0.1984  -1.6958   0.3521\n",
              "=================================================================\n",
              "\n",
              "\"\"\""
            ]
          },
          "execution_count": 4,
          "metadata": {},
          "output_type": "execute_result"
        }
      ],
      "source": [
        "logit_model.summary2()"
      ]
    },
    {
      "cell_type": "code",
      "execution_count": 5,
      "metadata": {
        "colab": {
          "base_uri": "https://localhost:8080/"
        },
        "id": "MaLeMlBBmLsf",
        "outputId": "c823b887-4536-43e6-bb0e-e965f2dd4f3c"
      },
      "outputs": [
        {
          "data": {
            "text/plain": [
              "0       0.000026\n",
              "1       0.500422\n",
              "2       0.575767\n",
              "3       0.474743\n",
              "4       0.637341\n",
              "          ...   \n",
              "1335    0.593816\n",
              "1336    0.451543\n",
              "1337    0.715776\n",
              "1338    0.309620\n",
              "1339    0.662483\n",
              "Length: 1340, dtype: float64"
            ]
          },
          "execution_count": 5,
          "metadata": {},
          "output_type": "execute_result"
        }
      ],
      "source": [
        "pred"
      ]
    },
    {
      "cell_type": "code",
      "execution_count": 7,
      "metadata": {
        "colab": {
          "base_uri": "https://localhost:8080/"
        },
        "id": "3tvzqAOXnI80",
        "outputId": "c1959805-12d3-46d9-f0ab-1cff75fdca29"
      },
      "outputs": [
        {
          "data": {
            "text/plain": [
              "0       0.000026\n",
              "1       0.500422\n",
              "2       0.575767\n",
              "3       0.474743\n",
              "4       0.637341\n",
              "          ...   \n",
              "1335    0.593816\n",
              "1336    0.451543\n",
              "1337    0.715776\n",
              "1338    0.309620\n",
              "1339    0.662483\n",
              "Length: 1340, dtype: float64"
            ]
          },
          "execution_count": 7,
          "metadata": {},
          "output_type": "execute_result"
        }
      ],
      "source": [
        "pred"
      ]
    },
    {
      "cell_type": "code",
      "execution_count": 8,
      "metadata": {
        "colab": {
          "base_uri": "https://localhost:8080/",
          "height": 655
        },
        "id": "UDJ0UtgSnyrx",
        "outputId": "294e0c87-5b85-4784-b407-b16a23ea0106"
      },
      "outputs": [
        {
          "data": {
            "text/html": [
              "\n",
              "  <div id=\"df-8c7c2c73-d504-42f1-8c29-38d66727f43e\">\n",
              "    <div class=\"colab-df-container\">\n",
              "      <div>\n",
              "<style scoped>\n",
              "    .dataframe tbody tr th:only-of-type {\n",
              "        vertical-align: middle;\n",
              "    }\n",
              "\n",
              "    .dataframe tbody tr th {\n",
              "        vertical-align: top;\n",
              "    }\n",
              "\n",
              "    .dataframe thead th {\n",
              "        text-align: right;\n",
              "    }\n",
              "</style>\n",
              "<table border=\"1\" class=\"dataframe\">\n",
              "  <thead>\n",
              "    <tr style=\"text-align: right;\">\n",
              "      <th></th>\n",
              "      <th>ATTORNEY</th>\n",
              "      <th>CLMSEX</th>\n",
              "      <th>CLMINSUR</th>\n",
              "      <th>SEATBELT</th>\n",
              "      <th>CLMAGE</th>\n",
              "      <th>LOSS</th>\n",
              "      <th>pred</th>\n",
              "    </tr>\n",
              "  </thead>\n",
              "  <tbody>\n",
              "    <tr>\n",
              "      <th>0</th>\n",
              "      <td>0</td>\n",
              "      <td>0.0</td>\n",
              "      <td>1.0</td>\n",
              "      <td>0.0</td>\n",
              "      <td>50.000000</td>\n",
              "      <td>34.940</td>\n",
              "      <td>0.0</td>\n",
              "    </tr>\n",
              "    <tr>\n",
              "      <th>1</th>\n",
              "      <td>1</td>\n",
              "      <td>1.0</td>\n",
              "      <td>0.0</td>\n",
              "      <td>0.0</td>\n",
              "      <td>18.000000</td>\n",
              "      <td>0.891</td>\n",
              "      <td>1.0</td>\n",
              "    </tr>\n",
              "    <tr>\n",
              "      <th>2</th>\n",
              "      <td>1</td>\n",
              "      <td>0.0</td>\n",
              "      <td>1.0</td>\n",
              "      <td>0.0</td>\n",
              "      <td>5.000000</td>\n",
              "      <td>0.330</td>\n",
              "      <td>1.0</td>\n",
              "    </tr>\n",
              "    <tr>\n",
              "      <th>3</th>\n",
              "      <td>0</td>\n",
              "      <td>0.0</td>\n",
              "      <td>1.0</td>\n",
              "      <td>1.0</td>\n",
              "      <td>31.000000</td>\n",
              "      <td>0.037</td>\n",
              "      <td>0.0</td>\n",
              "    </tr>\n",
              "    <tr>\n",
              "      <th>4</th>\n",
              "      <td>1</td>\n",
              "      <td>0.0</td>\n",
              "      <td>1.0</td>\n",
              "      <td>0.0</td>\n",
              "      <td>30.000000</td>\n",
              "      <td>0.038</td>\n",
              "      <td>1.0</td>\n",
              "    </tr>\n",
              "    <tr>\n",
              "      <th>...</th>\n",
              "      <td>...</td>\n",
              "      <td>...</td>\n",
              "      <td>...</td>\n",
              "      <td>...</td>\n",
              "      <td>...</td>\n",
              "      <td>...</td>\n",
              "      <td>...</td>\n",
              "    </tr>\n",
              "    <tr>\n",
              "      <th>1335</th>\n",
              "      <td>1</td>\n",
              "      <td>0.0</td>\n",
              "      <td>1.0</td>\n",
              "      <td>0.0</td>\n",
              "      <td>28.414422</td>\n",
              "      <td>0.576</td>\n",
              "      <td>1.0</td>\n",
              "    </tr>\n",
              "    <tr>\n",
              "      <th>1336</th>\n",
              "      <td>0</td>\n",
              "      <td>1.0</td>\n",
              "      <td>1.0</td>\n",
              "      <td>0.0</td>\n",
              "      <td>46.000000</td>\n",
              "      <td>3.705</td>\n",
              "      <td>0.0</td>\n",
              "    </tr>\n",
              "    <tr>\n",
              "      <th>1337</th>\n",
              "      <td>1</td>\n",
              "      <td>1.0</td>\n",
              "      <td>1.0</td>\n",
              "      <td>0.0</td>\n",
              "      <td>39.000000</td>\n",
              "      <td>0.099</td>\n",
              "      <td>1.0</td>\n",
              "    </tr>\n",
              "    <tr>\n",
              "      <th>1338</th>\n",
              "      <td>0</td>\n",
              "      <td>1.0</td>\n",
              "      <td>0.0</td>\n",
              "      <td>0.0</td>\n",
              "      <td>8.000000</td>\n",
              "      <td>3.177</td>\n",
              "      <td>0.0</td>\n",
              "    </tr>\n",
              "    <tr>\n",
              "      <th>1339</th>\n",
              "      <td>1</td>\n",
              "      <td>1.0</td>\n",
              "      <td>1.0</td>\n",
              "      <td>0.0</td>\n",
              "      <td>30.000000</td>\n",
              "      <td>0.688</td>\n",
              "      <td>1.0</td>\n",
              "    </tr>\n",
              "  </tbody>\n",
              "</table>\n",
              "<p>1340 rows × 7 columns</p>\n",
              "</div>\n",
              "      <button class=\"colab-df-convert\" onclick=\"convertToInteractive('df-8c7c2c73-d504-42f1-8c29-38d66727f43e')\"\n",
              "              title=\"Convert this dataframe to an interactive table.\"\n",
              "              style=\"display:none;\">\n",
              "        \n",
              "  <svg xmlns=\"http://www.w3.org/2000/svg\" height=\"24px\"viewBox=\"0 0 24 24\"\n",
              "       width=\"24px\">\n",
              "    <path d=\"M0 0h24v24H0V0z\" fill=\"none\"/>\n",
              "    <path d=\"M18.56 5.44l.94 2.06.94-2.06 2.06-.94-2.06-.94-.94-2.06-.94 2.06-2.06.94zm-11 1L8.5 8.5l.94-2.06 2.06-.94-2.06-.94L8.5 2.5l-.94 2.06-2.06.94zm10 10l.94 2.06.94-2.06 2.06-.94-2.06-.94-.94-2.06-.94 2.06-2.06.94z\"/><path d=\"M17.41 7.96l-1.37-1.37c-.4-.4-.92-.59-1.43-.59-.52 0-1.04.2-1.43.59L10.3 9.45l-7.72 7.72c-.78.78-.78 2.05 0 2.83L4 21.41c.39.39.9.59 1.41.59.51 0 1.02-.2 1.41-.59l7.78-7.78 2.81-2.81c.8-.78.8-2.07 0-2.86zM5.41 20L4 18.59l7.72-7.72 1.47 1.35L5.41 20z\"/>\n",
              "  </svg>\n",
              "      </button>\n",
              "      \n",
              "  <style>\n",
              "    .colab-df-container {\n",
              "      display:flex;\n",
              "      flex-wrap:wrap;\n",
              "      gap: 12px;\n",
              "    }\n",
              "\n",
              "    .colab-df-convert {\n",
              "      background-color: #E8F0FE;\n",
              "      border: none;\n",
              "      border-radius: 50%;\n",
              "      cursor: pointer;\n",
              "      display: none;\n",
              "      fill: #1967D2;\n",
              "      height: 32px;\n",
              "      padding: 0 0 0 0;\n",
              "      width: 32px;\n",
              "    }\n",
              "\n",
              "    .colab-df-convert:hover {\n",
              "      background-color: #E2EBFA;\n",
              "      box-shadow: 0px 1px 2px rgba(60, 64, 67, 0.3), 0px 1px 3px 1px rgba(60, 64, 67, 0.15);\n",
              "      fill: #174EA6;\n",
              "    }\n",
              "\n",
              "    [theme=dark] .colab-df-convert {\n",
              "      background-color: #3B4455;\n",
              "      fill: #D2E3FC;\n",
              "    }\n",
              "\n",
              "    [theme=dark] .colab-df-convert:hover {\n",
              "      background-color: #434B5C;\n",
              "      box-shadow: 0px 1px 3px 1px rgba(0, 0, 0, 0.15);\n",
              "      filter: drop-shadow(0px 1px 2px rgba(0, 0, 0, 0.3));\n",
              "      fill: #FFFFFF;\n",
              "    }\n",
              "  </style>\n",
              "\n",
              "      <script>\n",
              "        const buttonEl =\n",
              "          document.querySelector('#df-8c7c2c73-d504-42f1-8c29-38d66727f43e button.colab-df-convert');\n",
              "        buttonEl.style.display =\n",
              "          google.colab.kernel.accessAllowed ? 'block' : 'none';\n",
              "\n",
              "        async function convertToInteractive(key) {\n",
              "          const element = document.querySelector('#df-8c7c2c73-d504-42f1-8c29-38d66727f43e');\n",
              "          const dataTable =\n",
              "            await google.colab.kernel.invokeFunction('convertToInteractive',\n",
              "                                                     [key], {});\n",
              "          if (!dataTable) return;\n",
              "\n",
              "          const docLinkHtml = 'Like what you see? Visit the ' +\n",
              "            '<a target=\"_blank\" href=https://colab.research.google.com/notebooks/data_table.ipynb>data table notebook</a>'\n",
              "            + ' to learn more about interactive tables.';\n",
              "          element.innerHTML = '';\n",
              "          dataTable['output_type'] = 'display_data';\n",
              "          await google.colab.output.renderOutput(dataTable, element);\n",
              "          const docLink = document.createElement('div');\n",
              "          docLink.innerHTML = docLinkHtml;\n",
              "          element.appendChild(docLink);\n",
              "        }\n",
              "      </script>\n",
              "    </div>\n",
              "  </div>\n",
              "  "
            ],
            "text/plain": [
              "      ATTORNEY  CLMSEX  CLMINSUR  SEATBELT     CLMAGE    LOSS  pred\n",
              "0            0     0.0       1.0       0.0  50.000000  34.940   0.0\n",
              "1            1     1.0       0.0       0.0  18.000000   0.891   1.0\n",
              "2            1     0.0       1.0       0.0   5.000000   0.330   1.0\n",
              "3            0     0.0       1.0       1.0  31.000000   0.037   0.0\n",
              "4            1     0.0       1.0       0.0  30.000000   0.038   1.0\n",
              "...        ...     ...       ...       ...        ...     ...   ...\n",
              "1335         1     0.0       1.0       0.0  28.414422   0.576   1.0\n",
              "1336         0     1.0       1.0       0.0  46.000000   3.705   0.0\n",
              "1337         1     1.0       1.0       0.0  39.000000   0.099   1.0\n",
              "1338         0     1.0       0.0       0.0   8.000000   3.177   0.0\n",
              "1339         1     1.0       1.0       0.0  30.000000   0.688   1.0\n",
              "\n",
              "[1340 rows x 7 columns]"
            ]
          },
          "execution_count": 8,
          "metadata": {},
          "output_type": "execute_result"
        }
      ],
      "source": [
        "c1"
      ]
    },
    {
      "cell_type": "code",
      "execution_count": 9,
      "metadata": {
        "colab": {
          "base_uri": "https://localhost:8080/",
          "height": 71
        },
        "id": "tQ9iTPvNn0aG",
        "outputId": "2aead80d-e15e-4dd9-e3a7-2a973dfd0bc9"
      },
      "outputs": [
        {
          "data": {
            "application/vnd.google.colaboratory.intrinsic+json": {
              "type": "string"
            },
            "text/plain": [
              "'              precision    recall  f1-score   support\\n\\n         0.0       0.64      0.74      0.69       587\\n         1.0       0.77      0.67      0.72       753\\n\\n    accuracy                           0.70      1340\\n   macro avg       0.70      0.71      0.70      1340\\nweighted avg       0.71      0.70      0.70      1340\\n'"
            ]
          },
          "execution_count": 9,
          "metadata": {},
          "output_type": "execute_result"
        }
      ],
      "source": [
        "classification"
      ]
    },
    {
      "cell_type": "code",
      "execution_count": 11,
      "metadata": {
        "colab": {
          "base_uri": "https://localhost:8080/",
          "height": 297
        },
        "id": "JT1XyXNyn-Yb",
        "outputId": "6a41ed03-edd7-4682-ddcf-b2f00a253e0b"
      },
      "outputs": [
        {
          "data": {
            "text/plain": [
              "Text(0, 0.5, 'True positive rate')"
            ]
          },
          "execution_count": 11,
          "metadata": {},
          "output_type": "execute_result"
        },
        {
          "data": {
            "image/png": "[encoded data removed]",
            "text/plain": [
              "<Figure size 432x288 with 1 Axes>"
            ]
          },
          "metadata": {
            "needs_background": "light"
          },
          "output_type": "display_data"
        }
      ],
      "source": [
        "plt.plot(fpr, tpr);plt.xlabel(\"False positive rate\");plt.ylabel(\"True positive rate\")\n"
      ]
    },
    {
      "cell_type": "code",
      "execution_count": 12,
      "metadata": {
        "colab": {
          "base_uri": "https://localhost:8080/"
        },
        "id": "AnTeHansxC4R",
        "outputId": "30cabaab-1595-4f85-dcc5-1f7e43fe7b7f"
      },
      "outputs": [
        {
          "data": {
            "text/plain": [
              "0.6632562101955198"
            ]
          },
          "execution_count": 12,
          "metadata": {},
          "output_type": "execute_result"
        }
      ],
      "source": [
        "optimal_idx = np.argmax(tpr - fpr)\n",
        "optimal_threshold = thresholds[optimal_idx]\n",
        "optimal_threshold"
      ]
    },
    {
      "cell_type": "code",
      "execution_count": 13,
      "metadata": {
        "colab": {
          "base_uri": "https://localhost:8080/"
        },
        "id": "8lUXw1t4xzHT",
        "outputId": "f05658e6-ae41-480a-e7fa-7050cf7fbfcb"
      },
      "outputs": [
        {
          "data": {
            "text/plain": [
              "102"
            ]
          },
          "execution_count": 13,
          "metadata": {},
          "output_type": "execute_result"
        }
      ],
      "source": [
        "optimal_idx"
      ]
    },
    {
      "cell_type": "code",
      "execution_count": 14,
      "metadata": {
        "colab": {
          "base_uri": "https://localhost:8080/",
          "height": 297
        },
        "id": "wPFBXOLBx2V6",
        "outputId": "fe12f4ee-0dc9-4ddc-eefe-4fff9967d0b8"
      },
      "outputs": [
        {
          "data": {
            "text/plain": [
              "Text(0, 0.5, 'True positive rate')"
            ]
          },
          "execution_count": 14,
          "metadata": {},
          "output_type": "execute_result"
        },
        {
          "data": {
            "image/png": "[encoded data removed]",
            "text/plain": [
              "<Figure size 432x288 with 1 Axes>"
            ]
          },
          "metadata": {
            "needs_background": "light"
          },
          "output_type": "display_data"
        }
      ],
      "source": [
        "plt.plot(fpr, tpr);plt.xlabel(\"False positive rate\");plt.ylabel(\"True positive rate\")\n"
      ]
    },
    {
      "cell_type": "code",
      "execution_count": null,
      "metadata": {
        "id": "zjU2C_XoyEDE"
      },
      "outputs": [],
      "source": [
        "roc_auc"
      ]
    },
    {
      "cell_type": "code",
      "execution_count": 15,
      "metadata": {
        "colab": {
          "base_uri": "https://localhost:8080/",
          "height": 143
        },
        "id": "zB24otfT0BW5",
        "outputId": "0c96050c-3487-4d03-8813-da0f0fdb8584"
      },
      "outputs": [
        {
          "data": {
            "text/html": [
              "\n",
              "  <div id=\"df-fe8f5a11-96da-40a6-9b42-4bfdcacff5cd\">\n",
              "    <div class=\"colab-df-container\">\n",
              "      <div>\n",
              "<style scoped>\n",
              "    .dataframe tbody tr th:only-of-type {\n",
              "        vertical-align: middle;\n",
              "    }\n",
              "\n",
              "    .dataframe tbody tr th {\n",
              "        vertical-align: top;\n",
              "    }\n",
              "\n",
              "    .dataframe thead th {\n",
              "        text-align: right;\n",
              "    }\n",
              "</style>\n",
              "<table border=\"1\" class=\"dataframe\">\n",
              "  <thead>\n",
              "    <tr style=\"text-align: right;\">\n",
              "      <th>ATTORNEY</th>\n",
              "      <th>0</th>\n",
              "      <th>1</th>\n",
              "    </tr>\n",
              "    <tr>\n",
              "      <th>test_pred</th>\n",
              "      <th></th>\n",
              "      <th></th>\n",
              "    </tr>\n",
              "  </thead>\n",
              "  <tbody>\n",
              "    <tr>\n",
              "      <th>0.0</th>\n",
              "      <td>138</td>\n",
              "      <td>50</td>\n",
              "    </tr>\n",
              "    <tr>\n",
              "      <th>1.0</th>\n",
              "      <td>74</td>\n",
              "      <td>140</td>\n",
              "    </tr>\n",
              "  </tbody>\n",
              "</table>\n",
              "</div>\n",
              "      <button class=\"colab-df-convert\" onclick=\"convertToInteractive('df-fe8f5a11-96da-40a6-9b42-4bfdcacff5cd')\"\n",
              "              title=\"Convert this dataframe to an interactive table.\"\n",
              "              style=\"display:none;\">\n",
              "        \n",
              "  <svg xmlns=\"http://www.w3.org/2000/svg\" height=\"24px\"viewBox=\"0 0 24 24\"\n",
              "       width=\"24px\">\n",
              "    <path d=\"M0 0h24v24H0V0z\" fill=\"none\"/>\n",
              "    <path d=\"M18.56 5.44l.94 2.06.94-2.06 2.06-.94-2.06-.94-.94-2.06-.94 2.06-2.06.94zm-11 1L8.5 8.5l.94-2.06 2.06-.94-2.06-.94L8.5 2.5l-.94 2.06-2.06.94zm10 10l.94 2.06.94-2.06 2.06-.94-2.06-.94-.94-2.06-.94 2.06-2.06.94z\"/><path d=\"M17.41 7.96l-1.37-1.37c-.4-.4-.92-.59-1.43-.59-.52 0-1.04.2-1.43.59L10.3 9.45l-7.72 7.72c-.78.78-.78 2.05 0 2.83L4 21.41c.39.39.9.59 1.41.59.51 0 1.02-.2 1.41-.59l7.78-7.78 2.81-2.81c.8-.78.8-2.07 0-2.86zM5.41 20L4 18.59l7.72-7.72 1.47 1.35L5.41 20z\"/>\n",
              "  </svg>\n",
              "      </button>\n",
              "      \n",
              "  <style>\n",
              "    .colab-df-container {\n",
              "      display:flex;\n",
              "      flex-wrap:wrap;\n",
              "      gap: 12px;\n",
              "    }\n",
              "\n",
              "    .colab-df-convert {\n",
              "      background-color: #E8F0FE;\n",
              "      border: none;\n",
              "      border-radius: 50%;\n",
              "      cursor: pointer;\n",
              "      display: none;\n",
              "      fill: #1967D2;\n",
              "      height: 32px;\n",
              "      padding: 0 0 0 0;\n",
              "      width: 32px;\n",
              "    }\n",
              "\n",
              "    .colab-df-convert:hover {\n",
              "      background-color: #E2EBFA;\n",
              "      box-shadow: 0px 1px 2px rgba(60, 64, 67, 0.3), 0px 1px 3px 1px rgba(60, 64, 67, 0.15);\n",
              "      fill: #174EA6;\n",
              "    }\n",
              "\n",
              "    [theme=dark] .colab-df-convert {\n",
              "      background-color: #3B4455;\n",
              "      fill: #D2E3FC;\n",
              "    }\n",
              "\n",
              "    [theme=dark] .colab-df-convert:hover {\n",
              "      background-color: #434B5C;\n",
              "      box-shadow: 0px 1px 3px 1px rgba(0, 0, 0, 0.15);\n",
              "      filter: drop-shadow(0px 1px 2px rgba(0, 0, 0, 0.3));\n",
              "      fill: #FFFFFF;\n",
              "    }\n",
              "  </style>\n",
              "\n",
              "      <script>\n",
              "        const buttonEl =\n",
              "          document.querySelector('#df-fe8f5a11-96da-40a6-9b42-4bfdcacff5cd button.colab-df-convert');\n",
              "        buttonEl.style.display =\n",
              "          google.colab.kernel.accessAllowed ? 'block' : 'none';\n",
              "\n",
              "        async function convertToInteractive(key) {\n",
              "          const element = document.querySelector('#df-fe8f5a11-96da-40a6-9b42-4bfdcacff5cd');\n",
              "          const dataTable =\n",
              "            await google.colab.kernel.invokeFunction('convertToInteractive',\n",
              "                                                     [key], {});\n",
              "          if (!dataTable) return;\n",
              "\n",
              "          const docLinkHtml = 'Like what you see? Visit the ' +\n",
              "            '<a target=\"_blank\" href=https://colab.research.google.com/notebooks/data_table.ipynb>data table notebook</a>'\n",
              "            + ' to learn more about interactive tables.';\n",
              "          element.innerHTML = '';\n",
              "          dataTable['output_type'] = 'display_data';\n",
              "          await google.colab.output.renderOutput(dataTable, element);\n",
              "          const docLink = document.createElement('div');\n",
              "          docLink.innerHTML = docLinkHtml;\n",
              "          element.appendChild(docLink);\n",
              "        }\n",
              "      </script>\n",
              "    </div>\n",
              "  </div>\n",
              "  "
            ],
            "text/plain": [
              "ATTORNEY     0    1\n",
              "test_pred          \n",
              "0.0        138   50\n",
              "1.0         74  140"
            ]
          },
          "execution_count": 15,
          "metadata": {},
          "output_type": "execute_result"
        }
      ],
      "source": [
        "confusion_matrix"
      ]
    },
    {
      "cell_type": "code",
      "execution_count": 16,
      "metadata": {
        "colab": {
          "base_uri": "https://localhost:8080/"
        },
        "id": "ATSVNRmh0ruy",
        "outputId": "7db893f8-29ac-4568-ec90-bcad602fa63e"
      },
      "outputs": [
        {
          "data": {
            "text/plain": [
              "0.6865671641791045"
            ]
          },
          "execution_count": 16,
          "metadata": {},
          "output_type": "execute_result"
        }
      ],
      "source": [
        "accuracy_test"
      ]
    },
    {
      "cell_type": "code",
      "execution_count": 17,
      "metadata": {
        "colab": {
          "base_uri": "https://localhost:8080/"
        },
        "id": "AO6qStEx0yf6",
        "outputId": "99a7a438-b996-427b-b74e-50a42ea1f2e6"
      },
      "outputs": [
        {
          "data": {
            "text/plain": [
              "0.748286991062562"
            ]
          },
          "execution_count": 17,
          "metadata": {},
          "output_type": "execute_result"
        }
      ],
      "source": [
        "roc_auc_test"
      ]
    },
    {
      "cell_type": "code",
      "execution_count": null,
      "metadata": {
        "id": "rmWt8f1w02Zw"
      },
      "outputs": [],
      "source": []
    }
  ],
  "metadata": {
    "colab": {
      "collapsed_sections": [],
      "provenance": []
    },
    "kernelspec": {
      "display_name": "Python 3",
      "name": "python3"
    },
    "language_info": {
      "name": "python"
    }
  },
  "nbformat": 4,
  "nbformat_minor": 0
}
