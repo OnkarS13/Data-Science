{
  "nbformat": 4,
  "nbformat_minor": 0,
  "metadata": {
    "colab": {
      "provenance": [],
      "collapsed_sections": []
    },
    "kernelspec": {
      "name": "python3",
      "display_name": "Python 3"
    },
    "language_info": {
      "name": "python"
    }
  },
  "cells": [
    {
      "cell_type": "code",
      "source": [
        "# Importing necessary libraries\n",
        "import pandas as pd # deals with data frame  \n",
        "import numpy as np  # deals with numerical values\n",
        "\n",
        "wcat = pd.read_csv(\"wc-at.csv\")"
      ],
      "metadata": {
        "id": "9zpaN0YHZUnj"
      },
      "execution_count": 1,
      "outputs": []
    },
    {
      "cell_type": "code",
      "source": [
        "# Exploratory data analysis:\n",
        "# 1. Measures of central tendency\n",
        "# 2. Measures of dispersion\n",
        "# 3. Third moment business decision\n",
        "# 4. Fourth moment business decision\n",
        "# 5. Probability distributions of variables \n",
        "# 6. Graphical representations (Histogram, Box plot, Dot plot, Stem & Leaf plot, Bar plot, etc.)\n",
        "\n",
        "wcat.info()\n",
        "wcat.describe()\n"
      ],
      "metadata": {
        "colab": {
          "base_uri": "https://localhost:8080/",
          "height": 461
        },
        "id": "lyGBrhz3ZXMq",
        "outputId": "d5389234-0bea-4b77-bc51-eb523a66f458"
      },
      "execution_count": 2,
      "outputs": [
        {
          "output_type": "stream",
          "name": "stdout",
          "text": [
            "<class 'pandas.core.frame.DataFrame'>\n",
            "RangeIndex: 109 entries, 0 to 108\n",
            "Data columns (total 2 columns):\n",
            " #   Column  Non-Null Count  Dtype  \n",
            "---  ------  --------------  -----  \n",
            " 0   Waist   109 non-null    float64\n",
            " 1   AT      109 non-null    float64\n",
            "dtypes: float64(2)\n",
            "memory usage: 1.8 KB\n"
          ]
        },
        {
          "output_type": "execute_result",
          "data": {
            "text/plain": [
              "            Waist          AT\n",
              "count  109.000000  109.000000\n",
              "mean    91.901835  101.894037\n",
              "std     13.559116   57.294763\n",
              "min     63.500000   11.440000\n",
              "25%     80.000000   50.880000\n",
              "50%     90.800000   96.540000\n",
              "75%    104.000000  137.000000\n",
              "max    121.000000  253.000000"
            ],
            "text/html": [
              "\n",
              "  <div id=\"df-2a5c6177-c02b-4a8e-aa27-5a4eafd2bee4\">\n",
              "    <div class=\"colab-df-container\">\n",
              "      <div>\n",
              "<style scoped>\n",
              "    .dataframe tbody tr th:only-of-type {\n",
              "        vertical-align: middle;\n",
              "    }\n",
              "\n",
              "    .dataframe tbody tr th {\n",
              "        vertical-align: top;\n",
              "    }\n",
              "\n",
              "    .dataframe thead th {\n",
              "        text-align: right;\n",
              "    }\n",
              "</style>\n",
              "<table border=\"1\" class=\"dataframe\">\n",
              "  <thead>\n",
              "    <tr style=\"text-align: right;\">\n",
              "      <th></th>\n",
              "      <th>Waist</th>\n",
              "      <th>AT</th>\n",
              "    </tr>\n",
              "  </thead>\n",
              "  <tbody>\n",
              "    <tr>\n",
              "      <th>count</th>\n",
              "      <td>109.000000</td>\n",
              "      <td>109.000000</td>\n",
              "    </tr>\n",
              "    <tr>\n",
              "      <th>mean</th>\n",
              "      <td>91.901835</td>\n",
              "      <td>101.894037</td>\n",
              "    </tr>\n",
              "    <tr>\n",
              "      <th>std</th>\n",
              "      <td>13.559116</td>\n",
              "      <td>57.294763</td>\n",
              "    </tr>\n",
              "    <tr>\n",
              "      <th>min</th>\n",
              "      <td>63.500000</td>\n",
              "      <td>11.440000</td>\n",
              "    </tr>\n",
              "    <tr>\n",
              "      <th>25%</th>\n",
              "      <td>80.000000</td>\n",
              "      <td>50.880000</td>\n",
              "    </tr>\n",
              "    <tr>\n",
              "      <th>50%</th>\n",
              "      <td>90.800000</td>\n",
              "      <td>96.540000</td>\n",
              "    </tr>\n",
              "    <tr>\n",
              "      <th>75%</th>\n",
              "      <td>104.000000</td>\n",
              "      <td>137.000000</td>\n",
              "    </tr>\n",
              "    <tr>\n",
              "      <th>max</th>\n",
              "      <td>121.000000</td>\n",
              "      <td>253.000000</td>\n",
              "    </tr>\n",
              "  </tbody>\n",
              "</table>\n",
              "</div>\n",
              "      <button class=\"colab-df-convert\" onclick=\"convertToInteractive('df-2a5c6177-c02b-4a8e-aa27-5a4eafd2bee4')\"\n",
              "              title=\"Convert this dataframe to an interactive table.\"\n",
              "              style=\"display:none;\">\n",
              "        \n",
              "  <svg xmlns=\"http://www.w3.org/2000/svg\" height=\"24px\"viewBox=\"0 0 24 24\"\n",
              "       width=\"24px\">\n",
              "    <path d=\"M0 0h24v24H0V0z\" fill=\"none\"/>\n",
              "    <path d=\"M18.56 5.44l.94 2.06.94-2.06 2.06-.94-2.06-.94-.94-2.06-.94 2.06-2.06.94zm-11 1L8.5 8.5l.94-2.06 2.06-.94-2.06-.94L8.5 2.5l-.94 2.06-2.06.94zm10 10l.94 2.06.94-2.06 2.06-.94-2.06-.94-.94-2.06-.94 2.06-2.06.94z\"/><path d=\"M17.41 7.96l-1.37-1.37c-.4-.4-.92-.59-1.43-.59-.52 0-1.04.2-1.43.59L10.3 9.45l-7.72 7.72c-.78.78-.78 2.05 0 2.83L4 21.41c.39.39.9.59 1.41.59.51 0 1.02-.2 1.41-.59l7.78-7.78 2.81-2.81c.8-.78.8-2.07 0-2.86zM5.41 20L4 18.59l7.72-7.72 1.47 1.35L5.41 20z\"/>\n",
              "  </svg>\n",
              "      </button>\n",
              "      \n",
              "  <style>\n",
              "    .colab-df-container {\n",
              "      display:flex;\n",
              "      flex-wrap:wrap;\n",
              "      gap: 12px;\n",
              "    }\n",
              "\n",
              "    .colab-df-convert {\n",
              "      background-color: #E8F0FE;\n",
              "      border: none;\n",
              "      border-radius: 50%;\n",
              "      cursor: pointer;\n",
              "      display: none;\n",
              "      fill: #1967D2;\n",
              "      height: 32px;\n",
              "      padding: 0 0 0 0;\n",
              "      width: 32px;\n",
              "    }\n",
              "\n",
              "    .colab-df-convert:hover {\n",
              "      background-color: #E2EBFA;\n",
              "      box-shadow: 0px 1px 2px rgba(60, 64, 67, 0.3), 0px 1px 3px 1px rgba(60, 64, 67, 0.15);\n",
              "      fill: #174EA6;\n",
              "    }\n",
              "\n",
              "    [theme=dark] .colab-df-convert {\n",
              "      background-color: #3B4455;\n",
              "      fill: #D2E3FC;\n",
              "    }\n",
              "\n",
              "    [theme=dark] .colab-df-convert:hover {\n",
              "      background-color: #434B5C;\n",
              "      box-shadow: 0px 1px 3px 1px rgba(0, 0, 0, 0.15);\n",
              "      filter: drop-shadow(0px 1px 2px rgba(0, 0, 0, 0.3));\n",
              "      fill: #FFFFFF;\n",
              "    }\n",
              "  </style>\n",
              "\n",
              "      <script>\n",
              "        const buttonEl =\n",
              "          document.querySelector('#df-2a5c6177-c02b-4a8e-aa27-5a4eafd2bee4 button.colab-df-convert');\n",
              "        buttonEl.style.display =\n",
              "          google.colab.kernel.accessAllowed ? 'block' : 'none';\n",
              "\n",
              "        async function convertToInteractive(key) {\n",
              "          const element = document.querySelector('#df-2a5c6177-c02b-4a8e-aa27-5a4eafd2bee4');\n",
              "          const dataTable =\n",
              "            await google.colab.kernel.invokeFunction('convertToInteractive',\n",
              "                                                     [key], {});\n",
              "          if (!dataTable) return;\n",
              "\n",
              "          const docLinkHtml = 'Like what you see? Visit the ' +\n",
              "            '<a target=\"_blank\" href=https://colab.research.google.com/notebooks/data_table.ipynb>data table notebook</a>'\n",
              "            + ' to learn more about interactive tables.';\n",
              "          element.innerHTML = '';\n",
              "          dataTable['output_type'] = 'display_data';\n",
              "          await google.colab.output.renderOutput(dataTable, element);\n",
              "          const docLink = document.createElement('div');\n",
              "          docLink.innerHTML = docLinkHtml;\n",
              "          element.appendChild(docLink);\n",
              "        }\n",
              "      </script>\n",
              "    </div>\n",
              "  </div>\n",
              "  "
            ]
          },
          "metadata": {},
          "execution_count": 2
        }
      ]
    },
    {
      "cell_type": "code",
      "source": [
        "#Graphical Representation\n",
        "import matplotlib.pyplot as plt # mostly used for visualization purposes"
      ],
      "metadata": {
        "id": "hP2gQnFkZcYZ"
      },
      "execution_count": 3,
      "outputs": []
    },
    {
      "cell_type": "code",
      "source": [
        "plt.bar(height = wcat.AT, x = np.arange(1, 110, 1))\n",
        "plt.hist(wcat.AT) #histogram\n",
        "plt.boxplot(wcat.AT) #boxplot"
      ],
      "metadata": {
        "colab": {
          "base_uri": "https://localhost:8080/",
          "height": 408
        },
        "id": "pB3zXclkZe7D",
        "outputId": "4d681937-d4b1-4461-e88b-92b3e1a68463"
      },
      "execution_count": 4,
      "outputs": [
        {
          "output_type": "execute_result",
          "data": {
            "text/plain": [
              "{'whiskers': [<matplotlib.lines.Line2D at 0x7f61084e9790>,\n",
              "  <matplotlib.lines.Line2D at 0x7f61084e9cd0>],\n",
              " 'caps': [<matplotlib.lines.Line2D at 0x7f61084f2250>,\n",
              "  <matplotlib.lines.Line2D at 0x7f61084f2790>],\n",
              " 'boxes': [<matplotlib.lines.Line2D at 0x7f61084e9250>],\n",
              " 'medians': [<matplotlib.lines.Line2D at 0x7f61084f2d10>],\n",
              " 'fliers': [<matplotlib.lines.Line2D at 0x7f610847a290>],\n",
              " 'means': []}"
            ]
          },
          "metadata": {},
          "execution_count": 4
        },
        {
          "output_type": "display_data",
          "data": {
            "text/plain": [
              "<Figure size 432x288 with 1 Axes>"
            ],
            "image/png": "[encoded data removed]"
          },
          "metadata": {
            "needs_background": "light"
          }
        }
      ]
    },
    {
      "cell_type": "code",
      "source": [
        "plt.bar(height = wcat.Waist, x = np.arange(1, 110, 1))\n",
        "plt.hist(wcat.Waist) #histogram\n",
        "plt.boxplot(wcat.Waist) #boxplot"
      ],
      "metadata": {
        "colab": {
          "base_uri": "https://localhost:8080/",
          "height": 408
        },
        "id": "31OT9-fQZlVo",
        "outputId": "40704af5-bcf5-47f5-df92-1ce8e1fdb033"
      },
      "execution_count": 5,
      "outputs": [
        {
          "output_type": "execute_result",
          "data": {
            "text/plain": [
              "{'whiskers': [<matplotlib.lines.Line2D at 0x7f6107e2fa50>,\n",
              "  <matplotlib.lines.Line2D at 0x7f6107e2ff90>],\n",
              " 'caps': [<matplotlib.lines.Line2D at 0x7f6107e35510>,\n",
              "  <matplotlib.lines.Line2D at 0x7f6107e35a50>],\n",
              " 'boxes': [<matplotlib.lines.Line2D at 0x7f6107e2f510>],\n",
              " 'medians': [<matplotlib.lines.Line2D at 0x7f6107e35fd0>],\n",
              " 'fliers': [<matplotlib.lines.Line2D at 0x7f6107e3f550>],\n",
              " 'means': []}"
            ]
          },
          "metadata": {},
          "execution_count": 5
        },
        {
          "output_type": "display_data",
          "data": {
            "text/plain": [
              "<Figure size 432x288 with 1 Axes>"
            ],
            "image/png": "[encoded data removed]"
          },
          "metadata": {
            "needs_background": "light"
          }
        }
      ]
    },
    {
      "cell_type": "code",
      "source": [
        "# Scatter plot\n",
        "plt.scatter(x = wcat['Waist'], y = wcat['AT'], color = 'green')"
      ],
      "metadata": {
        "colab": {
          "base_uri": "https://localhost:8080/",
          "height": 283
        },
        "id": "GwaNSY6AZlt9",
        "outputId": "e1a12504-40b6-4036-ecef-674f815d6f30"
      },
      "execution_count": 6,
      "outputs": [
        {
          "output_type": "execute_result",
          "data": {
            "text/plain": [
              "<matplotlib.collections.PathCollection at 0x7f6107e3f690>"
            ]
          },
          "metadata": {},
          "execution_count": 6
        },
        {
          "output_type": "display_data",
          "data": {
            "text/plain": [
              "<Figure size 432x288 with 1 Axes>"
            ],
            "image/png": "[encoded data removed]"
          },
          "metadata": {
            "needs_background": "light"
          }
        }
      ]
    },
    {
      "cell_type": "code",
      "source": [
        "# correlation\n",
        "np.corrcoef(wcat.Waist, wcat.AT) "
      ],
      "metadata": {
        "colab": {
          "base_uri": "https://localhost:8080/"
        },
        "id": "n3HU5BfvZqXF",
        "outputId": "eb202e64-aed9-4a41-cf70-07785eb1ae4c"
      },
      "execution_count": 7,
      "outputs": [
        {
          "output_type": "execute_result",
          "data": {
            "text/plain": [
              "array([[1.        , 0.81855781],\n",
              "       [0.81855781, 1.        ]])"
            ]
          },
          "metadata": {},
          "execution_count": 7
        }
      ]
    },
    {
      "cell_type": "code",
      "source": [
        "# wcat.cov()\n",
        "\n",
        "\n",
        "# Import library\n",
        "import statsmodels.formula.api as smf\n",
        "\n",
        "# Simple Linear Regression\n",
        "model = smf.ols('AT ~ Waist', data = wcat).fit()\n",
        "model.summary()\n",
        "\n",
        "pred1 = model.predict(pd.DataFrame(wcat['Waist']))"
      ],
      "metadata": {
        "id": "_MfG2ZDbZtnI"
      },
      "execution_count": 8,
      "outputs": []
    },
    {
      "cell_type": "code",
      "source": [
        "pred1 # Y hat(y^)"
      ],
      "metadata": {
        "colab": {
          "base_uri": "https://localhost:8080/"
        },
        "id": "CF6MqGkshSLs",
        "outputId": "4d637be6-e747-4e53-dd7c-efdf1ca23821"
      },
      "execution_count": 9,
      "outputs": [
        {
          "output_type": "execute_result",
          "data": {
            "text/plain": [
              "0       42.568252\n",
              "1       35.131704\n",
              "2       66.953210\n",
              "3       74.389758\n",
              "4       42.222366\n",
              "          ...    \n",
              "104    130.250337\n",
              "105    106.730093\n",
              "106    136.130398\n",
              "107    157.229440\n",
              "108    159.304756\n",
              "Length: 109, dtype: float64"
            ]
          },
          "metadata": {},
          "execution_count": 9
        }
      ]
    },
    {
      "cell_type": "code",
      "source": [
        "# Regression Line\n",
        "plt.scatter(wcat.Waist, wcat.AT)\n",
        "plt.plot(wcat.Waist, pred1, \"r\")\n",
        "plt.legend(['Predicted line', 'Observed data'])\n",
        "plt.show()"
      ],
      "metadata": {
        "colab": {
          "base_uri": "https://localhost:8080/",
          "height": 265
        },
        "id": "ld4u4eGJcLNh",
        "outputId": "9d1e4f40-ec29-4252-f2c0-fa95c25847a9"
      },
      "execution_count": 10,
      "outputs": [
        {
          "output_type": "display_data",
          "data": {
            "text/plain": [
              "<Figure size 432x288 with 1 Axes>"
            ],
            "image/png": "[encoded data removed]"
          },
          "metadata": {
            "needs_background": "light"
          }
        }
      ]
    },
    {
      "cell_type": "code",
      "source": [
        "# Error calculation\n",
        "res1 = wcat.AT - pred1\n",
        "np.mean(res1)\n",
        "res_sqr1 = res1 * res1\n",
        "mse1 = np.mean(res_sqr1)\n",
        "rmse1 = np.sqrt(mse1)\n",
        "rmse1"
      ],
      "metadata": {
        "colab": {
          "base_uri": "https://localhost:8080/"
        },
        "id": "6eSWPPnWcQ7d",
        "outputId": "fe0c69d1-b6b8-43be-be39-8b348408c331"
      },
      "execution_count": 11,
      "outputs": [
        {
          "output_type": "execute_result",
          "data": {
            "text/plain": [
              "32.760177495755144"
            ]
          },
          "metadata": {},
          "execution_count": 11
        }
      ]
    },
    {
      "cell_type": "code",
      "source": [
        "res1 # standard deviation  = rms"
      ],
      "metadata": {
        "colab": {
          "base_uri": "https://localhost:8080/"
        },
        "id": "aQNO0OGTh0JE",
        "outputId": "5e68d55f-1324-414c-ff28-acdc259f93f1"
      },
      "execution_count": 12,
      "outputs": [
        {
          "output_type": "execute_result",
          "data": {
            "text/plain": [
              "0     -16.848252\n",
              "1      -9.241704\n",
              "2     -24.353210\n",
              "3     -31.589758\n",
              "4     -12.382366\n",
              "         ...    \n",
              "104    -6.250337\n",
              "105   -44.530093\n",
              "106    -3.130398\n",
              "107    50.770560\n",
              "108    48.695244\n",
              "Length: 109, dtype: float64"
            ]
          },
          "metadata": {},
          "execution_count": 12
        }
      ]
    },
    {
      "cell_type": "code",
      "source": [
        "res_sqr1"
      ],
      "metadata": {
        "colab": {
          "base_uri": "https://localhost:8080/"
        },
        "id": "vY5lNX4-hujh",
        "outputId": "78fc5673-6620-4d85-92ce-f4e6e79c6646"
      },
      "execution_count": 13,
      "outputs": [
        {
          "output_type": "execute_result",
          "data": {
            "text/plain": [
              "0       283.863582\n",
              "1        85.409091\n",
              "2       593.078852\n",
              "3       997.912810\n",
              "4       153.322979\n",
              "          ...     \n",
              "104      39.066715\n",
              "105    1982.929211\n",
              "106       9.799393\n",
              "107    2577.649718\n",
              "108    2371.226781\n",
              "Length: 109, dtype: float64"
            ]
          },
          "metadata": {},
          "execution_count": 13
        }
      ]
    },
    {
      "cell_type": "code",
      "source": [
        "mse1 #Mean squared erro"
      ],
      "metadata": {
        "colab": {
          "base_uri": "https://localhost:8080/"
        },
        "id": "1Vwm9oRMiJZq",
        "outputId": "3fdb5b4f-7f6d-4803-81d5-65397d6698e5"
      },
      "execution_count": 14,
      "outputs": [
        {
          "output_type": "execute_result",
          "data": {
            "text/plain": [
              "1073.2292295533816"
            ]
          },
          "metadata": {},
          "execution_count": 14
        }
      ]
    },
    {
      "cell_type": "code",
      "source": [
        "np.mean(res1)"
      ],
      "metadata": {
        "colab": {
          "base_uri": "https://localhost:8080/"
        },
        "id": "CxWP1Ef2iSyH",
        "outputId": "dc8a643d-cca5-4090-8a7e-3fdaa5e05efd"
      },
      "execution_count": 15,
      "outputs": [
        {
          "output_type": "execute_result",
          "data": {
            "text/plain": [
              "-6.779490322848662e-14"
            ]
          },
          "metadata": {},
          "execution_count": 15
        }
      ]
    },
    {
      "cell_type": "code",
      "source": [
        "######### Model building on Transformed Data\n",
        "# Log Transformation\n",
        "# x = log(waist); y = at\n",
        "\n",
        "plt.scatter(x = np.log(wcat['Waist']), y = wcat['AT'], color = 'brown')\n",
        "np.corrcoef(np.log(wcat.Waist), wcat.AT) #correlation"
      ],
      "metadata": {
        "colab": {
          "base_uri": "https://localhost:8080/",
          "height": 301
        },
        "id": "8GYCJT41cWef",
        "outputId": "7a9cecd5-5b3e-42f4-e49e-f04021b1b268"
      },
      "execution_count": 16,
      "outputs": [
        {
          "output_type": "execute_result",
          "data": {
            "text/plain": [
              "array([[1.        , 0.82177819],\n",
              "       [0.82177819, 1.        ]])"
            ]
          },
          "metadata": {},
          "execution_count": 16
        },
        {
          "output_type": "display_data",
          "data": {
            "text/plain": [
              "<Figure size 432x288 with 1 Axes>"
            ],
            "image/png": "[encoded data removed]"
          },
          "metadata": {
            "needs_background": "light"
          }
        }
      ]
    },
    {
      "cell_type": "code",
      "source": [
        "model2 = smf.ols('AT ~ np.log(Waist)', data = wcat).fit()\n",
        "model2.summary()\n",
        "\n",
        "pred2 = model2.predict(pd.DataFrame(wcat['Waist']))"
      ],
      "metadata": {
        "id": "YZD8FI25cfnn"
      },
      "execution_count": 17,
      "outputs": []
    },
    {
      "cell_type": "code",
      "source": [
        "model2.summary()"
      ],
      "metadata": {
        "colab": {
          "base_uri": "https://localhost:8080/",
          "height": 452
        },
        "id": "2qwXD_EllJWY",
        "outputId": "ef966cad-fa60-4b67-ad5d-3e761c6d2aef"
      },
      "execution_count": 18,
      "outputs": [
        {
          "output_type": "execute_result",
          "data": {
            "text/plain": [
              "<class 'statsmodels.iolib.summary.Summary'>\n",
              "\"\"\"\n",
              "                            OLS Regression Results                            \n",
              "==============================================================================\n",
              "Dep. Variable:                     AT   R-squared:                       0.675\n",
              "Model:                            OLS   Adj. R-squared:                  0.672\n",
              "Method:                 Least Squares   F-statistic:                     222.6\n",
              "Date:                Sun, 25 Sep 2022   Prob (F-statistic):           6.80e-28\n",
              "Time:                        04:05:23   Log-Likelihood:                -534.11\n",
              "No. Observations:                 109   AIC:                             1072.\n",
              "Df Residuals:                     107   BIC:                             1078.\n",
              "Df Model:                           1                                         \n",
              "Covariance Type:            nonrobust                                         \n",
              "=================================================================================\n",
              "                    coef    std err          t      P>|t|      [0.025      0.975]\n",
              "---------------------------------------------------------------------------------\n",
              "Intercept     -1328.3420     95.923    -13.848      0.000   -1518.498   -1138.186\n",
              "np.log(Waist)   317.1356     21.258     14.918      0.000     274.994     359.277\n",
              "==============================================================================\n",
              "Omnibus:                        3.317   Durbin-Watson:                   1.599\n",
              "Prob(Omnibus):                  0.190   Jarque-Bera (JB):                2.908\n",
              "Skew:                           0.235   Prob(JB):                        0.234\n",
              "Kurtosis:                       3.647   Cond. No.                         145.\n",
              "==============================================================================\n",
              "\n",
              "Notes:\n",
              "[1] Standard Errors assume that the covariance matrix of the errors is correctly specified.\n",
              "\"\"\""
            ],
            "text/html": [
              "<table class=\"simpletable\">\n",
              "<caption>OLS Regression Results</caption>\n",
              "<tr>\n",
              "  <th>Dep. Variable:</th>           <td>AT</td>        <th>  R-squared:         </th> <td>   0.675</td>\n",
              "</tr>\n",
              "<tr>\n",
              "  <th>Model:</th>                   <td>OLS</td>       <th>  Adj. R-squared:    </th> <td>   0.672</td>\n",
              "</tr>\n",
              "<tr>\n",
              "  <th>Method:</th>             <td>Least Squares</td>  <th>  F-statistic:       </th> <td>   222.6</td>\n",
              "</tr>\n",
              "<tr>\n",
              "  <th>Date:</th>             <td>Sun, 25 Sep 2022</td> <th>  Prob (F-statistic):</th> <td>6.80e-28</td>\n",
              "</tr>\n",
              "<tr>\n",
              "  <th>Time:</th>                 <td>04:05:23</td>     <th>  Log-Likelihood:    </th> <td> -534.11</td>\n",
              "</tr>\n",
              "<tr>\n",
              "  <th>No. Observations:</th>      <td>   109</td>      <th>  AIC:               </th> <td>   1072.</td>\n",
              "</tr>\n",
              "<tr>\n",
              "  <th>Df Residuals:</th>          <td>   107</td>      <th>  BIC:               </th> <td>   1078.</td>\n",
              "</tr>\n",
              "<tr>\n",
              "  <th>Df Model:</th>              <td>     1</td>      <th>                     </th>     <td> </td>   \n",
              "</tr>\n",
              "<tr>\n",
              "  <th>Covariance Type:</th>      <td>nonrobust</td>    <th>                     </th>     <td> </td>   \n",
              "</tr>\n",
              "</table>\n",
              "<table class=\"simpletable\">\n",
              "<tr>\n",
              "        <td></td>           <th>coef</th>     <th>std err</th>      <th>t</th>      <th>P>|t|</th>  <th>[0.025</th>    <th>0.975]</th>  \n",
              "</tr>\n",
              "<tr>\n",
              "  <th>Intercept</th>     <td>-1328.3420</td> <td>   95.923</td> <td>  -13.848</td> <td> 0.000</td> <td>-1518.498</td> <td>-1138.186</td>\n",
              "</tr>\n",
              "<tr>\n",
              "  <th>np.log(Waist)</th> <td>  317.1356</td> <td>   21.258</td> <td>   14.918</td> <td> 0.000</td> <td>  274.994</td> <td>  359.277</td>\n",
              "</tr>\n",
              "</table>\n",
              "<table class=\"simpletable\">\n",
              "<tr>\n",
              "  <th>Omnibus:</th>       <td> 3.317</td> <th>  Durbin-Watson:     </th> <td>   1.599</td>\n",
              "</tr>\n",
              "<tr>\n",
              "  <th>Prob(Omnibus):</th> <td> 0.190</td> <th>  Jarque-Bera (JB):  </th> <td>   2.908</td>\n",
              "</tr>\n",
              "<tr>\n",
              "  <th>Skew:</th>          <td> 0.235</td> <th>  Prob(JB):          </th> <td>   0.234</td>\n",
              "</tr>\n",
              "<tr>\n",
              "  <th>Kurtosis:</th>      <td> 3.647</td> <th>  Cond. No.          </th> <td>    145.</td>\n",
              "</tr>\n",
              "</table><br/><br/>Notes:<br/>[1] Standard Errors assume that the covariance matrix of the errors is correctly specified."
            ]
          },
          "metadata": {},
          "execution_count": 18
        }
      ]
    },
    {
      "cell_type": "code",
      "source": [
        "# Regression Line\n",
        "plt.scatter(np.log(wcat.Waist), wcat.AT)\n",
        "plt.plot(np.log(wcat.Waist), pred2, \"r\")\n",
        "plt.legend(['Predicted line', 'Observed data'])\n",
        "plt.show()"
      ],
      "metadata": {
        "colab": {
          "base_uri": "https://localhost:8080/",
          "height": 265
        },
        "id": "_Vq_XeA6cl_j",
        "outputId": "5902c931-718e-4176-f8f8-d2cec0a751ed"
      },
      "execution_count": 19,
      "outputs": [
        {
          "output_type": "display_data",
          "data": {
            "text/plain": [
              "<Figure size 432x288 with 1 Axes>"
            ],
            "image/png": "[encoded data removed]"
          },
          "metadata": {
            "needs_background": "light"
          }
        }
      ]
    },
    {
      "cell_type": "code",
      "source": [
        "# Error calculation\n",
        "res2 = wcat.AT - pred2\n",
        "res_sqr2 = res2 * res2\n",
        "mse2 = np.mean(res_sqr2)\n",
        "rmse2 = np.sqrt(mse2)\n",
        "rmse2"
      ],
      "metadata": {
        "colab": {
          "base_uri": "https://localhost:8080/"
        },
        "id": "dqh2qN2ecpYB",
        "outputId": "f1e3bd0d-af41-43c6-8d51-eeaa0f705e9f"
      },
      "execution_count": 20,
      "outputs": [
        {
          "output_type": "execute_result",
          "data": {
            "text/plain": [
              "32.49688490932126"
            ]
          },
          "metadata": {},
          "execution_count": 20
        }
      ]
    },
    {
      "cell_type": "code",
      "source": [
        "#### Exponential transformation\n",
        "# x = waist; y = log(at)\n",
        "\n",
        "plt.scatter(x = wcat['Waist'], y = np.log(wcat['AT']), color = 'orange')\n",
        "np.corrcoef(wcat.Waist, np.log(wcat.AT)) #correlation\n",
        "\n",
        "model3 = smf.ols('np.log(AT) ~ Waist', data = wcat).fit()\n",
        "model3.summary()\n",
        "\n",
        "pred3 = model3.predict(pd.DataFrame(wcat['Waist']))\n",
        "pred3_at = np.exp(pred3)\n",
        "pred3_at"
      ],
      "metadata": {
        "colab": {
          "base_uri": "https://localhost:8080/",
          "height": 479
        },
        "id": "3BxjeIMVcuqx",
        "outputId": "e854aa86-5857-49ae-c97e-5750c241914d"
      },
      "execution_count": 21,
      "outputs": [
        {
          "output_type": "execute_result",
          "data": {
            "text/plain": [
              "0       42.516361\n",
              "1       38.991601\n",
              "2       56.467684\n",
              "3       61.572246\n",
              "4       42.345566\n",
              "          ...    \n",
              "104    117.953181\n",
              "105     89.709020\n",
              "106    126.307181\n",
              "107    161.459872\n",
              "108    165.406833\n",
              "Length: 109, dtype: float64"
            ]
          },
          "metadata": {},
          "execution_count": 21
        },
        {
          "output_type": "display_data",
          "data": {
            "text/plain": [
              "<Figure size 432x288 with 1 Axes>"
            ],
            "image/png": "[encoded data removed]"
          },
          "metadata": {
            "needs_background": "light"
          }
        }
      ]
    },
    {
      "cell_type": "code",
      "source": [
        "# Regression Line\n",
        "plt.scatter(wcat.Waist, np.log(wcat.AT))\n",
        "plt.plot(wcat.Waist, pred3, \"r\")\n",
        "plt.legend(['Predicted line', 'Observed data'])\n",
        "plt.show()"
      ],
      "metadata": {
        "colab": {
          "base_uri": "https://localhost:8080/",
          "height": 265
        },
        "id": "SSgrIxOccyEz",
        "outputId": "ef05ce81-167b-4489-f5b1-7345bf9fa119"
      },
      "execution_count": 22,
      "outputs": [
        {
          "output_type": "display_data",
          "data": {
            "text/plain": [
              "<Figure size 432x288 with 1 Axes>"
            ],
            "image/png": "[encoded data removed]"
          },
          "metadata": {
            "needs_background": "light"
          }
        }
      ]
    },
    {
      "cell_type": "code",
      "source": [
        "# Error calculation\n",
        "res3 = wcat.AT - pred3_at\n",
        "res_sqr3 = res3 * res3\n",
        "mse3 = np.mean(res_sqr3)\n",
        "rmse3 = np.sqrt(mse3)\n",
        "rmse3"
      ],
      "metadata": {
        "colab": {
          "base_uri": "https://localhost:8080/"
        },
        "id": "TNJa8STNc1ev",
        "outputId": "2a9a212f-2b1f-4f5a-8cb4-d666de9e5af6"
      },
      "execution_count": 23,
      "outputs": [
        {
          "output_type": "execute_result",
          "data": {
            "text/plain": [
              "38.52900175807143"
            ]
          },
          "metadata": {},
          "execution_count": 23
        }
      ]
    },
    {
      "cell_type": "code",
      "source": [
        "#### Polynomial transformation \n",
        "# x = waist; x^2 = waist*waist; y = log(at)\n",
        "\n",
        "model4 = smf.ols('np.log(AT) ~ Waist + I(Waist*Waist)', data = wcat).fit()\n",
        "model4.summary()\n",
        "\n",
        "pred4 = model4.predict(pd.DataFrame(wcat))\n",
        "pred4_at = np.exp(pred4)\n",
        "pred4_at"
      ],
      "metadata": {
        "colab": {
          "base_uri": "https://localhost:8080/"
        },
        "id": "HsTpwdyzc9f3",
        "outputId": "73659981-ce46-4a00-e02e-3063b17e8776"
      },
      "execution_count": 24,
      "outputs": [
        {
          "output_type": "execute_result",
          "data": {
            "text/plain": [
              "0       36.779400\n",
              "1       31.026570\n",
              "2       60.145769\n",
              "3       68.488132\n",
              "4       36.497176\n",
              "          ...    \n",
              "104    134.555999\n",
              "105    108.012957\n",
              "106    140.081911\n",
              "107    154.205675\n",
              "108    155.034904\n",
              "Length: 109, dtype: float64"
            ]
          },
          "metadata": {},
          "execution_count": 24
        }
      ]
    },
    {
      "cell_type": "code",
      "source": [
        "model4.summary()"
      ],
      "metadata": {
        "colab": {
          "base_uri": "https://localhost:8080/",
          "height": 508
        },
        "id": "FeQ914Fcg1xd",
        "outputId": "247041ab-5967-403e-8ade-4a9d94d9144a"
      },
      "execution_count": 25,
      "outputs": [
        {
          "output_type": "execute_result",
          "data": {
            "text/plain": [
              "<class 'statsmodels.iolib.summary.Summary'>\n",
              "\"\"\"\n",
              "                            OLS Regression Results                            \n",
              "==============================================================================\n",
              "Dep. Variable:             np.log(AT)   R-squared:                       0.779\n",
              "Model:                            OLS   Adj. R-squared:                  0.775\n",
              "Method:                 Least Squares   F-statistic:                     186.8\n",
              "Date:                Sun, 25 Sep 2022   Prob (F-statistic):           1.80e-35\n",
              "Time:                        04:05:24   Log-Likelihood:                -24.779\n",
              "No. Observations:                 109   AIC:                             55.56\n",
              "Df Residuals:                     106   BIC:                             63.63\n",
              "Df Model:                           2                                         \n",
              "Covariance Type:            nonrobust                                         \n",
              "====================================================================================\n",
              "                       coef    std err          t      P>|t|      [0.025      0.975]\n",
              "------------------------------------------------------------------------------------\n",
              "Intercept           -7.8241      1.473     -5.312      0.000     -10.744      -4.904\n",
              "Waist                0.2289      0.032      7.107      0.000       0.165       0.293\n",
              "I(Waist * Waist)    -0.0010      0.000     -5.871      0.000      -0.001      -0.001\n",
              "==============================================================================\n",
              "Omnibus:                        0.325   Durbin-Watson:                   1.464\n",
              "Prob(Omnibus):                  0.850   Jarque-Bera (JB):                0.271\n",
              "Skew:                           0.119   Prob(JB):                        0.873\n",
              "Kurtosis:                       2.949   Cond. No.                     4.49e+05\n",
              "==============================================================================\n",
              "\n",
              "Notes:\n",
              "[1] Standard Errors assume that the covariance matrix of the errors is correctly specified.\n",
              "[2] The condition number is large, 4.49e+05. This might indicate that there are\n",
              "strong multicollinearity or other numerical problems.\n",
              "\"\"\""
            ],
            "text/html": [
              "<table class=\"simpletable\">\n",
              "<caption>OLS Regression Results</caption>\n",
              "<tr>\n",
              "  <th>Dep. Variable:</th>       <td>np.log(AT)</td>    <th>  R-squared:         </th> <td>   0.779</td>\n",
              "</tr>\n",
              "<tr>\n",
              "  <th>Model:</th>                   <td>OLS</td>       <th>  Adj. R-squared:    </th> <td>   0.775</td>\n",
              "</tr>\n",
              "<tr>\n",
              "  <th>Method:</th>             <td>Least Squares</td>  <th>  F-statistic:       </th> <td>   186.8</td>\n",
              "</tr>\n",
              "<tr>\n",
              "  <th>Date:</th>             <td>Sun, 25 Sep 2022</td> <th>  Prob (F-statistic):</th> <td>1.80e-35</td>\n",
              "</tr>\n",
              "<tr>\n",
              "  <th>Time:</th>                 <td>04:05:24</td>     <th>  Log-Likelihood:    </th> <td> -24.779</td>\n",
              "</tr>\n",
              "<tr>\n",
              "  <th>No. Observations:</th>      <td>   109</td>      <th>  AIC:               </th> <td>   55.56</td>\n",
              "</tr>\n",
              "<tr>\n",
              "  <th>Df Residuals:</th>          <td>   106</td>      <th>  BIC:               </th> <td>   63.63</td>\n",
              "</tr>\n",
              "<tr>\n",
              "  <th>Df Model:</th>              <td>     2</td>      <th>                     </th>     <td> </td>   \n",
              "</tr>\n",
              "<tr>\n",
              "  <th>Covariance Type:</th>      <td>nonrobust</td>    <th>                     </th>     <td> </td>   \n",
              "</tr>\n",
              "</table>\n",
              "<table class=\"simpletable\">\n",
              "<tr>\n",
              "          <td></td>            <th>coef</th>     <th>std err</th>      <th>t</th>      <th>P>|t|</th>  <th>[0.025</th>    <th>0.975]</th>  \n",
              "</tr>\n",
              "<tr>\n",
              "  <th>Intercept</th>        <td>   -7.8241</td> <td>    1.473</td> <td>   -5.312</td> <td> 0.000</td> <td>  -10.744</td> <td>   -4.904</td>\n",
              "</tr>\n",
              "<tr>\n",
              "  <th>Waist</th>            <td>    0.2289</td> <td>    0.032</td> <td>    7.107</td> <td> 0.000</td> <td>    0.165</td> <td>    0.293</td>\n",
              "</tr>\n",
              "<tr>\n",
              "  <th>I(Waist * Waist)</th> <td>   -0.0010</td> <td>    0.000</td> <td>   -5.871</td> <td> 0.000</td> <td>   -0.001</td> <td>   -0.001</td>\n",
              "</tr>\n",
              "</table>\n",
              "<table class=\"simpletable\">\n",
              "<tr>\n",
              "  <th>Omnibus:</th>       <td> 0.325</td> <th>  Durbin-Watson:     </th> <td>   1.464</td>\n",
              "</tr>\n",
              "<tr>\n",
              "  <th>Prob(Omnibus):</th> <td> 0.850</td> <th>  Jarque-Bera (JB):  </th> <td>   0.271</td>\n",
              "</tr>\n",
              "<tr>\n",
              "  <th>Skew:</th>          <td> 0.119</td> <th>  Prob(JB):          </th> <td>   0.873</td>\n",
              "</tr>\n",
              "<tr>\n",
              "  <th>Kurtosis:</th>      <td> 2.949</td> <th>  Cond. No.          </th> <td>4.49e+05</td>\n",
              "</tr>\n",
              "</table><br/><br/>Notes:<br/>[1] Standard Errors assume that the covariance matrix of the errors is correctly specified.<br/>[2] The condition number is large, 4.49e+05. This might indicate that there are<br/>strong multicollinearity or other numerical problems."
            ]
          },
          "metadata": {},
          "execution_count": 25
        }
      ]
    },
    {
      "cell_type": "code",
      "source": [
        "# Regression line\n",
        "from sklearn.preprocessing import PolynomialFeatures\n",
        "poly_reg = PolynomialFeatures(degree = 2)\n",
        "X = wcat.iloc[:, 0:1].values\n",
        "X_poly = poly_reg.fit_transform(X)\n",
        "# y = wcat.iloc[:, 1].values"
      ],
      "metadata": {
        "id": "pxJXJfNQdGal"
      },
      "execution_count": 26,
      "outputs": []
    },
    {
      "cell_type": "code",
      "source": [
        "plt.scatter(wcat.Waist, np.log(wcat.AT))\n",
        "plt.plot(X, pred4, color = 'red')\n",
        "plt.legend(['Predicted line', 'Observed data'])\n",
        "plt.show()"
      ],
      "metadata": {
        "colab": {
          "base_uri": "https://localhost:8080/",
          "height": 265
        },
        "id": "ysjKJ-22dJe_",
        "outputId": "3201687d-cf68-4e12-fe41-ee903fd11852"
      },
      "execution_count": 27,
      "outputs": [
        {
          "output_type": "display_data",
          "data": {
            "text/plain": [
              "<Figure size 432x288 with 1 Axes>"
            ],
            "image/png": "[encoded data removed]"
          },
          "metadata": {
            "needs_background": "light"
          }
        }
      ]
    },
    {
      "cell_type": "code",
      "source": [
        "# Error calculation\n",
        "res4 = wcat.AT - pred4_at\n",
        "res_sqr4 = res4 * res4\n",
        "mse4 = np.mean(res_sqr4)\n",
        "rmse4 = np.sqrt(mse4)\n",
        "rmse4\n"
      ],
      "metadata": {
        "colab": {
          "base_uri": "https://localhost:8080/"
        },
        "id": "a4vnf5KqdMv_",
        "outputId": "fbf531a4-fadf-441c-dae5-26e7882e5de6"
      },
      "execution_count": 28,
      "outputs": [
        {
          "output_type": "execute_result",
          "data": {
            "text/plain": [
              "32.24444782776222"
            ]
          },
          "metadata": {},
          "execution_count": 28
        }
      ]
    },
    {
      "cell_type": "code",
      "source": [
        "# Choose the best model using RMSE\n",
        "data = {\"MODEL\":pd.Series([\"SLR\", \"Log model\", \"Exp model\", \"Poly model\"]), \"RMSE\":pd.Series([rmse1, rmse2, rmse3, rmse4])}\n",
        "table_rmse = pd.DataFrame(data)\n",
        "table_rmse"
      ],
      "metadata": {
        "colab": {
          "base_uri": "https://localhost:8080/",
          "height": 175
        },
        "id": "i5WbZvAodSgc",
        "outputId": "3ab063a3-4907-49aa-e1c3-30bc8a33305f"
      },
      "execution_count": 29,
      "outputs": [
        {
          "output_type": "execute_result",
          "data": {
            "text/plain": [
              "        MODEL       RMSE\n",
              "0         SLR  32.760177\n",
              "1   Log model  32.496885\n",
              "2   Exp model  38.529002\n",
              "3  Poly model  32.244448"
            ],
            "text/html": [
              "\n",
              "  <div id=\"df-ab0d8d38-ba2c-4cfc-aab7-cacd2fcaf58a\">\n",
              "    <div class=\"colab-df-container\">\n",
              "      <div>\n",
              "<style scoped>\n",
              "    .dataframe tbody tr th:only-of-type {\n",
              "        vertical-align: middle;\n",
              "    }\n",
              "\n",
              "    .dataframe tbody tr th {\n",
              "        vertical-align: top;\n",
              "    }\n",
              "\n",
              "    .dataframe thead th {\n",
              "        text-align: right;\n",
              "    }\n",
              "</style>\n",
              "<table border=\"1\" class=\"dataframe\">\n",
              "  <thead>\n",
              "    <tr style=\"text-align: right;\">\n",
              "      <th></th>\n",
              "      <th>MODEL</th>\n",
              "      <th>RMSE</th>\n",
              "    </tr>\n",
              "  </thead>\n",
              "  <tbody>\n",
              "    <tr>\n",
              "      <th>0</th>\n",
              "      <td>SLR</td>\n",
              "      <td>32.760177</td>\n",
              "    </tr>\n",
              "    <tr>\n",
              "      <th>1</th>\n",
              "      <td>Log model</td>\n",
              "      <td>32.496885</td>\n",
              "    </tr>\n",
              "    <tr>\n",
              "      <th>2</th>\n",
              "      <td>Exp model</td>\n",
              "      <td>38.529002</td>\n",
              "    </tr>\n",
              "    <tr>\n",
              "      <th>3</th>\n",
              "      <td>Poly model</td>\n",
              "      <td>32.244448</td>\n",
              "    </tr>\n",
              "  </tbody>\n",
              "</table>\n",
              "</div>\n",
              "      <button class=\"colab-df-convert\" onclick=\"convertToInteractive('df-ab0d8d38-ba2c-4cfc-aab7-cacd2fcaf58a')\"\n",
              "              title=\"Convert this dataframe to an interactive table.\"\n",
              "              style=\"display:none;\">\n",
              "        \n",
              "  <svg xmlns=\"http://www.w3.org/2000/svg\" height=\"24px\"viewBox=\"0 0 24 24\"\n",
              "       width=\"24px\">\n",
              "    <path d=\"M0 0h24v24H0V0z\" fill=\"none\"/>\n",
              "    <path d=\"M18.56 5.44l.94 2.06.94-2.06 2.06-.94-2.06-.94-.94-2.06-.94 2.06-2.06.94zm-11 1L8.5 8.5l.94-2.06 2.06-.94-2.06-.94L8.5 2.5l-.94 2.06-2.06.94zm10 10l.94 2.06.94-2.06 2.06-.94-2.06-.94-.94-2.06-.94 2.06-2.06.94z\"/><path d=\"M17.41 7.96l-1.37-1.37c-.4-.4-.92-.59-1.43-.59-.52 0-1.04.2-1.43.59L10.3 9.45l-7.72 7.72c-.78.78-.78 2.05 0 2.83L4 21.41c.39.39.9.59 1.41.59.51 0 1.02-.2 1.41-.59l7.78-7.78 2.81-2.81c.8-.78.8-2.07 0-2.86zM5.41 20L4 18.59l7.72-7.72 1.47 1.35L5.41 20z\"/>\n",
              "  </svg>\n",
              "      </button>\n",
              "      \n",
              "  <style>\n",
              "    .colab-df-container {\n",
              "      display:flex;\n",
              "      flex-wrap:wrap;\n",
              "      gap: 12px;\n",
              "    }\n",
              "\n",
              "    .colab-df-convert {\n",
              "      background-color: #E8F0FE;\n",
              "      border: none;\n",
              "      border-radius: 50%;\n",
              "      cursor: pointer;\n",
              "      display: none;\n",
              "      fill: #1967D2;\n",
              "      height: 32px;\n",
              "      padding: 0 0 0 0;\n",
              "      width: 32px;\n",
              "    }\n",
              "\n",
              "    .colab-df-convert:hover {\n",
              "      background-color: #E2EBFA;\n",
              "      box-shadow: 0px 1px 2px rgba(60, 64, 67, 0.3), 0px 1px 3px 1px rgba(60, 64, 67, 0.15);\n",
              "      fill: #174EA6;\n",
              "    }\n",
              "\n",
              "    [theme=dark] .colab-df-convert {\n",
              "      background-color: #3B4455;\n",
              "      fill: #D2E3FC;\n",
              "    }\n",
              "\n",
              "    [theme=dark] .colab-df-convert:hover {\n",
              "      background-color: #434B5C;\n",
              "      box-shadow: 0px 1px 3px 1px rgba(0, 0, 0, 0.15);\n",
              "      filter: drop-shadow(0px 1px 2px rgba(0, 0, 0, 0.3));\n",
              "      fill: #FFFFFF;\n",
              "    }\n",
              "  </style>\n",
              "\n",
              "      <script>\n",
              "        const buttonEl =\n",
              "          document.querySelector('#df-ab0d8d38-ba2c-4cfc-aab7-cacd2fcaf58a button.colab-df-convert');\n",
              "        buttonEl.style.display =\n",
              "          google.colab.kernel.accessAllowed ? 'block' : 'none';\n",
              "\n",
              "        async function convertToInteractive(key) {\n",
              "          const element = document.querySelector('#df-ab0d8d38-ba2c-4cfc-aab7-cacd2fcaf58a');\n",
              "          const dataTable =\n",
              "            await google.colab.kernel.invokeFunction('convertToInteractive',\n",
              "                                                     [key], {});\n",
              "          if (!dataTable) return;\n",
              "\n",
              "          const docLinkHtml = 'Like what you see? Visit the ' +\n",
              "            '<a target=\"_blank\" href=https://colab.research.google.com/notebooks/data_table.ipynb>data table notebook</a>'\n",
              "            + ' to learn more about interactive tables.';\n",
              "          element.innerHTML = '';\n",
              "          dataTable['output_type'] = 'display_data';\n",
              "          await google.colab.output.renderOutput(dataTable, element);\n",
              "          const docLink = document.createElement('div');\n",
              "          docLink.innerHTML = docLinkHtml;\n",
              "          element.appendChild(docLink);\n",
              "        }\n",
              "      </script>\n",
              "    </div>\n",
              "  </div>\n",
              "  "
            ]
          },
          "metadata": {},
          "execution_count": 29
        }
      ]
    },
    {
      "cell_type": "code",
      "source": [
        "###################\n",
        "# The best model\n",
        "\n",
        "from sklearn.model_selection import train_test_split\n",
        "\n",
        "train, test = train_test_split(wcat, test_size = 0.2)\n",
        "\n",
        "plt.scatter(train.Waist, np.log(train.AT))\n",
        "\n",
        "plt.figure(2)\n",
        "plt.scatter(test.Waist, np.log(test.AT))"
      ],
      "metadata": {
        "colab": {
          "base_uri": "https://localhost:8080/",
          "height": 531
        },
        "id": "Yb_KD10TdYhC",
        "outputId": "d25afb1d-7675-495b-9630-8bfd125dba9e"
      },
      "execution_count": 30,
      "outputs": [
        {
          "output_type": "execute_result",
          "data": {
            "text/plain": [
              "<matplotlib.collections.PathCollection at 0x7f60f71da6d0>"
            ]
          },
          "metadata": {},
          "execution_count": 30
        },
        {
          "output_type": "display_data",
          "data": {
            "text/plain": [
              "<Figure size 432x288 with 1 Axes>"
            ],
            "image/png": "[encoded data removed]"
          },
          "metadata": {
            "needs_background": "light"
          }
        },
        {
          "output_type": "display_data",
          "data": {
            "text/plain": [
              "<Figure size 432x288 with 1 Axes>"
            ],
            "image/png": "[encoded data removed]"
          },
          "metadata": {
            "needs_background": "light"
          }
        }
      ]
    },
    {
      "cell_type": "code",
      "source": [
        "finalmodel = smf.ols('np.log(AT) ~ Waist + I(Waist*Waist)', data = train).fit()\n",
        "finalmodel.summary()"
      ],
      "metadata": {
        "colab": {
          "base_uri": "https://localhost:8080/",
          "height": 508
        },
        "id": "Ar4wKUMxdcyL",
        "outputId": "f99b7ea6-760a-4906-f30e-c8b28dda1345"
      },
      "execution_count": 31,
      "outputs": [
        {
          "output_type": "execute_result",
          "data": {
            "text/plain": [
              "<class 'statsmodels.iolib.summary.Summary'>\n",
              "\"\"\"\n",
              "                            OLS Regression Results                            \n",
              "==============================================================================\n",
              "Dep. Variable:             np.log(AT)   R-squared:                       0.793\n",
              "Model:                            OLS   Adj. R-squared:                  0.788\n",
              "Method:                 Least Squares   F-statistic:                     160.6\n",
              "Date:                Sun, 25 Sep 2022   Prob (F-statistic):           1.97e-29\n",
              "Time:                        04:05:25   Log-Likelihood:                -20.607\n",
              "No. Observations:                  87   AIC:                             47.21\n",
              "Df Residuals:                      84   BIC:                             54.61\n",
              "Df Model:                           2                                         \n",
              "Covariance Type:            nonrobust                                         \n",
              "====================================================================================\n",
              "                       coef    std err          t      P>|t|      [0.025      0.975]\n",
              "------------------------------------------------------------------------------------\n",
              "Intercept           -7.2342      1.676     -4.317      0.000     -10.566      -3.902\n",
              "Waist                0.2139      0.037      5.828      0.000       0.141       0.287\n",
              "I(Waist * Waist)    -0.0009      0.000     -4.691      0.000      -0.001      -0.001\n",
              "==============================================================================\n",
              "Omnibus:                        1.513   Durbin-Watson:                   1.858\n",
              "Prob(Omnibus):                  0.469   Jarque-Bera (JB):                1.075\n",
              "Skew:                           0.262   Prob(JB):                        0.584\n",
              "Kurtosis:                       3.149   Cond. No.                     4.54e+05\n",
              "==============================================================================\n",
              "\n",
              "Notes:\n",
              "[1] Standard Errors assume that the covariance matrix of the errors is correctly specified.\n",
              "[2] The condition number is large, 4.54e+05. This might indicate that there are\n",
              "strong multicollinearity or other numerical problems.\n",
              "\"\"\""
            ],
            "text/html": [
              "<table class=\"simpletable\">\n",
              "<caption>OLS Regression Results</caption>\n",
              "<tr>\n",
              "  <th>Dep. Variable:</th>       <td>np.log(AT)</td>    <th>  R-squared:         </th> <td>   0.793</td>\n",
              "</tr>\n",
              "<tr>\n",
              "  <th>Model:</th>                   <td>OLS</td>       <th>  Adj. R-squared:    </th> <td>   0.788</td>\n",
              "</tr>\n",
              "<tr>\n",
              "  <th>Method:</th>             <td>Least Squares</td>  <th>  F-statistic:       </th> <td>   160.6</td>\n",
              "</tr>\n",
              "<tr>\n",
              "  <th>Date:</th>             <td>Sun, 25 Sep 2022</td> <th>  Prob (F-statistic):</th> <td>1.97e-29</td>\n",
              "</tr>\n",
              "<tr>\n",
              "  <th>Time:</th>                 <td>04:05:25</td>     <th>  Log-Likelihood:    </th> <td> -20.607</td>\n",
              "</tr>\n",
              "<tr>\n",
              "  <th>No. Observations:</th>      <td>    87</td>      <th>  AIC:               </th> <td>   47.21</td>\n",
              "</tr>\n",
              "<tr>\n",
              "  <th>Df Residuals:</th>          <td>    84</td>      <th>  BIC:               </th> <td>   54.61</td>\n",
              "</tr>\n",
              "<tr>\n",
              "  <th>Df Model:</th>              <td>     2</td>      <th>                     </th>     <td> </td>   \n",
              "</tr>\n",
              "<tr>\n",
              "  <th>Covariance Type:</th>      <td>nonrobust</td>    <th>                     </th>     <td> </td>   \n",
              "</tr>\n",
              "</table>\n",
              "<table class=\"simpletable\">\n",
              "<tr>\n",
              "          <td></td>            <th>coef</th>     <th>std err</th>      <th>t</th>      <th>P>|t|</th>  <th>[0.025</th>    <th>0.975]</th>  \n",
              "</tr>\n",
              "<tr>\n",
              "  <th>Intercept</th>        <td>   -7.2342</td> <td>    1.676</td> <td>   -4.317</td> <td> 0.000</td> <td>  -10.566</td> <td>   -3.902</td>\n",
              "</tr>\n",
              "<tr>\n",
              "  <th>Waist</th>            <td>    0.2139</td> <td>    0.037</td> <td>    5.828</td> <td> 0.000</td> <td>    0.141</td> <td>    0.287</td>\n",
              "</tr>\n",
              "<tr>\n",
              "  <th>I(Waist * Waist)</th> <td>   -0.0009</td> <td>    0.000</td> <td>   -4.691</td> <td> 0.000</td> <td>   -0.001</td> <td>   -0.001</td>\n",
              "</tr>\n",
              "</table>\n",
              "<table class=\"simpletable\">\n",
              "<tr>\n",
              "  <th>Omnibus:</th>       <td> 1.513</td> <th>  Durbin-Watson:     </th> <td>   1.858</td>\n",
              "</tr>\n",
              "<tr>\n",
              "  <th>Prob(Omnibus):</th> <td> 0.469</td> <th>  Jarque-Bera (JB):  </th> <td>   1.075</td>\n",
              "</tr>\n",
              "<tr>\n",
              "  <th>Skew:</th>          <td> 0.262</td> <th>  Prob(JB):          </th> <td>   0.584</td>\n",
              "</tr>\n",
              "<tr>\n",
              "  <th>Kurtosis:</th>      <td> 3.149</td> <th>  Cond. No.          </th> <td>4.54e+05</td>\n",
              "</tr>\n",
              "</table><br/><br/>Notes:<br/>[1] Standard Errors assume that the covariance matrix of the errors is correctly specified.<br/>[2] The condition number is large, 4.54e+05. This might indicate that there are<br/>strong multicollinearity or other numerical problems."
            ]
          },
          "metadata": {},
          "execution_count": 31
        }
      ]
    },
    {
      "cell_type": "code",
      "source": [
        "# Predict on test data\n",
        "test_pred = finalmodel.predict(pd.DataFrame(test))\n",
        "pred_test_AT = np.exp(test_pred)\n",
        "pred_test_AT"
      ],
      "metadata": {
        "colab": {
          "base_uri": "https://localhost:8080/"
        },
        "id": "F8PidW5pdfh_",
        "outputId": "cb550e29-eb18-425b-8536-6239be576b77"
      },
      "execution_count": 32,
      "outputs": [
        {
          "output_type": "execute_result",
          "data": {
            "text/plain": [
              "35     110.704292\n",
              "39      48.556433\n",
              "17      34.240617\n",
              "91     151.664374\n",
              "25      99.887788\n",
              "31      83.140446\n",
              "68     150.238571\n",
              "27      53.620822\n",
              "74     157.897976\n",
              "47     110.704292\n",
              "50      90.377060\n",
              "104    133.639298\n",
              "18      33.332009\n",
              "103    137.000440\n",
              "49      49.546042\n",
              "38      51.900604\n",
              "61      70.028673\n",
              "64     163.581641\n",
              "97     129.379045\n",
              "10      28.690309\n",
              "23      87.807398\n",
              "21      55.019604\n",
              "dtype: float64"
            ]
          },
          "metadata": {},
          "execution_count": 32
        }
      ]
    },
    {
      "cell_type": "code",
      "source": [
        "# Model Evaluation on Test data\n",
        "test_res = test.AT - pred_test_AT\n",
        "test_sqrs = test_res * test_res\n",
        "test_mse = np.mean(test_sqrs)\n",
        "test_rmse = np.sqrt(test_mse)\n",
        "test_rmse"
      ],
      "metadata": {
        "colab": {
          "base_uri": "https://localhost:8080/"
        },
        "id": "G75VgNMPdi-S",
        "outputId": "f6cf3e8c-4480-47ee-8d3f-ab6d45a5540a"
      },
      "execution_count": 33,
      "outputs": [
        {
          "output_type": "execute_result",
          "data": {
            "text/plain": [
              "30.47273442306647"
            ]
          },
          "metadata": {},
          "execution_count": 33
        }
      ]
    },
    {
      "cell_type": "code",
      "source": [
        "# Prediction on train data\n",
        "train_pred = finalmodel.predict(pd.DataFrame(train))\n",
        "pred_train_AT = np.exp(train_pred)\n",
        "pred_train_AT"
      ],
      "metadata": {
        "colab": {
          "base_uri": "https://localhost:8080/"
        },
        "id": "wa4cUQQDdmbV",
        "outputId": "4ff07b29-5506-43f6-a1b2-c37fc2578b5d"
      },
      "execution_count": 34,
      "outputs": [
        {
          "output_type": "execute_result",
          "data": {
            "text/plain": [
              "98      95.552779\n",
              "92     125.379883\n",
              "77     147.222315\n",
              "90     123.341167\n",
              "53      37.902682\n",
              "          ...    \n",
              "45     155.832659\n",
              "79     159.943100\n",
              "34     140.586592\n",
              "102    166.188208\n",
              "11      36.517169\n",
              "Length: 87, dtype: float64"
            ]
          },
          "metadata": {},
          "execution_count": 34
        }
      ]
    },
    {
      "cell_type": "code",
      "source": [
        "# Model Evaluation on train data\n",
        "train_res = train.AT - pred_train_AT\n",
        "train_sqrs = train_res * train_res\n",
        "train_mse = np.mean(train_sqrs)\n",
        "train_rmse = np.sqrt(train_mse)\n",
        "train_rmse"
      ],
      "metadata": {
        "colab": {
          "base_uri": "https://localhost:8080/"
        },
        "id": "Odu_pHASdo4J",
        "outputId": "abc81c20-c047-4d49-b2e5-480c6bb04bcc"
      },
      "execution_count": 35,
      "outputs": [
        {
          "output_type": "execute_result",
          "data": {
            "text/plain": [
              "32.643864970512"
            ]
          },
          "metadata": {},
          "execution_count": 35
        }
      ]
    },
    {
      "cell_type": "code",
      "source": [],
      "metadata": {
        "id": "JQssjl6ndrIt"
      },
      "execution_count": 35,
      "outputs": []
    }
  ]
}