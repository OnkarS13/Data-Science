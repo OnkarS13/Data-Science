{
  "nbformat": 4,
  "nbformat_minor": 0,
  "metadata": {
    "colab": {
      "provenance": []
    },
    "kernelspec": {
      "name": "python3",
      "display_name": "Python 3"
    },
    "language_info": {
      "name": "python"
    }
  },
  "cells": [
    {
      "cell_type": "code",
      "execution_count": 1,
      "metadata": {
        "colab": {
          "base_uri": "https://localhost:8080/"
        },
        "id": "UWiK1W6lfMYa",
        "outputId": "76eb7b34-3296-49f1-fc80-627afb800616"
      },
      "outputs": [
        {
          "output_type": "execute_result",
          "data": {
            "text/plain": [
              "0                     Drama, Romance, School, Supernatural\n",
              "1        Action, Adventure, Drama, Fantasy, Magic, Mili...\n",
              "2        Action, Comedy, Historical, Parody, Samurai, S...\n",
              "3                                         Sci-Fi, Thriller\n",
              "4        Action, Comedy, Historical, Parody, Samurai, S...\n",
              "                               ...                        \n",
              "12289                                               Hentai\n",
              "12290                                               Hentai\n",
              "12291                                               Hentai\n",
              "12292                                               Hentai\n",
              "12293                                               Hentai\n",
              "Name: genre, Length: 12294, dtype: object"
            ]
          },
          "metadata": {},
          "execution_count": 1
        }
      ],
      "source": [
        "import pandas as pd\n",
        "\n",
        "# import Dataset \n",
        "anime = pd.read_csv(\"anime.csv\", encoding = 'utf8')\n",
        "anime.shape # shape\n",
        "anime.columns\n",
        "anime.genre # genre columns"
      ]
    },
    {
      "cell_type": "code",
      "source": [
        "anime.shape # shape"
      ],
      "metadata": {
        "colab": {
          "base_uri": "https://localhost:8080/"
        },
        "id": "7VxcFc1ygfmA",
        "outputId": "0ea66020-87ed-4f53-c528-d260a7502f37"
      },
      "execution_count": 2,
      "outputs": [
        {
          "output_type": "execute_result",
          "data": {
            "text/plain": [
              "(12294, 7)"
            ]
          },
          "metadata": {},
          "execution_count": 2
        }
      ]
    },
    {
      "cell_type": "code",
      "source": [
        "anime.columns"
      ],
      "metadata": {
        "colab": {
          "base_uri": "https://localhost:8080/"
        },
        "id": "P51XJairggRC",
        "outputId": "adcefc6a-498e-48a1-8df3-ae90d93bd7f2"
      },
      "execution_count": 3,
      "outputs": [
        {
          "output_type": "execute_result",
          "data": {
            "text/plain": [
              "Index(['anime_id', 'name', 'genre', 'type', 'episodes', 'rating', 'members'], dtype='object')"
            ]
          },
          "metadata": {},
          "execution_count": 3
        }
      ]
    },
    {
      "cell_type": "code",
      "source": [
        "anime.genre # genre columns"
      ],
      "metadata": {
        "colab": {
          "base_uri": "https://localhost:8080/"
        },
        "id": "6xfuQzELghq_",
        "outputId": "004af158-73d3-4511-8bff-da05a930b41a"
      },
      "execution_count": 4,
      "outputs": [
        {
          "output_type": "execute_result",
          "data": {
            "text/plain": [
              "0                     Drama, Romance, School, Supernatural\n",
              "1        Action, Adventure, Drama, Fantasy, Magic, Mili...\n",
              "2        Action, Comedy, Historical, Parody, Samurai, S...\n",
              "3                                         Sci-Fi, Thriller\n",
              "4        Action, Comedy, Historical, Parody, Samurai, S...\n",
              "                               ...                        \n",
              "12289                                               Hentai\n",
              "12290                                               Hentai\n",
              "12291                                               Hentai\n",
              "12292                                               Hentai\n",
              "12293                                               Hentai\n",
              "Name: genre, Length: 12294, dtype: object"
            ]
          },
          "metadata": {},
          "execution_count": 4
        }
      ]
    },
    {
      "cell_type": "code",
      "source": [
        "from sklearn.feature_extraction.text import TfidfVectorizer \n",
        "# term frequency inverse document frequncy is a numerical statistic that is intended to reflect how important a word is to document in a collecion or cor"
      ],
      "metadata": {
        "id": "QyZsvbBjgjgN"
      },
      "execution_count": 5,
      "outputs": []
    },
    {
      "cell_type": "code",
      "source": [
        "# Creating a Tfidf Vectorizer to remove all stop words\n",
        "tfidf = TfidfVectorizer(stop_words = \"english\")    # taking stop words from tfid vectorizer"
      ],
      "metadata": {
        "id": "H1Zp3do_iCsF"
      },
      "execution_count": 6,
      "outputs": []
    },
    {
      "cell_type": "code",
      "source": [
        "# Replacing the NaN values in overview column with empty string\n",
        "anime[\"genre\"].isnull().sum()\n",
        "anime[\"genre\"] = anime[\"genre\"].fillna(\"general\")"
      ],
      "metadata": {
        "id": "AwjsdIDeiDU2"
      },
      "execution_count": 7,
      "outputs": []
    },
    {
      "cell_type": "code",
      "source": [
        "anime[\"genre\"].isnull().sum()"
      ],
      "metadata": {
        "colab": {
          "base_uri": "https://localhost:8080/"
        },
        "id": "XteZ_J2iiGRv",
        "outputId": "c568c925-261f-44a5-fb6d-b96b0ae29048"
      },
      "execution_count": 8,
      "outputs": [
        {
          "output_type": "execute_result",
          "data": {
            "text/plain": [
              "0"
            ]
          },
          "metadata": {},
          "execution_count": 8
        }
      ]
    },
    {
      "cell_type": "code",
      "source": [
        "# Preparing the Tfidf matrix by fitting and transforming\n",
        "tfidf_matrix = tfidf.fit_transform(anime.genre)   #Transform a count matrix to a normalized tf or tf-idf representation\n",
        "tfidf_matrix.shape #12294, 47"
      ],
      "metadata": {
        "colab": {
          "base_uri": "https://localhost:8080/"
        },
        "id": "dWi6bV1OiK8x",
        "outputId": "1d69a60b-78fe-4ac5-ab2b-7d5eed6256a4"
      },
      "execution_count": 9,
      "outputs": [
        {
          "output_type": "execute_result",
          "data": {
            "text/plain": [
              "(12294, 47)"
            ]
          },
          "metadata": {},
          "execution_count": 9
        }
      ]
    },
    {
      "cell_type": "code",
      "source": [
        "# From the above matrix we need to find the similarity score.\n",
        "# There are several metrics for this such as the euclidean, \n",
        "# the Pearson and the cosine similarity scores\n",
        "\n",
        "# A numeric quantity to represent the similarity between 2 movies \n",
        "# Cosine similarity - metric is independent of magnitude and easy to calculate \n",
        "# cosine(x,y)= (x.y⊺)/(||x||.||y||)"
      ],
      "metadata": {
        "id": "JAzvFeJUiT4p"
      },
      "execution_count": 10,
      "outputs": []
    },
    {
      "cell_type": "code",
      "source": [
        "# calculating the dot product using sklearn's linear_kernel()\n",
        "from sklearn.metrics.pairwise import linear_kernel"
      ],
      "metadata": {
        "id": "x1Q1yFyBkltC"
      },
      "execution_count": 11,
      "outputs": []
    },
    {
      "cell_type": "code",
      "source": [
        "# Computing the cosine similarity on Tfidf matrix\n",
        "cosine_sim_matrix = linear_kernel(tfidf_matrix, tfidf_matrix)"
      ],
      "metadata": {
        "id": "JdS97nTVkoMd"
      },
      "execution_count": 12,
      "outputs": []
    },
    {
      "cell_type": "code",
      "source": [
        "# creating a mapping of anime name to index number \n",
        "anime_index = pd.Series(anime.index, index = anime['name']).drop_duplicates()"
      ],
      "metadata": {
        "id": "v1UjIrvnlV4-"
      },
      "execution_count": 13,
      "outputs": []
    },
    {
      "cell_type": "code",
      "source": [
        "anime_id = anime_index[\"Assassins (1995)\"]\n",
        "anime_id"
      ],
      "metadata": {
        "colab": {
          "base_uri": "https://localhost:8080/"
        },
        "id": "aMnHyPf5laBW",
        "outputId": "f8bd0bd2-bf70-4235-9e3e-9ba3d2968b7c"
      },
      "execution_count": 14,
      "outputs": [
        {
          "output_type": "execute_result",
          "data": {
            "text/plain": [
              "22"
            ]
          },
          "metadata": {},
          "execution_count": 14
        }
      ]
    },
    {
      "cell_type": "code",
      "source": [
        "def get_recommendations(Name, topN):    \n",
        "    # topN = 10\n",
        "    # Getting the movie index using its title \n",
        "    anime_id = anime_index[Name]\n",
        "    \n",
        "    # Getting the pair wise similarity score for all the anime's with that \n",
        "    # anime\n",
        "    cosine_scores = list(enumerate(cosine_sim_matrix[anime_id]))\n",
        "    \n",
        "    # Sorting the cosine_similarity scores based on scores \n",
        "    cosine_scores = sorted(cosine_scores, key=lambda x:x[1], reverse = True)\n",
        "    \n",
        "    # Get the scores of top N most similar movies \n",
        "    cosine_scores_N = cosine_scores[0: topN+1]\n",
        "    \n",
        "    # Getting the movie index \n",
        "    anime_idx  =  [i[0] for i in cosine_scores_N]\n",
        "    anime_scores =  [i[1] for i in cosine_scores_N]\n",
        "    \n",
        "    # Similar movies and scores\n",
        "    anime_similar_show = pd.DataFrame(columns=[\"name\", \"Score\"])\n",
        "    anime_similar_show[\"name\"] = anime.loc[anime_idx, \"name\"]\n",
        "    anime_similar_show[\"Score\"] = anime_scores\n",
        "    anime_similar_show.reset_index(inplace = True)  \n",
        "    print (anime_similar_show)\n",
        "    "
      ],
      "metadata": {
        "id": "jIMon2FalfYd"
      },
      "execution_count": 21,
      "outputs": []
    },
    {
      "cell_type": "code",
      "source": [
        "# Enter your anime and number of anime's to be recommended\n",
        "anime_index[\"Bad Boys (1995)\"]"
      ],
      "metadata": {
        "colab": {
          "base_uri": "https://localhost:8080/"
        },
        "id": "-u3fqZPhnpAQ",
        "outputId": "0d70a346-59ef-4046-dc9f-8864073cdbda"
      },
      "execution_count": 22,
      "outputs": [
        {
          "output_type": "execute_result",
          "data": {
            "text/plain": [
              "118"
            ]
          },
          "metadata": {},
          "execution_count": 22
        }
      ]
    },
    {
      "cell_type": "code",
      "source": [
        "get_recommendations(\"Bad Boys (1995)\", topN = 10)"
      ],
      "metadata": {
        "colab": {
          "base_uri": "https://localhost:8080/"
        },
        "id": "DpKibgG3oI-X",
        "outputId": "a3753dd4-3d65-4a73-a46e-488c92b829fd"
      },
      "execution_count": 23,
      "outputs": [
        {
          "output_type": "stream",
          "name": "stdout",
          "text": [
            "    index                                               name     Score\n",
            "0     118                                    Bad Boys (1995)  1.000000\n",
            "1   10919                              No Game No Life Movie  1.000000\n",
            "2   10436  Super Real Mahjong: Mahjong Battle Scramble - ...  0.859206\n",
            "3    4290                       Raising Victor Vargas (2002)  0.827579\n",
            "4    5882                     xXx: State of the Union (2005)  0.800258\n",
            "5    5968           Pusher II: With Blood on My Hands (2004)  0.800258\n",
            "6    6116                                  Revolution (1985)  0.800258\n",
            "7    6677             World on a Wire (Welt am Draht) (1973)  0.800258\n",
            "8   10435  Super Real Mahjong: Kasumi Miki Shouko no Haji...  0.800258\n",
            "9    4628                            Italian Job, The (1969)  0.787476\n",
            "10   6812                    Midnight Meat Train, The (2008)  0.739464\n"
          ]
        }
      ]
    },
    {
      "cell_type": "code",
      "source": [],
      "metadata": {
        "id": "dfZCeF4-oMMJ"
      },
      "execution_count": null,
      "outputs": []
    }
  ]
}