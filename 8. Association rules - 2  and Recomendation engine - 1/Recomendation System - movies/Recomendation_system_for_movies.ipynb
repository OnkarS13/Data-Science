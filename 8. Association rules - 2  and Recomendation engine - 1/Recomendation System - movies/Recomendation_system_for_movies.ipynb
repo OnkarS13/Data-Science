{
  "nbformat": 4,
  "nbformat_minor": 0,
  "metadata": {
    "colab": {
      "provenance": [],
      "collapsed_sections": []
    },
    "kernelspec": {
      "name": "python3",
      "display_name": "Python 3"
    },
    "language_info": {
      "name": "python"
    }
  },
  "cells": [
    {
      "cell_type": "markdown",
      "source": [
        "#Importing and Analyzing the data"
      ],
      "metadata": {
        "id": "GX_LCW7zZk8z"
      }
    },
    {
      "cell_type": "code",
      "execution_count": 1,
      "metadata": {
        "id": "UWiK1W6lfMYa"
      },
      "outputs": [],
      "source": [
        "import pandas as pd"
      ]
    },
    {
      "cell_type": "markdown",
      "source": [
        "##Getting Dataset and info##"
      ],
      "metadata": {
        "id": "mqlStr_LZ128"
      }
    },
    {
      "cell_type": "code",
      "source": [
        "# Importing dataset\n",
        "anime = pd.read_csv(\"anime.csv\", encoding = 'utf8')"
      ],
      "metadata": {
        "id": "9wCHG9_QZsrB"
      },
      "execution_count": 2,
      "outputs": []
    },
    {
      "cell_type": "code",
      "source": [
        "anime.head()"
      ],
      "metadata": {
        "colab": {
          "base_uri": "https://localhost:8080/",
          "height": 389
        },
        "id": "gQBqzgOHiwvH",
        "outputId": "296c0518-0aaa-43f2-d94f-31bbbaaad925"
      },
      "execution_count": 3,
      "outputs": [
        {
          "output_type": "execute_result",
          "data": {
            "text/plain": [
              "   anime_id                                name  \\\n",
              "0     32281                    Toy Story (1995)   \n",
              "1      5114                      Jumanji (1995)   \n",
              "2     28977             Grumpier Old Men (1995)   \n",
              "3      9253            Waiting to Exhale (1995)   \n",
              "4      9969  Father of the Bride Part II (1995)   \n",
              "\n",
              "                                               genre   type episodes  rating  \\\n",
              "0               Drama, Romance, School, Supernatural  Movie        1    9.37   \n",
              "1  Action, Adventure, Drama, Fantasy, Magic, Mili...     TV       64    9.26   \n",
              "2  Action, Comedy, Historical, Parody, Samurai, S...     TV       51    9.25   \n",
              "3                                   Sci-Fi, Thriller     TV       24    9.17   \n",
              "4  Action, Comedy, Historical, Parody, Samurai, S...     TV       51    9.16   \n",
              "\n",
              "   members  \n",
              "0   200630  \n",
              "1   793665  \n",
              "2   114262  \n",
              "3   673572  \n",
              "4   151266  "
            ],
            "text/html": [
              "\n",
              "  <div id=\"df-c4b9c847-7f75-442d-9c23-a17e35b56142\">\n",
              "    <div class=\"colab-df-container\">\n",
              "      <div>\n",
              "<style scoped>\n",
              "    .dataframe tbody tr th:only-of-type {\n",
              "        vertical-align: middle;\n",
              "    }\n",
              "\n",
              "    .dataframe tbody tr th {\n",
              "        vertical-align: top;\n",
              "    }\n",
              "\n",
              "    .dataframe thead th {\n",
              "        text-align: right;\n",
              "    }\n",
              "</style>\n",
              "<table border=\"1\" class=\"dataframe\">\n",
              "  <thead>\n",
              "    <tr style=\"text-align: right;\">\n",
              "      <th></th>\n",
              "      <th>anime_id</th>\n",
              "      <th>name</th>\n",
              "      <th>genre</th>\n",
              "      <th>type</th>\n",
              "      <th>episodes</th>\n",
              "      <th>rating</th>\n",
              "      <th>members</th>\n",
              "    </tr>\n",
              "  </thead>\n",
              "  <tbody>\n",
              "    <tr>\n",
              "      <th>0</th>\n",
              "      <td>32281</td>\n",
              "      <td>Toy Story (1995)</td>\n",
              "      <td>Drama, Romance, School, Supernatural</td>\n",
              "      <td>Movie</td>\n",
              "      <td>1</td>\n",
              "      <td>9.37</td>\n",
              "      <td>200630</td>\n",
              "    </tr>\n",
              "    <tr>\n",
              "      <th>1</th>\n",
              "      <td>5114</td>\n",
              "      <td>Jumanji (1995)</td>\n",
              "      <td>Action, Adventure, Drama, Fantasy, Magic, Mili...</td>\n",
              "      <td>TV</td>\n",
              "      <td>64</td>\n",
              "      <td>9.26</td>\n",
              "      <td>793665</td>\n",
              "    </tr>\n",
              "    <tr>\n",
              "      <th>2</th>\n",
              "      <td>28977</td>\n",
              "      <td>Grumpier Old Men (1995)</td>\n",
              "      <td>Action, Comedy, Historical, Parody, Samurai, S...</td>\n",
              "      <td>TV</td>\n",
              "      <td>51</td>\n",
              "      <td>9.25</td>\n",
              "      <td>114262</td>\n",
              "    </tr>\n",
              "    <tr>\n",
              "      <th>3</th>\n",
              "      <td>9253</td>\n",
              "      <td>Waiting to Exhale (1995)</td>\n",
              "      <td>Sci-Fi, Thriller</td>\n",
              "      <td>TV</td>\n",
              "      <td>24</td>\n",
              "      <td>9.17</td>\n",
              "      <td>673572</td>\n",
              "    </tr>\n",
              "    <tr>\n",
              "      <th>4</th>\n",
              "      <td>9969</td>\n",
              "      <td>Father of the Bride Part II (1995)</td>\n",
              "      <td>Action, Comedy, Historical, Parody, Samurai, S...</td>\n",
              "      <td>TV</td>\n",
              "      <td>51</td>\n",
              "      <td>9.16</td>\n",
              "      <td>151266</td>\n",
              "    </tr>\n",
              "  </tbody>\n",
              "</table>\n",
              "</div>\n",
              "      <button class=\"colab-df-convert\" onclick=\"convertToInteractive('df-c4b9c847-7f75-442d-9c23-a17e35b56142')\"\n",
              "              title=\"Convert this dataframe to an interactive table.\"\n",
              "              style=\"display:none;\">\n",
              "        \n",
              "  <svg xmlns=\"http://www.w3.org/2000/svg\" height=\"24px\"viewBox=\"0 0 24 24\"\n",
              "       width=\"24px\">\n",
              "    <path d=\"M0 0h24v24H0V0z\" fill=\"none\"/>\n",
              "    <path d=\"M18.56 5.44l.94 2.06.94-2.06 2.06-.94-2.06-.94-.94-2.06-.94 2.06-2.06.94zm-11 1L8.5 8.5l.94-2.06 2.06-.94-2.06-.94L8.5 2.5l-.94 2.06-2.06.94zm10 10l.94 2.06.94-2.06 2.06-.94-2.06-.94-.94-2.06-.94 2.06-2.06.94z\"/><path d=\"M17.41 7.96l-1.37-1.37c-.4-.4-.92-.59-1.43-.59-.52 0-1.04.2-1.43.59L10.3 9.45l-7.72 7.72c-.78.78-.78 2.05 0 2.83L4 21.41c.39.39.9.59 1.41.59.51 0 1.02-.2 1.41-.59l7.78-7.78 2.81-2.81c.8-.78.8-2.07 0-2.86zM5.41 20L4 18.59l7.72-7.72 1.47 1.35L5.41 20z\"/>\n",
              "  </svg>\n",
              "      </button>\n",
              "      \n",
              "  <style>\n",
              "    .colab-df-container {\n",
              "      display:flex;\n",
              "      flex-wrap:wrap;\n",
              "      gap: 12px;\n",
              "    }\n",
              "\n",
              "    .colab-df-convert {\n",
              "      background-color: #E8F0FE;\n",
              "      border: none;\n",
              "      border-radius: 50%;\n",
              "      cursor: pointer;\n",
              "      display: none;\n",
              "      fill: #1967D2;\n",
              "      height: 32px;\n",
              "      padding: 0 0 0 0;\n",
              "      width: 32px;\n",
              "    }\n",
              "\n",
              "    .colab-df-convert:hover {\n",
              "      background-color: #E2EBFA;\n",
              "      box-shadow: 0px 1px 2px rgba(60, 64, 67, 0.3), 0px 1px 3px 1px rgba(60, 64, 67, 0.15);\n",
              "      fill: #174EA6;\n",
              "    }\n",
              "\n",
              "    [theme=dark] .colab-df-convert {\n",
              "      background-color: #3B4455;\n",
              "      fill: #D2E3FC;\n",
              "    }\n",
              "\n",
              "    [theme=dark] .colab-df-convert:hover {\n",
              "      background-color: #434B5C;\n",
              "      box-shadow: 0px 1px 3px 1px rgba(0, 0, 0, 0.15);\n",
              "      filter: drop-shadow(0px 1px 2px rgba(0, 0, 0, 0.3));\n",
              "      fill: #FFFFFF;\n",
              "    }\n",
              "  </style>\n",
              "\n",
              "      <script>\n",
              "        const buttonEl =\n",
              "          document.querySelector('#df-c4b9c847-7f75-442d-9c23-a17e35b56142 button.colab-df-convert');\n",
              "        buttonEl.style.display =\n",
              "          google.colab.kernel.accessAllowed ? 'block' : 'none';\n",
              "\n",
              "        async function convertToInteractive(key) {\n",
              "          const element = document.querySelector('#df-c4b9c847-7f75-442d-9c23-a17e35b56142');\n",
              "          const dataTable =\n",
              "            await google.colab.kernel.invokeFunction('convertToInteractive',\n",
              "                                                     [key], {});\n",
              "          if (!dataTable) return;\n",
              "\n",
              "          const docLinkHtml = 'Like what you see? Visit the ' +\n",
              "            '<a target=\"_blank\" href=https://colab.research.google.com/notebooks/data_table.ipynb>data table notebook</a>'\n",
              "            + ' to learn more about interactive tables.';\n",
              "          element.innerHTML = '';\n",
              "          dataTable['output_type'] = 'display_data';\n",
              "          await google.colab.output.renderOutput(dataTable, element);\n",
              "          const docLink = document.createElement('div');\n",
              "          docLink.innerHTML = docLinkHtml;\n",
              "          element.appendChild(docLink);\n",
              "        }\n",
              "      </script>\n",
              "    </div>\n",
              "  </div>\n",
              "  "
            ]
          },
          "metadata": {},
          "execution_count": 3
        }
      ]
    },
    {
      "cell_type": "code",
      "source": [
        "anime.shape # Getting shape"
      ],
      "metadata": {
        "colab": {
          "base_uri": "https://localhost:8080/"
        },
        "id": "7VxcFc1ygfmA",
        "outputId": "02602446-8595-4f34-e1f7-627142b092b7"
      },
      "execution_count": 4,
      "outputs": [
        {
          "output_type": "execute_result",
          "data": {
            "text/plain": [
              "(12294, 7)"
            ]
          },
          "metadata": {},
          "execution_count": 4
        }
      ]
    },
    {
      "cell_type": "code",
      "source": [
        "anime.columns #Getting Columns"
      ],
      "metadata": {
        "colab": {
          "base_uri": "https://localhost:8080/"
        },
        "id": "P51XJairggRC",
        "outputId": "c9c80d5d-f7b6-4bb5-995b-999d1d698456"
      },
      "execution_count": 5,
      "outputs": [
        {
          "output_type": "execute_result",
          "data": {
            "text/plain": [
              "Index(['anime_id', 'name', 'genre', 'type', 'episodes', 'rating', 'members'], dtype='object')"
            ]
          },
          "metadata": {},
          "execution_count": 5
        }
      ]
    },
    {
      "cell_type": "code",
      "source": [
        "anime.genre # Getting genre that what are the different generas"
      ],
      "metadata": {
        "colab": {
          "base_uri": "https://localhost:8080/"
        },
        "id": "6xfuQzELghq_",
        "outputId": "96ae2f53-c2f7-4675-c761-6890975e8978"
      },
      "execution_count": 6,
      "outputs": [
        {
          "output_type": "execute_result",
          "data": {
            "text/plain": [
              "0                     Drama, Romance, School, Supernatural\n",
              "1        Action, Adventure, Drama, Fantasy, Magic, Mili...\n",
              "2        Action, Comedy, Historical, Parody, Samurai, S...\n",
              "3                                         Sci-Fi, Thriller\n",
              "4        Action, Comedy, Historical, Parody, Samurai, S...\n",
              "                               ...                        \n",
              "12289                                               Hentai\n",
              "12290                                               Hentai\n",
              "12291                                               Hentai\n",
              "12292                                               Hentai\n",
              "12293                                               Hentai\n",
              "Name: genre, Length: 12294, dtype: object"
            ]
          },
          "metadata": {},
          "execution_count": 6
        }
      ]
    },
    {
      "cell_type": "markdown",
      "source": [
        "##Normalization of the data using TFIDF Term Frequency and Inverse Dense Frequency Techniques##"
      ],
      "metadata": {
        "id": "K9JULmiOaU4o"
      }
    },
    {
      "cell_type": "markdown",
      "source": [
        "Coverting the all the generes to the binary matrix and then these generes are normalized"
      ],
      "metadata": {
        "id": "fblB5ehwb346"
      }
    },
    {
      "cell_type": "code",
      "source": [
        "from sklearn.feature_extraction.text import TfidfVectorizer \n",
        "# term frequency inverse document frequncy is a numerical statistic that is intended to reflect how important a word is to document in a collecion or cor"
      ],
      "metadata": {
        "id": "QyZsvbBjgjgN"
      },
      "execution_count": 7,
      "outputs": []
    },
    {
      "cell_type": "code",
      "source": [
        "# So basically, with the help of TFIDF, english word is being stopped\n",
        "tfidf = TfidfVectorizer(stop_words = \"english\")    # taking stop words from tfid vectorizer"
      ],
      "metadata": {
        "id": "H1Zp3do_iCsF"
      },
      "execution_count": 8,
      "outputs": []
    },
    {
      "cell_type": "markdown",
      "source": [
        "##Dealing with the Missing values##"
      ],
      "metadata": {
        "id": "Ha6nRnwNcr9p"
      }
    },
    {
      "cell_type": "code",
      "source": [
        "anime[\"genre\"].isnull().sum() # getting the total sum of the missing values in genre\n",
        "# So there are 62 missing values"
      ],
      "metadata": {
        "id": "AwjsdIDeiDU2",
        "colab": {
          "base_uri": "https://localhost:8080/"
        },
        "outputId": "eb43957c-4f8c-4809-cc06-94246da62c19"
      },
      "execution_count": 9,
      "outputs": [
        {
          "output_type": "execute_result",
          "data": {
            "text/plain": [
              "62"
            ]
          },
          "metadata": {},
          "execution_count": 9
        }
      ]
    },
    {
      "cell_type": "code",
      "source": [
        "anime[\"genre\"] = anime[\"genre\"].fillna(\"general\") # and assigning or filling these null values with 'general' string."
      ],
      "metadata": {
        "id": "fE5Yn-AGdSns"
      },
      "execution_count": 10,
      "outputs": []
    },
    {
      "cell_type": "code",
      "source": [
        "anime[\"genre\"].isnull().sum() #Now after filling those Nan values, missing values are 0"
      ],
      "metadata": {
        "colab": {
          "base_uri": "https://localhost:8080/"
        },
        "id": "XteZ_J2iiGRv",
        "outputId": "2b296bb8-303d-4703-b1b2-f585e1ed2537"
      },
      "execution_count": 11,
      "outputs": [
        {
          "output_type": "execute_result",
          "data": {
            "text/plain": [
              "0"
            ]
          },
          "metadata": {},
          "execution_count": 11
        }
      ]
    },
    {
      "cell_type": "code",
      "source": [
        "anime.info"
      ],
      "metadata": {
        "colab": {
          "base_uri": "https://localhost:8080/"
        },
        "id": "1uS0HDFUf5zA",
        "outputId": "13b13cb3-c348-4adc-ce53-2cbeb6f35390"
      },
      "execution_count": 12,
      "outputs": [
        {
          "output_type": "execute_result",
          "data": {
            "text/plain": [
              "<bound method DataFrame.info of        anime_id                                               name  \\\n",
              "0         32281                                   Toy Story (1995)   \n",
              "1          5114                                     Jumanji (1995)   \n",
              "2         28977                            Grumpier Old Men (1995)   \n",
              "3          9253                           Waiting to Exhale (1995)   \n",
              "4          9969                 Father of the Bride Part II (1995)   \n",
              "...         ...                                                ...   \n",
              "12289      9316       Toushindai My Lover: Minami tai Mecha-Minami   \n",
              "12290      5543                                        Under World   \n",
              "12291      5621                     Violence Gekiga David no Hoshi   \n",
              "12292      6133  Violence Gekiga Shin David no Hoshi: Inma Dens...   \n",
              "12293     26081                   Yasuji no Pornorama: Yacchimae!!   \n",
              "\n",
              "                                                   genre   type episodes  \\\n",
              "0                   Drama, Romance, School, Supernatural  Movie        1   \n",
              "1      Action, Adventure, Drama, Fantasy, Magic, Mili...     TV       64   \n",
              "2      Action, Comedy, Historical, Parody, Samurai, S...     TV       51   \n",
              "3                                       Sci-Fi, Thriller     TV       24   \n",
              "4      Action, Comedy, Historical, Parody, Samurai, S...     TV       51   \n",
              "...                                                  ...    ...      ...   \n",
              "12289                                             Hentai    OVA        1   \n",
              "12290                                             Hentai    OVA        1   \n",
              "12291                                             Hentai    OVA        4   \n",
              "12292                                             Hentai    OVA        1   \n",
              "12293                                             Hentai  Movie        1   \n",
              "\n",
              "       rating  members  \n",
              "0        9.37   200630  \n",
              "1        9.26   793665  \n",
              "2        9.25   114262  \n",
              "3        9.17   673572  \n",
              "4        9.16   151266  \n",
              "...       ...      ...  \n",
              "12289    4.15      211  \n",
              "12290    4.28      183  \n",
              "12291    4.88      219  \n",
              "12292    4.98      175  \n",
              "12293    5.46      142  \n",
              "\n",
              "[12294 rows x 7 columns]>"
            ]
          },
          "metadata": {},
          "execution_count": 12
        }
      ]
    },
    {
      "cell_type": "code",
      "source": [
        "anime.describe()"
      ],
      "metadata": {
        "colab": {
          "base_uri": "https://localhost:8080/",
          "height": 300
        },
        "id": "7RWnHsRlgXL9",
        "outputId": "902e24fa-706b-4ac5-8825-655ff49a49ff"
      },
      "execution_count": 13,
      "outputs": [
        {
          "output_type": "execute_result",
          "data": {
            "text/plain": [
              "           anime_id        rating       members\n",
              "count  12294.000000  12064.000000  1.229400e+04\n",
              "mean   14058.221653      6.473902  1.807134e+04\n",
              "std    11455.294701      1.026746  5.482068e+04\n",
              "min        1.000000      1.670000  5.000000e+00\n",
              "25%     3484.250000      5.880000  2.250000e+02\n",
              "50%    10260.500000      6.570000  1.550000e+03\n",
              "75%    24794.500000      7.180000  9.437000e+03\n",
              "max    34527.000000     10.000000  1.013917e+06"
            ],
            "text/html": [
              "\n",
              "  <div id=\"df-ff821933-cacf-4cb5-874e-4588e3b76777\">\n",
              "    <div class=\"colab-df-container\">\n",
              "      <div>\n",
              "<style scoped>\n",
              "    .dataframe tbody tr th:only-of-type {\n",
              "        vertical-align: middle;\n",
              "    }\n",
              "\n",
              "    .dataframe tbody tr th {\n",
              "        vertical-align: top;\n",
              "    }\n",
              "\n",
              "    .dataframe thead th {\n",
              "        text-align: right;\n",
              "    }\n",
              "</style>\n",
              "<table border=\"1\" class=\"dataframe\">\n",
              "  <thead>\n",
              "    <tr style=\"text-align: right;\">\n",
              "      <th></th>\n",
              "      <th>anime_id</th>\n",
              "      <th>rating</th>\n",
              "      <th>members</th>\n",
              "    </tr>\n",
              "  </thead>\n",
              "  <tbody>\n",
              "    <tr>\n",
              "      <th>count</th>\n",
              "      <td>12294.000000</td>\n",
              "      <td>12064.000000</td>\n",
              "      <td>1.229400e+04</td>\n",
              "    </tr>\n",
              "    <tr>\n",
              "      <th>mean</th>\n",
              "      <td>14058.221653</td>\n",
              "      <td>6.473902</td>\n",
              "      <td>1.807134e+04</td>\n",
              "    </tr>\n",
              "    <tr>\n",
              "      <th>std</th>\n",
              "      <td>11455.294701</td>\n",
              "      <td>1.026746</td>\n",
              "      <td>5.482068e+04</td>\n",
              "    </tr>\n",
              "    <tr>\n",
              "      <th>min</th>\n",
              "      <td>1.000000</td>\n",
              "      <td>1.670000</td>\n",
              "      <td>5.000000e+00</td>\n",
              "    </tr>\n",
              "    <tr>\n",
              "      <th>25%</th>\n",
              "      <td>3484.250000</td>\n",
              "      <td>5.880000</td>\n",
              "      <td>2.250000e+02</td>\n",
              "    </tr>\n",
              "    <tr>\n",
              "      <th>50%</th>\n",
              "      <td>10260.500000</td>\n",
              "      <td>6.570000</td>\n",
              "      <td>1.550000e+03</td>\n",
              "    </tr>\n",
              "    <tr>\n",
              "      <th>75%</th>\n",
              "      <td>24794.500000</td>\n",
              "      <td>7.180000</td>\n",
              "      <td>9.437000e+03</td>\n",
              "    </tr>\n",
              "    <tr>\n",
              "      <th>max</th>\n",
              "      <td>34527.000000</td>\n",
              "      <td>10.000000</td>\n",
              "      <td>1.013917e+06</td>\n",
              "    </tr>\n",
              "  </tbody>\n",
              "</table>\n",
              "</div>\n",
              "      <button class=\"colab-df-convert\" onclick=\"convertToInteractive('df-ff821933-cacf-4cb5-874e-4588e3b76777')\"\n",
              "              title=\"Convert this dataframe to an interactive table.\"\n",
              "              style=\"display:none;\">\n",
              "        \n",
              "  <svg xmlns=\"http://www.w3.org/2000/svg\" height=\"24px\"viewBox=\"0 0 24 24\"\n",
              "       width=\"24px\">\n",
              "    <path d=\"M0 0h24v24H0V0z\" fill=\"none\"/>\n",
              "    <path d=\"M18.56 5.44l.94 2.06.94-2.06 2.06-.94-2.06-.94-.94-2.06-.94 2.06-2.06.94zm-11 1L8.5 8.5l.94-2.06 2.06-.94-2.06-.94L8.5 2.5l-.94 2.06-2.06.94zm10 10l.94 2.06.94-2.06 2.06-.94-2.06-.94-.94-2.06-.94 2.06-2.06.94z\"/><path d=\"M17.41 7.96l-1.37-1.37c-.4-.4-.92-.59-1.43-.59-.52 0-1.04.2-1.43.59L10.3 9.45l-7.72 7.72c-.78.78-.78 2.05 0 2.83L4 21.41c.39.39.9.59 1.41.59.51 0 1.02-.2 1.41-.59l7.78-7.78 2.81-2.81c.8-.78.8-2.07 0-2.86zM5.41 20L4 18.59l7.72-7.72 1.47 1.35L5.41 20z\"/>\n",
              "  </svg>\n",
              "      </button>\n",
              "      \n",
              "  <style>\n",
              "    .colab-df-container {\n",
              "      display:flex;\n",
              "      flex-wrap:wrap;\n",
              "      gap: 12px;\n",
              "    }\n",
              "\n",
              "    .colab-df-convert {\n",
              "      background-color: #E8F0FE;\n",
              "      border: none;\n",
              "      border-radius: 50%;\n",
              "      cursor: pointer;\n",
              "      display: none;\n",
              "      fill: #1967D2;\n",
              "      height: 32px;\n",
              "      padding: 0 0 0 0;\n",
              "      width: 32px;\n",
              "    }\n",
              "\n",
              "    .colab-df-convert:hover {\n",
              "      background-color: #E2EBFA;\n",
              "      box-shadow: 0px 1px 2px rgba(60, 64, 67, 0.3), 0px 1px 3px 1px rgba(60, 64, 67, 0.15);\n",
              "      fill: #174EA6;\n",
              "    }\n",
              "\n",
              "    [theme=dark] .colab-df-convert {\n",
              "      background-color: #3B4455;\n",
              "      fill: #D2E3FC;\n",
              "    }\n",
              "\n",
              "    [theme=dark] .colab-df-convert:hover {\n",
              "      background-color: #434B5C;\n",
              "      box-shadow: 0px 1px 3px 1px rgba(0, 0, 0, 0.15);\n",
              "      filter: drop-shadow(0px 1px 2px rgba(0, 0, 0, 0.3));\n",
              "      fill: #FFFFFF;\n",
              "    }\n",
              "  </style>\n",
              "\n",
              "      <script>\n",
              "        const buttonEl =\n",
              "          document.querySelector('#df-ff821933-cacf-4cb5-874e-4588e3b76777 button.colab-df-convert');\n",
              "        buttonEl.style.display =\n",
              "          google.colab.kernel.accessAllowed ? 'block' : 'none';\n",
              "\n",
              "        async function convertToInteractive(key) {\n",
              "          const element = document.querySelector('#df-ff821933-cacf-4cb5-874e-4588e3b76777');\n",
              "          const dataTable =\n",
              "            await google.colab.kernel.invokeFunction('convertToInteractive',\n",
              "                                                     [key], {});\n",
              "          if (!dataTable) return;\n",
              "\n",
              "          const docLinkHtml = 'Like what you see? Visit the ' +\n",
              "            '<a target=\"_blank\" href=https://colab.research.google.com/notebooks/data_table.ipynb>data table notebook</a>'\n",
              "            + ' to learn more about interactive tables.';\n",
              "          element.innerHTML = '';\n",
              "          dataTable['output_type'] = 'display_data';\n",
              "          await google.colab.output.renderOutput(dataTable, element);\n",
              "          const docLink = document.createElement('div');\n",
              "          docLink.innerHTML = docLinkHtml;\n",
              "          element.appendChild(docLink);\n",
              "        }\n",
              "      </script>\n",
              "    </div>\n",
              "  </div>\n",
              "  "
            ]
          },
          "metadata": {},
          "execution_count": 13
        }
      ]
    },
    {
      "cell_type": "markdown",
      "source": [
        "##CREATING TFIDF MATRIX##"
      ],
      "metadata": {
        "id": "voEh2YlidnOs"
      }
    },
    {
      "cell_type": "code",
      "source": [
        "# So, here we are preparing the Tfidf matrix by fitting and transforming\n",
        "tfidf_matrix = tfidf.fit_transform(anime.genre)   # Transforming a count matrix to a normalized tf or tf-idf representation\n",
        "tfidf_matrix.shape # creating like dummy variables"
      ],
      "metadata": {
        "colab": {
          "base_uri": "https://localhost:8080/"
        },
        "id": "dWi6bV1OiK8x",
        "outputId": "6a51abd5-2bce-42eb-f3cf-0806d00221e0"
      },
      "execution_count": 14,
      "outputs": [
        {
          "output_type": "execute_result",
          "data": {
            "text/plain": [
              "(12294, 47)"
            ]
          },
          "metadata": {},
          "execution_count": 14
        }
      ]
    },
    {
      "cell_type": "markdown",
      "source": [
        "We need to find what is relation between two genres and how they are closely related,\n",
        "We hav econcept of cosine distance,\n",
        "as the cosine90 = 0 means these two vectors are at 90 degress and they are never going to meet mrans they dont have similarities.\n",
        "as Cosine0 = 1, so we can say that,\n",
        "both the vectors are in one direction and similer. So this is how we can compare two generes and movies.\n",
        "\n",
        "\n",
        "1. So, from the above matrix we need to find the similarity score.\n",
        "2. There are several metrics for this such as the euclidean, \n",
        "the Pearson and the cosine similarity scores\n",
        "\n",
        "3. A numeric quantity to represent the similarity between 2 movies \n",
        "4. Cosine similarity - metric is independent of magnitude and easy to calculate \n",
        "5. cosine(x,y)= (x.y⊺)/(||x||.||y||)"
      ],
      "metadata": {
        "id": "MTT6ATvReRbq"
      }
    },
    {
      "cell_type": "markdown",
      "source": [
        "##Calculating the Dot product using linear_kernel()##"
      ],
      "metadata": {
        "id": "9RRSFfW-fUsk"
      }
    },
    {
      "cell_type": "markdown",
      "source": [
        "So, now with help of linear_kernel() dot product, we will get for every one genere to another genre, so ther will be 12294 X 12294 values.\n",
        "It becomes more, difficult so we will make matrix of it."
      ],
      "metadata": {
        "id": "L332CSAGfkLh"
      }
    },
    {
      "cell_type": "code",
      "source": [
        "from sklearn.metrics.pairwise import linear_kernel"
      ],
      "metadata": {
        "id": "x1Q1yFyBkltC"
      },
      "execution_count": 15,
      "outputs": []
    },
    {
      "cell_type": "code",
      "source": [
        "#Now we are computing the cosine similarity on Tfidf matrix\n",
        "cosine_sim_matrix = linear_kernel(tfidf_matrix, tfidf_matrix)\n",
        "# So, above crteated matrix is fitted in the cosine Similarity matrix"
      ],
      "metadata": {
        "id": "JdS97nTVkoMd"
      },
      "execution_count": 16,
      "outputs": []
    },
    {
      "cell_type": "markdown",
      "source": [
        "So, above cosine mtarix formation is done on basis of the 47 attributes that are genres."
      ],
      "metadata": {
        "id": "X8IgoK4nhTl6"
      }
    },
    {
      "cell_type": "code",
      "source": [
        "cosine_sim_matrix # the value more close to 1 means they are similer and close to 0 means they are not\n",
        "                    # similer."
      ],
      "metadata": {
        "colab": {
          "base_uri": "https://localhost:8080/"
        },
        "id": "KIjZopwghg1e",
        "outputId": "f04d45c0-bf16-463a-ce70-8fb776b1c377"
      },
      "execution_count": 17,
      "outputs": [
        {
          "output_type": "execute_result",
          "data": {
            "text/plain": [
              "array([[1.        , 0.14784981, 0.        , ..., 0.        , 0.        ,\n",
              "        0.        ],\n",
              "       [0.14784981, 1.        , 0.1786367 , ..., 0.        , 0.        ,\n",
              "        0.        ],\n",
              "       [0.        , 0.1786367 , 1.        , ..., 0.        , 0.        ,\n",
              "        0.        ],\n",
              "       ...,\n",
              "       [0.        , 0.        , 0.        , ..., 1.        , 1.        ,\n",
              "        1.        ],\n",
              "       [0.        , 0.        , 0.        , ..., 1.        , 1.        ,\n",
              "        1.        ],\n",
              "       [0.        , 0.        , 0.        , ..., 1.        , 1.        ,\n",
              "        1.        ]])"
            ]
          },
          "metadata": {},
          "execution_count": 17
        }
      ]
    },
    {
      "cell_type": "code",
      "source": [
        "cosine_sim_matrix.shape #Matrix is created "
      ],
      "metadata": {
        "colab": {
          "base_uri": "https://localhost:8080/"
        },
        "id": "iYHPsOQ_hkpc",
        "outputId": "f5d839d5-bda2-42e8-9075-82d4df32002b"
      },
      "execution_count": 18,
      "outputs": [
        {
          "output_type": "execute_result",
          "data": {
            "text/plain": [
              "(12294, 12294)"
            ]
          },
          "metadata": {},
          "execution_count": 18
        }
      ]
    },
    {
      "cell_type": "markdown",
      "source": [
        "##Creating the anime index##"
      ],
      "metadata": {
        "id": "-R5c2iYQiA6Q"
      }
    },
    {
      "cell_type": "markdown",
      "source": [
        "So,  now we are creating index for the movie names, because after these ther will be like a index page for a perticular movie so we can access it fast"
      ],
      "metadata": {
        "id": "kTw2osfkiLkU"
      }
    },
    {
      "cell_type": "code",
      "source": [
        "# Now we are creating a mapping of anime name to index number \n",
        "anime_index = pd.Series(anime.index, index = anime['name']).drop_duplicates()"
      ],
      "metadata": {
        "id": "v1UjIrvnlV4-"
      },
      "execution_count": 19,
      "outputs": []
    },
    {
      "cell_type": "code",
      "source": [
        "anime_index"
      ],
      "metadata": {
        "colab": {
          "base_uri": "https://localhost:8080/"
        },
        "id": "Tcs4JYt-h-5x",
        "outputId": "c75af2ce-8c9f-41e9-cfa0-7966fed9b5ca"
      },
      "execution_count": 20,
      "outputs": [
        {
          "output_type": "execute_result",
          "data": {
            "text/plain": [
              "name\n",
              "Toy Story (1995)                                          0\n",
              "Jumanji (1995)                                            1\n",
              "Grumpier Old Men (1995)                                   2\n",
              "Waiting to Exhale (1995)                                  3\n",
              "Father of the Bride Part II (1995)                        4\n",
              "                                                      ...  \n",
              "Toushindai My Lover: Minami tai Mecha-Minami          12289\n",
              "Under World                                           12290\n",
              "Violence Gekiga David no Hoshi                        12291\n",
              "Violence Gekiga Shin David no Hoshi: Inma Densetsu    12292\n",
              "Yasuji no Pornorama: Yacchimae!!                      12293\n",
              "Length: 12294, dtype: int64"
            ]
          },
          "metadata": {},
          "execution_count": 20
        }
      ]
    },
    {
      "cell_type": "code",
      "source": [
        "# I'm getting the index number of any movie.\n",
        "anime_id1 = anime_index[\"Assassins (1995)\"]\n",
        "anime_id1"
      ],
      "metadata": {
        "colab": {
          "base_uri": "https://localhost:8080/"
        },
        "id": "aMnHyPf5laBW",
        "outputId": "19fddd90-fb55-4028-e785-7a0267977811"
      },
      "execution_count": 21,
      "outputs": [
        {
          "output_type": "execute_result",
          "data": {
            "text/plain": [
              "22"
            ]
          },
          "metadata": {},
          "execution_count": 21
        }
      ]
    },
    {
      "cell_type": "code",
      "source": [
        "anime_id2 = anime_index[\"Under World\"]\n",
        "anime_id2"
      ],
      "metadata": {
        "colab": {
          "base_uri": "https://localhost:8080/"
        },
        "id": "cj3SHNMninsn",
        "outputId": "c5268955-5462-456f-da44-ec71bc190eb1"
      },
      "execution_count": 22,
      "outputs": [
        {
          "output_type": "execute_result",
          "data": {
            "text/plain": [
              "12290"
            ]
          },
          "metadata": {},
          "execution_count": 22
        }
      ]
    },
    {
      "cell_type": "markdown",
      "source": [
        "##Creating function to get similer movies for a given movie##"
      ],
      "metadata": {
        "id": "yGBnrjiPjcoR"
      }
    },
    {
      "cell_type": "code",
      "source": [
        "def get_recommendations(Name, topN):  # Two inputs--> name of the movie and number of the recomendations.  \n",
        " \n",
        "    anime_id = anime_index[Name] # Now, we will get the index for a movie name\n",
        "                                 # And assigned to index_id.\n",
        "    \n",
        "\n",
        "    cosine_scores = list(enumerate(cosine_sim_matrix[anime_id]))\n",
        "    # Now, we created a cosine similarity matrix of 12294x12294,\n",
        "    # from there, we will pass anime_id to it and for that specific movie \n",
        "    # we will get 12294 values that are cosine matrix values with other movies.\n",
        "    # and this is assigned to cosine_scores.\n",
        "    \n",
        "    # Now, these cosine_scores are sorted in descending order with tempory lambda function\n",
        "    # And then reassigned to cosine_scores.\n",
        "    cosine_scores = sorted(cosine_scores, key=lambda x:x[1], reverse = True)\n",
        "    \n",
        "    # Now these scores are trimmed with how many recomendations you want.\n",
        "    cosine_scores_N = cosine_scores[0: topN+1] # topN+1 because my algorithm is not able to find that it has \n",
        "    # calculate 12294 x 12294 - (12294) because these 12294 extra values are with self comparison so, I have to write\n",
        "    # topN + 1.\n",
        "    \n",
        "    # So, now for those cosine matric values we are getting there index numbers.\n",
        "    anime_idx  =  [i[0] for i in cosine_scores_N]\n",
        "    anime_scores =  [i[1] for i in cosine_scores_N]\n",
        "    \n",
        "    # Similar movies and scores\n",
        "    anime_similar_show = pd.DataFrame(columns=[\"name\", \"Score\"]) # So, creating the dataFrame of name and score\n",
        "\n",
        "    anime_similar_show[\"name\"] = anime.loc[anime_idx, \"name\"] # In that dataframe, name of that movie is assigned.\n",
        "    anime_similar_show[\"Score\"] = anime_scores #Same for the score.\n",
        "    anime_similar_show.reset_index(inplace = True)  # Restting the indexes\n",
        "    print (anime_similar_show) # That dataframe will be printed.\n",
        "    "
      ],
      "metadata": {
        "id": "jIMon2FalfYd"
      },
      "execution_count": 23,
      "outputs": []
    },
    {
      "cell_type": "markdown",
      "source": [
        "##Checking##"
      ],
      "metadata": {
        "id": "NTMRuHaXm_HU"
      }
    },
    {
      "cell_type": "code",
      "source": [
        "# Firstly, we have to get the index id of the movie.\n",
        "anime_index[\"Bad Boys (1995)\"]"
      ],
      "metadata": {
        "colab": {
          "base_uri": "https://localhost:8080/"
        },
        "id": "-u3fqZPhnpAQ",
        "outputId": "4e63c1fa-bf6a-4fe4-b66f-a3e398705d7d"
      },
      "execution_count": 24,
      "outputs": [
        {
          "output_type": "execute_result",
          "data": {
            "text/plain": [
              "118"
            ]
          },
          "metadata": {},
          "execution_count": 24
        }
      ]
    },
    {
      "cell_type": "markdown",
      "source": [
        "##Passing the movie name to the function##"
      ],
      "metadata": {
        "id": "St9azTOdnRXu"
      }
    },
    {
      "cell_type": "code",
      "source": [
        "get_recommendations(\"Father of the Bride Part II (1995)\", topN = 10)"
      ],
      "metadata": {
        "colab": {
          "base_uri": "https://localhost:8080/"
        },
        "id": "DpKibgG3oI-X",
        "outputId": "5e5e6772-6c9d-4759-bf00-94a6a6bf72da"
      },
      "execution_count": 25,
      "outputs": [
        {
          "output_type": "stream",
          "name": "stdout",
          "text": [
            "    index                                name     Score\n",
            "0       2             Grumpier Old Men (1995)  1.000000\n",
            "1       4  Father of the Bride Part II (1995)  1.000000\n",
            "2       8                 Sudden Death (1995)  1.000000\n",
            "3       9                    GoldenEye (1995)  1.000000\n",
            "4      12                        Balto (1995)  1.000000\n",
            "5      63                    Fair Game (1995)  1.000000\n",
            "6      65              Misérables, Les (1995)  1.000000\n",
            "7     216                         I.Q. (1994)  1.000000\n",
            "8     306        Bullets Over Broadway (1994)  1.000000\n",
            "9   10896                      Gintama (2017)  1.000000\n",
            "10    380               Color of Night (1994)  0.940044\n"
          ]
        }
      ]
    },
    {
      "cell_type": "code",
      "source": [],
      "metadata": {
        "id": "BKOVJcdToH4E"
      },
      "execution_count": 25,
      "outputs": []
    }
  ]
}