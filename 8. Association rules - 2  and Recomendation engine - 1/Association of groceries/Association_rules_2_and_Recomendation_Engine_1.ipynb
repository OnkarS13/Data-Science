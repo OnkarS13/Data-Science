{
  "nbformat": 4,
  "nbformat_minor": 0,
  "metadata": {
    "colab": {
      "name": "Association rules-2 and Recomendation Engine-1.ipynb",
      "provenance": [],
      "collapsed_sections": []
    },
    "kernelspec": {
      "name": "python3",
      "display_name": "Python 3"
    },
    "language_info": {
      "name": "python"
    }
  },
  "cells": [
    {
      "cell_type": "code",
      "execution_count": null,
      "metadata": {
        "colab": {
          "base_uri": "https://localhost:8080/",
          "height": 317
        },
        "id": "aCQUdvjUCr7v",
        "outputId": "742a789d-56f9-42ef-8495-e51546269716"
      },
      "outputs": [
        {
          "output_type": "stream",
          "name": "stderr",
          "text": [
            "/usr/local/lib/python3.7/dist-packages/ipykernel_launcher.py:39: MatplotlibDeprecationWarning: Using a string of single character colors as a color sequence is deprecated. Use an explicit list instead.\n"
          ]
        },
        {
          "output_type": "display_data",
          "data": {
            "text/plain": [
              "<Figure size 432x288 with 1 Axes>"
            ],
            "image/png": "[encoded data removed]"
          },
          "metadata": {
            "needs_background": "light"
          }
        }
      ],
      "source": [
        "# Implementing Apriori algorithm from mlxtend\n",
        "\n",
        "# pip install mlxtend\n",
        "# or\n",
        "# conda install mlxtend\n",
        "\n",
        "import pandas as pd\n",
        "from mlxtend.frequent_patterns import apriori, association_rules\n",
        "\n",
        "groceries = []\n",
        "with open(\"groceries.csv\") as f:\n",
        "    groceries = f.read()\n",
        "\n",
        "# splitting the data into separate transactions using separator as \"\\n\"\n",
        "groceries = groceries.split(\"\\n\")\n",
        "\n",
        "groceries_list = []\n",
        "for i in groceries:\n",
        "    groceries_list.append(i.split(\",\"))\n",
        "\n",
        "\n",
        "### Elemantary Analysis ###\n",
        "all_groceries_list = [i for item in groceries_list for i in item]\n",
        "\n",
        "from collections import Counter\n",
        "\n",
        "item_frequencies = Counter(all_groceries_list)\n",
        "\n",
        "# after sorting\n",
        "item_frequencies = sorted(item_frequencies.items(), key = lambda x: x[1])\n",
        "\n",
        "# Storing frequencies and items in separate variables \n",
        "frequencies = list(reversed([i[1] for i in item_frequencies]))\n",
        "items = list(reversed([i[0] for i in item_frequencies]))\n",
        "\n",
        "# barplot of top 10 \n",
        "import matplotlib.pyplot as plt\n",
        "\n",
        "plt.bar(height = frequencies[0:11], x = list(range(0, 11)), color = 'rgbkymc')\n",
        "plt.bar(height = frequencies[0:11], x = list(range(0, 11)), color = ['red','green','black','yellow','blue','pink','violet'])\n",
        "\n",
        "plt.xticks(list(range(0, 11), ), items[0:11])\n",
        "plt.xlabel(\"items\")\n",
        "plt.ylabel(\"Count\")\n",
        "plt.show()\n",
        "##########\n",
        "\n",
        "\n",
        "# Creating Data Frame for the transactions data\n",
        "groceries_series = pd.DataFrame(pd.Series(groceries_list))\n",
        "groceries_series = groceries_series.iloc[:9835, :] # removing the last empty transaction\n",
        "\n",
        "groceries_series.columns = [\"transactions\"]\n",
        "\n",
        "# creating a dummy columns for the each item in each transactions ... Using column names as item name\n",
        "X = groceries_series['transactions'].str.join(sep = ',')\n",
        "X = groceries_series['transactions'].str.join(sep = '*').str.get_dummies(sep = '*')\n",
        "\n",
        "\n",
        "frequent_itemsets = apriori(X, min_support = 0.0075, max_len = 4, use_colnames = True)\n",
        "\n",
        "# Most Frequent item sets based on support \n",
        "frequent_itemsets.sort_values('support', ascending = False, inplace = True)\n",
        "\n",
        "# Association Rules\n",
        "rules = association_rules(frequent_itemsets, metric = \"lift\", min_threshold = 1)\n",
        "rules.head(20)\n",
        "rules.sort_values('lift', ascending = False).head(10)\n",
        "\n",
        "################################# Extra part ###################################\n",
        "# Handling Profusion of Rules (Duplication elimination)\n",
        "\n",
        "def to_list(i):\n",
        "    return (sorted(list(i)))\n",
        "\n",
        "ma_X = rules.antecedents.apply(to_list) + rules.consequents.apply(to_list)\n",
        "\n",
        "ma_X = ma_X.apply(sorted)\n",
        "\n",
        "rules_sets = list(ma_X)\n",
        "\n",
        "unique_rules_sets = [list(m) for m in set(tuple(i) for i in rules_sets)]\n",
        "\n",
        "index_rules = []\n",
        "\n",
        "for i in unique_rules_sets:\n",
        "    index_rules.append(rules_sets.index(i))\n",
        "\n",
        "# getting rules without any redudancy \n",
        "rules_no_redudancy = rules.iloc[index_rules, :]\n",
        "\n",
        "# Sorting them with respect to list and getting top 10 rules \n",
        "rules10 = rules_no_redudancy.sort_values('lift', ascending = False).head(10)\n"
      ]
    },
    {
      "cell_type": "code",
      "source": [
        "import pandas as pd\n",
        "from mlxtend.frequent_patterns import apriori, association_rules"
      ],
      "metadata": {
        "id": "NUueSKikDhNI"
      },
      "execution_count": null,
      "outputs": []
    },
    {
      "cell_type": "code",
      "source": [
        "roceries = []\n",
        "with open(\"groceries.csv\") as f:\n",
        "    groceries = f.read()"
      ],
      "metadata": {
        "id": "Vk09z0qrDklE"
      },
      "execution_count": null,
      "outputs": []
    },
    {
      "cell_type": "code",
      "source": [
        "# splitting the data into separate transactions using separator as \"\\n\"\n",
        "groceries = groceries.split(\"\\n\")"
      ],
      "metadata": {
        "id": "6SFgWlYyDlLL"
      },
      "execution_count": null,
      "outputs": []
    },
    {
      "cell_type": "code",
      "source": [
        "groceries_list = []\n",
        "for i in groceries:\n",
        "    groceries_list.append(i.split(\",\"))"
      ],
      "metadata": {
        "id": "w-fCi8VeDnjw"
      },
      "execution_count": null,
      "outputs": []
    },
    {
      "cell_type": "code",
      "source": [
        "groceries"
      ],
      "metadata": {
        "id": "g-NMuPvSGxJj"
      },
      "execution_count": null,
      "outputs": []
    },
    {
      "cell_type": "code",
      "source": [
        "groceries_list"
      ],
      "metadata": {
        "id": "VPGXPIL1GliE"
      },
      "execution_count": null,
      "outputs": []
    },
    {
      "cell_type": "code",
      "source": [
        "### Elemantary Analysis ###\n",
        "all_groceries_list = [i for item in groceries_list for i in item]"
      ],
      "metadata": {
        "id": "EM9Xkw-zDpgT"
      },
      "execution_count": null,
      "outputs": []
    },
    {
      "cell_type": "code",
      "source": [
        "all_groceries_list"
      ],
      "metadata": {
        "id": "jjl6NYxDHQwt"
      },
      "execution_count": null,
      "outputs": []
    },
    {
      "cell_type": "code",
      "source": [],
      "metadata": {
        "id": "GK72y45kHR8X"
      },
      "execution_count": null,
      "outputs": []
    },
    {
      "cell_type": "code",
      "source": [
        "from collections import Counter\n",
        "\n",
        "item_frequencies = Counter(all_groceries_list)"
      ],
      "metadata": {
        "id": "bNE_4FB5Dy8q"
      },
      "execution_count": null,
      "outputs": []
    },
    {
      "cell_type": "code",
      "source": [
        "# after sorting\n",
        "item_frequencies = sorted(item_frequencies.items(), key = lambda x: x[1])"
      ],
      "metadata": {
        "id": "EeWb8nqsD1Zu"
      },
      "execution_count": null,
      "outputs": []
    },
    {
      "cell_type": "code",
      "source": [
        "item_frequencies"
      ],
      "metadata": {
        "id": "F6PHuo2WHkn3"
      },
      "execution_count": null,
      "outputs": []
    },
    {
      "cell_type": "code",
      "source": [
        "# Storing frequencies and items in separate variables \n",
        "frequencies = list(reversed([i[1] for i in item_frequencies]))\n",
        "items = list(reversed([i[0] for i in item_frequencies]))"
      ],
      "metadata": {
        "id": "Ko2TZuL5D-WC"
      },
      "execution_count": null,
      "outputs": []
    },
    {
      "cell_type": "code",
      "source": [
        "# barplot of top 10 \n",
        "import matplotlib.pyplot as plt"
      ],
      "metadata": {
        "id": "79WlQBelD-06"
      },
      "execution_count": null,
      "outputs": []
    },
    {
      "cell_type": "code",
      "source": [
        "plt.bar(height = frequencies[0:11], x = list(range(0, 11)), color = 'rgbkymc')"
      ],
      "metadata": {
        "colab": {
          "base_uri": "https://localhost:8080/",
          "height": 339
        },
        "id": "QFNjFKpzEBvv",
        "outputId": "b318d559-2416-4c24-b690-2d1aea297833"
      },
      "execution_count": null,
      "outputs": [
        {
          "output_type": "stream",
          "name": "stderr",
          "text": [
            "/usr/local/lib/python3.7/dist-packages/ipykernel_launcher.py:1: MatplotlibDeprecationWarning: Using a string of single character colors as a color sequence is deprecated. Use an explicit list instead.\n",
            "  \"\"\"Entry point for launching an IPython kernel.\n"
          ]
        },
        {
          "output_type": "execute_result",
          "data": {
            "text/plain": [
              "<BarContainer object of 11 artists>"
            ]
          },
          "metadata": {},
          "execution_count": 11
        },
        {
          "output_type": "display_data",
          "data": {
            "text/plain": [
              "<Figure size 432x288 with 1 Axes>"
            ],
            "image/png": "[encoded data removed]"
          },
          "metadata": {
            "needs_background": "light"
          }
        }
      ]
    },
    {
      "cell_type": "code",
      "source": [
        "plt.bar(height = frequencies[0:11], x = list(range(0, 11)))"
      ],
      "metadata": {
        "colab": {
          "base_uri": "https://localhost:8080/",
          "height": 283
        },
        "id": "FqGIIsa_J1CJ",
        "outputId": "a4478229-f613-4c28-94ed-8ba1191950eb"
      },
      "execution_count": null,
      "outputs": [
        {
          "output_type": "execute_result",
          "data": {
            "text/plain": [
              "<BarContainer object of 11 artists>"
            ]
          },
          "metadata": {},
          "execution_count": 38
        },
        {
          "output_type": "display_data",
          "data": {
            "text/plain": [
              "<Figure size 432x288 with 1 Axes>"
            ],
            "image/png": "[encoded data removed]"
          },
          "metadata": {
            "needs_background": "light"
          }
        }
      ]
    },
    {
      "cell_type": "code",
      "source": [
        "plt.bar(height = frequencies[0:11], x = list(range(0, 11)), color = ['red','green','black','yellow','blue','pink','violet'])\n",
        "plt.xticks(list(range(0, 11), ), items[0:11])\n",
        "plt.xlabel(\"items\")\n",
        "plt.ylabel(\"Count\")\n",
        "plt.show()"
      ],
      "metadata": {
        "colab": {
          "base_uri": "https://localhost:8080/",
          "height": 279
        },
        "id": "CxrLJMrwEFWC",
        "outputId": "dc080784-231a-4ed9-e718-9a00f9c29b90"
      },
      "execution_count": null,
      "outputs": [
        {
          "output_type": "display_data",
          "data": {
            "text/plain": [
              "<Figure size 432x288 with 1 Axes>"
            ],
            "image/png": "[encoded data removed]"
          },
          "metadata": {
            "needs_background": "light"
          }
        }
      ]
    },
    {
      "cell_type": "code",
      "source": [
        "plt.xticks(list(range(0, 11), ), items[0:11])\n",
        "plt.xlabel(\"items\")\n",
        "plt.ylabel(\"Count\")\n",
        "plt.show()"
      ],
      "metadata": {
        "colab": {
          "base_uri": "https://localhost:8080/",
          "height": 283
        },
        "id": "u9OsDMvWEIZo",
        "outputId": "80811a56-ebea-4f87-9f70-95f3baea4c95"
      },
      "execution_count": null,
      "outputs": [
        {
          "output_type": "display_data",
          "data": {
            "text/plain": [
              "<Figure size 432x288 with 1 Axes>"
            ],
            "image/png": "[encoded data removed]"
          },
          "metadata": {
            "needs_background": "light"
          }
        }
      ]
    },
    {
      "cell_type": "code",
      "source": [
        "import matplotlib.pyplot as plt\n",
        "\n",
        "plt.bar(height = frequencies[0:11], x = list(range(0, 11)), color = 'rgbkymc')\n",
        "plt.bar(height = frequencies[0:11], x = list(range(0, 11)), color = ['red','green','black','yellow','blue','pink','violet'])\n",
        "\n",
        "plt.xticks(list(range(0, 11), ), items[0:11])\n",
        "plt.xlabel(\"items\")\n",
        "plt.ylabel(\"Count\")\n",
        "plt.show()\n",
        "##########"
      ],
      "metadata": {
        "colab": {
          "base_uri": "https://localhost:8080/",
          "height": 335
        },
        "id": "SKHgyM0tENwa",
        "outputId": "abb54ff9-f646-4649-e052-048994d30cc6"
      },
      "execution_count": null,
      "outputs": [
        {
          "output_type": "stream",
          "name": "stderr",
          "text": [
            "/usr/local/lib/python3.7/dist-packages/ipykernel_launcher.py:3: MatplotlibDeprecationWarning: Using a string of single character colors as a color sequence is deprecated. Use an explicit list instead.\n",
            "  This is separate from the ipykernel package so we can avoid doing imports until\n"
          ]
        },
        {
          "output_type": "display_data",
          "data": {
            "text/plain": [
              "<Figure size 432x288 with 1 Axes>"
            ],
            "image/png": "[encoded data removed]"
          },
          "metadata": {
            "needs_background": "light"
          }
        }
      ]
    },
    {
      "cell_type": "code",
      "source": [
        "# Creating Data Frame for the transactions data\n",
        "groceries_series = pd.DataFrame(pd.Series(groceries_list))\n",
        "groceries_series = groceries_series.iloc[:9835, :] # removing the last empty transaction\n",
        "\n",
        "groceries_series.columns = [\"transactions\"]\n"
      ],
      "metadata": {
        "id": "sybAfSL1ERy7"
      },
      "execution_count": null,
      "outputs": []
    },
    {
      "cell_type": "code",
      "source": [
        "# creating a dummy columns for the each item in each transactions ... Using column names as item name\n",
        "X = groceries_series['transactions'].str.join(sep = ',')\n",
        "X = groceries_series['transactions'].str.join(sep = '*').str.get_dummies(sep = '*')"
      ],
      "metadata": {
        "id": "1-TDypCyEVvP"
      },
      "execution_count": null,
      "outputs": []
    },
    {
      "cell_type": "code",
      "source": [
        "frequent_itemsets = apriori(X, min_support = 0.0075, max_len = 4, use_colnames = True)"
      ],
      "metadata": {
        "id": "O5jZLyRnEY2Y"
      },
      "execution_count": null,
      "outputs": []
    },
    {
      "cell_type": "code",
      "source": [
        "frequent_itemsets"
      ],
      "metadata": {
        "id": "xxdNBw5WL1kQ"
      },
      "execution_count": null,
      "outputs": []
    },
    {
      "cell_type": "code",
      "source": [
        "# Most Frequent item sets based on support \n",
        "frequent_itemsets.sort_values('support', ascending = False, inplace = True)"
      ],
      "metadata": {
        "id": "ffd4vGyPFX3U"
      },
      "execution_count": null,
      "outputs": []
    },
    {
      "cell_type": "code",
      "source": [
        "# Association Rules\n",
        "rules = association_rules(frequent_itemsets, metric = \"lift\", min_threshold = 1)\n",
        "rules.head(20)\n",
        "rules.sort_values('lift', ascending = False).head(10)"
      ],
      "metadata": {
        "colab": {
          "base_uri": "https://localhost:8080/",
          "height": 363
        },
        "id": "B7_sGAq0FzOD",
        "outputId": "7e3bd89c-fec5-49d2-cfcf-3fd3a1905169"
      },
      "execution_count": null,
      "outputs": [
        {
          "output_type": "execute_result",
          "data": {
            "text/plain": [
              "                             antecedents                         consequents  \\\n",
              "1173        (whole milk, tropical fruit)          (other vegetables, yogurt)   \n",
              "1172          (other vegetables, yogurt)        (whole milk, tropical fruit)   \n",
              "1093           (root vegetables, yogurt)      (whole milk, other vegetables)   \n",
              "1088      (whole milk, other vegetables)           (root vegetables, yogurt)   \n",
              "792                            (berries)                (whipped/sour cream)   \n",
              "793                 (whipped/sour cream)                           (berries)   \n",
              "1171  (tropical fruit, other vegetables)                (whole milk, yogurt)   \n",
              "1174                (whole milk, yogurt)  (tropical fruit, other vegetables)   \n",
              "1052                   (root vegetables)            (other vegetables, beef)   \n",
              "1049            (other vegetables, beef)                   (root vegetables)   \n",
              "\n",
              "      antecedent support  consequent support   support  confidence      lift  \\\n",
              "1173            0.042298            0.043416  0.007626    0.180288  4.152546   \n",
              "1172            0.043416            0.042298  0.007626    0.175644  4.152546   \n",
              "1093            0.025826            0.074835  0.007829    0.303150  4.050919   \n",
              "1088            0.074835            0.025826  0.007829    0.104620  4.050919   \n",
              "792             0.033249            0.071683  0.009049    0.272171  3.796886   \n",
              "793             0.071683            0.033249  0.009049    0.126241  3.796886   \n",
              "1171            0.035892            0.056024  0.007626    0.212465  3.792358   \n",
              "1174            0.056024            0.035892  0.007626    0.136116  3.792358   \n",
              "1052            0.108998            0.019725  0.007931    0.072761  3.688692   \n",
              "1049            0.019725            0.108998  0.007931    0.402062  3.688692   \n",
              "\n",
              "      leverage  conviction  \n",
              "1173  0.005789    1.166976  \n",
              "1172  0.005789    1.161758  \n",
              "1093  0.005896    1.327638  \n",
              "1088  0.005896    1.088000  \n",
              "792   0.006666    1.275461  \n",
              "793   0.006666    1.106428  \n",
              "1171  0.005615    1.198645  \n",
              "1174  0.005615    1.116016  \n",
              "1052  0.005781    1.057197  \n",
              "1049  0.005781    1.490123  "
            ],
            "text/html": [
              "\n",
              "  <div id=\"df-db731245-151a-4786-aedd-06f4a7bab0af\">\n",
              "    <div class=\"colab-df-container\">\n",
              "      <div>\n",
              "<style scoped>\n",
              "    .dataframe tbody tr th:only-of-type {\n",
              "        vertical-align: middle;\n",
              "    }\n",
              "\n",
              "    .dataframe tbody tr th {\n",
              "        vertical-align: top;\n",
              "    }\n",
              "\n",
              "    .dataframe thead th {\n",
              "        text-align: right;\n",
              "    }\n",
              "</style>\n",
              "<table border=\"1\" class=\"dataframe\">\n",
              "  <thead>\n",
              "    <tr style=\"text-align: right;\">\n",
              "      <th></th>\n",
              "      <th>antecedents</th>\n",
              "      <th>consequents</th>\n",
              "      <th>antecedent support</th>\n",
              "      <th>consequent support</th>\n",
              "      <th>support</th>\n",
              "      <th>confidence</th>\n",
              "      <th>lift</th>\n",
              "      <th>leverage</th>\n",
              "      <th>conviction</th>\n",
              "    </tr>\n",
              "  </thead>\n",
              "  <tbody>\n",
              "    <tr>\n",
              "      <th>1173</th>\n",
              "      <td>(whole milk, tropical fruit)</td>\n",
              "      <td>(other vegetables, yogurt)</td>\n",
              "      <td>0.042298</td>\n",
              "      <td>0.043416</td>\n",
              "      <td>0.007626</td>\n",
              "      <td>0.180288</td>\n",
              "      <td>4.152546</td>\n",
              "      <td>0.005789</td>\n",
              "      <td>1.166976</td>\n",
              "    </tr>\n",
              "    <tr>\n",
              "      <th>1172</th>\n",
              "      <td>(other vegetables, yogurt)</td>\n",
              "      <td>(whole milk, tropical fruit)</td>\n",
              "      <td>0.043416</td>\n",
              "      <td>0.042298</td>\n",
              "      <td>0.007626</td>\n",
              "      <td>0.175644</td>\n",
              "      <td>4.152546</td>\n",
              "      <td>0.005789</td>\n",
              "      <td>1.161758</td>\n",
              "    </tr>\n",
              "    <tr>\n",
              "      <th>1093</th>\n",
              "      <td>(root vegetables, yogurt)</td>\n",
              "      <td>(whole milk, other vegetables)</td>\n",
              "      <td>0.025826</td>\n",
              "      <td>0.074835</td>\n",
              "      <td>0.007829</td>\n",
              "      <td>0.303150</td>\n",
              "      <td>4.050919</td>\n",
              "      <td>0.005896</td>\n",
              "      <td>1.327638</td>\n",
              "    </tr>\n",
              "    <tr>\n",
              "      <th>1088</th>\n",
              "      <td>(whole milk, other vegetables)</td>\n",
              "      <td>(root vegetables, yogurt)</td>\n",
              "      <td>0.074835</td>\n",
              "      <td>0.025826</td>\n",
              "      <td>0.007829</td>\n",
              "      <td>0.104620</td>\n",
              "      <td>4.050919</td>\n",
              "      <td>0.005896</td>\n",
              "      <td>1.088000</td>\n",
              "    </tr>\n",
              "    <tr>\n",
              "      <th>792</th>\n",
              "      <td>(berries)</td>\n",
              "      <td>(whipped/sour cream)</td>\n",
              "      <td>0.033249</td>\n",
              "      <td>0.071683</td>\n",
              "      <td>0.009049</td>\n",
              "      <td>0.272171</td>\n",
              "      <td>3.796886</td>\n",
              "      <td>0.006666</td>\n",
              "      <td>1.275461</td>\n",
              "    </tr>\n",
              "    <tr>\n",
              "      <th>793</th>\n",
              "      <td>(whipped/sour cream)</td>\n",
              "      <td>(berries)</td>\n",
              "      <td>0.071683</td>\n",
              "      <td>0.033249</td>\n",
              "      <td>0.009049</td>\n",
              "      <td>0.126241</td>\n",
              "      <td>3.796886</td>\n",
              "      <td>0.006666</td>\n",
              "      <td>1.106428</td>\n",
              "    </tr>\n",
              "    <tr>\n",
              "      <th>1171</th>\n",
              "      <td>(tropical fruit, other vegetables)</td>\n",
              "      <td>(whole milk, yogurt)</td>\n",
              "      <td>0.035892</td>\n",
              "      <td>0.056024</td>\n",
              "      <td>0.007626</td>\n",
              "      <td>0.212465</td>\n",
              "      <td>3.792358</td>\n",
              "      <td>0.005615</td>\n",
              "      <td>1.198645</td>\n",
              "    </tr>\n",
              "    <tr>\n",
              "      <th>1174</th>\n",
              "      <td>(whole milk, yogurt)</td>\n",
              "      <td>(tropical fruit, other vegetables)</td>\n",
              "      <td>0.056024</td>\n",
              "      <td>0.035892</td>\n",
              "      <td>0.007626</td>\n",
              "      <td>0.136116</td>\n",
              "      <td>3.792358</td>\n",
              "      <td>0.005615</td>\n",
              "      <td>1.116016</td>\n",
              "    </tr>\n",
              "    <tr>\n",
              "      <th>1052</th>\n",
              "      <td>(root vegetables)</td>\n",
              "      <td>(other vegetables, beef)</td>\n",
              "      <td>0.108998</td>\n",
              "      <td>0.019725</td>\n",
              "      <td>0.007931</td>\n",
              "      <td>0.072761</td>\n",
              "      <td>3.688692</td>\n",
              "      <td>0.005781</td>\n",
              "      <td>1.057197</td>\n",
              "    </tr>\n",
              "    <tr>\n",
              "      <th>1049</th>\n",
              "      <td>(other vegetables, beef)</td>\n",
              "      <td>(root vegetables)</td>\n",
              "      <td>0.019725</td>\n",
              "      <td>0.108998</td>\n",
              "      <td>0.007931</td>\n",
              "      <td>0.402062</td>\n",
              "      <td>3.688692</td>\n",
              "      <td>0.005781</td>\n",
              "      <td>1.490123</td>\n",
              "    </tr>\n",
              "  </tbody>\n",
              "</table>\n",
              "</div>\n",
              "      <button class=\"colab-df-convert\" onclick=\"convertToInteractive('df-db731245-151a-4786-aedd-06f4a7bab0af')\"\n",
              "              title=\"Convert this dataframe to an interactive table.\"\n",
              "              style=\"display:none;\">\n",
              "        \n",
              "  <svg xmlns=\"http://www.w3.org/2000/svg\" height=\"24px\"viewBox=\"0 0 24 24\"\n",
              "       width=\"24px\">\n",
              "    <path d=\"M0 0h24v24H0V0z\" fill=\"none\"/>\n",
              "    <path d=\"M18.56 5.44l.94 2.06.94-2.06 2.06-.94-2.06-.94-.94-2.06-.94 2.06-2.06.94zm-11 1L8.5 8.5l.94-2.06 2.06-.94-2.06-.94L8.5 2.5l-.94 2.06-2.06.94zm10 10l.94 2.06.94-2.06 2.06-.94-2.06-.94-.94-2.06-.94 2.06-2.06.94z\"/><path d=\"M17.41 7.96l-1.37-1.37c-.4-.4-.92-.59-1.43-.59-.52 0-1.04.2-1.43.59L10.3 9.45l-7.72 7.72c-.78.78-.78 2.05 0 2.83L4 21.41c.39.39.9.59 1.41.59.51 0 1.02-.2 1.41-.59l7.78-7.78 2.81-2.81c.8-.78.8-2.07 0-2.86zM5.41 20L4 18.59l7.72-7.72 1.47 1.35L5.41 20z\"/>\n",
              "  </svg>\n",
              "      </button>\n",
              "      \n",
              "  <style>\n",
              "    .colab-df-container {\n",
              "      display:flex;\n",
              "      flex-wrap:wrap;\n",
              "      gap: 12px;\n",
              "    }\n",
              "\n",
              "    .colab-df-convert {\n",
              "      background-color: #E8F0FE;\n",
              "      border: none;\n",
              "      border-radius: 50%;\n",
              "      cursor: pointer;\n",
              "      display: none;\n",
              "      fill: #1967D2;\n",
              "      height: 32px;\n",
              "      padding: 0 0 0 0;\n",
              "      width: 32px;\n",
              "    }\n",
              "\n",
              "    .colab-df-convert:hover {\n",
              "      background-color: #E2EBFA;\n",
              "      box-shadow: 0px 1px 2px rgba(60, 64, 67, 0.3), 0px 1px 3px 1px rgba(60, 64, 67, 0.15);\n",
              "      fill: #174EA6;\n",
              "    }\n",
              "\n",
              "    [theme=dark] .colab-df-convert {\n",
              "      background-color: #3B4455;\n",
              "      fill: #D2E3FC;\n",
              "    }\n",
              "\n",
              "    [theme=dark] .colab-df-convert:hover {\n",
              "      background-color: #434B5C;\n",
              "      box-shadow: 0px 1px 3px 1px rgba(0, 0, 0, 0.15);\n",
              "      filter: drop-shadow(0px 1px 2px rgba(0, 0, 0, 0.3));\n",
              "      fill: #FFFFFF;\n",
              "    }\n",
              "  </style>\n",
              "\n",
              "      <script>\n",
              "        const buttonEl =\n",
              "          document.querySelector('#df-db731245-151a-4786-aedd-06f4a7bab0af button.colab-df-convert');\n",
              "        buttonEl.style.display =\n",
              "          google.colab.kernel.accessAllowed ? 'block' : 'none';\n",
              "\n",
              "        async function convertToInteractive(key) {\n",
              "          const element = document.querySelector('#df-db731245-151a-4786-aedd-06f4a7bab0af');\n",
              "          const dataTable =\n",
              "            await google.colab.kernel.invokeFunction('convertToInteractive',\n",
              "                                                     [key], {});\n",
              "          if (!dataTable) return;\n",
              "\n",
              "          const docLinkHtml = 'Like what you see? Visit the ' +\n",
              "            '<a target=\"_blank\" href=https://colab.research.google.com/notebooks/data_table.ipynb>data table notebook</a>'\n",
              "            + ' to learn more about interactive tables.';\n",
              "          element.innerHTML = '';\n",
              "          dataTable['output_type'] = 'display_data';\n",
              "          await google.colab.output.renderOutput(dataTable, element);\n",
              "          const docLink = document.createElement('div');\n",
              "          docLink.innerHTML = docLinkHtml;\n",
              "          element.appendChild(docLink);\n",
              "        }\n",
              "      </script>\n",
              "    </div>\n",
              "  </div>\n",
              "  "
            ]
          },
          "metadata": {},
          "execution_count": 20
        }
      ]
    },
    {
      "cell_type": "code",
      "source": [
        "################################ Extra part ###################################\n",
        "# Handling Profusion of Rules (Duplication elimination)\n",
        "\n",
        "def to_list(i):\n",
        "    return (sorted(list(i)))"
      ],
      "metadata": {
        "id": "l8j_gFp6F2yZ"
      },
      "execution_count": null,
      "outputs": []
    },
    {
      "cell_type": "code",
      "source": [
        "ma_X = rules.antecedents.apply(to_list) + rules.consequents.apply(to_list)"
      ],
      "metadata": {
        "id": "0kVk4BlvF9xM"
      },
      "execution_count": null,
      "outputs": []
    },
    {
      "cell_type": "code",
      "source": [
        "ma_X = ma_X.apply(sorted)"
      ],
      "metadata": {
        "id": "EhIcGD8QGF1s"
      },
      "execution_count": null,
      "outputs": []
    },
    {
      "cell_type": "code",
      "source": [
        "rules_sets = list(ma_X)"
      ],
      "metadata": {
        "id": "3g_XCqjSGFxX"
      },
      "execution_count": null,
      "outputs": []
    },
    {
      "cell_type": "code",
      "source": [
        "unique_rules_sets = [list(m) for m in set(tuple(i) for i in rules_sets)]"
      ],
      "metadata": {
        "id": "G74BFD2eGFu2"
      },
      "execution_count": null,
      "outputs": []
    },
    {
      "cell_type": "code",
      "source": [
        "index_rules = []"
      ],
      "metadata": {
        "id": "3mTQNiCnGFsR"
      },
      "execution_count": null,
      "outputs": []
    },
    {
      "cell_type": "code",
      "source": [
        "for i in unique_rules_sets:\n",
        "    index_rules.append(rules_sets.index(i))"
      ],
      "metadata": {
        "id": "3NQvkJDMGFp8"
      },
      "execution_count": null,
      "outputs": []
    },
    {
      "cell_type": "code",
      "source": [
        "# getting rules without any redudancy \n",
        "rules_no_redudancy = rules.iloc[index_rules, :]"
      ],
      "metadata": {
        "id": "ElfjX3CmGFne"
      },
      "execution_count": null,
      "outputs": []
    },
    {
      "cell_type": "code",
      "source": [
        "# Sorting them with respect to list and getting top 10 rules \n",
        "rules10 = rules_no_redudancy.sort_values('lift', ascending = False).head(10)"
      ],
      "metadata": {
        "id": "0p4V5iy3GFlB"
      },
      "execution_count": null,
      "outputs": []
    },
    {
      "cell_type": "code",
      "source": [
        "plt.bar(height = frequencies[0:11], x = list(range(0, 11)), color = ['red','green','black','yellow','blue','pink','violet'])\n",
        "plt.xticks(list(range(0, 11), ), items[0:11])\n",
        "plt.xlabel(\"items\")\n",
        "plt.ylabel(\"Count\")\n",
        "plt.show()"
      ],
      "metadata": {
        "colab": {
          "base_uri": "https://localhost:8080/",
          "height": 279
        },
        "id": "UmJ05wtSGFik",
        "outputId": "0cd0b948-6ede-4d68-efdb-9b6e34575db7"
      },
      "execution_count": null,
      "outputs": [
        {
          "output_type": "display_data",
          "data": {
            "text/plain": [
              "<Figure size 432x288 with 1 Axes>"
            ],
            "image/png": "[encoded data removed]"
          },
          "metadata": {
            "needs_background": "light"
          }
        }
      ]
    },
    {
      "cell_type": "code",
      "source": [],
      "metadata": {
        "id": "sd2KrXYwGFf0"
      },
      "execution_count": null,
      "outputs": []
    },
    {
      "cell_type": "code",
      "source": [],
      "metadata": {
        "id": "5oHJZQKSGFdX"
      },
      "execution_count": null,
      "outputs": []
    },
    {
      "cell_type": "code",
      "source": [],
      "metadata": {
        "id": "_6QHbwC1GFa7"
      },
      "execution_count": null,
      "outputs": []
    },
    {
      "cell_type": "code",
      "source": [],
      "metadata": {
        "id": "qYwAHiX6GFUf"
      },
      "execution_count": null,
      "outputs": []
    }
  ]
}