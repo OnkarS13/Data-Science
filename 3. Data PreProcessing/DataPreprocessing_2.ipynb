{
  "nbformat": 4,
  "nbformat_minor": 0,
  "metadata": {
    "colab": {
      "name": "DataPreprocessing_2.ipynb",
      "provenance": [],
      "collapsed_sections": [
        "f2pbfa5Ru_OJ",
        "0BUwgWWs0zlo",
        "Nz6MDUWq1Fql",
        "mFhgpqOn4NqX",
        "dcFgtEC71d7B",
        "y-1iH-8u14bK",
        "6WWhZuGK2BDr",
        "jvfl_-aG2OiX",
        "3pc1fziZ2iNU",
        "wCWnZwSx3AKA",
        "PYdb5r3Z3Fi7",
        "cnJT1nHO3VY1",
        "R8uPyxv43dD8",
        "g0160rlg3th6",
        "kCcGBgPp6bwn",
        "t32eon6G6kcB",
        "UazcufgX6qVc",
        "l8FE6Npc67dN",
        "tZnG_fvb9EDm",
        "2DZbYv0u9c1Q",
        "SZpY4Yyi9uDB",
        "5vBo30n1-WGW",
        "IXSDl3PA-pcy",
        "qMzdPfTU--jL",
        "r-4dNxWL_ChV",
        "v4tiO6fQ_Qwr"
      ]
    },
    "kernelspec": {
      "name": "python3",
      "display_name": "Python 3"
    },
    "language_info": {
      "name": "python"
    }
  },
  "cells": [
    {
      "cell_type": "markdown",
      "source": [
        "#Data Preprocessing Steps#\n",
        "\n"
      ],
      "metadata": {
        "id": "f2pbfa5Ru_OJ"
      }
    },
    {
      "cell_type": "markdown",
      "source": [
        "1. Typecasting\n",
        "2. Handling Duplicates\n",
        "3. Outlier Analysis/treatment\n",
        "4. Zero & Near Zero variance Features\n",
        "5. Discretization/ Binning / grouping\n",
        "6. Missing Values\n",
        "7. Dummy variable Creation\n",
        "8. Transformation\n",
        "9. Standardization/Normalization\n",
        "10. String Manipulation\n",
        "\n",
        "SEE MINDMAP :- [link text](https://360digitmg.com/mindmap-data-science)"
      ],
      "metadata": {
        "id": "IXUOAHmMwlbq"
      }
    },
    {
      "cell_type": "markdown",
      "source": [
        "#Importing Datsets#"
      ],
      "metadata": {
        "id": "0BUwgWWs0zlo"
      }
    },
    {
      "cell_type": "code",
      "source": [
        "import pandas as pd\n",
        "\n",
        "data = pd.read_csv(\"ethnic diversity.csv\")\n",
        "data.dtypes"
      ],
      "metadata": {
        "colab": {
          "base_uri": "https://localhost:8080/"
        },
        "id": "lEYtGivS09sp",
        "outputId": "e0d4610e-8f20-4541-9325-9c9f04b59a87"
      },
      "execution_count": 1,
      "outputs": [
        {
          "output_type": "execute_result",
          "data": {
            "text/plain": [
              "Employee_Name        object\n",
              "EmpID                 int64\n",
              "Position             object\n",
              "State                object\n",
              "Zip                   int64\n",
              "Sex                  object\n",
              "MaritalDesc          object\n",
              "CitizenDesc          object\n",
              "EmploymentStatus     object\n",
              "Department           object\n",
              "Salaries            float64\n",
              "age                   int64\n",
              "Race                 object\n",
              "dtype: object"
            ]
          },
          "metadata": {},
          "execution_count": 1
        }
      ]
    },
    {
      "cell_type": "code",
      "source": [
        "help(data.astype)"
      ],
      "metadata": {
        "colab": {
          "base_uri": "https://localhost:8080/"
        },
        "id": "2bYSwoB01DzZ",
        "outputId": "f9c956dc-6bd7-43b8-f46c-0c94f6279a29"
      },
      "execution_count": 2,
      "outputs": [
        {
          "output_type": "stream",
          "name": "stdout",
          "text": [
            "Help on method astype in module pandas.core.generic:\n",
            "\n",
            "astype(dtype, copy: 'bool_t' = True, errors: 'str' = 'raise') -> 'FrameOrSeries' method of pandas.core.frame.DataFrame instance\n",
            "    Cast a pandas object to a specified dtype ``dtype``.\n",
            "    \n",
            "    Parameters\n",
            "    ----------\n",
            "    dtype : data type, or dict of column name -> data type\n",
            "        Use a numpy.dtype or Python type to cast entire pandas object to\n",
            "        the same type. Alternatively, use {col: dtype, ...}, where col is a\n",
            "        column label and dtype is a numpy.dtype or Python type to cast one\n",
            "        or more of the DataFrame's columns to column-specific types.\n",
            "    copy : bool, default True\n",
            "        Return a copy when ``copy=True`` (be very careful setting\n",
            "        ``copy=False`` as changes to values then may propagate to other\n",
            "        pandas objects).\n",
            "    errors : {'raise', 'ignore'}, default 'raise'\n",
            "        Control raising of exceptions on invalid data for provided dtype.\n",
            "    \n",
            "        - ``raise`` : allow exceptions to be raised\n",
            "        - ``ignore`` : suppress exceptions. On error return original object.\n",
            "    \n",
            "    Returns\n",
            "    -------\n",
            "    casted : same type as caller\n",
            "    \n",
            "    See Also\n",
            "    --------\n",
            "    to_datetime : Convert argument to datetime.\n",
            "    to_timedelta : Convert argument to timedelta.\n",
            "    to_numeric : Convert argument to a numeric type.\n",
            "    numpy.ndarray.astype : Cast a numpy array to a specified type.\n",
            "    \n",
            "    Notes\n",
            "    -----\n",
            "    .. deprecated:: 1.3.0\n",
            "    \n",
            "        Using ``astype`` to convert from timezone-naive dtype to\n",
            "        timezone-aware dtype is deprecated and will raise in a\n",
            "        future version.  Use :meth:`Series.dt.tz_localize` instead.\n",
            "    \n",
            "    Examples\n",
            "    --------\n",
            "    Create a DataFrame:\n",
            "    \n",
            "    >>> d = {'col1': [1, 2], 'col2': [3, 4]}\n",
            "    >>> df = pd.DataFrame(data=d)\n",
            "    >>> df.dtypes\n",
            "    col1    int64\n",
            "    col2    int64\n",
            "    dtype: object\n",
            "    \n",
            "    Cast all columns to int32:\n",
            "    \n",
            "    >>> df.astype('int32').dtypes\n",
            "    col1    int32\n",
            "    col2    int32\n",
            "    dtype: object\n",
            "    \n",
            "    Cast col1 to int32 using a dictionary:\n",
            "    \n",
            "    >>> df.astype({'col1': 'int32'}).dtypes\n",
            "    col1    int32\n",
            "    col2    int64\n",
            "    dtype: object\n",
            "    \n",
            "    Create a series:\n",
            "    \n",
            "    >>> ser = pd.Series([1, 2], dtype='int32')\n",
            "    >>> ser\n",
            "    0    1\n",
            "    1    2\n",
            "    dtype: int32\n",
            "    >>> ser.astype('int64')\n",
            "    0    1\n",
            "    1    2\n",
            "    dtype: int64\n",
            "    \n",
            "    Convert to categorical type:\n",
            "    \n",
            "    >>> ser.astype('category')\n",
            "    0    1\n",
            "    1    2\n",
            "    dtype: category\n",
            "    Categories (2, int64): [1, 2]\n",
            "    \n",
            "    Convert to ordered categorical type with custom ordering:\n",
            "    \n",
            "    >>> from pandas.api.types import CategoricalDtype\n",
            "    >>> cat_dtype = CategoricalDtype(\n",
            "    ...     categories=[2, 1], ordered=True)\n",
            "    >>> ser.astype(cat_dtype)\n",
            "    0    1\n",
            "    1    2\n",
            "    dtype: category\n",
            "    Categories (2, int64): [2 < 1]\n",
            "    \n",
            "    Note that using ``copy=False`` and changing data on a new\n",
            "    pandas object may propagate changes:\n",
            "    \n",
            "    >>> s1 = pd.Series([1, 2])\n",
            "    >>> s2 = s1.astype('int64', copy=False)\n",
            "    >>> s2[0] = 10\n",
            "    >>> s1  # note that s1[0] has changed too\n",
            "    0    10\n",
            "    1     2\n",
            "    dtype: int64\n",
            "    \n",
            "    Create a series of dates:\n",
            "    \n",
            "    >>> ser_date = pd.Series(pd.date_range('20200101', periods=3))\n",
            "    >>> ser_date\n",
            "    0   2020-01-01\n",
            "    1   2020-01-02\n",
            "    2   2020-01-03\n",
            "    dtype: datetime64[ns]\n",
            "\n"
          ]
        }
      ]
    },
    {
      "cell_type": "code",
      "source": [
        "data.head()"
      ],
      "metadata": {
        "colab": {
          "base_uri": "https://localhost:8080/",
          "height": 392
        },
        "id": "4AZp-cSB1UfS",
        "outputId": "8b529d52-5c5b-4774-ade2-232bb806179f"
      },
      "execution_count": 3,
      "outputs": [
        {
          "output_type": "execute_result",
          "data": {
            "text/plain": [
              "          Employee_Name       EmpID                  Position State   Zip Sex  \\\n",
              "0            Brown, Mia  1103024456              Accountant I    MA  1450   F   \n",
              "1  LaRotonda, William    1106026572              Accountant I    MA  1460  M    \n",
              "2      Steans, Tyrone    1302053333              Accountant I    MA  2703  M    \n",
              "3       Howard, Estelle  1211050782  Administrative Assistant    MA  2170   F   \n",
              "4           Singh, Nan   1307059817  Administrative Assistant    MA  2330   F   \n",
              "\n",
              "  MaritalDesc CitizenDesc      EmploymentStatus     Department  Salaries  age  \\\n",
              "0     Married  US Citizen                Active  Admin Offices    674.28   28   \n",
              "1    Divorced  US Citizen                Active  Admin Offices    674.28   50   \n",
              "2      Single  US Citizen                Active  Admin Offices    674.28   43   \n",
              "3     Married  US Citizen  Terminated for Cause  Admin Offices  47822.00   44   \n",
              "4      Single  US Citizen                Active  Admin Offices  61089.35   33   \n",
              "\n",
              "                        Race  \n",
              "0  Black or African American  \n",
              "1  Black or African American  \n",
              "2                      White  \n",
              "3                      White  \n",
              "4                      White  "
            ],
            "text/html": [
              "\n",
              "  <div id=\"df-2342acdf-9825-4aa2-a004-2f90ff1f3f1f\">\n",
              "    <div class=\"colab-df-container\">\n",
              "      <div>\n",
              "<style scoped>\n",
              "    .dataframe tbody tr th:only-of-type {\n",
              "        vertical-align: middle;\n",
              "    }\n",
              "\n",
              "    .dataframe tbody tr th {\n",
              "        vertical-align: top;\n",
              "    }\n",
              "\n",
              "    .dataframe thead th {\n",
              "        text-align: right;\n",
              "    }\n",
              "</style>\n",
              "<table border=\"1\" class=\"dataframe\">\n",
              "  <thead>\n",
              "    <tr style=\"text-align: right;\">\n",
              "      <th></th>\n",
              "      <th>Employee_Name</th>\n",
              "      <th>EmpID</th>\n",
              "      <th>Position</th>\n",
              "      <th>State</th>\n",
              "      <th>Zip</th>\n",
              "      <th>Sex</th>\n",
              "      <th>MaritalDesc</th>\n",
              "      <th>CitizenDesc</th>\n",
              "      <th>EmploymentStatus</th>\n",
              "      <th>Department</th>\n",
              "      <th>Salaries</th>\n",
              "      <th>age</th>\n",
              "      <th>Race</th>\n",
              "    </tr>\n",
              "  </thead>\n",
              "  <tbody>\n",
              "    <tr>\n",
              "      <th>0</th>\n",
              "      <td>Brown, Mia</td>\n",
              "      <td>1103024456</td>\n",
              "      <td>Accountant I</td>\n",
              "      <td>MA</td>\n",
              "      <td>1450</td>\n",
              "      <td>F</td>\n",
              "      <td>Married</td>\n",
              "      <td>US Citizen</td>\n",
              "      <td>Active</td>\n",
              "      <td>Admin Offices</td>\n",
              "      <td>674.28</td>\n",
              "      <td>28</td>\n",
              "      <td>Black or African American</td>\n",
              "    </tr>\n",
              "    <tr>\n",
              "      <th>1</th>\n",
              "      <td>LaRotonda, William</td>\n",
              "      <td>1106026572</td>\n",
              "      <td>Accountant I</td>\n",
              "      <td>MA</td>\n",
              "      <td>1460</td>\n",
              "      <td>M</td>\n",
              "      <td>Divorced</td>\n",
              "      <td>US Citizen</td>\n",
              "      <td>Active</td>\n",
              "      <td>Admin Offices</td>\n",
              "      <td>674.28</td>\n",
              "      <td>50</td>\n",
              "      <td>Black or African American</td>\n",
              "    </tr>\n",
              "    <tr>\n",
              "      <th>2</th>\n",
              "      <td>Steans, Tyrone</td>\n",
              "      <td>1302053333</td>\n",
              "      <td>Accountant I</td>\n",
              "      <td>MA</td>\n",
              "      <td>2703</td>\n",
              "      <td>M</td>\n",
              "      <td>Single</td>\n",
              "      <td>US Citizen</td>\n",
              "      <td>Active</td>\n",
              "      <td>Admin Offices</td>\n",
              "      <td>674.28</td>\n",
              "      <td>43</td>\n",
              "      <td>White</td>\n",
              "    </tr>\n",
              "    <tr>\n",
              "      <th>3</th>\n",
              "      <td>Howard, Estelle</td>\n",
              "      <td>1211050782</td>\n",
              "      <td>Administrative Assistant</td>\n",
              "      <td>MA</td>\n",
              "      <td>2170</td>\n",
              "      <td>F</td>\n",
              "      <td>Married</td>\n",
              "      <td>US Citizen</td>\n",
              "      <td>Terminated for Cause</td>\n",
              "      <td>Admin Offices</td>\n",
              "      <td>47822.00</td>\n",
              "      <td>44</td>\n",
              "      <td>White</td>\n",
              "    </tr>\n",
              "    <tr>\n",
              "      <th>4</th>\n",
              "      <td>Singh, Nan</td>\n",
              "      <td>1307059817</td>\n",
              "      <td>Administrative Assistant</td>\n",
              "      <td>MA</td>\n",
              "      <td>2330</td>\n",
              "      <td>F</td>\n",
              "      <td>Single</td>\n",
              "      <td>US Citizen</td>\n",
              "      <td>Active</td>\n",
              "      <td>Admin Offices</td>\n",
              "      <td>61089.35</td>\n",
              "      <td>33</td>\n",
              "      <td>White</td>\n",
              "    </tr>\n",
              "  </tbody>\n",
              "</table>\n",
              "</div>\n",
              "      <button class=\"colab-df-convert\" onclick=\"convertToInteractive('df-2342acdf-9825-4aa2-a004-2f90ff1f3f1f')\"\n",
              "              title=\"Convert this dataframe to an interactive table.\"\n",
              "              style=\"display:none;\">\n",
              "        \n",
              "  <svg xmlns=\"http://www.w3.org/2000/svg\" height=\"24px\"viewBox=\"0 0 24 24\"\n",
              "       width=\"24px\">\n",
              "    <path d=\"M0 0h24v24H0V0z\" fill=\"none\"/>\n",
              "    <path d=\"M18.56 5.44l.94 2.06.94-2.06 2.06-.94-2.06-.94-.94-2.06-.94 2.06-2.06.94zm-11 1L8.5 8.5l.94-2.06 2.06-.94-2.06-.94L8.5 2.5l-.94 2.06-2.06.94zm10 10l.94 2.06.94-2.06 2.06-.94-2.06-.94-.94-2.06-.94 2.06-2.06.94z\"/><path d=\"M17.41 7.96l-1.37-1.37c-.4-.4-.92-.59-1.43-.59-.52 0-1.04.2-1.43.59L10.3 9.45l-7.72 7.72c-.78.78-.78 2.05 0 2.83L4 21.41c.39.39.9.59 1.41.59.51 0 1.02-.2 1.41-.59l7.78-7.78 2.81-2.81c.8-.78.8-2.07 0-2.86zM5.41 20L4 18.59l7.72-7.72 1.47 1.35L5.41 20z\"/>\n",
              "  </svg>\n",
              "      </button>\n",
              "      \n",
              "  <style>\n",
              "    .colab-df-container {\n",
              "      display:flex;\n",
              "      flex-wrap:wrap;\n",
              "      gap: 12px;\n",
              "    }\n",
              "\n",
              "    .colab-df-convert {\n",
              "      background-color: #E8F0FE;\n",
              "      border: none;\n",
              "      border-radius: 50%;\n",
              "      cursor: pointer;\n",
              "      display: none;\n",
              "      fill: #1967D2;\n",
              "      height: 32px;\n",
              "      padding: 0 0 0 0;\n",
              "      width: 32px;\n",
              "    }\n",
              "\n",
              "    .colab-df-convert:hover {\n",
              "      background-color: #E2EBFA;\n",
              "      box-shadow: 0px 1px 2px rgba(60, 64, 67, 0.3), 0px 1px 3px 1px rgba(60, 64, 67, 0.15);\n",
              "      fill: #174EA6;\n",
              "    }\n",
              "\n",
              "    [theme=dark] .colab-df-convert {\n",
              "      background-color: #3B4455;\n",
              "      fill: #D2E3FC;\n",
              "    }\n",
              "\n",
              "    [theme=dark] .colab-df-convert:hover {\n",
              "      background-color: #434B5C;\n",
              "      box-shadow: 0px 1px 3px 1px rgba(0, 0, 0, 0.15);\n",
              "      filter: drop-shadow(0px 1px 2px rgba(0, 0, 0, 0.3));\n",
              "      fill: #FFFFFF;\n",
              "    }\n",
              "  </style>\n",
              "\n",
              "      <script>\n",
              "        const buttonEl =\n",
              "          document.querySelector('#df-2342acdf-9825-4aa2-a004-2f90ff1f3f1f button.colab-df-convert');\n",
              "        buttonEl.style.display =\n",
              "          google.colab.kernel.accessAllowed ? 'block' : 'none';\n",
              "\n",
              "        async function convertToInteractive(key) {\n",
              "          const element = document.querySelector('#df-2342acdf-9825-4aa2-a004-2f90ff1f3f1f');\n",
              "          const dataTable =\n",
              "            await google.colab.kernel.invokeFunction('convertToInteractive',\n",
              "                                                     [key], {});\n",
              "          if (!dataTable) return;\n",
              "\n",
              "          const docLinkHtml = 'Like what you see? Visit the ' +\n",
              "            '<a target=\"_blank\" href=https://colab.research.google.com/notebooks/data_table.ipynb>data table notebook</a>'\n",
              "            + ' to learn more about interactive tables.';\n",
              "          element.innerHTML = '';\n",
              "          dataTable['output_type'] = 'display_data';\n",
              "          await google.colab.output.renderOutput(dataTable, element);\n",
              "          const docLink = document.createElement('div');\n",
              "          docLink.innerHTML = docLinkHtml;\n",
              "          element.appendChild(docLink);\n",
              "        }\n",
              "      </script>\n",
              "    </div>\n",
              "  </div>\n",
              "  "
            ]
          },
          "metadata": {},
          "execution_count": 3
        }
      ]
    },
    {
      "cell_type": "markdown",
      "source": [
        "#Type Casting#"
      ],
      "metadata": {
        "id": "Nz6MDUWq1Fql"
      }
    },
    {
      "cell_type": "markdown",
      "source": [
        ".astype() function is used"
      ],
      "metadata": {
        "id": "L6WdH-daAIag"
      }
    },
    {
      "cell_type": "code",
      "source": [
        "# Convert 'float64' into 'int64' type. \n",
        "data.Salaries = data.Salaries.astype('int64')\n",
        "data.dtypes"
      ],
      "metadata": {
        "colab": {
          "base_uri": "https://localhost:8080/"
        },
        "id": "bCwljz911MxW",
        "outputId": "01b4214e-818a-4df7-d816-15e066711662"
      },
      "execution_count": 4,
      "outputs": [
        {
          "output_type": "execute_result",
          "data": {
            "text/plain": [
              "Employee_Name       object\n",
              "EmpID                int64\n",
              "Position            object\n",
              "State               object\n",
              "Zip                  int64\n",
              "Sex                 object\n",
              "MaritalDesc         object\n",
              "CitizenDesc         object\n",
              "EmploymentStatus    object\n",
              "Department          object\n",
              "Salaries             int64\n",
              "age                  int64\n",
              "Race                object\n",
              "dtype: object"
            ]
          },
          "metadata": {},
          "execution_count": 4
        }
      ]
    },
    {
      "cell_type": "code",
      "source": [
        "data.age = data.age.astype('float32')\n",
        "data.dtypes"
      ],
      "metadata": {
        "colab": {
          "base_uri": "https://localhost:8080/"
        },
        "id": "IulpUL1G1ZdM",
        "outputId": "79e604c8-2e77-4736-b580-b891fed2a359"
      },
      "execution_count": 5,
      "outputs": [
        {
          "output_type": "execute_result",
          "data": {
            "text/plain": [
              "Employee_Name        object\n",
              "EmpID                 int64\n",
              "Position             object\n",
              "State                object\n",
              "Zip                   int64\n",
              "Sex                  object\n",
              "MaritalDesc          object\n",
              "CitizenDesc          object\n",
              "EmploymentStatus     object\n",
              "Department           object\n",
              "Salaries              int64\n",
              "age                 float32\n",
              "Race                 object\n",
              "dtype: object"
            ]
          },
          "metadata": {},
          "execution_count": 5
        }
      ]
    },
    {
      "cell_type": "markdown",
      "source": [
        "#Handling Duplicateds#"
      ],
      "metadata": {
        "id": "mFhgpqOn4NqX"
      }
    },
    {
      "cell_type": "markdown",
      "source": [
        "##Identify the duplicates records in thr Data##"
      ],
      "metadata": {
        "id": "dcFgtEC71d7B"
      }
    },
    {
      "cell_type": "markdown",
      "source": [
        "1. variable_name.duplicated() :- for identifying duplicates \n",
        "2. variable_name.drop_duplicates() :- for deleting the duplicates"
      ],
      "metadata": {
        "id": "CZjE7VgXLRnP"
      }
    },
    {
      "cell_type": "code",
      "source": [
        "data = pd.read_csv(\"mtcars_dup.csv\")\n",
        "duplicate = data.duplicated()\n",
        "duplicate"
      ],
      "metadata": {
        "colab": {
          "base_uri": "https://localhost:8080/"
        },
        "id": "6XhCtnUY1mH8",
        "outputId": "c4469151-85c5-4a21-9116-13ed13ef9b77"
      },
      "execution_count": 6,
      "outputs": [
        {
          "output_type": "execute_result",
          "data": {
            "text/plain": [
              "0     False\n",
              "1     False\n",
              "2     False\n",
              "3     False\n",
              "4     False\n",
              "5     False\n",
              "6     False\n",
              "7     False\n",
              "8     False\n",
              "9     False\n",
              "10    False\n",
              "11    False\n",
              "12    False\n",
              "13    False\n",
              "14    False\n",
              "15    False\n",
              "16    False\n",
              "17     True\n",
              "18    False\n",
              "19    False\n",
              "20    False\n",
              "21    False\n",
              "22    False\n",
              "23     True\n",
              "24    False\n",
              "25    False\n",
              "26    False\n",
              "27     True\n",
              "28    False\n",
              "29    False\n",
              "30    False\n",
              "31    False\n",
              "dtype: bool"
            ]
          },
          "metadata": {},
          "execution_count": 6
        }
      ]
    },
    {
      "cell_type": "markdown",
      "source": [
        "There are three duplicates in this record"
      ],
      "metadata": {
        "id": "9EZNnA9iKLqq"
      }
    },
    {
      "cell_type": "code",
      "source": [
        "sum(duplicate)"
      ],
      "metadata": {
        "colab": {
          "base_uri": "https://localhost:8080/"
        },
        "id": "ZfJZWXGY1pIr",
        "outputId": "030545a9-0325-49fc-d415-394e1d389271"
      },
      "execution_count": 7,
      "outputs": [
        {
          "output_type": "execute_result",
          "data": {
            "text/plain": [
              "3"
            ]
          },
          "metadata": {},
          "execution_count": 7
        }
      ]
    },
    {
      "cell_type": "markdown",
      "source": [
        "##Removing the duplicates##"
      ],
      "metadata": {
        "id": "y-1iH-8u14bK"
      }
    },
    {
      "cell_type": "markdown",
      "source": [
        "Here, After removing the duplicates, the remaining data is assighned to to new variable"
      ],
      "metadata": {
        "id": "VTUw8jlmLpud"
      }
    },
    {
      "cell_type": "code",
      "source": [
        "data1 = data.drop_duplicates()"
      ],
      "metadata": {
        "id": "TzVkhObk17-P"
      },
      "execution_count": 8,
      "outputs": []
    },
    {
      "cell_type": "code",
      "source": [
        "data.info() #old data set"
      ],
      "metadata": {
        "colab": {
          "base_uri": "https://localhost:8080/"
        },
        "id": "Rcr1XCDsKhJ8",
        "outputId": "bbc31f69-cd3f-45cd-d895-81bb9ecc3250"
      },
      "execution_count": 9,
      "outputs": [
        {
          "output_type": "stream",
          "name": "stdout",
          "text": [
            "<class 'pandas.core.frame.DataFrame'>\n",
            "RangeIndex: 32 entries, 0 to 31\n",
            "Data columns (total 11 columns):\n",
            " #   Column  Non-Null Count  Dtype  \n",
            "---  ------  --------------  -----  \n",
            " 0   mpg     32 non-null     float64\n",
            " 1   cyl     32 non-null     int64  \n",
            " 2   disp    32 non-null     float64\n",
            " 3   hp      32 non-null     int64  \n",
            " 4   drat    32 non-null     float64\n",
            " 5   wt      32 non-null     float64\n",
            " 6   qsec    32 non-null     float64\n",
            " 7   vs      32 non-null     int64  \n",
            " 8   am      32 non-null     int64  \n",
            " 9   gear    32 non-null     int64  \n",
            " 10  carb    32 non-null     int64  \n",
            "dtypes: float64(5), int64(6)\n",
            "memory usage: 2.9 KB\n"
          ]
        }
      ]
    },
    {
      "cell_type": "markdown",
      "source": [
        "There were 32 rows oyof which 3 were duplicates those are removed and remaining data is assigned to data1 i.e. 29 rows"
      ],
      "metadata": {
        "id": "RNBinuXZKkCQ"
      }
    },
    {
      "cell_type": "code",
      "source": [
        "data1.info() #new dataSet"
      ],
      "metadata": {
        "colab": {
          "base_uri": "https://localhost:8080/"
        },
        "id": "lksdF8PzKXG7",
        "outputId": "ad882ceb-207f-4533-9d84-218dd76fe587"
      },
      "execution_count": 10,
      "outputs": [
        {
          "output_type": "stream",
          "name": "stdout",
          "text": [
            "<class 'pandas.core.frame.DataFrame'>\n",
            "Int64Index: 29 entries, 0 to 31\n",
            "Data columns (total 11 columns):\n",
            " #   Column  Non-Null Count  Dtype  \n",
            "---  ------  --------------  -----  \n",
            " 0   mpg     29 non-null     float64\n",
            " 1   cyl     29 non-null     int64  \n",
            " 2   disp    29 non-null     float64\n",
            " 3   hp      29 non-null     int64  \n",
            " 4   drat    29 non-null     float64\n",
            " 5   wt      29 non-null     float64\n",
            " 6   qsec    29 non-null     float64\n",
            " 7   vs      29 non-null     int64  \n",
            " 8   am      29 non-null     int64  \n",
            " 9   gear    29 non-null     int64  \n",
            " 10  carb    29 non-null     int64  \n",
            "dtypes: float64(5), int64(6)\n",
            "memory usage: 2.7 KB\n"
          ]
        }
      ]
    },
    {
      "cell_type": "markdown",
      "source": [
        "#Outlier Analysis/Treatment#"
      ],
      "metadata": {
        "id": "6WWhZuGK2BDr"
      }
    },
    {
      "cell_type": "code",
      "source": [
        "import pandas as pd\n",
        "import numpy as np\n",
        "import seaborn as sns\n",
        "\n",
        "#data integrated with file is being loaded in 'df'\n",
        "df = pd.read_csv(\"ethnic diversity.csv\")\n",
        "df.dtypes"
      ],
      "metadata": {
        "colab": {
          "base_uri": "https://localhost:8080/"
        },
        "id": "X0PGi1XH2En0",
        "outputId": "f4a19b5e-121b-48b9-e093-07553ea14f48"
      },
      "execution_count": 11,
      "outputs": [
        {
          "output_type": "execute_result",
          "data": {
            "text/plain": [
              "Employee_Name        object\n",
              "EmpID                 int64\n",
              "Position             object\n",
              "State                object\n",
              "Zip                   int64\n",
              "Sex                  object\n",
              "MaritalDesc          object\n",
              "CitizenDesc          object\n",
              "EmploymentStatus     object\n",
              "Department           object\n",
              "Salaries            float64\n",
              "age                   int64\n",
              "Race                 object\n",
              "dtype: object"
            ]
          },
          "metadata": {},
          "execution_count": 11
        }
      ]
    },
    {
      "cell_type": "markdown",
      "source": [
        "##Finding Outliers in Salaries (Boxplot)##"
      ],
      "metadata": {
        "id": "jvfl_-aG2OiX"
      }
    },
    {
      "cell_type": "code",
      "source": [
        "sns.boxplot(df.Salaries)"
      ],
      "metadata": {
        "colab": {
          "base_uri": "https://localhost:8080/",
          "height": 0
        },
        "id": "P3lGZlKl2Wkf",
        "outputId": "95ec608d-61f7-4560-eb93-858efe87128f"
      },
      "execution_count": 12,
      "outputs": [
        {
          "output_type": "stream",
          "name": "stderr",
          "text": [
            "/usr/local/lib/python3.7/dist-packages/seaborn/_decorators.py:43: FutureWarning: Pass the following variable as a keyword arg: x. From version 0.12, the only valid positional argument will be `data`, and passing other arguments without an explicit keyword will result in an error or misinterpretation.\n",
            "  FutureWarning\n"
          ]
        },
        {
          "output_type": "execute_result",
          "data": {
            "text/plain": [
              "<matplotlib.axes._subplots.AxesSubplot at 0x7f0418177c50>"
            ]
          },
          "metadata": {},
          "execution_count": 12
        },
        {
          "output_type": "display_data",
          "data": {
            "text/plain": [
              "<Figure size 432x288 with 1 Axes>"
            ],
            "image/png": "[encoded data removed]"
          },
          "metadata": {
            "needs_background": "light"
          }
        }
      ]
    },
    {
      "cell_type": "code",
      "source": [
        "sns.boxplot(df.age)"
      ],
      "metadata": {
        "colab": {
          "base_uri": "https://localhost:8080/",
          "height": 0
        },
        "id": "NW1av6SW2Uvl",
        "outputId": "e955d5d8-bb8e-4b6c-afd9-50002ce18c1e"
      },
      "execution_count": 13,
      "outputs": [
        {
          "output_type": "stream",
          "name": "stderr",
          "text": [
            "/usr/local/lib/python3.7/dist-packages/seaborn/_decorators.py:43: FutureWarning: Pass the following variable as a keyword arg: x. From version 0.12, the only valid positional argument will be `data`, and passing other arguments without an explicit keyword will result in an error or misinterpretation.\n",
            "  FutureWarning\n"
          ]
        },
        {
          "output_type": "execute_result",
          "data": {
            "text/plain": [
              "<matplotlib.axes._subplots.AxesSubplot at 0x7f0417bfc8d0>"
            ]
          },
          "metadata": {},
          "execution_count": 13
        },
        {
          "output_type": "display_data",
          "data": {
            "text/plain": [
              "<Figure size 432x288 with 1 Axes>"
            ],
            "image/png": "[encoded data removed]"
          },
          "metadata": {
            "needs_background": "light"
          }
        }
      ]
    },
    {
      "cell_type": "markdown",
      "source": [
        "There are no outliers"
      ],
      "metadata": {
        "id": "54wSIKJwPocY"
      }
    },
    {
      "cell_type": "markdown",
      "source": [
        "##Detection Of Outliers##"
      ],
      "metadata": {
        "id": "3pc1fziZ2iNU"
      }
    },
    {
      "cell_type": "markdown",
      "source": [
        "1. IQR(Q2) = Q3 - Q1\n",
        "2. upper_limit = Q3 + (IQR * 1.5)\n",
        "3. lower_limit = Q1 - (IQR * 1.5)\n",
        "4. Q3 = df['Salaries'].quantile(0.75)\n",
        "5. Q1 = df['Salaries'].quantile(0.25)\n",
        "\n",
        "\n",
        "Below 0.75 and 0.25 in the boxplot sholud be imagined or taken from bottom to up of the box plot"
      ],
      "metadata": {
        "id": "WmaAqa9EP3EQ"
      }
    },
    {
      "cell_type": "code",
      "source": [
        "# Detection of outliers (find limits for salary based on IQR)\n",
        "IQR = df['Salaries'].quantile(0.75) - df['Salaries'].quantile(0.25)\n",
        "#IQR = Q3 - Q1\n",
        "upper_limit = df['Salaries'].quantile(0.75) + (IQR * 1.5)\n",
        "#upper_limit = Q3 + (IQR * 1.5)\n",
        "lower_limit = df['Salaries'].quantile(0.25) - (IQR * 1.5)\n",
        "#lower_limit = Q1 - (IQR * 1.5)\n",
        "\n",
        "Q3 = df['Salaries'].quantile(0.75)\n",
        "Q1 = df['Salaries'].quantile(0.25)\n"
      ],
      "metadata": {
        "id": "QSMr9iNH2ldc"
      },
      "execution_count": 14,
      "outputs": []
    },
    {
      "cell_type": "code",
      "source": [
        "IQR"
      ],
      "metadata": {
        "colab": {
          "base_uri": "https://localhost:8080/"
        },
        "id": "Cd7cka462t8m",
        "outputId": "589a01ca-b91a-4755-d49d-abe95a83cd9c"
      },
      "execution_count": 15,
      "outputs": [
        {
          "output_type": "execute_result",
          "data": {
            "text/plain": [
              "28359.945"
            ]
          },
          "metadata": {},
          "execution_count": 15
        }
      ]
    },
    {
      "cell_type": "code",
      "source": [
        "lower_limit"
      ],
      "metadata": {
        "colab": {
          "base_uri": "https://localhost:8080/"
        },
        "id": "HLElU3Io2v2i",
        "outputId": "e0c94f9d-3155-4d42-c80c-53f5d6059b4d"
      },
      "execution_count": 16,
      "outputs": [
        {
          "output_type": "execute_result",
          "data": {
            "text/plain": [
              "-19446.9675"
            ]
          },
          "metadata": {},
          "execution_count": 16
        }
      ]
    },
    {
      "cell_type": "code",
      "source": [
        "upper_limit"
      ],
      "metadata": {
        "colab": {
          "base_uri": "https://localhost:8080/"
        },
        "id": "OtldVXH42yG7",
        "outputId": "7dd9d9ab-f6a6-45db-9540-4a4bcf23f8bb"
      },
      "execution_count": 17,
      "outputs": [
        {
          "output_type": "execute_result",
          "data": {
            "text/plain": [
              "93992.8125"
            ]
          },
          "metadata": {},
          "execution_count": 17
        }
      ]
    },
    {
      "cell_type": "code",
      "source": [
        "Q3"
      ],
      "metadata": {
        "colab": {
          "base_uri": "https://localhost:8080/"
        },
        "id": "OXoG6jVxSkSg",
        "outputId": "0bb5285d-0daa-4298-e3bc-da4371b743e9"
      },
      "execution_count": 18,
      "outputs": [
        {
          "output_type": "execute_result",
          "data": {
            "text/plain": [
              "51452.895"
            ]
          },
          "metadata": {},
          "execution_count": 18
        }
      ]
    },
    {
      "cell_type": "code",
      "source": [
        "Q1"
      ],
      "metadata": {
        "colab": {
          "base_uri": "https://localhost:8080/"
        },
        "id": "SaWnzmbXSmPm",
        "outputId": "cb5805f8-a096-4c4e-c819-35624ce0fe9c"
      },
      "execution_count": 19,
      "outputs": [
        {
          "output_type": "execute_result",
          "data": {
            "text/plain": [
              "23092.949999999997"
            ]
          },
          "metadata": {},
          "execution_count": 19
        }
      ]
    },
    {
      "cell_type": "markdown",
      "source": [
        "##Training Datasets##"
      ],
      "metadata": {
        "id": "wCWnZwSx3AKA"
      }
    },
    {
      "cell_type": "markdown",
      "source": [
        "###1. Remove###"
      ],
      "metadata": {
        "id": "PYdb5r3Z3Fi7"
      }
    },
    {
      "cell_type": "code",
      "source": [
        "# Trimming Technique\n",
        "# Let's flag the outliers in the data set\n",
        "\n",
        "# By using numpy, the values of df.Salaries where ever thay are greater than upper_limit\n",
        "# those will be assigned to 'TRUE' and the values of df.Salaries where ever thay are lower than lower_limit\n",
        "# those will be assigned to 'TRUE' other wise It is assigned to 'False'\n",
        "# TRUE means, it is outlier and False means it is not outlier\n",
        " \n",
        "outliers_df = np.where(df['Salaries'] > upper_limit, True, np.where(df['Salaries'] < lower_limit, True, False))\n",
        "outliers_df\n",
        "\n",
        "#outliers are stored in the outlier_df and yhis variable only stores the TRUE values"
      ],
      "metadata": {
        "colab": {
          "base_uri": "https://localhost:8080/"
        },
        "id": "WFGsZRFx3DQp",
        "outputId": "97b49856-c686-45c0-d115-fe28ac8597ea"
      },
      "execution_count": 20,
      "outputs": [
        {
          "output_type": "execute_result",
          "data": {
            "text/plain": [
              "array([False, False, False, False, False, False, False, False, False,\n",
              "       False, False, False, False, False, False, False, False, False,\n",
              "       False, False, False, False, False,  True, False, False, False,\n",
              "       False, False, False, False, False, False, False, False, False,\n",
              "       False, False, False, False, False, False, False, False, False,\n",
              "       False, False, False, False, False, False, False, False, False,\n",
              "       False, False, False, False, False, False, False, False, False,\n",
              "        True, False, False, False, False, False, False, False, False,\n",
              "       False, False,  True, False, False, False, False, False, False,\n",
              "       False, False, False, False, False, False, False, False, False,\n",
              "       False, False, False, False, False, False, False, False, False,\n",
              "       False, False, False, False, False, False, False, False, False,\n",
              "       False, False, False, False, False, False, False, False, False,\n",
              "       False, False, False, False, False, False, False, False, False,\n",
              "       False, False, False, False, False, False, False, False, False,\n",
              "       False, False, False, False, False, False, False, False, False,\n",
              "       False, False, False, False, False, False, False, False, False,\n",
              "       False, False, False, False, False, False, False, False, False,\n",
              "       False, False, False, False, False, False, False, False, False,\n",
              "       False, False, False, False, False, False, False, False, False,\n",
              "       False, False, False, False, False, False, False, False, False,\n",
              "       False, False, False, False, False, False, False, False, False,\n",
              "       False, False, False, False, False, False, False, False, False,\n",
              "       False, False, False, False, False, False, False, False, False,\n",
              "        True, False, False, False, False, False, False, False, False,\n",
              "       False, False, False, False, False, False, False, False, False,\n",
              "       False, False, False, False, False, False, False, False, False,\n",
              "       False, False, False, False, False, False, False, False, False,\n",
              "       False, False, False, False, False, False, False, False, False,\n",
              "       False, False, False, False, False, False, False, False, False,\n",
              "       False, False, False, False, False, False, False, False, False,\n",
              "       False, False, False, False, False, False, False, False, False,\n",
              "       False, False, False, False, False, False, False, False, False,\n",
              "       False, False, False, False, False, False, False, False, False,\n",
              "       False, False, False, False])"
            ]
          },
          "metadata": {},
          "execution_count": 20
        }
      ]
    },
    {
      "cell_type": "markdown",
      "source": [
        "There are four outliers, which are true"
      ],
      "metadata": {
        "id": "Hxp88APfY13v"
      }
    },
    {
      "cell_type": "markdown",
      "source": [
        "Now, here the location of the outliers is taken with help of the loc and outliers_df. Now with help of '~' this means tilda(which is like negation), it says that those who are not outliers in all columns and these locations is stored in the df_trimmed\n",
        "\n"
      ],
      "metadata": {
        "id": "Y55AX2ojYHb2"
      }
    },
    {
      "cell_type": "code",
      "source": [
        "df_trimmed = df.loc[~(outliers_df), ]\n",
        "df_trimmed.head()"
      ],
      "metadata": {
        "colab": {
          "base_uri": "https://localhost:8080/",
          "height": 0
        },
        "id": "pr0vR9QjXwnu",
        "outputId": "c6e33d4e-4ac8-4ccb-d379-7b80f7a6f70c"
      },
      "execution_count": 21,
      "outputs": [
        {
          "output_type": "execute_result",
          "data": {
            "text/plain": [
              "          Employee_Name       EmpID                  Position State   Zip Sex  \\\n",
              "0            Brown, Mia  1103024456              Accountant I    MA  1450   F   \n",
              "1  LaRotonda, William    1106026572              Accountant I    MA  1460  M    \n",
              "2      Steans, Tyrone    1302053333              Accountant I    MA  2703  M    \n",
              "3       Howard, Estelle  1211050782  Administrative Assistant    MA  2170   F   \n",
              "4           Singh, Nan   1307059817  Administrative Assistant    MA  2330   F   \n",
              "\n",
              "  MaritalDesc CitizenDesc      EmploymentStatus     Department  Salaries  age  \\\n",
              "0     Married  US Citizen                Active  Admin Offices    674.28   28   \n",
              "1    Divorced  US Citizen                Active  Admin Offices    674.28   50   \n",
              "2      Single  US Citizen                Active  Admin Offices    674.28   43   \n",
              "3     Married  US Citizen  Terminated for Cause  Admin Offices  47822.00   44   \n",
              "4      Single  US Citizen                Active  Admin Offices  61089.35   33   \n",
              "\n",
              "                        Race  \n",
              "0  Black or African American  \n",
              "1  Black or African American  \n",
              "2                      White  \n",
              "3                      White  \n",
              "4                      White  "
            ],
            "text/html": [
              "\n",
              "  <div id=\"df-29d37efe-d671-4794-9796-933dffeea448\">\n",
              "    <div class=\"colab-df-container\">\n",
              "      <div>\n",
              "<style scoped>\n",
              "    .dataframe tbody tr th:only-of-type {\n",
              "        vertical-align: middle;\n",
              "    }\n",
              "\n",
              "    .dataframe tbody tr th {\n",
              "        vertical-align: top;\n",
              "    }\n",
              "\n",
              "    .dataframe thead th {\n",
              "        text-align: right;\n",
              "    }\n",
              "</style>\n",
              "<table border=\"1\" class=\"dataframe\">\n",
              "  <thead>\n",
              "    <tr style=\"text-align: right;\">\n",
              "      <th></th>\n",
              "      <th>Employee_Name</th>\n",
              "      <th>EmpID</th>\n",
              "      <th>Position</th>\n",
              "      <th>State</th>\n",
              "      <th>Zip</th>\n",
              "      <th>Sex</th>\n",
              "      <th>MaritalDesc</th>\n",
              "      <th>CitizenDesc</th>\n",
              "      <th>EmploymentStatus</th>\n",
              "      <th>Department</th>\n",
              "      <th>Salaries</th>\n",
              "      <th>age</th>\n",
              "      <th>Race</th>\n",
              "    </tr>\n",
              "  </thead>\n",
              "  <tbody>\n",
              "    <tr>\n",
              "      <th>0</th>\n",
              "      <td>Brown, Mia</td>\n",
              "      <td>1103024456</td>\n",
              "      <td>Accountant I</td>\n",
              "      <td>MA</td>\n",
              "      <td>1450</td>\n",
              "      <td>F</td>\n",
              "      <td>Married</td>\n",
              "      <td>US Citizen</td>\n",
              "      <td>Active</td>\n",
              "      <td>Admin Offices</td>\n",
              "      <td>674.28</td>\n",
              "      <td>28</td>\n",
              "      <td>Black or African American</td>\n",
              "    </tr>\n",
              "    <tr>\n",
              "      <th>1</th>\n",
              "      <td>LaRotonda, William</td>\n",
              "      <td>1106026572</td>\n",
              "      <td>Accountant I</td>\n",
              "      <td>MA</td>\n",
              "      <td>1460</td>\n",
              "      <td>M</td>\n",
              "      <td>Divorced</td>\n",
              "      <td>US Citizen</td>\n",
              "      <td>Active</td>\n",
              "      <td>Admin Offices</td>\n",
              "      <td>674.28</td>\n",
              "      <td>50</td>\n",
              "      <td>Black or African American</td>\n",
              "    </tr>\n",
              "    <tr>\n",
              "      <th>2</th>\n",
              "      <td>Steans, Tyrone</td>\n",
              "      <td>1302053333</td>\n",
              "      <td>Accountant I</td>\n",
              "      <td>MA</td>\n",
              "      <td>2703</td>\n",
              "      <td>M</td>\n",
              "      <td>Single</td>\n",
              "      <td>US Citizen</td>\n",
              "      <td>Active</td>\n",
              "      <td>Admin Offices</td>\n",
              "      <td>674.28</td>\n",
              "      <td>43</td>\n",
              "      <td>White</td>\n",
              "    </tr>\n",
              "    <tr>\n",
              "      <th>3</th>\n",
              "      <td>Howard, Estelle</td>\n",
              "      <td>1211050782</td>\n",
              "      <td>Administrative Assistant</td>\n",
              "      <td>MA</td>\n",
              "      <td>2170</td>\n",
              "      <td>F</td>\n",
              "      <td>Married</td>\n",
              "      <td>US Citizen</td>\n",
              "      <td>Terminated for Cause</td>\n",
              "      <td>Admin Offices</td>\n",
              "      <td>47822.00</td>\n",
              "      <td>44</td>\n",
              "      <td>White</td>\n",
              "    </tr>\n",
              "    <tr>\n",
              "      <th>4</th>\n",
              "      <td>Singh, Nan</td>\n",
              "      <td>1307059817</td>\n",
              "      <td>Administrative Assistant</td>\n",
              "      <td>MA</td>\n",
              "      <td>2330</td>\n",
              "      <td>F</td>\n",
              "      <td>Single</td>\n",
              "      <td>US Citizen</td>\n",
              "      <td>Active</td>\n",
              "      <td>Admin Offices</td>\n",
              "      <td>61089.35</td>\n",
              "      <td>33</td>\n",
              "      <td>White</td>\n",
              "    </tr>\n",
              "  </tbody>\n",
              "</table>\n",
              "</div>\n",
              "      <button class=\"colab-df-convert\" onclick=\"convertToInteractive('df-29d37efe-d671-4794-9796-933dffeea448')\"\n",
              "              title=\"Convert this dataframe to an interactive table.\"\n",
              "              style=\"display:none;\">\n",
              "        \n",
              "  <svg xmlns=\"http://www.w3.org/2000/svg\" height=\"24px\"viewBox=\"0 0 24 24\"\n",
              "       width=\"24px\">\n",
              "    <path d=\"M0 0h24v24H0V0z\" fill=\"none\"/>\n",
              "    <path d=\"M18.56 5.44l.94 2.06.94-2.06 2.06-.94-2.06-.94-.94-2.06-.94 2.06-2.06.94zm-11 1L8.5 8.5l.94-2.06 2.06-.94-2.06-.94L8.5 2.5l-.94 2.06-2.06.94zm10 10l.94 2.06.94-2.06 2.06-.94-2.06-.94-.94-2.06-.94 2.06-2.06.94z\"/><path d=\"M17.41 7.96l-1.37-1.37c-.4-.4-.92-.59-1.43-.59-.52 0-1.04.2-1.43.59L10.3 9.45l-7.72 7.72c-.78.78-.78 2.05 0 2.83L4 21.41c.39.39.9.59 1.41.59.51 0 1.02-.2 1.41-.59l7.78-7.78 2.81-2.81c.8-.78.8-2.07 0-2.86zM5.41 20L4 18.59l7.72-7.72 1.47 1.35L5.41 20z\"/>\n",
              "  </svg>\n",
              "      </button>\n",
              "      \n",
              "  <style>\n",
              "    .colab-df-container {\n",
              "      display:flex;\n",
              "      flex-wrap:wrap;\n",
              "      gap: 12px;\n",
              "    }\n",
              "\n",
              "    .colab-df-convert {\n",
              "      background-color: #E8F0FE;\n",
              "      border: none;\n",
              "      border-radius: 50%;\n",
              "      cursor: pointer;\n",
              "      display: none;\n",
              "      fill: #1967D2;\n",
              "      height: 32px;\n",
              "      padding: 0 0 0 0;\n",
              "      width: 32px;\n",
              "    }\n",
              "\n",
              "    .colab-df-convert:hover {\n",
              "      background-color: #E2EBFA;\n",
              "      box-shadow: 0px 1px 2px rgba(60, 64, 67, 0.3), 0px 1px 3px 1px rgba(60, 64, 67, 0.15);\n",
              "      fill: #174EA6;\n",
              "    }\n",
              "\n",
              "    [theme=dark] .colab-df-convert {\n",
              "      background-color: #3B4455;\n",
              "      fill: #D2E3FC;\n",
              "    }\n",
              "\n",
              "    [theme=dark] .colab-df-convert:hover {\n",
              "      background-color: #434B5C;\n",
              "      box-shadow: 0px 1px 3px 1px rgba(0, 0, 0, 0.15);\n",
              "      filter: drop-shadow(0px 1px 2px rgba(0, 0, 0, 0.3));\n",
              "      fill: #FFFFFF;\n",
              "    }\n",
              "  </style>\n",
              "\n",
              "      <script>\n",
              "        const buttonEl =\n",
              "          document.querySelector('#df-29d37efe-d671-4794-9796-933dffeea448 button.colab-df-convert');\n",
              "        buttonEl.style.display =\n",
              "          google.colab.kernel.accessAllowed ? 'block' : 'none';\n",
              "\n",
              "        async function convertToInteractive(key) {\n",
              "          const element = document.querySelector('#df-29d37efe-d671-4794-9796-933dffeea448');\n",
              "          const dataTable =\n",
              "            await google.colab.kernel.invokeFunction('convertToInteractive',\n",
              "                                                     [key], {});\n",
              "          if (!dataTable) return;\n",
              "\n",
              "          const docLinkHtml = 'Like what you see? Visit the ' +\n",
              "            '<a target=\"_blank\" href=https://colab.research.google.com/notebooks/data_table.ipynb>data table notebook</a>'\n",
              "            + ' to learn more about interactive tables.';\n",
              "          element.innerHTML = '';\n",
              "          dataTable['output_type'] = 'display_data';\n",
              "          await google.colab.output.renderOutput(dataTable, element);\n",
              "          const docLink = document.createElement('div');\n",
              "          docLink.innerHTML = docLinkHtml;\n",
              "          element.appendChild(docLink);\n",
              "        }\n",
              "      </script>\n",
              "    </div>\n",
              "  </div>\n",
              "  "
            ]
          },
          "metadata": {},
          "execution_count": 21
        }
      ]
    },
    {
      "cell_type": "markdown",
      "source": [
        "Here '~' is removed this means, the outlier TRUE values will be stored in the df_trimmed and then only outliers will be printed"
      ],
      "metadata": {
        "id": "1MMyjDpNaIKJ"
      }
    },
    {
      "cell_type": "code",
      "source": [
        "df_trimmed_2 = df.loc[(outliers_df), ]\n",
        "df_trimmed_2.head()\n",
        "#These are the outliers"
      ],
      "metadata": {
        "colab": {
          "base_uri": "https://localhost:8080/",
          "height": 0
        },
        "id": "98EQ8cZsaGug",
        "outputId": "d54c6cbd-e73b-42f4-882c-4a3cc2ad95d0"
      },
      "execution_count": 22,
      "outputs": [
        {
          "output_type": "execute_result",
          "data": {
            "text/plain": [
              "            Employee_Name       EmpID                 Position State    Zip  \\\n",
              "23         Givens, Myriam  1203032099       Area Sales Manager    IN  46204   \n",
              "63           Soto, Julia   1203032263               IT Support    MA   2360   \n",
              "74      Albert, Michael    1501072311       Production Manager    MA   2169   \n",
              "216  Kinsella, Kathleen     710007401  Production Technician I    MA   2170   \n",
              "\n",
              "    Sex MaritalDesc CitizenDesc        EmploymentStatus         Department  \\\n",
              "23    F      Single  US Citizen                  Active              Sales   \n",
              "63    F     Married  US Citizen                  Active              IT/IS   \n",
              "74   M     Divorced  US Citizen                  Active  Production          \n",
              "216   F     Married  US Citizen  Voluntarily Terminated  Production          \n",
              "\n",
              "      Salaries  age                       Race  \n",
              "23    96708.02   37                      White  \n",
              "63    96573.02   52  Black or African American  \n",
              "74    96299.04   46                      White  \n",
              "216  108304.00   27                      White  "
            ],
            "text/html": [
              "\n",
              "  <div id=\"df-97560b40-e711-46c6-9b56-2327de82ee1e\">\n",
              "    <div class=\"colab-df-container\">\n",
              "      <div>\n",
              "<style scoped>\n",
              "    .dataframe tbody tr th:only-of-type {\n",
              "        vertical-align: middle;\n",
              "    }\n",
              "\n",
              "    .dataframe tbody tr th {\n",
              "        vertical-align: top;\n",
              "    }\n",
              "\n",
              "    .dataframe thead th {\n",
              "        text-align: right;\n",
              "    }\n",
              "</style>\n",
              "<table border=\"1\" class=\"dataframe\">\n",
              "  <thead>\n",
              "    <tr style=\"text-align: right;\">\n",
              "      <th></th>\n",
              "      <th>Employee_Name</th>\n",
              "      <th>EmpID</th>\n",
              "      <th>Position</th>\n",
              "      <th>State</th>\n",
              "      <th>Zip</th>\n",
              "      <th>Sex</th>\n",
              "      <th>MaritalDesc</th>\n",
              "      <th>CitizenDesc</th>\n",
              "      <th>EmploymentStatus</th>\n",
              "      <th>Department</th>\n",
              "      <th>Salaries</th>\n",
              "      <th>age</th>\n",
              "      <th>Race</th>\n",
              "    </tr>\n",
              "  </thead>\n",
              "  <tbody>\n",
              "    <tr>\n",
              "      <th>23</th>\n",
              "      <td>Givens, Myriam</td>\n",
              "      <td>1203032099</td>\n",
              "      <td>Area Sales Manager</td>\n",
              "      <td>IN</td>\n",
              "      <td>46204</td>\n",
              "      <td>F</td>\n",
              "      <td>Single</td>\n",
              "      <td>US Citizen</td>\n",
              "      <td>Active</td>\n",
              "      <td>Sales</td>\n",
              "      <td>96708.02</td>\n",
              "      <td>37</td>\n",
              "      <td>White</td>\n",
              "    </tr>\n",
              "    <tr>\n",
              "      <th>63</th>\n",
              "      <td>Soto, Julia</td>\n",
              "      <td>1203032263</td>\n",
              "      <td>IT Support</td>\n",
              "      <td>MA</td>\n",
              "      <td>2360</td>\n",
              "      <td>F</td>\n",
              "      <td>Married</td>\n",
              "      <td>US Citizen</td>\n",
              "      <td>Active</td>\n",
              "      <td>IT/IS</td>\n",
              "      <td>96573.02</td>\n",
              "      <td>52</td>\n",
              "      <td>Black or African American</td>\n",
              "    </tr>\n",
              "    <tr>\n",
              "      <th>74</th>\n",
              "      <td>Albert, Michael</td>\n",
              "      <td>1501072311</td>\n",
              "      <td>Production Manager</td>\n",
              "      <td>MA</td>\n",
              "      <td>2169</td>\n",
              "      <td>M</td>\n",
              "      <td>Divorced</td>\n",
              "      <td>US Citizen</td>\n",
              "      <td>Active</td>\n",
              "      <td>Production</td>\n",
              "      <td>96299.04</td>\n",
              "      <td>46</td>\n",
              "      <td>White</td>\n",
              "    </tr>\n",
              "    <tr>\n",
              "      <th>216</th>\n",
              "      <td>Kinsella, Kathleen</td>\n",
              "      <td>710007401</td>\n",
              "      <td>Production Technician I</td>\n",
              "      <td>MA</td>\n",
              "      <td>2170</td>\n",
              "      <td>F</td>\n",
              "      <td>Married</td>\n",
              "      <td>US Citizen</td>\n",
              "      <td>Voluntarily Terminated</td>\n",
              "      <td>Production</td>\n",
              "      <td>108304.00</td>\n",
              "      <td>27</td>\n",
              "      <td>White</td>\n",
              "    </tr>\n",
              "  </tbody>\n",
              "</table>\n",
              "</div>\n",
              "      <button class=\"colab-df-convert\" onclick=\"convertToInteractive('df-97560b40-e711-46c6-9b56-2327de82ee1e')\"\n",
              "              title=\"Convert this dataframe to an interactive table.\"\n",
              "              style=\"display:none;\">\n",
              "        \n",
              "  <svg xmlns=\"http://www.w3.org/2000/svg\" height=\"24px\"viewBox=\"0 0 24 24\"\n",
              "       width=\"24px\">\n",
              "    <path d=\"M0 0h24v24H0V0z\" fill=\"none\"/>\n",
              "    <path d=\"M18.56 5.44l.94 2.06.94-2.06 2.06-.94-2.06-.94-.94-2.06-.94 2.06-2.06.94zm-11 1L8.5 8.5l.94-2.06 2.06-.94-2.06-.94L8.5 2.5l-.94 2.06-2.06.94zm10 10l.94 2.06.94-2.06 2.06-.94-2.06-.94-.94-2.06-.94 2.06-2.06.94z\"/><path d=\"M17.41 7.96l-1.37-1.37c-.4-.4-.92-.59-1.43-.59-.52 0-1.04.2-1.43.59L10.3 9.45l-7.72 7.72c-.78.78-.78 2.05 0 2.83L4 21.41c.39.39.9.59 1.41.59.51 0 1.02-.2 1.41-.59l7.78-7.78 2.81-2.81c.8-.78.8-2.07 0-2.86zM5.41 20L4 18.59l7.72-7.72 1.47 1.35L5.41 20z\"/>\n",
              "  </svg>\n",
              "      </button>\n",
              "      \n",
              "  <style>\n",
              "    .colab-df-container {\n",
              "      display:flex;\n",
              "      flex-wrap:wrap;\n",
              "      gap: 12px;\n",
              "    }\n",
              "\n",
              "    .colab-df-convert {\n",
              "      background-color: #E8F0FE;\n",
              "      border: none;\n",
              "      border-radius: 50%;\n",
              "      cursor: pointer;\n",
              "      display: none;\n",
              "      fill: #1967D2;\n",
              "      height: 32px;\n",
              "      padding: 0 0 0 0;\n",
              "      width: 32px;\n",
              "    }\n",
              "\n",
              "    .colab-df-convert:hover {\n",
              "      background-color: #E2EBFA;\n",
              "      box-shadow: 0px 1px 2px rgba(60, 64, 67, 0.3), 0px 1px 3px 1px rgba(60, 64, 67, 0.15);\n",
              "      fill: #174EA6;\n",
              "    }\n",
              "\n",
              "    [theme=dark] .colab-df-convert {\n",
              "      background-color: #3B4455;\n",
              "      fill: #D2E3FC;\n",
              "    }\n",
              "\n",
              "    [theme=dark] .colab-df-convert:hover {\n",
              "      background-color: #434B5C;\n",
              "      box-shadow: 0px 1px 3px 1px rgba(0, 0, 0, 0.15);\n",
              "      filter: drop-shadow(0px 1px 2px rgba(0, 0, 0, 0.3));\n",
              "      fill: #FFFFFF;\n",
              "    }\n",
              "  </style>\n",
              "\n",
              "      <script>\n",
              "        const buttonEl =\n",
              "          document.querySelector('#df-97560b40-e711-46c6-9b56-2327de82ee1e button.colab-df-convert');\n",
              "        buttonEl.style.display =\n",
              "          google.colab.kernel.accessAllowed ? 'block' : 'none';\n",
              "\n",
              "        async function convertToInteractive(key) {\n",
              "          const element = document.querySelector('#df-97560b40-e711-46c6-9b56-2327de82ee1e');\n",
              "          const dataTable =\n",
              "            await google.colab.kernel.invokeFunction('convertToInteractive',\n",
              "                                                     [key], {});\n",
              "          if (!dataTable) return;\n",
              "\n",
              "          const docLinkHtml = 'Like what you see? Visit the ' +\n",
              "            '<a target=\"_blank\" href=https://colab.research.google.com/notebooks/data_table.ipynb>data table notebook</a>'\n",
              "            + ' to learn more about interactive tables.';\n",
              "          element.innerHTML = '';\n",
              "          dataTable['output_type'] = 'display_data';\n",
              "          await google.colab.output.renderOutput(dataTable, element);\n",
              "          const docLink = document.createElement('div');\n",
              "          docLink.innerHTML = docLinkHtml;\n",
              "          element.appendChild(docLink);\n",
              "        }\n",
              "      </script>\n",
              "    </div>\n",
              "  </div>\n",
              "  "
            ]
          },
          "metadata": {},
          "execution_count": 22
        }
      ]
    },
    {
      "cell_type": "code",
      "source": [
        "df.shape, df_trimmed.shape"
      ],
      "metadata": {
        "colab": {
          "base_uri": "https://localhost:8080/"
        },
        "id": "Tejas2UvYVBJ",
        "outputId": "4c9248f9-ee6d-4b2d-9f47-5f6ea90c96b9"
      },
      "execution_count": 23,
      "outputs": [
        {
          "output_type": "execute_result",
          "data": {
            "text/plain": [
              "((310, 13), (306, 13))"
            ]
          },
          "metadata": {},
          "execution_count": 23
        }
      ]
    },
    {
      "cell_type": "code",
      "source": [
        "# Let's explore outliers in the trimmed dataset\n",
        "sns.boxplot(df_trimmed.Salaries)\n",
        "# We see no outliers"
      ],
      "metadata": {
        "colab": {
          "base_uri": "https://localhost:8080/",
          "height": 0
        },
        "id": "PuxjVgHR3Riv",
        "outputId": "e3a30364-df5f-4e60-e8d8-1524d57b0003"
      },
      "execution_count": 24,
      "outputs": [
        {
          "output_type": "stream",
          "name": "stderr",
          "text": [
            "/usr/local/lib/python3.7/dist-packages/seaborn/_decorators.py:43: FutureWarning: Pass the following variable as a keyword arg: x. From version 0.12, the only valid positional argument will be `data`, and passing other arguments without an explicit keyword will result in an error or misinterpretation.\n",
            "  FutureWarning\n"
          ]
        },
        {
          "output_type": "execute_result",
          "data": {
            "text/plain": [
              "<matplotlib.axes._subplots.AxesSubplot at 0x7f041e4e1410>"
            ]
          },
          "metadata": {},
          "execution_count": 24
        },
        {
          "output_type": "display_data",
          "data": {
            "text/plain": [
              "<Figure size 432x288 with 1 Axes>"
            ],
            "image/png": "[encoded data removed]"
          },
          "metadata": {
            "needs_background": "light"
          }
        }
      ]
    },
    {
      "cell_type": "markdown",
      "source": [
        "###2. Replace###"
      ],
      "metadata": {
        "id": "cnJT1nHO3VY1"
      }
    },
    {
      "cell_type": "markdown",
      "source": [
        "Here, 'df_replaced' named new column is created and and values greater than upper limit are eplavced with upper limit value and same for lower limit"
      ],
      "metadata": {
        "id": "vnQIFv9pgCbR"
      }
    },
    {
      "cell_type": "markdown",
      "source": [
        "Syntax :- \n",
        "variable_name or (where you want to assign) = pd.Dataframe(np.where(df['Variable1] _condition_, (if condition full filled then what to do), np.where(df['Variable2'] _condition_ (if condition full filled then what to do), (if both both conditions are not satisfied then what to do)"
      ],
      "metadata": {
        "id": "kv_0KT9-gtat"
      }
    },
    {
      "cell_type": "code",
      "source": [
        "# Replace the outliers by the maximum and minimum limit\n",
        "df['df_replaced'] = pd.DataFrame(np.where(df['Salaries'] > upper_limit, upper_limit, np.where(df['Salaries'] < lower_limit, lower_limit, df['Salaries'])))\n",
        "#plotting is doneof new column 'df_replaced'\n",
        "sns.boxplot(df.df_replaced)"
      ],
      "metadata": {
        "colab": {
          "base_uri": "https://localhost:8080/",
          "height": 0
        },
        "id": "myrC1Ohx3Ya4",
        "outputId": "cf5c816f-c4d5-4d83-bb6f-da34bb9657cb"
      },
      "execution_count": 25,
      "outputs": [
        {
          "output_type": "stream",
          "name": "stderr",
          "text": [
            "/usr/local/lib/python3.7/dist-packages/seaborn/_decorators.py:43: FutureWarning: Pass the following variable as a keyword arg: x. From version 0.12, the only valid positional argument will be `data`, and passing other arguments without an explicit keyword will result in an error or misinterpretation.\n",
            "  FutureWarning\n"
          ]
        },
        {
          "output_type": "execute_result",
          "data": {
            "text/plain": [
              "<matplotlib.axes._subplots.AxesSubplot at 0x7f0417b053d0>"
            ]
          },
          "metadata": {},
          "execution_count": 25
        },
        {
          "output_type": "display_data",
          "data": {
            "text/plain": [
              "<Figure size 432x288 with 1 Axes>"
            ],
            "image/png": "[encoded data removed]"
          },
          "metadata": {
            "needs_background": "light"
          }
        }
      ]
    },
    {
      "cell_type": "code",
      "source": [
        "df.info()"
      ],
      "metadata": {
        "colab": {
          "base_uri": "https://localhost:8080/"
        },
        "id": "L6_PNl6lgL6b",
        "outputId": "5d4676f1-eb3e-4bfd-ca19-90dd164a5eb1"
      },
      "execution_count": 26,
      "outputs": [
        {
          "output_type": "stream",
          "name": "stdout",
          "text": [
            "<class 'pandas.core.frame.DataFrame'>\n",
            "RangeIndex: 310 entries, 0 to 309\n",
            "Data columns (total 14 columns):\n",
            " #   Column            Non-Null Count  Dtype  \n",
            "---  ------            --------------  -----  \n",
            " 0   Employee_Name     310 non-null    object \n",
            " 1   EmpID             310 non-null    int64  \n",
            " 2   Position          310 non-null    object \n",
            " 3   State             310 non-null    object \n",
            " 4   Zip               310 non-null    int64  \n",
            " 5   Sex               310 non-null    object \n",
            " 6   MaritalDesc       310 non-null    object \n",
            " 7   CitizenDesc       310 non-null    object \n",
            " 8   EmploymentStatus  310 non-null    object \n",
            " 9   Department        310 non-null    object \n",
            " 10  Salaries          310 non-null    float64\n",
            " 11  age               310 non-null    int64  \n",
            " 12  Race              310 non-null    object \n",
            " 13  df_replaced       310 non-null    float64\n",
            "dtypes: float64(2), int64(3), object(9)\n",
            "memory usage: 34.0+ KB\n"
          ]
        }
      ]
    },
    {
      "cell_type": "markdown",
      "source": [
        "###3. Winsorization###"
      ],
      "metadata": {
        "id": "R8uPyxv43dD8"
      }
    },
    {
      "cell_type": "code",
      "source": [
        "pip install feature_engine"
      ],
      "metadata": {
        "colab": {
          "base_uri": "https://localhost:8080/"
        },
        "id": "2fEigxLyTWcg",
        "outputId": "8296186d-87a6-4ff7-c785-3acc8b79c7e2"
      },
      "execution_count": 27,
      "outputs": [
        {
          "output_type": "stream",
          "name": "stdout",
          "text": [
            "Looking in indexes: https://pypi.org/simple, https://us-python.pkg.dev/colab-wheels/public/simple/\n",
            "Collecting feature_engine\n",
            "  Downloading feature_engine-1.4.0-py2.py3-none-any.whl (276 kB)\n",
            "\u001b[K     |████████████████████████████████| 276 kB 8.7 MB/s \n",
            "\u001b[?25hRequirement already satisfied: pandas>=1.0.3 in /usr/local/lib/python3.7/dist-packages (from feature_engine) (1.3.5)\n",
            "Requirement already satisfied: numpy>=1.18.2 in /usr/local/lib/python3.7/dist-packages (from feature_engine) (1.21.6)\n",
            "Requirement already satisfied: statsmodels>=0.11.1 in /usr/local/lib/python3.7/dist-packages (from feature_engine) (0.12.2)\n",
            "Requirement already satisfied: scipy>=1.4.1 in /usr/local/lib/python3.7/dist-packages (from feature_engine) (1.7.3)\n",
            "Requirement already satisfied: scikit-learn>=1.0.0 in /usr/local/lib/python3.7/dist-packages (from feature_engine) (1.0.2)\n",
            "Requirement already satisfied: pytz>=2017.3 in /usr/local/lib/python3.7/dist-packages (from pandas>=1.0.3->feature_engine) (2022.2.1)\n",
            "Requirement already satisfied: python-dateutil>=2.7.3 in /usr/local/lib/python3.7/dist-packages (from pandas>=1.0.3->feature_engine) (2.8.2)\n",
            "Requirement already satisfied: six>=1.5 in /usr/local/lib/python3.7/dist-packages (from python-dateutil>=2.7.3->pandas>=1.0.3->feature_engine) (1.15.0)\n",
            "Requirement already satisfied: threadpoolctl>=2.0.0 in /usr/local/lib/python3.7/dist-packages (from scikit-learn>=1.0.0->feature_engine) (3.1.0)\n",
            "Requirement already satisfied: joblib>=0.11 in /usr/local/lib/python3.7/dist-packages (from scikit-learn>=1.0.0->feature_engine) (1.1.0)\n",
            "Requirement already satisfied: patsy>=0.5 in /usr/local/lib/python3.7/dist-packages (from statsmodels>=0.11.1->feature_engine) (0.5.2)\n",
            "Installing collected packages: feature-engine\n",
            "Successfully installed feature-engine-1.4.0\n"
          ]
        }
      ]
    },
    {
      "cell_type": "code",
      "source": [
        "# pip install feature_engine   # install the package\n",
        "from feature_engine.outliers import Winsorizer\n",
        "winsor = Winsorizer(capping_method='iqr', # choose  IQR rule boundaries or gaussian for mean and std\n",
        "                          tail='both', # cap left, right or both tails \n",
        "                          fold=1.5,\n",
        "                          variables=['Salaries'])"
      ],
      "metadata": {
        "id": "0PV0rpoT3hvJ"
      },
      "execution_count": 28,
      "outputs": []
    },
    {
      "cell_type": "code",
      "source": [
        "df_t = winsor.fit_transform(df[['Salaries']])\n",
        "\n",
        "# Inspect the minimum caps and maximum caps \n",
        "# winsor.left_tail_caps_, winsor.right_tail_caps_"
      ],
      "metadata": {
        "id": "cHVQJBu-3lLn"
      },
      "execution_count": 29,
      "outputs": []
    },
    {
      "cell_type": "code",
      "source": [
        "# Let's see boxplot\n",
        "sns.boxplot(df_t.Salaries)"
      ],
      "metadata": {
        "colab": {
          "base_uri": "https://localhost:8080/",
          "height": 0
        },
        "id": "nhr7l65W3pHE",
        "outputId": "b4e378a2-931c-45a0-bfc8-03007a12c5b4"
      },
      "execution_count": 30,
      "outputs": [
        {
          "output_type": "stream",
          "name": "stderr",
          "text": [
            "/usr/local/lib/python3.7/dist-packages/seaborn/_decorators.py:43: FutureWarning: Pass the following variable as a keyword arg: x. From version 0.12, the only valid positional argument will be `data`, and passing other arguments without an explicit keyword will result in an error or misinterpretation.\n",
            "  FutureWarning\n"
          ]
        },
        {
          "output_type": "execute_result",
          "data": {
            "text/plain": [
              "<matplotlib.axes._subplots.AxesSubplot at 0x7f0416e64990>"
            ]
          },
          "metadata": {},
          "execution_count": 30
        },
        {
          "output_type": "display_data",
          "data": {
            "text/plain": [
              "<Figure size 432x288 with 1 Axes>"
            ],
            "image/png": "[encoded data removed]"
          },
          "metadata": {
            "needs_background": "light"
          }
        }
      ]
    },
    {
      "cell_type": "markdown",
      "source": [
        "#Zero Variance & Near Zero Variance#"
      ],
      "metadata": {
        "id": "g0160rlg3th6"
      }
    },
    {
      "cell_type": "markdown",
      "source": [
        "If the variance is low or close to zero, then a feature is approximately constant and will not improve the performance of the model. In that case, it should be removed. "
      ],
      "metadata": {
        "id": "_3QBmNbC5zWg"
      }
    },
    {
      "cell_type": "code",
      "source": [
        "df.var() # variance of numeric variables\n",
        "df.var() == 0\n",
        "df.var(axis=0) == 0"
      ],
      "metadata": {
        "colab": {
          "base_uri": "https://localhost:8080/"
        },
        "id": "DMqPI9d03yud",
        "outputId": "8f202a6f-6ef8-42b3-c21d-60daeaf257c2"
      },
      "execution_count": 31,
      "outputs": [
        {
          "output_type": "stream",
          "name": "stderr",
          "text": [
            "/usr/local/lib/python3.7/dist-packages/ipykernel_launcher.py:1: FutureWarning: Dropping of nuisance columns in DataFrame reductions (with 'numeric_only=None') is deprecated; in a future version this will raise TypeError.  Select only valid columns before calling the reduction.\n",
            "  \"\"\"Entry point for launching an IPython kernel.\n",
            "/usr/local/lib/python3.7/dist-packages/ipykernel_launcher.py:2: FutureWarning: Dropping of nuisance columns in DataFrame reductions (with 'numeric_only=None') is deprecated; in a future version this will raise TypeError.  Select only valid columns before calling the reduction.\n",
            "  \n",
            "/usr/local/lib/python3.7/dist-packages/ipykernel_launcher.py:3: FutureWarning: Dropping of nuisance columns in DataFrame reductions (with 'numeric_only=None') is deprecated; in a future version this will raise TypeError.  Select only valid columns before calling the reduction.\n",
            "  This is separate from the ipykernel package so we can avoid doing imports until\n"
          ]
        },
        {
          "output_type": "execute_result",
          "data": {
            "text/plain": [
              "EmpID          False\n",
              "Zip            False\n",
              "Salaries       False\n",
              "age            False\n",
              "df_replaced    False\n",
              "dtype: bool"
            ]
          },
          "metadata": {},
          "execution_count": 31
        }
      ]
    },
    {
      "cell_type": "markdown",
      "source": [
        "#Missing Values :- Imputation#"
      ],
      "metadata": {
        "id": "6Nv7LJk66Mch"
      }
    },
    {
      "cell_type": "code",
      "source": [
        "import numpy as np\n",
        "import pandas as pd\n",
        "import matplotlib.pyplot as plt\n",
        "\n",
        "# Load the dataset\n",
        "# Use the modified ethnic dataset\n",
        "df = pd.read_csv('modified ethnic.csv') # for doing modifications\n",
        "\n",
        "# Check for count of NA's in each column\n",
        "df.isna().sum()\n",
        "\n",
        "# Create an imputer object that fills 'Nan' values\n",
        "# Mean and Median imputer are used for numeric data (Salaries)\n",
        "# Mode is used for discrete data (ex: Position, Sex, MaritalDesc"
      ],
      "metadata": {
        "colab": {
          "base_uri": "https://localhost:8080/"
        },
        "id": "8n3Nnqdl6N5K",
        "outputId": "e9da9239-a4b7-4fdf-9f9e-f3c87582ec93"
      },
      "execution_count": 32,
      "outputs": [
        {
          "output_type": "execute_result",
          "data": {
            "text/plain": [
              "Position            43\n",
              "State               35\n",
              "Sex                 34\n",
              "MaritalDesc         29\n",
              "CitizenDesc         27\n",
              "EmploymentStatus    32\n",
              "Department          18\n",
              "Salaries            32\n",
              "age                 35\n",
              "Race                25\n",
              "dtype: int64"
            ]
          },
          "metadata": {},
          "execution_count": 32
        }
      ]
    },
    {
      "cell_type": "markdown",
      "source": [
        "There can be atleast 43 missingness in rows and maximum missingness in columns can be 310"
      ],
      "metadata": {
        "id": "99mdcSALSGqz"
      }
    },
    {
      "cell_type": "code",
      "source": [
        "# For Mean, Median, Mode imputation we can use Simple Imputer or df.fillna()\n",
        "from sklearn.impute import SimpleImputer\n",
        "sns.boxplot(df.Salaries)"
      ],
      "metadata": {
        "colab": {
          "base_uri": "https://localhost:8080/",
          "height": 353
        },
        "id": "XEeKT_2_6Y6H",
        "outputId": "386076a4-e60b-4ed3-f57b-4b5fa9fa535b"
      },
      "execution_count": 33,
      "outputs": [
        {
          "output_type": "stream",
          "name": "stderr",
          "text": [
            "/usr/local/lib/python3.7/dist-packages/seaborn/_decorators.py:43: FutureWarning: Pass the following variable as a keyword arg: x. From version 0.12, the only valid positional argument will be `data`, and passing other arguments without an explicit keyword will result in an error or misinterpretation.\n",
            "  FutureWarning\n"
          ]
        },
        {
          "output_type": "execute_result",
          "data": {
            "text/plain": [
              "<matplotlib.axes._subplots.AxesSubplot at 0x7f04165214d0>"
            ]
          },
          "metadata": {},
          "execution_count": 33
        },
        {
          "output_type": "display_data",
          "data": {
            "text/plain": [
              "<Figure size 432x288 with 1 Axes>"
            ],
            "image/png": "[encoded data removed]"
          },
          "metadata": {
            "needs_background": "light"
          }
        }
      ]
    },
    {
      "cell_type": "markdown",
      "source": [
        "There is missingness in the salary column then, in this case matplotlib does not work. So we have to use seaborn as sns"
      ],
      "metadata": {
        "id": "Sl8f_r3BYFRB"
      }
    },
    {
      "cell_type": "markdown",
      "source": [
        "##Median Imputer##"
      ],
      "metadata": {
        "id": "kCcGBgPp6bwn"
      }
    },
    {
      "cell_type": "code",
      "source": [
        "median_imputer = SimpleImputer(missing_values=np.nan, strategy='mean')\n",
        "df[\"Salaries\"] = pd.DataFrame(median_imputer.fit_transform(df[[\"Salaries\"]]))\n",
        "df[\"Salaries\"].isna().sum()"
      ],
      "metadata": {
        "colab": {
          "base_uri": "https://localhost:8080/"
        },
        "id": "xnZIHVgn6gQT",
        "outputId": "20fa6c8e-bc96-4342-8477-9c7d443bafcc"
      },
      "execution_count": 34,
      "outputs": [
        {
          "output_type": "execute_result",
          "data": {
            "text/plain": [
              "0"
            ]
          },
          "metadata": {},
          "execution_count": 34
        }
      ]
    },
    {
      "cell_type": "markdown",
      "source": [
        "##Mean Imputer##"
      ],
      "metadata": {
        "id": "t32eon6G6kcB"
      }
    },
    {
      "cell_type": "code",
      "source": [
        "mean_imputer = SimpleImputer(missing_values=np.nan, strategy='median')\n",
        "df[\"age\"] = pd.DataFrame(mean_imputer.fit_transform(df[[\"age\"]]))\n",
        "df[\"age\"].isna().sum()  # all 2 records replaced by median \n",
        "\n",
        "df.isna().sum()"
      ],
      "metadata": {
        "colab": {
          "base_uri": "https://localhost:8080/"
        },
        "id": "h-Uh-rfe6n7F",
        "outputId": "ec0039dc-b969-47c8-bb7c-cd7d488cc83d"
      },
      "execution_count": 35,
      "outputs": [
        {
          "output_type": "execute_result",
          "data": {
            "text/plain": [
              "Position            43\n",
              "State               35\n",
              "Sex                 34\n",
              "MaritalDesc         29\n",
              "CitizenDesc         27\n",
              "EmploymentStatus    32\n",
              "Department          18\n",
              "Salaries             0\n",
              "age                  0\n",
              "Race                25\n",
              "dtype: int64"
            ]
          },
          "metadata": {},
          "execution_count": 35
        }
      ]
    },
    {
      "cell_type": "markdown",
      "source": [
        "##Mode Imputer##"
      ],
      "metadata": {
        "id": "UazcufgX6qVc"
      }
    },
    {
      "cell_type": "code",
      "source": [
        "mode_imputer = SimpleImputer(missing_values=np.nan, strategy='most_frequent')\n",
        "df[\"Sex\"] = pd.DataFrame(mode_imputer.fit_transform(df[[\"Sex\"]]))\n",
        "df[\"MaritalDesc\"] = pd.DataFrame(mode_imputer.fit_transform(df[[\"MaritalDesc\"]]))\n",
        "df.isnull().sum()  # all Sex, MaritalDesc records replaced by mode"
      ],
      "metadata": {
        "colab": {
          "base_uri": "https://localhost:8080/"
        },
        "id": "S26oTHo361ev",
        "outputId": "a75ee305-65bd-4b0b-d8c9-17744157cda7"
      },
      "execution_count": 36,
      "outputs": [
        {
          "output_type": "execute_result",
          "data": {
            "text/plain": [
              "Position            43\n",
              "State               35\n",
              "Sex                  0\n",
              "MaritalDesc          0\n",
              "CitizenDesc         27\n",
              "EmploymentStatus    32\n",
              "Department          18\n",
              "Salaries             0\n",
              "age                  0\n",
              "Race                25\n",
              "dtype: int64"
            ]
          },
          "metadata": {},
          "execution_count": 36
        }
      ]
    },
    {
      "cell_type": "markdown",
      "source": [
        "Doing same thing for Position"
      ],
      "metadata": {
        "id": "XsckSQ38BMZM"
      }
    },
    {
      "cell_type": "code",
      "source": [
        "df[\"Position\"] = pd.DataFrame(mode_imputer.fit_transform(df[[\"Position\"]]))"
      ],
      "metadata": {
        "id": "ZcmEVcclBLQe"
      },
      "execution_count": 37,
      "outputs": []
    },
    {
      "cell_type": "code",
      "source": [
        "df.isnull().sum()  # all Sex, MaritalDesc records replaced by mode"
      ],
      "metadata": {
        "colab": {
          "base_uri": "https://localhost:8080/"
        },
        "id": "s1-1R4qqCyg8",
        "outputId": "4e95ad3e-f1f5-4647-a5f2-b6d6da57165d"
      },
      "execution_count": 39,
      "outputs": [
        {
          "output_type": "execute_result",
          "data": {
            "text/plain": [
              "Position             0\n",
              "State               35\n",
              "Sex                  0\n",
              "MaritalDesc          0\n",
              "CitizenDesc         27\n",
              "EmploymentStatus    32\n",
              "Department          18\n",
              "Salaries             0\n",
              "age                  0\n",
              "Race                25\n",
              "dtype: int64"
            ]
          },
          "metadata": {},
          "execution_count": 39
        }
      ]
    },
    {
      "cell_type": "markdown",
      "source": [
        "Here, Missingness for Positin is became 0"
      ],
      "metadata": {
        "id": "35_-NJiDC0h1"
      }
    },
    {
      "cell_type": "markdown",
      "source": [
        "#Discreation/Binning/Grouping#"
      ],
      "metadata": {
        "id": "l8FE6Npc67dN"
      }
    },
    {
      "cell_type": "code",
      "source": [
        "import pandas as pd\n",
        "data = pd.read_csv(\"ethnic diversity.csv\")\n",
        "data.head()"
      ],
      "metadata": {
        "id": "h3gWdKjI7A1s",
        "colab": {
          "base_uri": "https://localhost:8080/",
          "height": 392
        },
        "outputId": "8ad0a5eb-6097-487b-a654-9ba072999747"
      },
      "execution_count": 40,
      "outputs": [
        {
          "output_type": "execute_result",
          "data": {
            "text/plain": [
              "          Employee_Name       EmpID                  Position State   Zip Sex  \\\n",
              "0            Brown, Mia  1103024456              Accountant I    MA  1450   F   \n",
              "1  LaRotonda, William    1106026572              Accountant I    MA  1460  M    \n",
              "2      Steans, Tyrone    1302053333              Accountant I    MA  2703  M    \n",
              "3       Howard, Estelle  1211050782  Administrative Assistant    MA  2170   F   \n",
              "4           Singh, Nan   1307059817  Administrative Assistant    MA  2330   F   \n",
              "\n",
              "  MaritalDesc CitizenDesc      EmploymentStatus     Department  Salaries  age  \\\n",
              "0     Married  US Citizen                Active  Admin Offices    674.28   28   \n",
              "1    Divorced  US Citizen                Active  Admin Offices    674.28   50   \n",
              "2      Single  US Citizen                Active  Admin Offices    674.28   43   \n",
              "3     Married  US Citizen  Terminated for Cause  Admin Offices  47822.00   44   \n",
              "4      Single  US Citizen                Active  Admin Offices  61089.35   33   \n",
              "\n",
              "                        Race  \n",
              "0  Black or African American  \n",
              "1  Black or African American  \n",
              "2                      White  \n",
              "3                      White  \n",
              "4                      White  "
            ],
            "text/html": [
              "\n",
              "  <div id=\"df-f4e8fb20-cbe2-4101-8191-f78f5b68be8a\">\n",
              "    <div class=\"colab-df-container\">\n",
              "      <div>\n",
              "<style scoped>\n",
              "    .dataframe tbody tr th:only-of-type {\n",
              "        vertical-align: middle;\n",
              "    }\n",
              "\n",
              "    .dataframe tbody tr th {\n",
              "        vertical-align: top;\n",
              "    }\n",
              "\n",
              "    .dataframe thead th {\n",
              "        text-align: right;\n",
              "    }\n",
              "</style>\n",
              "<table border=\"1\" class=\"dataframe\">\n",
              "  <thead>\n",
              "    <tr style=\"text-align: right;\">\n",
              "      <th></th>\n",
              "      <th>Employee_Name</th>\n",
              "      <th>EmpID</th>\n",
              "      <th>Position</th>\n",
              "      <th>State</th>\n",
              "      <th>Zip</th>\n",
              "      <th>Sex</th>\n",
              "      <th>MaritalDesc</th>\n",
              "      <th>CitizenDesc</th>\n",
              "      <th>EmploymentStatus</th>\n",
              "      <th>Department</th>\n",
              "      <th>Salaries</th>\n",
              "      <th>age</th>\n",
              "      <th>Race</th>\n",
              "    </tr>\n",
              "  </thead>\n",
              "  <tbody>\n",
              "    <tr>\n",
              "      <th>0</th>\n",
              "      <td>Brown, Mia</td>\n",
              "      <td>1103024456</td>\n",
              "      <td>Accountant I</td>\n",
              "      <td>MA</td>\n",
              "      <td>1450</td>\n",
              "      <td>F</td>\n",
              "      <td>Married</td>\n",
              "      <td>US Citizen</td>\n",
              "      <td>Active</td>\n",
              "      <td>Admin Offices</td>\n",
              "      <td>674.28</td>\n",
              "      <td>28</td>\n",
              "      <td>Black or African American</td>\n",
              "    </tr>\n",
              "    <tr>\n",
              "      <th>1</th>\n",
              "      <td>LaRotonda, William</td>\n",
              "      <td>1106026572</td>\n",
              "      <td>Accountant I</td>\n",
              "      <td>MA</td>\n",
              "      <td>1460</td>\n",
              "      <td>M</td>\n",
              "      <td>Divorced</td>\n",
              "      <td>US Citizen</td>\n",
              "      <td>Active</td>\n",
              "      <td>Admin Offices</td>\n",
              "      <td>674.28</td>\n",
              "      <td>50</td>\n",
              "      <td>Black or African American</td>\n",
              "    </tr>\n",
              "    <tr>\n",
              "      <th>2</th>\n",
              "      <td>Steans, Tyrone</td>\n",
              "      <td>1302053333</td>\n",
              "      <td>Accountant I</td>\n",
              "      <td>MA</td>\n",
              "      <td>2703</td>\n",
              "      <td>M</td>\n",
              "      <td>Single</td>\n",
              "      <td>US Citizen</td>\n",
              "      <td>Active</td>\n",
              "      <td>Admin Offices</td>\n",
              "      <td>674.28</td>\n",
              "      <td>43</td>\n",
              "      <td>White</td>\n",
              "    </tr>\n",
              "    <tr>\n",
              "      <th>3</th>\n",
              "      <td>Howard, Estelle</td>\n",
              "      <td>1211050782</td>\n",
              "      <td>Administrative Assistant</td>\n",
              "      <td>MA</td>\n",
              "      <td>2170</td>\n",
              "      <td>F</td>\n",
              "      <td>Married</td>\n",
              "      <td>US Citizen</td>\n",
              "      <td>Terminated for Cause</td>\n",
              "      <td>Admin Offices</td>\n",
              "      <td>47822.00</td>\n",
              "      <td>44</td>\n",
              "      <td>White</td>\n",
              "    </tr>\n",
              "    <tr>\n",
              "      <th>4</th>\n",
              "      <td>Singh, Nan</td>\n",
              "      <td>1307059817</td>\n",
              "      <td>Administrative Assistant</td>\n",
              "      <td>MA</td>\n",
              "      <td>2330</td>\n",
              "      <td>F</td>\n",
              "      <td>Single</td>\n",
              "      <td>US Citizen</td>\n",
              "      <td>Active</td>\n",
              "      <td>Admin Offices</td>\n",
              "      <td>61089.35</td>\n",
              "      <td>33</td>\n",
              "      <td>White</td>\n",
              "    </tr>\n",
              "  </tbody>\n",
              "</table>\n",
              "</div>\n",
              "      <button class=\"colab-df-convert\" onclick=\"convertToInteractive('df-f4e8fb20-cbe2-4101-8191-f78f5b68be8a')\"\n",
              "              title=\"Convert this dataframe to an interactive table.\"\n",
              "              style=\"display:none;\">\n",
              "        \n",
              "  <svg xmlns=\"http://www.w3.org/2000/svg\" height=\"24px\"viewBox=\"0 0 24 24\"\n",
              "       width=\"24px\">\n",
              "    <path d=\"M0 0h24v24H0V0z\" fill=\"none\"/>\n",
              "    <path d=\"M18.56 5.44l.94 2.06.94-2.06 2.06-.94-2.06-.94-.94-2.06-.94 2.06-2.06.94zm-11 1L8.5 8.5l.94-2.06 2.06-.94-2.06-.94L8.5 2.5l-.94 2.06-2.06.94zm10 10l.94 2.06.94-2.06 2.06-.94-2.06-.94-.94-2.06-.94 2.06-2.06.94z\"/><path d=\"M17.41 7.96l-1.37-1.37c-.4-.4-.92-.59-1.43-.59-.52 0-1.04.2-1.43.59L10.3 9.45l-7.72 7.72c-.78.78-.78 2.05 0 2.83L4 21.41c.39.39.9.59 1.41.59.51 0 1.02-.2 1.41-.59l7.78-7.78 2.81-2.81c.8-.78.8-2.07 0-2.86zM5.41 20L4 18.59l7.72-7.72 1.47 1.35L5.41 20z\"/>\n",
              "  </svg>\n",
              "      </button>\n",
              "      \n",
              "  <style>\n",
              "    .colab-df-container {\n",
              "      display:flex;\n",
              "      flex-wrap:wrap;\n",
              "      gap: 12px;\n",
              "    }\n",
              "\n",
              "    .colab-df-convert {\n",
              "      background-color: #E8F0FE;\n",
              "      border: none;\n",
              "      border-radius: 50%;\n",
              "      cursor: pointer;\n",
              "      display: none;\n",
              "      fill: #1967D2;\n",
              "      height: 32px;\n",
              "      padding: 0 0 0 0;\n",
              "      width: 32px;\n",
              "    }\n",
              "\n",
              "    .colab-df-convert:hover {\n",
              "      background-color: #E2EBFA;\n",
              "      box-shadow: 0px 1px 2px rgba(60, 64, 67, 0.3), 0px 1px 3px 1px rgba(60, 64, 67, 0.15);\n",
              "      fill: #174EA6;\n",
              "    }\n",
              "\n",
              "    [theme=dark] .colab-df-convert {\n",
              "      background-color: #3B4455;\n",
              "      fill: #D2E3FC;\n",
              "    }\n",
              "\n",
              "    [theme=dark] .colab-df-convert:hover {\n",
              "      background-color: #434B5C;\n",
              "      box-shadow: 0px 1px 3px 1px rgba(0, 0, 0, 0.15);\n",
              "      filter: drop-shadow(0px 1px 2px rgba(0, 0, 0, 0.3));\n",
              "      fill: #FFFFFF;\n",
              "    }\n",
              "  </style>\n",
              "\n",
              "      <script>\n",
              "        const buttonEl =\n",
              "          document.querySelector('#df-f4e8fb20-cbe2-4101-8191-f78f5b68be8a button.colab-df-convert');\n",
              "        buttonEl.style.display =\n",
              "          google.colab.kernel.accessAllowed ? 'block' : 'none';\n",
              "\n",
              "        async function convertToInteractive(key) {\n",
              "          const element = document.querySelector('#df-f4e8fb20-cbe2-4101-8191-f78f5b68be8a');\n",
              "          const dataTable =\n",
              "            await google.colab.kernel.invokeFunction('convertToInteractive',\n",
              "                                                     [key], {});\n",
              "          if (!dataTable) return;\n",
              "\n",
              "          const docLinkHtml = 'Like what you see? Visit the ' +\n",
              "            '<a target=\"_blank\" href=https://colab.research.google.com/notebooks/data_table.ipynb>data table notebook</a>'\n",
              "            + ' to learn more about interactive tables.';\n",
              "          element.innerHTML = '';\n",
              "          dataTable['output_type'] = 'display_data';\n",
              "          await google.colab.output.renderOutput(dataTable, element);\n",
              "          const docLink = document.createElement('div');\n",
              "          docLink.innerHTML = docLinkHtml;\n",
              "          element.appendChild(docLink);\n",
              "        }\n",
              "      </script>\n",
              "    </div>\n",
              "  </div>\n",
              "  "
            ]
          },
          "metadata": {},
          "execution_count": 40
        }
      ]
    },
    {
      "cell_type": "code",
      "source": [
        "data.describe()"
      ],
      "metadata": {
        "id": "AAYuld0q88Jb",
        "colab": {
          "base_uri": "https://localhost:8080/",
          "height": 300
        },
        "outputId": "47512fe2-5955-47b3-ac11-f1facb735840"
      },
      "execution_count": 41,
      "outputs": [
        {
          "output_type": "execute_result",
          "data": {
            "text/plain": [
              "              EmpID           Zip       Salaries         age\n",
              "count  3.100000e+02    310.000000     310.000000  310.000000\n",
              "mean   1.199745e+09   6569.732258   36670.102742   38.696774\n",
              "std    1.829600e+08  16933.864054   21075.942369    9.258163\n",
              "min    6.020003e+08   1013.000000       0.000000   23.000000\n",
              "25%    1.101024e+09   1901.250000   23092.950000   31.000000\n",
              "50%    1.203032e+09   2132.000000   34554.745000   39.000000\n",
              "75%    1.378814e+09   2357.000000   51452.895000   46.000000\n",
              "max    1.988300e+09  98052.000000  108304.000000   54.000000"
            ],
            "text/html": [
              "\n",
              "  <div id=\"df-2dae6003-adbf-4d42-a017-d60d46795aac\">\n",
              "    <div class=\"colab-df-container\">\n",
              "      <div>\n",
              "<style scoped>\n",
              "    .dataframe tbody tr th:only-of-type {\n",
              "        vertical-align: middle;\n",
              "    }\n",
              "\n",
              "    .dataframe tbody tr th {\n",
              "        vertical-align: top;\n",
              "    }\n",
              "\n",
              "    .dataframe thead th {\n",
              "        text-align: right;\n",
              "    }\n",
              "</style>\n",
              "<table border=\"1\" class=\"dataframe\">\n",
              "  <thead>\n",
              "    <tr style=\"text-align: right;\">\n",
              "      <th></th>\n",
              "      <th>EmpID</th>\n",
              "      <th>Zip</th>\n",
              "      <th>Salaries</th>\n",
              "      <th>age</th>\n",
              "    </tr>\n",
              "  </thead>\n",
              "  <tbody>\n",
              "    <tr>\n",
              "      <th>count</th>\n",
              "      <td>3.100000e+02</td>\n",
              "      <td>310.000000</td>\n",
              "      <td>310.000000</td>\n",
              "      <td>310.000000</td>\n",
              "    </tr>\n",
              "    <tr>\n",
              "      <th>mean</th>\n",
              "      <td>1.199745e+09</td>\n",
              "      <td>6569.732258</td>\n",
              "      <td>36670.102742</td>\n",
              "      <td>38.696774</td>\n",
              "    </tr>\n",
              "    <tr>\n",
              "      <th>std</th>\n",
              "      <td>1.829600e+08</td>\n",
              "      <td>16933.864054</td>\n",
              "      <td>21075.942369</td>\n",
              "      <td>9.258163</td>\n",
              "    </tr>\n",
              "    <tr>\n",
              "      <th>min</th>\n",
              "      <td>6.020003e+08</td>\n",
              "      <td>1013.000000</td>\n",
              "      <td>0.000000</td>\n",
              "      <td>23.000000</td>\n",
              "    </tr>\n",
              "    <tr>\n",
              "      <th>25%</th>\n",
              "      <td>1.101024e+09</td>\n",
              "      <td>1901.250000</td>\n",
              "      <td>23092.950000</td>\n",
              "      <td>31.000000</td>\n",
              "    </tr>\n",
              "    <tr>\n",
              "      <th>50%</th>\n",
              "      <td>1.203032e+09</td>\n",
              "      <td>2132.000000</td>\n",
              "      <td>34554.745000</td>\n",
              "      <td>39.000000</td>\n",
              "    </tr>\n",
              "    <tr>\n",
              "      <th>75%</th>\n",
              "      <td>1.378814e+09</td>\n",
              "      <td>2357.000000</td>\n",
              "      <td>51452.895000</td>\n",
              "      <td>46.000000</td>\n",
              "    </tr>\n",
              "    <tr>\n",
              "      <th>max</th>\n",
              "      <td>1.988300e+09</td>\n",
              "      <td>98052.000000</td>\n",
              "      <td>108304.000000</td>\n",
              "      <td>54.000000</td>\n",
              "    </tr>\n",
              "  </tbody>\n",
              "</table>\n",
              "</div>\n",
              "      <button class=\"colab-df-convert\" onclick=\"convertToInteractive('df-2dae6003-adbf-4d42-a017-d60d46795aac')\"\n",
              "              title=\"Convert this dataframe to an interactive table.\"\n",
              "              style=\"display:none;\">\n",
              "        \n",
              "  <svg xmlns=\"http://www.w3.org/2000/svg\" height=\"24px\"viewBox=\"0 0 24 24\"\n",
              "       width=\"24px\">\n",
              "    <path d=\"M0 0h24v24H0V0z\" fill=\"none\"/>\n",
              "    <path d=\"M18.56 5.44l.94 2.06.94-2.06 2.06-.94-2.06-.94-.94-2.06-.94 2.06-2.06.94zm-11 1L8.5 8.5l.94-2.06 2.06-.94-2.06-.94L8.5 2.5l-.94 2.06-2.06.94zm10 10l.94 2.06.94-2.06 2.06-.94-2.06-.94-.94-2.06-.94 2.06-2.06.94z\"/><path d=\"M17.41 7.96l-1.37-1.37c-.4-.4-.92-.59-1.43-.59-.52 0-1.04.2-1.43.59L10.3 9.45l-7.72 7.72c-.78.78-.78 2.05 0 2.83L4 21.41c.39.39.9.59 1.41.59.51 0 1.02-.2 1.41-.59l7.78-7.78 2.81-2.81c.8-.78.8-2.07 0-2.86zM5.41 20L4 18.59l7.72-7.72 1.47 1.35L5.41 20z\"/>\n",
              "  </svg>\n",
              "      </button>\n",
              "      \n",
              "  <style>\n",
              "    .colab-df-container {\n",
              "      display:flex;\n",
              "      flex-wrap:wrap;\n",
              "      gap: 12px;\n",
              "    }\n",
              "\n",
              "    .colab-df-convert {\n",
              "      background-color: #E8F0FE;\n",
              "      border: none;\n",
              "      border-radius: 50%;\n",
              "      cursor: pointer;\n",
              "      display: none;\n",
              "      fill: #1967D2;\n",
              "      height: 32px;\n",
              "      padding: 0 0 0 0;\n",
              "      width: 32px;\n",
              "    }\n",
              "\n",
              "    .colab-df-convert:hover {\n",
              "      background-color: #E2EBFA;\n",
              "      box-shadow: 0px 1px 2px rgba(60, 64, 67, 0.3), 0px 1px 3px 1px rgba(60, 64, 67, 0.15);\n",
              "      fill: #174EA6;\n",
              "    }\n",
              "\n",
              "    [theme=dark] .colab-df-convert {\n",
              "      background-color: #3B4455;\n",
              "      fill: #D2E3FC;\n",
              "    }\n",
              "\n",
              "    [theme=dark] .colab-df-convert:hover {\n",
              "      background-color: #434B5C;\n",
              "      box-shadow: 0px 1px 3px 1px rgba(0, 0, 0, 0.15);\n",
              "      filter: drop-shadow(0px 1px 2px rgba(0, 0, 0, 0.3));\n",
              "      fill: #FFFFFF;\n",
              "    }\n",
              "  </style>\n",
              "\n",
              "      <script>\n",
              "        const buttonEl =\n",
              "          document.querySelector('#df-2dae6003-adbf-4d42-a017-d60d46795aac button.colab-df-convert');\n",
              "        buttonEl.style.display =\n",
              "          google.colab.kernel.accessAllowed ? 'block' : 'none';\n",
              "\n",
              "        async function convertToInteractive(key) {\n",
              "          const element = document.querySelector('#df-2dae6003-adbf-4d42-a017-d60d46795aac');\n",
              "          const dataTable =\n",
              "            await google.colab.kernel.invokeFunction('convertToInteractive',\n",
              "                                                     [key], {});\n",
              "          if (!dataTable) return;\n",
              "\n",
              "          const docLinkHtml = 'Like what you see? Visit the ' +\n",
              "            '<a target=\"_blank\" href=https://colab.research.google.com/notebooks/data_table.ipynb>data table notebook</a>'\n",
              "            + ' to learn more about interactive tables.';\n",
              "          element.innerHTML = '';\n",
              "          dataTable['output_type'] = 'display_data';\n",
              "          await google.colab.output.renderOutput(dataTable, element);\n",
              "          const docLink = document.createElement('div');\n",
              "          docLink.innerHTML = docLinkHtml;\n",
              "          element.appendChild(docLink);\n",
              "        }\n",
              "      </script>\n",
              "    </div>\n",
              "  </div>\n",
              "  "
            ]
          },
          "metadata": {},
          "execution_count": 41
        }
      ]
    },
    {
      "cell_type": "markdown",
      "source": [
        "Here, the data is devided into two bins, from minimum to mean and from mean to maximum"
      ],
      "metadata": {
        "id": "LCXc-7gNIZWb"
      }
    },
    {
      "cell_type": "code",
      "source": [
        "data['Salaries_new'] = pd.cut(data['Salaries'], bins = [min(data.Salaries), \n",
        "                                                  data.Salaries.mean(), max(data.Salaries)], labels=[\"Low\", \"High\"])\n",
        "data.head(10)"
      ],
      "metadata": {
        "id": "-a119FPT9AU-",
        "colab": {
          "base_uri": "https://localhost:8080/",
          "height": 687
        },
        "outputId": "163f3154-2856-49ed-9762-9ec0bcbe34ae"
      },
      "execution_count": 42,
      "outputs": [
        {
          "output_type": "execute_result",
          "data": {
            "text/plain": [
              "          Employee_Name       EmpID                  Position State    Zip  \\\n",
              "0            Brown, Mia  1103024456              Accountant I    MA   1450   \n",
              "1  LaRotonda, William    1106026572              Accountant I    MA   1460   \n",
              "2      Steans, Tyrone    1302053333              Accountant I    MA   2703   \n",
              "3       Howard, Estelle  1211050782  Administrative Assistant    MA   2170   \n",
              "4           Singh, Nan   1307059817  Administrative Assistant    MA   2330   \n",
              "5      Smith, Leigh Ann   711007713  Administrative Assistant    MA   1844   \n",
              "6      Bunbury, Jessica  1504073368        Area Sales Manager    VA  21851   \n",
              "7     Carter, Michelle   1403065721        Area Sales Manager    VT   5664   \n",
              "8     Dietrich, Jenna    1408069481        Area Sales Manager    WA  98052   \n",
              "9      Digitale, Alfred  1306059197        Area Sales Manager    NH   3062   \n",
              "\n",
              "  Sex MaritalDesc          CitizenDesc        EmploymentStatus     Department  \\\n",
              "0   F     Married           US Citizen                  Active  Admin Offices   \n",
              "1  M     Divorced           US Citizen                  Active  Admin Offices   \n",
              "2  M       Single           US Citizen                  Active  Admin Offices   \n",
              "3   F     Married           US Citizen    Terminated for Cause  Admin Offices   \n",
              "4   F      Single           US Citizen                  Active  Admin Offices   \n",
              "5   F     Married           US Citizen  Voluntarily Terminated  Admin Offices   \n",
              "6   F     Married  Eligible NonCitizen  Voluntarily Terminated          Sales   \n",
              "7   F      Single           US Citizen                  Active          Sales   \n",
              "8   F      Single           US Citizen                  Active          Sales   \n",
              "9  M      Married           US Citizen                  Active          Sales   \n",
              "\n",
              "   Salaries  age                              Race Salaries_new  \n",
              "0    674.28   28         Black or African American          Low  \n",
              "1    674.28   50         Black or African American          Low  \n",
              "2    674.28   43                             White          Low  \n",
              "3  47822.00   44                             White         High  \n",
              "4  61089.35   33                             White         High  \n",
              "5  32406.02   40                             Asian          Low  \n",
              "6  62051.64   26         Black or African American         High  \n",
              "7  55912.50   25                             White         High  \n",
              "8  15684.19   35                             White          Low  \n",
              "9  33773.70   45  American Indian or Alaska Native          Low  "
            ],
            "text/html": [
              "\n",
              "  <div id=\"df-f59427ec-512e-4a9c-8788-bae040df31eb\">\n",
              "    <div class=\"colab-df-container\">\n",
              "      <div>\n",
              "<style scoped>\n",
              "    .dataframe tbody tr th:only-of-type {\n",
              "        vertical-align: middle;\n",
              "    }\n",
              "\n",
              "    .dataframe tbody tr th {\n",
              "        vertical-align: top;\n",
              "    }\n",
              "\n",
              "    .dataframe thead th {\n",
              "        text-align: right;\n",
              "    }\n",
              "</style>\n",
              "<table border=\"1\" class=\"dataframe\">\n",
              "  <thead>\n",
              "    <tr style=\"text-align: right;\">\n",
              "      <th></th>\n",
              "      <th>Employee_Name</th>\n",
              "      <th>EmpID</th>\n",
              "      <th>Position</th>\n",
              "      <th>State</th>\n",
              "      <th>Zip</th>\n",
              "      <th>Sex</th>\n",
              "      <th>MaritalDesc</th>\n",
              "      <th>CitizenDesc</th>\n",
              "      <th>EmploymentStatus</th>\n",
              "      <th>Department</th>\n",
              "      <th>Salaries</th>\n",
              "      <th>age</th>\n",
              "      <th>Race</th>\n",
              "      <th>Salaries_new</th>\n",
              "    </tr>\n",
              "  </thead>\n",
              "  <tbody>\n",
              "    <tr>\n",
              "      <th>0</th>\n",
              "      <td>Brown, Mia</td>\n",
              "      <td>1103024456</td>\n",
              "      <td>Accountant I</td>\n",
              "      <td>MA</td>\n",
              "      <td>1450</td>\n",
              "      <td>F</td>\n",
              "      <td>Married</td>\n",
              "      <td>US Citizen</td>\n",
              "      <td>Active</td>\n",
              "      <td>Admin Offices</td>\n",
              "      <td>674.28</td>\n",
              "      <td>28</td>\n",
              "      <td>Black or African American</td>\n",
              "      <td>Low</td>\n",
              "    </tr>\n",
              "    <tr>\n",
              "      <th>1</th>\n",
              "      <td>LaRotonda, William</td>\n",
              "      <td>1106026572</td>\n",
              "      <td>Accountant I</td>\n",
              "      <td>MA</td>\n",
              "      <td>1460</td>\n",
              "      <td>M</td>\n",
              "      <td>Divorced</td>\n",
              "      <td>US Citizen</td>\n",
              "      <td>Active</td>\n",
              "      <td>Admin Offices</td>\n",
              "      <td>674.28</td>\n",
              "      <td>50</td>\n",
              "      <td>Black or African American</td>\n",
              "      <td>Low</td>\n",
              "    </tr>\n",
              "    <tr>\n",
              "      <th>2</th>\n",
              "      <td>Steans, Tyrone</td>\n",
              "      <td>1302053333</td>\n",
              "      <td>Accountant I</td>\n",
              "      <td>MA</td>\n",
              "      <td>2703</td>\n",
              "      <td>M</td>\n",
              "      <td>Single</td>\n",
              "      <td>US Citizen</td>\n",
              "      <td>Active</td>\n",
              "      <td>Admin Offices</td>\n",
              "      <td>674.28</td>\n",
              "      <td>43</td>\n",
              "      <td>White</td>\n",
              "      <td>Low</td>\n",
              "    </tr>\n",
              "    <tr>\n",
              "      <th>3</th>\n",
              "      <td>Howard, Estelle</td>\n",
              "      <td>1211050782</td>\n",
              "      <td>Administrative Assistant</td>\n",
              "      <td>MA</td>\n",
              "      <td>2170</td>\n",
              "      <td>F</td>\n",
              "      <td>Married</td>\n",
              "      <td>US Citizen</td>\n",
              "      <td>Terminated for Cause</td>\n",
              "      <td>Admin Offices</td>\n",
              "      <td>47822.00</td>\n",
              "      <td>44</td>\n",
              "      <td>White</td>\n",
              "      <td>High</td>\n",
              "    </tr>\n",
              "    <tr>\n",
              "      <th>4</th>\n",
              "      <td>Singh, Nan</td>\n",
              "      <td>1307059817</td>\n",
              "      <td>Administrative Assistant</td>\n",
              "      <td>MA</td>\n",
              "      <td>2330</td>\n",
              "      <td>F</td>\n",
              "      <td>Single</td>\n",
              "      <td>US Citizen</td>\n",
              "      <td>Active</td>\n",
              "      <td>Admin Offices</td>\n",
              "      <td>61089.35</td>\n",
              "      <td>33</td>\n",
              "      <td>White</td>\n",
              "      <td>High</td>\n",
              "    </tr>\n",
              "    <tr>\n",
              "      <th>5</th>\n",
              "      <td>Smith, Leigh Ann</td>\n",
              "      <td>711007713</td>\n",
              "      <td>Administrative Assistant</td>\n",
              "      <td>MA</td>\n",
              "      <td>1844</td>\n",
              "      <td>F</td>\n",
              "      <td>Married</td>\n",
              "      <td>US Citizen</td>\n",
              "      <td>Voluntarily Terminated</td>\n",
              "      <td>Admin Offices</td>\n",
              "      <td>32406.02</td>\n",
              "      <td>40</td>\n",
              "      <td>Asian</td>\n",
              "      <td>Low</td>\n",
              "    </tr>\n",
              "    <tr>\n",
              "      <th>6</th>\n",
              "      <td>Bunbury, Jessica</td>\n",
              "      <td>1504073368</td>\n",
              "      <td>Area Sales Manager</td>\n",
              "      <td>VA</td>\n",
              "      <td>21851</td>\n",
              "      <td>F</td>\n",
              "      <td>Married</td>\n",
              "      <td>Eligible NonCitizen</td>\n",
              "      <td>Voluntarily Terminated</td>\n",
              "      <td>Sales</td>\n",
              "      <td>62051.64</td>\n",
              "      <td>26</td>\n",
              "      <td>Black or African American</td>\n",
              "      <td>High</td>\n",
              "    </tr>\n",
              "    <tr>\n",
              "      <th>7</th>\n",
              "      <td>Carter, Michelle</td>\n",
              "      <td>1403065721</td>\n",
              "      <td>Area Sales Manager</td>\n",
              "      <td>VT</td>\n",
              "      <td>5664</td>\n",
              "      <td>F</td>\n",
              "      <td>Single</td>\n",
              "      <td>US Citizen</td>\n",
              "      <td>Active</td>\n",
              "      <td>Sales</td>\n",
              "      <td>55912.50</td>\n",
              "      <td>25</td>\n",
              "      <td>White</td>\n",
              "      <td>High</td>\n",
              "    </tr>\n",
              "    <tr>\n",
              "      <th>8</th>\n",
              "      <td>Dietrich, Jenna</td>\n",
              "      <td>1408069481</td>\n",
              "      <td>Area Sales Manager</td>\n",
              "      <td>WA</td>\n",
              "      <td>98052</td>\n",
              "      <td>F</td>\n",
              "      <td>Single</td>\n",
              "      <td>US Citizen</td>\n",
              "      <td>Active</td>\n",
              "      <td>Sales</td>\n",
              "      <td>15684.19</td>\n",
              "      <td>35</td>\n",
              "      <td>White</td>\n",
              "      <td>Low</td>\n",
              "    </tr>\n",
              "    <tr>\n",
              "      <th>9</th>\n",
              "      <td>Digitale, Alfred</td>\n",
              "      <td>1306059197</td>\n",
              "      <td>Area Sales Manager</td>\n",
              "      <td>NH</td>\n",
              "      <td>3062</td>\n",
              "      <td>M</td>\n",
              "      <td>Married</td>\n",
              "      <td>US Citizen</td>\n",
              "      <td>Active</td>\n",
              "      <td>Sales</td>\n",
              "      <td>33773.70</td>\n",
              "      <td>45</td>\n",
              "      <td>American Indian or Alaska Native</td>\n",
              "      <td>Low</td>\n",
              "    </tr>\n",
              "  </tbody>\n",
              "</table>\n",
              "</div>\n",
              "      <button class=\"colab-df-convert\" onclick=\"convertToInteractive('df-f59427ec-512e-4a9c-8788-bae040df31eb')\"\n",
              "              title=\"Convert this dataframe to an interactive table.\"\n",
              "              style=\"display:none;\">\n",
              "        \n",
              "  <svg xmlns=\"http://www.w3.org/2000/svg\" height=\"24px\"viewBox=\"0 0 24 24\"\n",
              "       width=\"24px\">\n",
              "    <path d=\"M0 0h24v24H0V0z\" fill=\"none\"/>\n",
              "    <path d=\"M18.56 5.44l.94 2.06.94-2.06 2.06-.94-2.06-.94-.94-2.06-.94 2.06-2.06.94zm-11 1L8.5 8.5l.94-2.06 2.06-.94-2.06-.94L8.5 2.5l-.94 2.06-2.06.94zm10 10l.94 2.06.94-2.06 2.06-.94-2.06-.94-.94-2.06-.94 2.06-2.06.94z\"/><path d=\"M17.41 7.96l-1.37-1.37c-.4-.4-.92-.59-1.43-.59-.52 0-1.04.2-1.43.59L10.3 9.45l-7.72 7.72c-.78.78-.78 2.05 0 2.83L4 21.41c.39.39.9.59 1.41.59.51 0 1.02-.2 1.41-.59l7.78-7.78 2.81-2.81c.8-.78.8-2.07 0-2.86zM5.41 20L4 18.59l7.72-7.72 1.47 1.35L5.41 20z\"/>\n",
              "  </svg>\n",
              "      </button>\n",
              "      \n",
              "  <style>\n",
              "    .colab-df-container {\n",
              "      display:flex;\n",
              "      flex-wrap:wrap;\n",
              "      gap: 12px;\n",
              "    }\n",
              "\n",
              "    .colab-df-convert {\n",
              "      background-color: #E8F0FE;\n",
              "      border: none;\n",
              "      border-radius: 50%;\n",
              "      cursor: pointer;\n",
              "      display: none;\n",
              "      fill: #1967D2;\n",
              "      height: 32px;\n",
              "      padding: 0 0 0 0;\n",
              "      width: 32px;\n",
              "    }\n",
              "\n",
              "    .colab-df-convert:hover {\n",
              "      background-color: #E2EBFA;\n",
              "      box-shadow: 0px 1px 2px rgba(60, 64, 67, 0.3), 0px 1px 3px 1px rgba(60, 64, 67, 0.15);\n",
              "      fill: #174EA6;\n",
              "    }\n",
              "\n",
              "    [theme=dark] .colab-df-convert {\n",
              "      background-color: #3B4455;\n",
              "      fill: #D2E3FC;\n",
              "    }\n",
              "\n",
              "    [theme=dark] .colab-df-convert:hover {\n",
              "      background-color: #434B5C;\n",
              "      box-shadow: 0px 1px 3px 1px rgba(0, 0, 0, 0.15);\n",
              "      filter: drop-shadow(0px 1px 2px rgba(0, 0, 0, 0.3));\n",
              "      fill: #FFFFFF;\n",
              "    }\n",
              "  </style>\n",
              "\n",
              "      <script>\n",
              "        const buttonEl =\n",
              "          document.querySelector('#df-f59427ec-512e-4a9c-8788-bae040df31eb button.colab-df-convert');\n",
              "        buttonEl.style.display =\n",
              "          google.colab.kernel.accessAllowed ? 'block' : 'none';\n",
              "\n",
              "        async function convertToInteractive(key) {\n",
              "          const element = document.querySelector('#df-f59427ec-512e-4a9c-8788-bae040df31eb');\n",
              "          const dataTable =\n",
              "            await google.colab.kernel.invokeFunction('convertToInteractive',\n",
              "                                                     [key], {});\n",
              "          if (!dataTable) return;\n",
              "\n",
              "          const docLinkHtml = 'Like what you see? Visit the ' +\n",
              "            '<a target=\"_blank\" href=https://colab.research.google.com/notebooks/data_table.ipynb>data table notebook</a>'\n",
              "            + ' to learn more about interactive tables.';\n",
              "          element.innerHTML = '';\n",
              "          dataTable['output_type'] = 'display_data';\n",
              "          await google.colab.output.renderOutput(dataTable, element);\n",
              "          const docLink = document.createElement('div');\n",
              "          docLink.innerHTML = docLinkHtml;\n",
              "          element.appendChild(docLink);\n",
              "        }\n",
              "      </script>\n",
              "    </div>\n",
              "  </div>\n",
              "  "
            ]
          },
          "metadata": {},
          "execution_count": 42
        }
      ]
    },
    {
      "cell_type": "code",
      "source": [
        "data.Salaries_new.value_counts()"
      ],
      "metadata": {
        "id": "hRjPGbd-9C0p",
        "colab": {
          "base_uri": "https://localhost:8080/"
        },
        "outputId": "dd0c62f0-e91c-4ed3-f6ce-4ec3f235ce18"
      },
      "execution_count": 44,
      "outputs": [
        {
          "output_type": "execute_result",
          "data": {
            "text/plain": [
              "Low     166\n",
              "High    143\n",
              "Name: Salaries_new, dtype: int64"
            ]
          },
          "metadata": {},
          "execution_count": 44
        }
      ]
    },
    {
      "cell_type": "code",
      "source": [
        "data.MaritalDesc.value_counts()"
      ],
      "metadata": {
        "colab": {
          "base_uri": "https://localhost:8080/"
        },
        "id": "V7xusu1uI7Pl",
        "outputId": "66f33c79-456e-44be-8e4c-a179c96b4bb0"
      },
      "execution_count": 45,
      "outputs": [
        {
          "output_type": "execute_result",
          "data": {
            "text/plain": [
              "Single       137\n",
              "Married      123\n",
              "Divorced      30\n",
              "Separated     12\n",
              "Widowed        8\n",
              "Name: MaritalDesc, dtype: int64"
            ]
          },
          "metadata": {},
          "execution_count": 45
        }
      ]
    },
    {
      "cell_type": "code",
      "source": [
        "data['Salaries_new_new'] = pd.cut(data['Salaries'], bins = [min(data.Salaries), data['Salaries'].quantile(0.25), \n",
        "                                                  data['Salaries'].quantile(0.5), data['Salaries'].quantile(0.75), max(data.Salaries)], labels=[\"Low\",\"Below Ave\", \"Above Ave\", \"High\"])"
      ],
      "metadata": {
        "id": "UAJIdDacMGxF"
      },
      "execution_count": 46,
      "outputs": []
    },
    {
      "cell_type": "code",
      "source": [
        "data.Salaries_new_new.value_counts()"
      ],
      "metadata": {
        "colab": {
          "base_uri": "https://localhost:8080/"
        },
        "id": "4U7qMLkWM7Bn",
        "outputId": "84a074b7-4829-41e9-8337-a63cf948583b"
      },
      "execution_count": 47,
      "outputs": [
        {
          "output_type": "execute_result",
          "data": {
            "text/plain": [
              "High         78\n",
              "Low          77\n",
              "Below Ave    77\n",
              "Above Ave    77\n",
              "Name: Salaries_new_new, dtype: int64"
            ]
          },
          "metadata": {},
          "execution_count": 47
        }
      ]
    },
    {
      "cell_type": "markdown",
      "source": [
        "#Dummy Variables#"
      ],
      "metadata": {
        "id": "tZnG_fvb9EDm"
      }
    },
    {
      "cell_type": "markdown",
      "source": [
        "For only catagorical variables or data ,dummy variables are used "
      ],
      "metadata": {
        "id": "o_Wh1E9vO4iJ"
      }
    },
    {
      "cell_type": "code",
      "source": [
        "import pandas as pd\n",
        "import numpy as np\n",
        "#import matplotlib.pyplot as plt"
      ],
      "metadata": {
        "id": "Vmlhc_Vj9JOa"
      },
      "execution_count": 48,
      "outputs": []
    },
    {
      "cell_type": "code",
      "source": [
        "# Use the ethinc diversity dataset\n",
        "df = pd.read_csv(\"ethnic diversity.csv\")"
      ],
      "metadata": {
        "id": "NldNeyqz9WLT"
      },
      "execution_count": 49,
      "outputs": []
    },
    {
      "cell_type": "code",
      "source": [
        "df.columns # column names"
      ],
      "metadata": {
        "colab": {
          "base_uri": "https://localhost:8080/"
        },
        "id": "WXOE4L9BO0nb",
        "outputId": "201732c1-10ed-4cd0-d7f9-29bd2214f4b2"
      },
      "execution_count": 51,
      "outputs": [
        {
          "output_type": "execute_result",
          "data": {
            "text/plain": [
              "Index(['Employee_Name', 'EmpID', 'Position', 'State', 'Zip', 'Sex',\n",
              "       'MaritalDesc', 'CitizenDesc', 'EmploymentStatus', 'Department',\n",
              "       'Salaries', 'age', 'Race'],\n",
              "      dtype='object')"
            ]
          },
          "metadata": {},
          "execution_count": 51
        }
      ]
    },
    {
      "cell_type": "code",
      "source": [
        "df.shape # will give u shape of the dataframe"
      ],
      "metadata": {
        "id": "0eQZdOB59YCt",
        "colab": {
          "base_uri": "https://localhost:8080/"
        },
        "outputId": "aa62aa19-857b-4ef8-e685-b8b6d43e0a50"
      },
      "execution_count": 52,
      "outputs": [
        {
          "output_type": "execute_result",
          "data": {
            "text/plain": [
              "(310, 13)"
            ]
          },
          "metadata": {},
          "execution_count": 52
        }
      ]
    },
    {
      "cell_type": "markdown",
      "source": [
        "1. When ever the variance is zero means the data is same from the column, means there is no change, then this data is not useful to us, so that column should be droped.\n",
        "\n",
        "\n",
        "\n",
        "2. Drop means deleting and axis = 1 means column and inplace = True means is assures that indexes are properly reassigned"
      ],
      "metadata": {
        "id": "_6myr26_Pb89"
      }
    },
    {
      "cell_type": "code",
      "source": [
        "# Drop emp_name column\n",
        "df.drop(['Employee_Name', 'EmpID', 'Zip'], axis = 1, inplace = True)\n",
        "df.dtypes"
      ],
      "metadata": {
        "id": "QVkoYSH39Zp0",
        "colab": {
          "base_uri": "https://localhost:8080/"
        },
        "outputId": "fe4fcaf4-265c-4d43-ef61-117bc2762a7b"
      },
      "execution_count": 54,
      "outputs": [
        {
          "output_type": "execute_result",
          "data": {
            "text/plain": [
              "Position             object\n",
              "State                object\n",
              "Sex                  object\n",
              "MaritalDesc          object\n",
              "CitizenDesc          object\n",
              "EmploymentStatus     object\n",
              "Department           object\n",
              "Salaries            float64\n",
              "age                   int64\n",
              "Race                 object\n",
              "dtype: object"
            ]
          },
          "metadata": {},
          "execution_count": 54
        }
      ]
    },
    {
      "cell_type": "code",
      "source": [
        "# Create dummy variables\n",
        "df_new = pd.get_dummies(df)\n",
        "df_new_1 = pd.get_dummies(df, drop_first = True)\n",
        "# Created dummies for all categorical columns"
      ],
      "metadata": {
        "id": "K-pMSMt09cJQ"
      },
      "execution_count": 53,
      "outputs": []
    },
    {
      "cell_type": "markdown",
      "source": [
        "##One hot encoding##"
      ],
      "metadata": {
        "id": "2DZbYv0u9c1Q"
      }
    },
    {
      "cell_type": "code",
      "source": [
        "df.columns"
      ],
      "metadata": {
        "colab": {
          "base_uri": "https://localhost:8080/"
        },
        "id": "B5ekDMGCUqeT",
        "outputId": "adb1a929-b2ea-490f-bc82-ba6788b9ed6c"
      },
      "execution_count": 56,
      "outputs": [
        {
          "output_type": "execute_result",
          "data": {
            "text/plain": [
              "Index(['Salaries', 'age', 'Position', 'State', 'Sex', 'MaritalDesc',\n",
              "       'CitizenDesc', 'EmploymentStatus', 'Department', 'Race'],\n",
              "      dtype='object')"
            ]
          },
          "metadata": {},
          "execution_count": 56
        }
      ]
    },
    {
      "cell_type": "markdown",
      "source": [
        "Order of columns is being changed"
      ],
      "metadata": {
        "id": "3KPGWK7kUuNc"
      }
    },
    {
      "cell_type": "code",
      "source": [
        "df = df[['Salaries', 'age', 'Position', 'State', 'Sex',\n",
        "         'MaritalDesc', 'CitizenDesc', 'EmploymentStatus', 'Department', 'Race']]"
      ],
      "metadata": {
        "id": "LbGoKRGX9fI7"
      },
      "execution_count": 57,
      "outputs": []
    },
    {
      "cell_type": "code",
      "source": [
        "from sklearn.preprocessing import OneHotEncoder"
      ],
      "metadata": {
        "id": "nFiFag8Q9niM"
      },
      "execution_count": 58,
      "outputs": []
    },
    {
      "cell_type": "code",
      "source": [
        "# Creating instance of One-Hot Encoder\n",
        "enc = OneHotEncoder() # initializing method\n",
        "\n",
        "enc_df = pd.DataFrame(enc.fit_transform(df.iloc[:, 2:]).toarray())"
      ],
      "metadata": {
        "id": "Diwh4f6f9pkd"
      },
      "execution_count": 59,
      "outputs": []
    },
    {
      "cell_type": "code",
      "source": [
        "enc_df.shape"
      ],
      "metadata": {
        "colab": {
          "base_uri": "https://localhost:8080/"
        },
        "id": "l-QdPd9jVHLL",
        "outputId": "00c22fba-c3f6-4477-d6a2-f32e559c2091"
      },
      "execution_count": 61,
      "outputs": [
        {
          "output_type": "execute_result",
          "data": {
            "text/plain": [
              "(310, 87)"
            ]
          },
          "metadata": {},
          "execution_count": 61
        }
      ]
    },
    {
      "cell_type": "markdown",
      "source": [
        "##Label Encoder##"
      ],
      "metadata": {
        "id": "SZpY4Yyi9uDB"
      }
    },
    {
      "cell_type": "code",
      "source": [
        "from sklearn.preprocessing import LabelEncoder\n",
        "\n",
        "# Creating instance of labelencoder\n",
        "labelencoder = LabelEncoder()"
      ],
      "metadata": {
        "id": "HE4fYw5E9wpP"
      },
      "execution_count": 62,
      "outputs": []
    },
    {
      "cell_type": "code",
      "source": [
        "# Data Split into Input and Output variables\n",
        "X = df.iloc[:,:]"
      ],
      "metadata": {
        "id": "DE88zNt_91OQ"
      },
      "execution_count": 63,
      "outputs": []
    },
    {
      "cell_type": "code",
      "source": [
        "X['Sex'] = labelencoder.fit_transform(X['Sex'])"
      ],
      "metadata": {
        "id": "1ugiUxKy93fC"
      },
      "execution_count": 64,
      "outputs": []
    },
    {
      "cell_type": "code",
      "source": [
        "X['MaritalDesc'] = labelencoder.fit_transform(X['MaritalDesc'])"
      ],
      "metadata": {
        "id": "cEsVDywi95qo"
      },
      "execution_count": 65,
      "outputs": []
    },
    {
      "cell_type": "code",
      "source": [
        "X['CitizenDesc'] = labelencoder.fit_transform(X['CitizenDesc'])"
      ],
      "metadata": {
        "id": "zwSmcr6j97GN"
      },
      "execution_count": 66,
      "outputs": []
    },
    {
      "cell_type": "markdown",
      "source": [
        "#Normal Quantile-Qunatile Plot#"
      ],
      "metadata": {
        "id": "5vBo30n1-WGW"
      }
    },
    {
      "cell_type": "code",
      "source": [
        "import pandas as pd\n",
        "\n",
        "# Read data into Python\n",
        "education = pd.read_csv(\"education.csv\")"
      ],
      "metadata": {
        "id": "gtVHX9_H-Vqc"
      },
      "execution_count": 68,
      "outputs": []
    },
    {
      "cell_type": "code",
      "source": [
        "import scipy.stats as stats\n",
        "import pylab"
      ],
      "metadata": {
        "id": "vnr3KuyZ-fuO"
      },
      "execution_count": 69,
      "outputs": []
    },
    {
      "cell_type": "code",
      "source": [
        "# Checking Whether data is normally distributed\n",
        "stats.probplot(education.gmat, dist=\"norm\", plot=pylab)\n",
        "\n",
        "stats.probplot(education.workex, dist=\"norm\", plot=pylab)"
      ],
      "metadata": {
        "id": "FuD9jSx4-jh9",
        "colab": {
          "base_uri": "https://localhost:8080/",
          "height": 1000
        },
        "outputId": "7466ebf3-9b0b-445d-eded-edfa59e68038"
      },
      "execution_count": 70,
      "outputs": [
        {
          "output_type": "execute_result",
          "data": {
            "text/plain": [
              "((array([-3.12260341, -2.85151707, -2.69984322, -2.59267337, -2.50893963,\n",
              "         -2.43979696, -2.38066073, -2.32883665, -2.28260202, -2.24078627,\n",
              "         -2.20255648, -2.16729818, -2.13454461, -2.1039326 , -2.07517382,\n",
              "         -2.04803542, -2.02232653, -1.99788867, -1.97458879, -1.95231403,\n",
              "         -1.93096781, -1.91046682, -1.89073868, -1.8717201 , -1.85335538,\n",
              "         -1.83559526, -1.81839593, -1.80171828, -1.78552721, -1.76979112,\n",
              "         -1.75448146, -1.73957231, -1.7250401 , -1.71086332, -1.69702228,\n",
              "         -1.68349892, -1.6702766 , -1.65734002, -1.644675  , -1.63226842,\n",
              "         -1.62010812, -1.60818277, -1.59648185, -1.5849955 , -1.57371454,\n",
              "         -1.56263038, -1.55173494, -1.54102065, -1.5304804 , -1.52010749,\n",
              "         -1.50989561, -1.4998388 , -1.48993143, -1.48016819, -1.47054404,\n",
              "         -1.4610542 , -1.45169414, -1.44245956, -1.43334639, -1.42435072,\n",
              "         -1.41546885, -1.40669727, -1.39803261, -1.38947165, -1.38101133,\n",
              "         -1.37264872, -1.36438101, -1.35620554, -1.34811971, -1.34012108,\n",
              "         -1.33220728, -1.32437605, -1.3166252 , -1.30895266, -1.30135641,\n",
              "         -1.29383451, -1.28638512, -1.27900643, -1.27169673, -1.26445436,\n",
              "         -1.25727771, -1.25016523, -1.24311544, -1.2361269 , -1.22919822,\n",
              "         -1.22232804, -1.21551508, -1.20875808, -1.20205582, -1.19540713,\n",
              "         -1.18881086, -1.18226592, -1.17577123, -1.16932576, -1.16292851,\n",
              "         -1.1565785 , -1.15027479, -1.14401646, -1.13780262, -1.1316324 ,\n",
              "         -1.12550497, -1.1194195 , -1.11337521, -1.10737133, -1.1014071 ,\n",
              "         -1.09548179, -1.0895947 , -1.08374513, -1.07793241, -1.07215588,\n",
              "         -1.06641491, -1.06070888, -1.05503717, -1.0493992 , -1.04379439,\n",
              "         -1.03822218, -1.03268202, -1.02717338, -1.02169573, -1.01624857,\n",
              "         -1.0108314 , -1.00544372, -1.00008508, -0.994755  , -0.98945303,\n",
              "         -0.98417874, -0.97893168, -0.97371143, -0.96851758, -0.96334973,\n",
              "         -0.95820748, -0.95309045, -0.94799825, -0.94293051, -0.93788688,\n",
              "         -0.93286699, -0.9278705 , -0.92289706, -0.91794635, -0.91301804,\n",
              "         -0.90811181, -0.90322733, -0.89836431, -0.89352245, -0.88870144,\n",
              "         -0.883901  , -0.87912084, -0.87436068, -0.86962026, -0.8648993 ,\n",
              "         -0.86019753, -0.85551471, -0.85085057, -0.84620487, -0.84157736,\n",
              "         -0.8369678 , -0.83237595, -0.8278016 , -0.82324449, -0.81870442,\n",
              "         -0.81418116, -0.8096745 , -0.80518423, -0.80071013, -0.796252  ,\n",
              "         -0.79180964, -0.78738286, -0.78297144, -0.77857522, -0.77419399,\n",
              "         -0.76982757, -0.76547578, -0.76113843, -0.75681536, -0.75250639,\n",
              "         -0.74821135, -0.74393006, -0.73966236, -0.7354081 , -0.7311671 ,\n",
              "         -0.72693921, -0.72272428, -0.71852215, -0.71433267, -0.71015569,\n",
              "         -0.70599106, -0.70183864, -0.69769828, -0.69356986, -0.68945322,\n",
              "         -0.68534823, -0.68125476, -0.67717267, -0.67310183, -0.66904212,\n",
              "         -0.66499341, -0.66095557, -0.65692847, -0.652912  , -0.64890604,\n",
              "         -0.64491046, -0.64092515, -0.63694999, -0.63298488, -0.62902969,\n",
              "         -0.62508432, -0.62114865, -0.61722258, -0.61330601, -0.60939882,\n",
              "         -0.6055009 , -0.60161217, -0.59773252, -0.59386184, -0.59000003,\n",
              "         -0.58614701, -0.58230267, -0.57846691, -0.57463965, -0.57082078,\n",
              "         -0.56701023, -0.56320788, -0.55941367, -0.55562749, -0.55184925,\n",
              "         -0.54807888, -0.54431629, -0.54056138, -0.53681408, -0.53307431,\n",
              "         -0.52934197, -0.525617  , -0.5218993 , -0.5181888 , -0.51448542,\n",
              "         -0.51078909, -0.50709972, -0.50341724, -0.49974158, -0.49607265,\n",
              "         -0.49241039, -0.48875472, -0.48510558, -0.48146288, -0.47782656,\n",
              "         -0.47419654, -0.47057277, -0.46695516, -0.46334365, -0.45973818,\n",
              "         -0.45613867, -0.45254506, -0.44895729, -0.44537529, -0.44179899,\n",
              "         -0.43822834, -0.43466326, -0.4311037 , -0.42754959, -0.42400088,\n",
              "         -0.4204575 , -0.41691938, -0.41338648, -0.40985874, -0.40633608,\n",
              "         -0.40281846, -0.39930582, -0.3957981 , -0.39229524, -0.38879719,\n",
              "         -0.38530388, -0.38181528, -0.37833131, -0.37485194, -0.37137709,\n",
              "         -0.36790672, -0.36444078, -0.36097921, -0.35752196, -0.35406897,\n",
              "         -0.35062021, -0.34717561, -0.34373512, -0.3402987 , -0.33686629,\n",
              "         -0.33343785, -0.33001332, -0.32659265, -0.32317581, -0.31976273,\n",
              "         -0.31635337, -0.31294769, -0.30954563, -0.30614715, -0.30275221,\n",
              "         -0.29936075, -0.29597273, -0.2925881 , -0.28920682, -0.28582885,\n",
              "         -0.28245413, -0.27908263, -0.27571429, -0.27234909, -0.26898696,\n",
              "         -0.26562787, -0.26227178, -0.25891863, -0.2555684 , -0.25222103,\n",
              "         -0.24887649, -0.24553472, -0.2421957 , -0.23885938, -0.23552571,\n",
              "         -0.23219466, -0.22886618, -0.22554023, -0.22221678, -0.21889578,\n",
              "         -0.21557719, -0.21226098, -0.2089471 , -0.20563551, -0.20232618,\n",
              "         -0.19901906, -0.19571411, -0.1924113 , -0.18911059, -0.18581194,\n",
              "         -0.18251531, -0.17922066, -0.17592795, -0.17263715, -0.16934822,\n",
              "         -0.16606112, -0.16277582, -0.15949227, -0.15621043, -0.15293028,\n",
              "         -0.14965178, -0.14637488, -0.14309956, -0.13982576, -0.13655347,\n",
              "         -0.13328264, -0.13001323, -0.12674521, -0.12347855, -0.1202132 ,\n",
              "         -0.11694913, -0.11368631, -0.1104247 , -0.10716426, -0.10390496,\n",
              "         -0.10064677, -0.09738964, -0.09413355, -0.09087845, -0.08762432,\n",
              "         -0.08437111, -0.0811188 , -0.07786734, -0.07461671, -0.07136687,\n",
              "         -0.06811778, -0.06486941, -0.06162172, -0.05837468, -0.05512826,\n",
              "         -0.05188242, -0.04863712, -0.04539234, -0.04214804, -0.03890417,\n",
              "         -0.03566072, -0.03241765, -0.02917491, -0.02593248, -0.02269033,\n",
              "         -0.01944841, -0.01620669, -0.01296515, -0.00972374, -0.00648244,\n",
              "         -0.0032412 ,  0.        ,  0.0032412 ,  0.00648244,  0.00972374,\n",
              "          0.01296515,  0.01620669,  0.01944841,  0.02269033,  0.02593248,\n",
              "          0.02917491,  0.03241765,  0.03566072,  0.03890417,  0.04214804,\n",
              "          0.04539234,  0.04863712,  0.05188242,  0.05512826,  0.05837468,\n",
              "          0.06162172,  0.06486941,  0.06811778,  0.07136687,  0.07461671,\n",
              "          0.07786734,  0.0811188 ,  0.08437111,  0.08762432,  0.09087845,\n",
              "          0.09413355,  0.09738964,  0.10064677,  0.10390496,  0.10716426,\n",
              "          0.1104247 ,  0.11368631,  0.11694913,  0.1202132 ,  0.12347855,\n",
              "          0.12674521,  0.13001323,  0.13328264,  0.13655347,  0.13982576,\n",
              "          0.14309956,  0.14637488,  0.14965178,  0.15293028,  0.15621043,\n",
              "          0.15949227,  0.16277582,  0.16606112,  0.16934822,  0.17263715,\n",
              "          0.17592795,  0.17922066,  0.18251531,  0.18581194,  0.18911059,\n",
              "          0.1924113 ,  0.19571411,  0.19901906,  0.20232618,  0.20563551,\n",
              "          0.2089471 ,  0.21226098,  0.21557719,  0.21889578,  0.22221678,\n",
              "          0.22554023,  0.22886618,  0.23219466,  0.23552571,  0.23885938,\n",
              "          0.2421957 ,  0.24553472,  0.24887649,  0.25222103,  0.2555684 ,\n",
              "          0.25891863,  0.26227178,  0.26562787,  0.26898696,  0.27234909,\n",
              "          0.27571429,  0.27908263,  0.28245413,  0.28582885,  0.28920682,\n",
              "          0.2925881 ,  0.29597273,  0.29936075,  0.30275221,  0.30614715,\n",
              "          0.30954563,  0.31294769,  0.31635337,  0.31976273,  0.32317581,\n",
              "          0.32659265,  0.33001332,  0.33343785,  0.33686629,  0.3402987 ,\n",
              "          0.34373512,  0.34717561,  0.35062021,  0.35406897,  0.35752196,\n",
              "          0.36097921,  0.36444078,  0.36790672,  0.37137709,  0.37485194,\n",
              "          0.37833131,  0.38181528,  0.38530388,  0.38879719,  0.39229524,\n",
              "          0.3957981 ,  0.39930582,  0.40281846,  0.40633608,  0.40985874,\n",
              "          0.41338648,  0.41691938,  0.4204575 ,  0.42400088,  0.42754959,\n",
              "          0.4311037 ,  0.43466326,  0.43822834,  0.44179899,  0.44537529,\n",
              "          0.44895729,  0.45254506,  0.45613867,  0.45973818,  0.46334365,\n",
              "          0.46695516,  0.47057277,  0.47419654,  0.47782656,  0.48146288,\n",
              "          0.48510558,  0.48875472,  0.49241039,  0.49607265,  0.49974158,\n",
              "          0.50341724,  0.50709972,  0.51078909,  0.51448542,  0.5181888 ,\n",
              "          0.5218993 ,  0.525617  ,  0.52934197,  0.53307431,  0.53681408,\n",
              "          0.54056138,  0.54431629,  0.54807888,  0.55184925,  0.55562749,\n",
              "          0.55941367,  0.56320788,  0.56701023,  0.57082078,  0.57463965,\n",
              "          0.57846691,  0.58230267,  0.58614701,  0.59000003,  0.59386184,\n",
              "          0.59773252,  0.60161217,  0.6055009 ,  0.60939882,  0.61330601,\n",
              "          0.61722258,  0.62114865,  0.62508432,  0.62902969,  0.63298488,\n",
              "          0.63694999,  0.64092515,  0.64491046,  0.64890604,  0.652912  ,\n",
              "          0.65692847,  0.66095557,  0.66499341,  0.66904212,  0.67310183,\n",
              "          0.67717267,  0.68125476,  0.68534823,  0.68945322,  0.69356986,\n",
              "          0.69769828,  0.70183864,  0.70599106,  0.71015569,  0.71433267,\n",
              "          0.71852215,  0.72272428,  0.72693921,  0.7311671 ,  0.7354081 ,\n",
              "          0.73966236,  0.74393006,  0.74821135,  0.75250639,  0.75681536,\n",
              "          0.76113843,  0.76547578,  0.76982757,  0.77419399,  0.77857522,\n",
              "          0.78297144,  0.78738286,  0.79180964,  0.796252  ,  0.80071013,\n",
              "          0.80518423,  0.8096745 ,  0.81418116,  0.81870442,  0.82324449,\n",
              "          0.8278016 ,  0.83237595,  0.8369678 ,  0.84157736,  0.84620487,\n",
              "          0.85085057,  0.85551471,  0.86019753,  0.8648993 ,  0.86962026,\n",
              "          0.87436068,  0.87912084,  0.883901  ,  0.88870144,  0.89352245,\n",
              "          0.89836431,  0.90322733,  0.90811181,  0.91301804,  0.91794635,\n",
              "          0.92289706,  0.9278705 ,  0.93286699,  0.93788688,  0.94293051,\n",
              "          0.94799825,  0.95309045,  0.95820748,  0.96334973,  0.96851758,\n",
              "          0.97371143,  0.97893168,  0.98417874,  0.98945303,  0.994755  ,\n",
              "          1.00008508,  1.00544372,  1.0108314 ,  1.01624857,  1.02169573,\n",
              "          1.02717338,  1.03268202,  1.03822218,  1.04379439,  1.0493992 ,\n",
              "          1.05503717,  1.06070888,  1.06641491,  1.07215588,  1.07793241,\n",
              "          1.08374513,  1.0895947 ,  1.09548179,  1.1014071 ,  1.10737133,\n",
              "          1.11337521,  1.1194195 ,  1.12550497,  1.1316324 ,  1.13780262,\n",
              "          1.14401646,  1.15027479,  1.1565785 ,  1.16292851,  1.16932576,\n",
              "          1.17577123,  1.18226592,  1.18881086,  1.19540713,  1.20205582,\n",
              "          1.20875808,  1.21551508,  1.22232804,  1.22919822,  1.2361269 ,\n",
              "          1.24311544,  1.25016523,  1.25727771,  1.26445436,  1.27169673,\n",
              "          1.27900643,  1.28638512,  1.29383451,  1.30135641,  1.30895266,\n",
              "          1.3166252 ,  1.32437605,  1.33220728,  1.34012108,  1.34811971,\n",
              "          1.35620554,  1.36438101,  1.37264872,  1.38101133,  1.38947165,\n",
              "          1.39803261,  1.40669727,  1.41546885,  1.42435072,  1.43334639,\n",
              "          1.44245956,  1.45169414,  1.4610542 ,  1.47054404,  1.48016819,\n",
              "          1.48993143,  1.4998388 ,  1.50989561,  1.52010749,  1.5304804 ,\n",
              "          1.54102065,  1.55173494,  1.56263038,  1.57371454,  1.5849955 ,\n",
              "          1.59648185,  1.60818277,  1.62010812,  1.63226842,  1.644675  ,\n",
              "          1.65734002,  1.6702766 ,  1.68349892,  1.69702228,  1.71086332,\n",
              "          1.7250401 ,  1.73957231,  1.75448146,  1.76979112,  1.78552721,\n",
              "          1.80171828,  1.81839593,  1.83559526,  1.85335538,  1.8717201 ,\n",
              "          1.89073868,  1.91046682,  1.93096781,  1.95231403,  1.97458879,\n",
              "          1.99788867,  2.02232653,  2.04803542,  2.07517382,  2.1039326 ,\n",
              "          2.13454461,  2.16729818,  2.20255648,  2.24078627,  2.28260202,\n",
              "          2.32883665,  2.38066073,  2.43979696,  2.50893963,  2.59267337,\n",
              "          2.69984322,  2.85151707,  3.12260341]),\n",
              "  array([  9,  10,  19,  20,  20,  20,  21,  21,  21,  22,  22,  22,  22,\n",
              "          23,  23,  24,  24,  25,  25,  27,  27,  28,  28,  28,  28,  29,\n",
              "          29,  29,  29,  29,  29,  29,  30,  30,  30,  30,  30,  30,  30,\n",
              "          31,  31,  31,  31,  31,  31,  31,  32,  32,  32,  32,  32,  32,\n",
              "          32,  32,  32,  32,  32,  32,  32,  32,  32,  32,  32,  32,  32,\n",
              "          32,  32,  33,  33,  33,  33,  33,  33,  33,  33,  33,  33,  33,\n",
              "          33,  33,  33,  33,  33,  33,  33,  33,  33,  33,  33,  33,  33,\n",
              "          33,  33,  33,  33,  33,  33,  33,  33,  33,  33,  33,  33,  33,\n",
              "          33,  33,  33,  33,  33,  33,  33,  34,  34,  34,  34,  34,  34,\n",
              "          34,  34,  34,  34,  34,  34,  34,  34,  34,  34,  34,  34,  34,\n",
              "          34,  34,  34,  34,  34,  34,  34,  34,  34,  34,  34,  34,  34,\n",
              "          34,  34,  34,  34,  34,  34,  34,  35,  35,  35,  35,  35,  35,\n",
              "          36,  36,  36,  36,  37,  37,  37,  37,  37,  37,  38,  38,  38,\n",
              "          38,  38,  38,  38,  38,  39,  39,  39,  39,  39,  39,  40,  40,\n",
              "          40,  40,  40,  40,  40,  40,  40,  41,  41,  41,  41,  41,  41,\n",
              "          41,  42,  42,  42,  42,  42,  42,  42,  42,  43,  43,  43,  43,\n",
              "          43,  43,  43,  43,  43,  43,  43,  43,  43,  43,  43,  43,  43,\n",
              "          43,  43,  43,  43,  44,  44,  44,  44,  44,  44,  44,  44,  44,\n",
              "          44,  44,  44,  44,  44,  44,  44,  44,  44,  44,  44,  44,  44,\n",
              "          44,  44,  44,  44,  44,  44,  44,  44,  44,  44,  44,  44,  44,\n",
              "          44,  44,  44,  44,  44,  44,  45,  45,  45,  45,  45,  45,  45,\n",
              "          45,  45,  45,  45,  45,  45,  45,  45,  45,  45,  45,  45,  45,\n",
              "          45,  45,  45,  45,  45,  45,  45,  45,  45,  45,  45,  45,  45,\n",
              "          45,  45,  45,  45,  45,  45,  45,  45,  45,  45,  45,  45,  45,\n",
              "          45,  45,  45,  45,  45,  45,  45,  45,  45,  45,  45,  45,  45,\n",
              "          45,  46,  46,  46,  46,  46,  46,  46,  46,  46,  46,  46,  46,\n",
              "          46,  46,  46,  46,  46,  46,  46,  46,  46,  46,  46,  46,  46,\n",
              "          46,  46,  46,  46,  46,  46,  46,  47,  47,  47,  47,  47,  47,\n",
              "          47,  48,  48,  48,  48,  48,  49,  49,  49,  49,  50,  50,  50,\n",
              "          50,  50,  50,  50,  51,  51,  51,  52,  52,  52,  52,  52,  52,\n",
              "          52,  53,  53,  53,  53,  53,  53,  53,  53,  53,  54,  54,  54,\n",
              "          54,  54,  54,  54,  54,  55,  55,  55,  55,  55,  55,  55,  55,\n",
              "          55,  55,  55,  55,  56,  56,  56,  56,  56,  56,  56,  56,  56,\n",
              "          56,  56,  56,  56,  56,  56,  56,  56,  56,  56,  56,  57,  57,\n",
              "          57,  57,  57,  57,  57,  57,  57,  57,  57,  57,  57,  57,  57,\n",
              "          57,  57,  57,  57,  57,  57,  57,  57,  57,  57,  57,  57,  57,\n",
              "          57,  57,  57,  57,  57,  57,  57,  57,  57,  57,  57,  57,  57,\n",
              "          57,  58,  58,  58,  58,  58,  58,  58,  58,  58,  58,  58,  58,\n",
              "          58,  58,  58,  58,  58,  58,  58,  58,  58,  58,  58,  58,  58,\n",
              "          58,  58,  58,  58,  59,  59,  59,  59,  59,  59,  60,  60,  61,\n",
              "          61,  62,  62,  62,  63,  63,  64,  64,  64,  65,  65,  66,  66,\n",
              "          66,  66,  66,  66,  67,  67,  68,  68,  68,  68,  68,  68,  68,\n",
              "          68,  68,  68,  68,  68,  68,  68,  68,  68,  68,  68,  68,  69,\n",
              "          69,  69,  69,  69,  69,  69,  69,  69,  69,  69,  69,  69,  69,\n",
              "          69,  69,  69,  69,  69,  69,  69,  69,  69,  69,  69,  69,  69,\n",
              "          69,  69,  69,  69,  69,  69,  69,  69,  69,  69,  69,  69,  69,\n",
              "          69,  70,  70,  70,  70,  70,  70,  70,  70,  70,  70,  70,  70,\n",
              "          70,  70,  70,  70,  70,  71,  71,  71,  71,  72,  72,  72,  72,\n",
              "          72,  73,  74,  74,  74,  75,  77,  77,  77,  77,  78,  78,  78,\n",
              "          79,  79,  79,  79,  79,  79,  79,  79,  79,  80,  80,  80,  80,\n",
              "          80,  80,  80,  81,  81,  81,  81,  81,  81,  81,  81,  81,  81,\n",
              "          81,  81,  81,  81,  82,  82,  82,  82,  82,  82,  82,  82,  82,\n",
              "          82,  82,  82,  82,  83,  83,  83,  84,  85,  85,  86,  86,  86,\n",
              "          87,  88,  88,  89,  89,  89,  89,  90,  90,  90,  91,  91,  91,\n",
              "          91,  91,  92,  92,  92,  92,  92,  92,  92,  92,  92,  93,  93,\n",
              "          93,  93,  93,  93,  93,  94,  94,  94,  94,  95,  96,  98,  99,\n",
              "          99, 100, 101, 103, 103, 105, 105, 106, 106, 107, 109, 109, 110,\n",
              "         111, 112, 116, 116, 117, 118, 118, 119, 122, 124, 125, 126, 128,\n",
              "         130, 130, 130, 130, 131, 131, 131, 132, 132, 136, 141, 142, 143,\n",
              "         175, 176, 208, 231, 268, 279])),\n",
              " (24.70445662554616, 57.501940491591206, 0.8994987448059079))"
            ]
          },
          "metadata": {},
          "execution_count": 70
        },
        {
          "output_type": "display_data",
          "data": {
            "text/plain": [
              "<Figure size 432x288 with 1 Axes>"
            ],
            "image/png": "[encoded data removed]"
          },
          "metadata": {
            "needs_background": "light"
          }
        }
      ]
    },
    {
      "cell_type": "code",
      "source": [
        "import numpy as np\n",
        "\n",
        "# Transformation to make workex variable normal\n",
        "stats.probplot(np.log(education.workex), dist=\"norm\", plot=pylab)"
      ],
      "metadata": {
        "id": "GNN1LgLo-mDQ",
        "colab": {
          "base_uri": "https://localhost:8080/",
          "height": 1000
        },
        "outputId": "33008d90-d96c-49bc-999b-c1a820ebf05a"
      },
      "execution_count": 71,
      "outputs": [
        {
          "output_type": "execute_result",
          "data": {
            "text/plain": [
              "((array([-3.12260341, -2.85151707, -2.69984322, -2.59267337, -2.50893963,\n",
              "         -2.43979696, -2.38066073, -2.32883665, -2.28260202, -2.24078627,\n",
              "         -2.20255648, -2.16729818, -2.13454461, -2.1039326 , -2.07517382,\n",
              "         -2.04803542, -2.02232653, -1.99788867, -1.97458879, -1.95231403,\n",
              "         -1.93096781, -1.91046682, -1.89073868, -1.8717201 , -1.85335538,\n",
              "         -1.83559526, -1.81839593, -1.80171828, -1.78552721, -1.76979112,\n",
              "         -1.75448146, -1.73957231, -1.7250401 , -1.71086332, -1.69702228,\n",
              "         -1.68349892, -1.6702766 , -1.65734002, -1.644675  , -1.63226842,\n",
              "         -1.62010812, -1.60818277, -1.59648185, -1.5849955 , -1.57371454,\n",
              "         -1.56263038, -1.55173494, -1.54102065, -1.5304804 , -1.52010749,\n",
              "         -1.50989561, -1.4998388 , -1.48993143, -1.48016819, -1.47054404,\n",
              "         -1.4610542 , -1.45169414, -1.44245956, -1.43334639, -1.42435072,\n",
              "         -1.41546885, -1.40669727, -1.39803261, -1.38947165, -1.38101133,\n",
              "         -1.37264872, -1.36438101, -1.35620554, -1.34811971, -1.34012108,\n",
              "         -1.33220728, -1.32437605, -1.3166252 , -1.30895266, -1.30135641,\n",
              "         -1.29383451, -1.28638512, -1.27900643, -1.27169673, -1.26445436,\n",
              "         -1.25727771, -1.25016523, -1.24311544, -1.2361269 , -1.22919822,\n",
              "         -1.22232804, -1.21551508, -1.20875808, -1.20205582, -1.19540713,\n",
              "         -1.18881086, -1.18226592, -1.17577123, -1.16932576, -1.16292851,\n",
              "         -1.1565785 , -1.15027479, -1.14401646, -1.13780262, -1.1316324 ,\n",
              "         -1.12550497, -1.1194195 , -1.11337521, -1.10737133, -1.1014071 ,\n",
              "         -1.09548179, -1.0895947 , -1.08374513, -1.07793241, -1.07215588,\n",
              "         -1.06641491, -1.06070888, -1.05503717, -1.0493992 , -1.04379439,\n",
              "         -1.03822218, -1.03268202, -1.02717338, -1.02169573, -1.01624857,\n",
              "         -1.0108314 , -1.00544372, -1.00008508, -0.994755  , -0.98945303,\n",
              "         -0.98417874, -0.97893168, -0.97371143, -0.96851758, -0.96334973,\n",
              "         -0.95820748, -0.95309045, -0.94799825, -0.94293051, -0.93788688,\n",
              "         -0.93286699, -0.9278705 , -0.92289706, -0.91794635, -0.91301804,\n",
              "         -0.90811181, -0.90322733, -0.89836431, -0.89352245, -0.88870144,\n",
              "         -0.883901  , -0.87912084, -0.87436068, -0.86962026, -0.8648993 ,\n",
              "         -0.86019753, -0.85551471, -0.85085057, -0.84620487, -0.84157736,\n",
              "         -0.8369678 , -0.83237595, -0.8278016 , -0.82324449, -0.81870442,\n",
              "         -0.81418116, -0.8096745 , -0.80518423, -0.80071013, -0.796252  ,\n",
              "         -0.79180964, -0.78738286, -0.78297144, -0.77857522, -0.77419399,\n",
              "         -0.76982757, -0.76547578, -0.76113843, -0.75681536, -0.75250639,\n",
              "         -0.74821135, -0.74393006, -0.73966236, -0.7354081 , -0.7311671 ,\n",
              "         -0.72693921, -0.72272428, -0.71852215, -0.71433267, -0.71015569,\n",
              "         -0.70599106, -0.70183864, -0.69769828, -0.69356986, -0.68945322,\n",
              "         -0.68534823, -0.68125476, -0.67717267, -0.67310183, -0.66904212,\n",
              "         -0.66499341, -0.66095557, -0.65692847, -0.652912  , -0.64890604,\n",
              "         -0.64491046, -0.64092515, -0.63694999, -0.63298488, -0.62902969,\n",
              "         -0.62508432, -0.62114865, -0.61722258, -0.61330601, -0.60939882,\n",
              "         -0.6055009 , -0.60161217, -0.59773252, -0.59386184, -0.59000003,\n",
              "         -0.58614701, -0.58230267, -0.57846691, -0.57463965, -0.57082078,\n",
              "         -0.56701023, -0.56320788, -0.55941367, -0.55562749, -0.55184925,\n",
              "         -0.54807888, -0.54431629, -0.54056138, -0.53681408, -0.53307431,\n",
              "         -0.52934197, -0.525617  , -0.5218993 , -0.5181888 , -0.51448542,\n",
              "         -0.51078909, -0.50709972, -0.50341724, -0.49974158, -0.49607265,\n",
              "         -0.49241039, -0.48875472, -0.48510558, -0.48146288, -0.47782656,\n",
              "         -0.47419654, -0.47057277, -0.46695516, -0.46334365, -0.45973818,\n",
              "         -0.45613867, -0.45254506, -0.44895729, -0.44537529, -0.44179899,\n",
              "         -0.43822834, -0.43466326, -0.4311037 , -0.42754959, -0.42400088,\n",
              "         -0.4204575 , -0.41691938, -0.41338648, -0.40985874, -0.40633608,\n",
              "         -0.40281846, -0.39930582, -0.3957981 , -0.39229524, -0.38879719,\n",
              "         -0.38530388, -0.38181528, -0.37833131, -0.37485194, -0.37137709,\n",
              "         -0.36790672, -0.36444078, -0.36097921, -0.35752196, -0.35406897,\n",
              "         -0.35062021, -0.34717561, -0.34373512, -0.3402987 , -0.33686629,\n",
              "         -0.33343785, -0.33001332, -0.32659265, -0.32317581, -0.31976273,\n",
              "         -0.31635337, -0.31294769, -0.30954563, -0.30614715, -0.30275221,\n",
              "         -0.29936075, -0.29597273, -0.2925881 , -0.28920682, -0.28582885,\n",
              "         -0.28245413, -0.27908263, -0.27571429, -0.27234909, -0.26898696,\n",
              "         -0.26562787, -0.26227178, -0.25891863, -0.2555684 , -0.25222103,\n",
              "         -0.24887649, -0.24553472, -0.2421957 , -0.23885938, -0.23552571,\n",
              "         -0.23219466, -0.22886618, -0.22554023, -0.22221678, -0.21889578,\n",
              "         -0.21557719, -0.21226098, -0.2089471 , -0.20563551, -0.20232618,\n",
              "         -0.19901906, -0.19571411, -0.1924113 , -0.18911059, -0.18581194,\n",
              "         -0.18251531, -0.17922066, -0.17592795, -0.17263715, -0.16934822,\n",
              "         -0.16606112, -0.16277582, -0.15949227, -0.15621043, -0.15293028,\n",
              "         -0.14965178, -0.14637488, -0.14309956, -0.13982576, -0.13655347,\n",
              "         -0.13328264, -0.13001323, -0.12674521, -0.12347855, -0.1202132 ,\n",
              "         -0.11694913, -0.11368631, -0.1104247 , -0.10716426, -0.10390496,\n",
              "         -0.10064677, -0.09738964, -0.09413355, -0.09087845, -0.08762432,\n",
              "         -0.08437111, -0.0811188 , -0.07786734, -0.07461671, -0.07136687,\n",
              "         -0.06811778, -0.06486941, -0.06162172, -0.05837468, -0.05512826,\n",
              "         -0.05188242, -0.04863712, -0.04539234, -0.04214804, -0.03890417,\n",
              "         -0.03566072, -0.03241765, -0.02917491, -0.02593248, -0.02269033,\n",
              "         -0.01944841, -0.01620669, -0.01296515, -0.00972374, -0.00648244,\n",
              "         -0.0032412 ,  0.        ,  0.0032412 ,  0.00648244,  0.00972374,\n",
              "          0.01296515,  0.01620669,  0.01944841,  0.02269033,  0.02593248,\n",
              "          0.02917491,  0.03241765,  0.03566072,  0.03890417,  0.04214804,\n",
              "          0.04539234,  0.04863712,  0.05188242,  0.05512826,  0.05837468,\n",
              "          0.06162172,  0.06486941,  0.06811778,  0.07136687,  0.07461671,\n",
              "          0.07786734,  0.0811188 ,  0.08437111,  0.08762432,  0.09087845,\n",
              "          0.09413355,  0.09738964,  0.10064677,  0.10390496,  0.10716426,\n",
              "          0.1104247 ,  0.11368631,  0.11694913,  0.1202132 ,  0.12347855,\n",
              "          0.12674521,  0.13001323,  0.13328264,  0.13655347,  0.13982576,\n",
              "          0.14309956,  0.14637488,  0.14965178,  0.15293028,  0.15621043,\n",
              "          0.15949227,  0.16277582,  0.16606112,  0.16934822,  0.17263715,\n",
              "          0.17592795,  0.17922066,  0.18251531,  0.18581194,  0.18911059,\n",
              "          0.1924113 ,  0.19571411,  0.19901906,  0.20232618,  0.20563551,\n",
              "          0.2089471 ,  0.21226098,  0.21557719,  0.21889578,  0.22221678,\n",
              "          0.22554023,  0.22886618,  0.23219466,  0.23552571,  0.23885938,\n",
              "          0.2421957 ,  0.24553472,  0.24887649,  0.25222103,  0.2555684 ,\n",
              "          0.25891863,  0.26227178,  0.26562787,  0.26898696,  0.27234909,\n",
              "          0.27571429,  0.27908263,  0.28245413,  0.28582885,  0.28920682,\n",
              "          0.2925881 ,  0.29597273,  0.29936075,  0.30275221,  0.30614715,\n",
              "          0.30954563,  0.31294769,  0.31635337,  0.31976273,  0.32317581,\n",
              "          0.32659265,  0.33001332,  0.33343785,  0.33686629,  0.3402987 ,\n",
              "          0.34373512,  0.34717561,  0.35062021,  0.35406897,  0.35752196,\n",
              "          0.36097921,  0.36444078,  0.36790672,  0.37137709,  0.37485194,\n",
              "          0.37833131,  0.38181528,  0.38530388,  0.38879719,  0.39229524,\n",
              "          0.3957981 ,  0.39930582,  0.40281846,  0.40633608,  0.40985874,\n",
              "          0.41338648,  0.41691938,  0.4204575 ,  0.42400088,  0.42754959,\n",
              "          0.4311037 ,  0.43466326,  0.43822834,  0.44179899,  0.44537529,\n",
              "          0.44895729,  0.45254506,  0.45613867,  0.45973818,  0.46334365,\n",
              "          0.46695516,  0.47057277,  0.47419654,  0.47782656,  0.48146288,\n",
              "          0.48510558,  0.48875472,  0.49241039,  0.49607265,  0.49974158,\n",
              "          0.50341724,  0.50709972,  0.51078909,  0.51448542,  0.5181888 ,\n",
              "          0.5218993 ,  0.525617  ,  0.52934197,  0.53307431,  0.53681408,\n",
              "          0.54056138,  0.54431629,  0.54807888,  0.55184925,  0.55562749,\n",
              "          0.55941367,  0.56320788,  0.56701023,  0.57082078,  0.57463965,\n",
              "          0.57846691,  0.58230267,  0.58614701,  0.59000003,  0.59386184,\n",
              "          0.59773252,  0.60161217,  0.6055009 ,  0.60939882,  0.61330601,\n",
              "          0.61722258,  0.62114865,  0.62508432,  0.62902969,  0.63298488,\n",
              "          0.63694999,  0.64092515,  0.64491046,  0.64890604,  0.652912  ,\n",
              "          0.65692847,  0.66095557,  0.66499341,  0.66904212,  0.67310183,\n",
              "          0.67717267,  0.68125476,  0.68534823,  0.68945322,  0.69356986,\n",
              "          0.69769828,  0.70183864,  0.70599106,  0.71015569,  0.71433267,\n",
              "          0.71852215,  0.72272428,  0.72693921,  0.7311671 ,  0.7354081 ,\n",
              "          0.73966236,  0.74393006,  0.74821135,  0.75250639,  0.75681536,\n",
              "          0.76113843,  0.76547578,  0.76982757,  0.77419399,  0.77857522,\n",
              "          0.78297144,  0.78738286,  0.79180964,  0.796252  ,  0.80071013,\n",
              "          0.80518423,  0.8096745 ,  0.81418116,  0.81870442,  0.82324449,\n",
              "          0.8278016 ,  0.83237595,  0.8369678 ,  0.84157736,  0.84620487,\n",
              "          0.85085057,  0.85551471,  0.86019753,  0.8648993 ,  0.86962026,\n",
              "          0.87436068,  0.87912084,  0.883901  ,  0.88870144,  0.89352245,\n",
              "          0.89836431,  0.90322733,  0.90811181,  0.91301804,  0.91794635,\n",
              "          0.92289706,  0.9278705 ,  0.93286699,  0.93788688,  0.94293051,\n",
              "          0.94799825,  0.95309045,  0.95820748,  0.96334973,  0.96851758,\n",
              "          0.97371143,  0.97893168,  0.98417874,  0.98945303,  0.994755  ,\n",
              "          1.00008508,  1.00544372,  1.0108314 ,  1.01624857,  1.02169573,\n",
              "          1.02717338,  1.03268202,  1.03822218,  1.04379439,  1.0493992 ,\n",
              "          1.05503717,  1.06070888,  1.06641491,  1.07215588,  1.07793241,\n",
              "          1.08374513,  1.0895947 ,  1.09548179,  1.1014071 ,  1.10737133,\n",
              "          1.11337521,  1.1194195 ,  1.12550497,  1.1316324 ,  1.13780262,\n",
              "          1.14401646,  1.15027479,  1.1565785 ,  1.16292851,  1.16932576,\n",
              "          1.17577123,  1.18226592,  1.18881086,  1.19540713,  1.20205582,\n",
              "          1.20875808,  1.21551508,  1.22232804,  1.22919822,  1.2361269 ,\n",
              "          1.24311544,  1.25016523,  1.25727771,  1.26445436,  1.27169673,\n",
              "          1.27900643,  1.28638512,  1.29383451,  1.30135641,  1.30895266,\n",
              "          1.3166252 ,  1.32437605,  1.33220728,  1.34012108,  1.34811971,\n",
              "          1.35620554,  1.36438101,  1.37264872,  1.38101133,  1.38947165,\n",
              "          1.39803261,  1.40669727,  1.41546885,  1.42435072,  1.43334639,\n",
              "          1.44245956,  1.45169414,  1.4610542 ,  1.47054404,  1.48016819,\n",
              "          1.48993143,  1.4998388 ,  1.50989561,  1.52010749,  1.5304804 ,\n",
              "          1.54102065,  1.55173494,  1.56263038,  1.57371454,  1.5849955 ,\n",
              "          1.59648185,  1.60818277,  1.62010812,  1.63226842,  1.644675  ,\n",
              "          1.65734002,  1.6702766 ,  1.68349892,  1.69702228,  1.71086332,\n",
              "          1.7250401 ,  1.73957231,  1.75448146,  1.76979112,  1.78552721,\n",
              "          1.80171828,  1.81839593,  1.83559526,  1.85335538,  1.8717201 ,\n",
              "          1.89073868,  1.91046682,  1.93096781,  1.95231403,  1.97458879,\n",
              "          1.99788867,  2.02232653,  2.04803542,  2.07517382,  2.1039326 ,\n",
              "          2.13454461,  2.16729818,  2.20255648,  2.24078627,  2.28260202,\n",
              "          2.32883665,  2.38066073,  2.43979696,  2.50893963,  2.59267337,\n",
              "          2.69984322,  2.85151707,  3.12260341]),\n",
              "  array([2.19722458, 2.30258509, 2.94443898, 2.99573227, 2.99573227,\n",
              "         2.99573227, 3.04452244, 3.04452244, 3.04452244, 3.09104245,\n",
              "         3.09104245, 3.09104245, 3.09104245, 3.13549422, 3.13549422,\n",
              "         3.17805383, 3.17805383, 3.21887582, 3.21887582, 3.29583687,\n",
              "         3.29583687, 3.33220451, 3.33220451, 3.33220451, 3.33220451,\n",
              "         3.36729583, 3.36729583, 3.36729583, 3.36729583, 3.36729583,\n",
              "         3.36729583, 3.36729583, 3.40119738, 3.40119738, 3.40119738,\n",
              "         3.40119738, 3.40119738, 3.40119738, 3.40119738, 3.4339872 ,\n",
              "         3.4339872 , 3.4339872 , 3.4339872 , 3.4339872 , 3.4339872 ,\n",
              "         3.4339872 , 3.4657359 , 3.4657359 , 3.4657359 , 3.4657359 ,\n",
              "         3.4657359 , 3.4657359 , 3.4657359 , 3.4657359 , 3.4657359 ,\n",
              "         3.4657359 , 3.4657359 , 3.4657359 , 3.4657359 , 3.4657359 ,\n",
              "         3.4657359 , 3.4657359 , 3.4657359 , 3.4657359 , 3.4657359 ,\n",
              "         3.4657359 , 3.4657359 , 3.49650756, 3.49650756, 3.49650756,\n",
              "         3.49650756, 3.49650756, 3.49650756, 3.49650756, 3.49650756,\n",
              "         3.49650756, 3.49650756, 3.49650756, 3.49650756, 3.49650756,\n",
              "         3.49650756, 3.49650756, 3.49650756, 3.49650756, 3.49650756,\n",
              "         3.49650756, 3.49650756, 3.49650756, 3.49650756, 3.49650756,\n",
              "         3.49650756, 3.49650756, 3.49650756, 3.49650756, 3.49650756,\n",
              "         3.49650756, 3.49650756, 3.49650756, 3.49650756, 3.49650756,\n",
              "         3.49650756, 3.49650756, 3.49650756, 3.49650756, 3.49650756,\n",
              "         3.49650756, 3.49650756, 3.49650756, 3.49650756, 3.49650756,\n",
              "         3.49650756, 3.52636052, 3.52636052, 3.52636052, 3.52636052,\n",
              "         3.52636052, 3.52636052, 3.52636052, 3.52636052, 3.52636052,\n",
              "         3.52636052, 3.52636052, 3.52636052, 3.52636052, 3.52636052,\n",
              "         3.52636052, 3.52636052, 3.52636052, 3.52636052, 3.52636052,\n",
              "         3.52636052, 3.52636052, 3.52636052, 3.52636052, 3.52636052,\n",
              "         3.52636052, 3.52636052, 3.52636052, 3.52636052, 3.52636052,\n",
              "         3.52636052, 3.52636052, 3.52636052, 3.52636052, 3.52636052,\n",
              "         3.52636052, 3.52636052, 3.52636052, 3.52636052, 3.52636052,\n",
              "         3.55534806, 3.55534806, 3.55534806, 3.55534806, 3.55534806,\n",
              "         3.55534806, 3.58351894, 3.58351894, 3.58351894, 3.58351894,\n",
              "         3.61091791, 3.61091791, 3.61091791, 3.61091791, 3.61091791,\n",
              "         3.61091791, 3.63758616, 3.63758616, 3.63758616, 3.63758616,\n",
              "         3.63758616, 3.63758616, 3.63758616, 3.63758616, 3.66356165,\n",
              "         3.66356165, 3.66356165, 3.66356165, 3.66356165, 3.66356165,\n",
              "         3.68887945, 3.68887945, 3.68887945, 3.68887945, 3.68887945,\n",
              "         3.68887945, 3.68887945, 3.68887945, 3.68887945, 3.71357207,\n",
              "         3.71357207, 3.71357207, 3.71357207, 3.71357207, 3.71357207,\n",
              "         3.71357207, 3.73766962, 3.73766962, 3.73766962, 3.73766962,\n",
              "         3.73766962, 3.73766962, 3.73766962, 3.73766962, 3.76120012,\n",
              "         3.76120012, 3.76120012, 3.76120012, 3.76120012, 3.76120012,\n",
              "         3.76120012, 3.76120012, 3.76120012, 3.76120012, 3.76120012,\n",
              "         3.76120012, 3.76120012, 3.76120012, 3.76120012, 3.76120012,\n",
              "         3.76120012, 3.76120012, 3.76120012, 3.76120012, 3.76120012,\n",
              "         3.78418963, 3.78418963, 3.78418963, 3.78418963, 3.78418963,\n",
              "         3.78418963, 3.78418963, 3.78418963, 3.78418963, 3.78418963,\n",
              "         3.78418963, 3.78418963, 3.78418963, 3.78418963, 3.78418963,\n",
              "         3.78418963, 3.78418963, 3.78418963, 3.78418963, 3.78418963,\n",
              "         3.78418963, 3.78418963, 3.78418963, 3.78418963, 3.78418963,\n",
              "         3.78418963, 3.78418963, 3.78418963, 3.78418963, 3.78418963,\n",
              "         3.78418963, 3.78418963, 3.78418963, 3.78418963, 3.78418963,\n",
              "         3.78418963, 3.78418963, 3.78418963, 3.78418963, 3.78418963,\n",
              "         3.78418963, 3.80666249, 3.80666249, 3.80666249, 3.80666249,\n",
              "         3.80666249, 3.80666249, 3.80666249, 3.80666249, 3.80666249,\n",
              "         3.80666249, 3.80666249, 3.80666249, 3.80666249, 3.80666249,\n",
              "         3.80666249, 3.80666249, 3.80666249, 3.80666249, 3.80666249,\n",
              "         3.80666249, 3.80666249, 3.80666249, 3.80666249, 3.80666249,\n",
              "         3.80666249, 3.80666249, 3.80666249, 3.80666249, 3.80666249,\n",
              "         3.80666249, 3.80666249, 3.80666249, 3.80666249, 3.80666249,\n",
              "         3.80666249, 3.80666249, 3.80666249, 3.80666249, 3.80666249,\n",
              "         3.80666249, 3.80666249, 3.80666249, 3.80666249, 3.80666249,\n",
              "         3.80666249, 3.80666249, 3.80666249, 3.80666249, 3.80666249,\n",
              "         3.80666249, 3.80666249, 3.80666249, 3.80666249, 3.80666249,\n",
              "         3.80666249, 3.80666249, 3.80666249, 3.80666249, 3.80666249,\n",
              "         3.80666249, 3.8286414 , 3.8286414 , 3.8286414 , 3.8286414 ,\n",
              "         3.8286414 , 3.8286414 , 3.8286414 , 3.8286414 , 3.8286414 ,\n",
              "         3.8286414 , 3.8286414 , 3.8286414 , 3.8286414 , 3.8286414 ,\n",
              "         3.8286414 , 3.8286414 , 3.8286414 , 3.8286414 , 3.8286414 ,\n",
              "         3.8286414 , 3.8286414 , 3.8286414 , 3.8286414 , 3.8286414 ,\n",
              "         3.8286414 , 3.8286414 , 3.8286414 , 3.8286414 , 3.8286414 ,\n",
              "         3.8286414 , 3.8286414 , 3.8286414 , 3.8501476 , 3.8501476 ,\n",
              "         3.8501476 , 3.8501476 , 3.8501476 , 3.8501476 , 3.8501476 ,\n",
              "         3.87120101, 3.87120101, 3.87120101, 3.87120101, 3.87120101,\n",
              "         3.8918203 , 3.8918203 , 3.8918203 , 3.8918203 , 3.91202301,\n",
              "         3.91202301, 3.91202301, 3.91202301, 3.91202301, 3.91202301,\n",
              "         3.91202301, 3.93182563, 3.93182563, 3.93182563, 3.95124372,\n",
              "         3.95124372, 3.95124372, 3.95124372, 3.95124372, 3.95124372,\n",
              "         3.95124372, 3.97029191, 3.97029191, 3.97029191, 3.97029191,\n",
              "         3.97029191, 3.97029191, 3.97029191, 3.97029191, 3.97029191,\n",
              "         3.98898405, 3.98898405, 3.98898405, 3.98898405, 3.98898405,\n",
              "         3.98898405, 3.98898405, 3.98898405, 4.00733319, 4.00733319,\n",
              "         4.00733319, 4.00733319, 4.00733319, 4.00733319, 4.00733319,\n",
              "         4.00733319, 4.00733319, 4.00733319, 4.00733319, 4.00733319,\n",
              "         4.02535169, 4.02535169, 4.02535169, 4.02535169, 4.02535169,\n",
              "         4.02535169, 4.02535169, 4.02535169, 4.02535169, 4.02535169,\n",
              "         4.02535169, 4.02535169, 4.02535169, 4.02535169, 4.02535169,\n",
              "         4.02535169, 4.02535169, 4.02535169, 4.02535169, 4.02535169,\n",
              "         4.04305127, 4.04305127, 4.04305127, 4.04305127, 4.04305127,\n",
              "         4.04305127, 4.04305127, 4.04305127, 4.04305127, 4.04305127,\n",
              "         4.04305127, 4.04305127, 4.04305127, 4.04305127, 4.04305127,\n",
              "         4.04305127, 4.04305127, 4.04305127, 4.04305127, 4.04305127,\n",
              "         4.04305127, 4.04305127, 4.04305127, 4.04305127, 4.04305127,\n",
              "         4.04305127, 4.04305127, 4.04305127, 4.04305127, 4.04305127,\n",
              "         4.04305127, 4.04305127, 4.04305127, 4.04305127, 4.04305127,\n",
              "         4.04305127, 4.04305127, 4.04305127, 4.04305127, 4.04305127,\n",
              "         4.04305127, 4.04305127, 4.06044301, 4.06044301, 4.06044301,\n",
              "         4.06044301, 4.06044301, 4.06044301, 4.06044301, 4.06044301,\n",
              "         4.06044301, 4.06044301, 4.06044301, 4.06044301, 4.06044301,\n",
              "         4.06044301, 4.06044301, 4.06044301, 4.06044301, 4.06044301,\n",
              "         4.06044301, 4.06044301, 4.06044301, 4.06044301, 4.06044301,\n",
              "         4.06044301, 4.06044301, 4.06044301, 4.06044301, 4.06044301,\n",
              "         4.06044301, 4.07753744, 4.07753744, 4.07753744, 4.07753744,\n",
              "         4.07753744, 4.07753744, 4.09434456, 4.09434456, 4.11087386,\n",
              "         4.11087386, 4.12713439, 4.12713439, 4.12713439, 4.14313473,\n",
              "         4.14313473, 4.15888308, 4.15888308, 4.15888308, 4.17438727,\n",
              "         4.17438727, 4.18965474, 4.18965474, 4.18965474, 4.18965474,\n",
              "         4.18965474, 4.18965474, 4.20469262, 4.20469262, 4.21950771,\n",
              "         4.21950771, 4.21950771, 4.21950771, 4.21950771, 4.21950771,\n",
              "         4.21950771, 4.21950771, 4.21950771, 4.21950771, 4.21950771,\n",
              "         4.21950771, 4.21950771, 4.21950771, 4.21950771, 4.21950771,\n",
              "         4.21950771, 4.21950771, 4.21950771, 4.2341065 , 4.2341065 ,\n",
              "         4.2341065 , 4.2341065 , 4.2341065 , 4.2341065 , 4.2341065 ,\n",
              "         4.2341065 , 4.2341065 , 4.2341065 , 4.2341065 , 4.2341065 ,\n",
              "         4.2341065 , 4.2341065 , 4.2341065 , 4.2341065 , 4.2341065 ,\n",
              "         4.2341065 , 4.2341065 , 4.2341065 , 4.2341065 , 4.2341065 ,\n",
              "         4.2341065 , 4.2341065 , 4.2341065 , 4.2341065 , 4.2341065 ,\n",
              "         4.2341065 , 4.2341065 , 4.2341065 , 4.2341065 , 4.2341065 ,\n",
              "         4.2341065 , 4.2341065 , 4.2341065 , 4.2341065 , 4.2341065 ,\n",
              "         4.2341065 , 4.2341065 , 4.2341065 , 4.2341065 , 4.24849524,\n",
              "         4.24849524, 4.24849524, 4.24849524, 4.24849524, 4.24849524,\n",
              "         4.24849524, 4.24849524, 4.24849524, 4.24849524, 4.24849524,\n",
              "         4.24849524, 4.24849524, 4.24849524, 4.24849524, 4.24849524,\n",
              "         4.24849524, 4.26267988, 4.26267988, 4.26267988, 4.26267988,\n",
              "         4.27666612, 4.27666612, 4.27666612, 4.27666612, 4.27666612,\n",
              "         4.29045944, 4.30406509, 4.30406509, 4.30406509, 4.31748811,\n",
              "         4.34380542, 4.34380542, 4.34380542, 4.34380542, 4.35670883,\n",
              "         4.35670883, 4.35670883, 4.36944785, 4.36944785, 4.36944785,\n",
              "         4.36944785, 4.36944785, 4.36944785, 4.36944785, 4.36944785,\n",
              "         4.36944785, 4.38202663, 4.38202663, 4.38202663, 4.38202663,\n",
              "         4.38202663, 4.38202663, 4.38202663, 4.39444915, 4.39444915,\n",
              "         4.39444915, 4.39444915, 4.39444915, 4.39444915, 4.39444915,\n",
              "         4.39444915, 4.39444915, 4.39444915, 4.39444915, 4.39444915,\n",
              "         4.39444915, 4.39444915, 4.40671925, 4.40671925, 4.40671925,\n",
              "         4.40671925, 4.40671925, 4.40671925, 4.40671925, 4.40671925,\n",
              "         4.40671925, 4.40671925, 4.40671925, 4.40671925, 4.40671925,\n",
              "         4.41884061, 4.41884061, 4.41884061, 4.4308168 , 4.44265126,\n",
              "         4.44265126, 4.4543473 , 4.4543473 , 4.4543473 , 4.46590812,\n",
              "         4.47733681, 4.47733681, 4.48863637, 4.48863637, 4.48863637,\n",
              "         4.48863637, 4.49980967, 4.49980967, 4.49980967, 4.51085951,\n",
              "         4.51085951, 4.51085951, 4.51085951, 4.51085951, 4.52178858,\n",
              "         4.52178858, 4.52178858, 4.52178858, 4.52178858, 4.52178858,\n",
              "         4.52178858, 4.52178858, 4.52178858, 4.53259949, 4.53259949,\n",
              "         4.53259949, 4.53259949, 4.53259949, 4.53259949, 4.53259949,\n",
              "         4.54329478, 4.54329478, 4.54329478, 4.54329478, 4.55387689,\n",
              "         4.56434819, 4.58496748, 4.59511985, 4.59511985, 4.60517019,\n",
              "         4.61512052, 4.63472899, 4.63472899, 4.65396035, 4.65396035,\n",
              "         4.66343909, 4.66343909, 4.67282883, 4.69134788, 4.69134788,\n",
              "         4.70048037, 4.7095302 , 4.71849887, 4.75359019, 4.75359019,\n",
              "         4.76217393, 4.77068462, 4.77068462, 4.77912349, 4.80402104,\n",
              "         4.82028157, 4.82831374, 4.83628191, 4.85203026, 4.86753445,\n",
              "         4.86753445, 4.86753445, 4.86753445, 4.87519732, 4.87519732,\n",
              "         4.87519732, 4.88280192, 4.88280192, 4.91265489, 4.94875989,\n",
              "         4.95582706, 4.96284463, 5.16478597, 5.170484  , 5.33753808,\n",
              "         5.44241771, 5.59098698, 5.63121178])),\n",
              " (0.4075063546694172, 3.963201462522061, 0.9887574208341393))"
            ]
          },
          "metadata": {},
          "execution_count": 71
        },
        {
          "output_type": "display_data",
          "data": {
            "text/plain": [
              "<Figure size 432x288 with 1 Axes>"
            ],
            "image/png": "[encoded data removed]"
          },
          "metadata": {
            "needs_background": "light"
          }
        }
      ]
    },
    {
      "cell_type": "markdown",
      "source": [
        "#Standardization/Normalization#"
      ],
      "metadata": {
        "id": "IXSDl3PA-pcy"
      }
    },
    {
      "cell_type": "code",
      "source": [
        "import pandas as pd\n",
        "import numpy as np"
      ],
      "metadata": {
        "id": "zJAOF_Dh-s6L"
      },
      "execution_count": 72,
      "outputs": []
    },
    {
      "cell_type": "markdown",
      "source": [
        "##Standardization##"
      ],
      "metadata": {
        "id": "qMzdPfTU--jL"
      }
    },
    {
      "cell_type": "code",
      "source": [
        "### Standardization\n",
        "from sklearn.preprocessing import StandardScaler\n",
        "\n",
        "data = pd.read_csv(\"mtcars.csv\")\n",
        "a = data.describe()"
      ],
      "metadata": {
        "id": "UYBVNNb--ykB"
      },
      "execution_count": 73,
      "outputs": []
    },
    {
      "cell_type": "code",
      "source": [
        "# Initialise the Scaler\n",
        "scaler = StandardScaler()"
      ],
      "metadata": {
        "id": "eW2APgxX-3fv"
      },
      "execution_count": 74,
      "outputs": []
    },
    {
      "cell_type": "code",
      "source": [
        "# To scale data\n",
        "df = scaler.fit_transform(data)"
      ],
      "metadata": {
        "id": "nhUhZyD1-5Tt"
      },
      "execution_count": 75,
      "outputs": []
    },
    {
      "cell_type": "code",
      "source": [
        "# Convert the array back to a dataframe\n",
        "dataset = pd.DataFrame(df)\n",
        "res = dataset.describe()"
      ],
      "metadata": {
        "id": "ejvTFTQy-5RC"
      },
      "execution_count": 76,
      "outputs": []
    },
    {
      "cell_type": "markdown",
      "source": [
        "##Normalization##"
      ],
      "metadata": {
        "id": "r-4dNxWL_ChV"
      }
    },
    {
      "cell_type": "code",
      "source": [
        "## load data set\n",
        "ethnic = pd.read_csv(\"ethnic diversity.csv\")\n",
        "ethnic.columns"
      ],
      "metadata": {
        "id": "lksnJroo-5Oc",
        "colab": {
          "base_uri": "https://localhost:8080/"
        },
        "outputId": "d181a047-6bf6-4cf4-e873-8471f7446315"
      },
      "execution_count": 77,
      "outputs": [
        {
          "output_type": "execute_result",
          "data": {
            "text/plain": [
              "Index(['Employee_Name', 'EmpID', 'Position', 'State', 'Zip', 'Sex',\n",
              "       'MaritalDesc', 'CitizenDesc', 'EmploymentStatus', 'Department',\n",
              "       'Salaries', 'age', 'Race'],\n",
              "      dtype='object')"
            ]
          },
          "metadata": {},
          "execution_count": 77
        }
      ]
    },
    {
      "cell_type": "code",
      "source": [
        "ethnic.drop(['Employee_Name', 'EmpID', 'Zip'], axis = 1, inplace = True)"
      ],
      "metadata": {
        "id": "Fi_r4KH6-5IT"
      },
      "execution_count": 78,
      "outputs": []
    },
    {
      "cell_type": "code",
      "source": [
        "a1 = ethnic.describe()"
      ],
      "metadata": {
        "id": "f7ka-BOE_MWV"
      },
      "execution_count": 79,
      "outputs": []
    },
    {
      "cell_type": "code",
      "source": [
        "# Get dummies\n",
        "ethnic = pd.get_dummies(ethnic, drop_first = True)"
      ],
      "metadata": {
        "id": "CBc237Nm_MT3"
      },
      "execution_count": 80,
      "outputs": []
    },
    {
      "cell_type": "markdown",
      "source": [
        "###Normalization Function - Custome Function###"
      ],
      "metadata": {
        "id": "v4tiO6fQ_Qwr"
      }
    },
    {
      "cell_type": "code",
      "source": [
        "# Range converts to: 0 to 1\n",
        "def norm_func(i): \n",
        "    x = (i-i.min())/(i.max()-i.min())\n",
        "    return(x)"
      ],
      "metadata": {
        "id": "BZfBWL4U_MRi"
      },
      "execution_count": 81,
      "outputs": []
    },
    {
      "cell_type": "code",
      "source": [
        "df_norm = norm_func(ethnic)"
      ],
      "metadata": {
        "id": "6Lty7sB3_MNL"
      },
      "execution_count": 82,
      "outputs": []
    },
    {
      "cell_type": "code",
      "source": [
        "b = df_norm.describe()"
      ],
      "metadata": {
        "id": "HzsgTgN8_MLa"
      },
      "execution_count": 83,
      "outputs": []
    }
  ]
}