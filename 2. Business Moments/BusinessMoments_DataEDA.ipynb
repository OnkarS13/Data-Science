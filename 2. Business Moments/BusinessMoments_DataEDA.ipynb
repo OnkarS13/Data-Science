{
  "nbformat": 4,
  "nbformat_minor": 0,
  "metadata": {
    "colab": {
      "name": "BusinessMoments_DataEDA.ipynb",
      "provenance": []
    },
    "kernelspec": {
      "name": "python3",
      "display_name": "Python 3"
    },
    "language_info": {
      "name": "python"
    }
  },
  "cells": [
    {
      "cell_type": "markdown",
      "source": [
        "##Importing Pandas##"
      ],
      "metadata": {
        "id": "GMtZp7z1FAO-"
      }
    },
    {
      "cell_type": "code",
      "execution_count": 1,
      "metadata": {
        "colab": {
          "base_uri": "https://localhost:8080/"
        },
        "id": "2T7LUYl5C4K6",
        "outputId": "7ffc610f-e998-4084-bc1a-3e2160b67cac"
      },
      "outputs": [
        {
          "output_type": "execute_result",
          "data": {
            "text/plain": [
              "['BooleanDtype',\n",
              " 'Categorical',\n",
              " 'CategoricalDtype',\n",
              " 'CategoricalIndex',\n",
              " 'DataFrame',\n",
              " 'DateOffset',\n",
              " 'DatetimeIndex',\n",
              " 'DatetimeTZDtype',\n",
              " 'ExcelFile',\n",
              " 'ExcelWriter',\n",
              " 'Flags',\n",
              " 'Float32Dtype',\n",
              " 'Float64Dtype',\n",
              " 'Float64Index',\n",
              " 'Grouper',\n",
              " 'HDFStore',\n",
              " 'Index',\n",
              " 'IndexSlice',\n",
              " 'Int16Dtype',\n",
              " 'Int32Dtype',\n",
              " 'Int64Dtype',\n",
              " 'Int64Index',\n",
              " 'Int8Dtype',\n",
              " 'Interval',\n",
              " 'IntervalDtype',\n",
              " 'IntervalIndex',\n",
              " 'MultiIndex',\n",
              " 'NA',\n",
              " 'NaT',\n",
              " 'NamedAgg',\n",
              " 'Period',\n",
              " 'PeriodDtype',\n",
              " 'PeriodIndex',\n",
              " 'RangeIndex',\n",
              " 'Series',\n",
              " 'SparseDtype',\n",
              " 'StringDtype',\n",
              " 'Timedelta',\n",
              " 'TimedeltaIndex',\n",
              " 'Timestamp',\n",
              " 'UInt16Dtype',\n",
              " 'UInt32Dtype',\n",
              " 'UInt64Dtype',\n",
              " 'UInt64Index',\n",
              " 'UInt8Dtype',\n",
              " '__builtins__',\n",
              " '__cached__',\n",
              " '__doc__',\n",
              " '__docformat__',\n",
              " '__file__',\n",
              " '__getattr__',\n",
              " '__git_version__',\n",
              " '__loader__',\n",
              " '__name__',\n",
              " '__package__',\n",
              " '__path__',\n",
              " '__spec__',\n",
              " '__version__',\n",
              " '_config',\n",
              " '_hashtable',\n",
              " '_is_numpy_dev',\n",
              " '_lib',\n",
              " '_libs',\n",
              " '_np_version_under1p18',\n",
              " '_testing',\n",
              " '_tslib',\n",
              " '_typing',\n",
              " '_version',\n",
              " 'api',\n",
              " 'array',\n",
              " 'arrays',\n",
              " 'bdate_range',\n",
              " 'compat',\n",
              " 'concat',\n",
              " 'core',\n",
              " 'crosstab',\n",
              " 'cut',\n",
              " 'date_range',\n",
              " 'describe_option',\n",
              " 'errors',\n",
              " 'eval',\n",
              " 'factorize',\n",
              " 'get_dummies',\n",
              " 'get_option',\n",
              " 'infer_freq',\n",
              " 'interval_range',\n",
              " 'io',\n",
              " 'isna',\n",
              " 'isnull',\n",
              " 'json_normalize',\n",
              " 'lreshape',\n",
              " 'melt',\n",
              " 'merge',\n",
              " 'merge_asof',\n",
              " 'merge_ordered',\n",
              " 'notna',\n",
              " 'notnull',\n",
              " 'offsets',\n",
              " 'option_context',\n",
              " 'options',\n",
              " 'pandas',\n",
              " 'period_range',\n",
              " 'pivot',\n",
              " 'pivot_table',\n",
              " 'plotting',\n",
              " 'qcut',\n",
              " 'read_clipboard',\n",
              " 'read_csv',\n",
              " 'read_excel',\n",
              " 'read_feather',\n",
              " 'read_fwf',\n",
              " 'read_gbq',\n",
              " 'read_hdf',\n",
              " 'read_html',\n",
              " 'read_json',\n",
              " 'read_orc',\n",
              " 'read_parquet',\n",
              " 'read_pickle',\n",
              " 'read_sas',\n",
              " 'read_spss',\n",
              " 'read_sql',\n",
              " 'read_sql_query',\n",
              " 'read_sql_table',\n",
              " 'read_stata',\n",
              " 'read_table',\n",
              " 'read_xml',\n",
              " 'reset_option',\n",
              " 'set_eng_float_format',\n",
              " 'set_option',\n",
              " 'show_versions',\n",
              " 'test',\n",
              " 'testing',\n",
              " 'timedelta_range',\n",
              " 'to_datetime',\n",
              " 'to_numeric',\n",
              " 'to_pickle',\n",
              " 'to_timedelta',\n",
              " 'tseries',\n",
              " 'unique',\n",
              " 'util',\n",
              " 'value_counts',\n",
              " 'wide_to_long']"
            ]
          },
          "metadata": {},
          "execution_count": 1
        }
      ],
      "source": [
        "import pandas as pd\n",
        "dir(pd) #These are the functions that pandas can do"
      ]
    },
    {
      "cell_type": "markdown",
      "source": [
        "##Reading data from csv file##"
      ],
      "metadata": {
        "id": "y8IJt1WCFZRs"
      }
    },
    {
      "cell_type": "code",
      "source": [
        "# Read data into Python\n",
        "education = pd.read_csv(r\"Inclass_education.csv\")\n",
        "# Education = pd.read_csv(\"C:/Data/education.csv\")\n",
        "education.info()\n",
        "education.head()"
      ],
      "metadata": {
        "colab": {
          "base_uri": "https://localhost:8080/",
          "height": 385
        },
        "id": "cP08o9faFXoC",
        "outputId": "8dbafb9a-6ec2-42ce-df6f-50bb282c5a6b"
      },
      "execution_count": 2,
      "outputs": [
        {
          "output_type": "stream",
          "name": "stdout",
          "text": [
            "<class 'pandas.core.frame.DataFrame'>\n",
            "RangeIndex: 773 entries, 0 to 772\n",
            "Data columns (total 3 columns):\n",
            " #   Column    Non-Null Count  Dtype\n",
            "---  ------    --------------  -----\n",
            " 0   datasrno  773 non-null    int64\n",
            " 1   workex    773 non-null    int64\n",
            " 2   gmat      773 non-null    int64\n",
            "dtypes: int64(3)\n",
            "memory usage: 18.2 KB\n"
          ]
        },
        {
          "output_type": "execute_result",
          "data": {
            "text/plain": [
              "   datasrno  workex  gmat\n",
              "0         1      21   720\n",
              "1         2     107   640\n",
              "2         3      57   740\n",
              "3         4      99   690\n",
              "4         5     208   710"
            ],
            "text/html": [
              "\n",
              "  <div id=\"df-918d2992-8838-40f5-adcd-ab90e2578118\">\n",
              "    <div class=\"colab-df-container\">\n",
              "      <div>\n",
              "<style scoped>\n",
              "    .dataframe tbody tr th:only-of-type {\n",
              "        vertical-align: middle;\n",
              "    }\n",
              "\n",
              "    .dataframe tbody tr th {\n",
              "        vertical-align: top;\n",
              "    }\n",
              "\n",
              "    .dataframe thead th {\n",
              "        text-align: right;\n",
              "    }\n",
              "</style>\n",
              "<table border=\"1\" class=\"dataframe\">\n",
              "  <thead>\n",
              "    <tr style=\"text-align: right;\">\n",
              "      <th></th>\n",
              "      <th>datasrno</th>\n",
              "      <th>workex</th>\n",
              "      <th>gmat</th>\n",
              "    </tr>\n",
              "  </thead>\n",
              "  <tbody>\n",
              "    <tr>\n",
              "      <th>0</th>\n",
              "      <td>1</td>\n",
              "      <td>21</td>\n",
              "      <td>720</td>\n",
              "    </tr>\n",
              "    <tr>\n",
              "      <th>1</th>\n",
              "      <td>2</td>\n",
              "      <td>107</td>\n",
              "      <td>640</td>\n",
              "    </tr>\n",
              "    <tr>\n",
              "      <th>2</th>\n",
              "      <td>3</td>\n",
              "      <td>57</td>\n",
              "      <td>740</td>\n",
              "    </tr>\n",
              "    <tr>\n",
              "      <th>3</th>\n",
              "      <td>4</td>\n",
              "      <td>99</td>\n",
              "      <td>690</td>\n",
              "    </tr>\n",
              "    <tr>\n",
              "      <th>4</th>\n",
              "      <td>5</td>\n",
              "      <td>208</td>\n",
              "      <td>710</td>\n",
              "    </tr>\n",
              "  </tbody>\n",
              "</table>\n",
              "</div>\n",
              "      <button class=\"colab-df-convert\" onclick=\"convertToInteractive('df-918d2992-8838-40f5-adcd-ab90e2578118')\"\n",
              "              title=\"Convert this dataframe to an interactive table.\"\n",
              "              style=\"display:none;\">\n",
              "        \n",
              "  <svg xmlns=\"http://www.w3.org/2000/svg\" height=\"24px\"viewBox=\"0 0 24 24\"\n",
              "       width=\"24px\">\n",
              "    <path d=\"M0 0h24v24H0V0z\" fill=\"none\"/>\n",
              "    <path d=\"M18.56 5.44l.94 2.06.94-2.06 2.06-.94-2.06-.94-.94-2.06-.94 2.06-2.06.94zm-11 1L8.5 8.5l.94-2.06 2.06-.94-2.06-.94L8.5 2.5l-.94 2.06-2.06.94zm10 10l.94 2.06.94-2.06 2.06-.94-2.06-.94-.94-2.06-.94 2.06-2.06.94z\"/><path d=\"M17.41 7.96l-1.37-1.37c-.4-.4-.92-.59-1.43-.59-.52 0-1.04.2-1.43.59L10.3 9.45l-7.72 7.72c-.78.78-.78 2.05 0 2.83L4 21.41c.39.39.9.59 1.41.59.51 0 1.02-.2 1.41-.59l7.78-7.78 2.81-2.81c.8-.78.8-2.07 0-2.86zM5.41 20L4 18.59l7.72-7.72 1.47 1.35L5.41 20z\"/>\n",
              "  </svg>\n",
              "      </button>\n",
              "      \n",
              "  <style>\n",
              "    .colab-df-container {\n",
              "      display:flex;\n",
              "      flex-wrap:wrap;\n",
              "      gap: 12px;\n",
              "    }\n",
              "\n",
              "    .colab-df-convert {\n",
              "      background-color: #E8F0FE;\n",
              "      border: none;\n",
              "      border-radius: 50%;\n",
              "      cursor: pointer;\n",
              "      display: none;\n",
              "      fill: #1967D2;\n",
              "      height: 32px;\n",
              "      padding: 0 0 0 0;\n",
              "      width: 32px;\n",
              "    }\n",
              "\n",
              "    .colab-df-convert:hover {\n",
              "      background-color: #E2EBFA;\n",
              "      box-shadow: 0px 1px 2px rgba(60, 64, 67, 0.3), 0px 1px 3px 1px rgba(60, 64, 67, 0.15);\n",
              "      fill: #174EA6;\n",
              "    }\n",
              "\n",
              "    [theme=dark] .colab-df-convert {\n",
              "      background-color: #3B4455;\n",
              "      fill: #D2E3FC;\n",
              "    }\n",
              "\n",
              "    [theme=dark] .colab-df-convert:hover {\n",
              "      background-color: #434B5C;\n",
              "      box-shadow: 0px 1px 3px 1px rgba(0, 0, 0, 0.15);\n",
              "      filter: drop-shadow(0px 1px 2px rgba(0, 0, 0, 0.3));\n",
              "      fill: #FFFFFF;\n",
              "    }\n",
              "  </style>\n",
              "\n",
              "      <script>\n",
              "        const buttonEl =\n",
              "          document.querySelector('#df-918d2992-8838-40f5-adcd-ab90e2578118 button.colab-df-convert');\n",
              "        buttonEl.style.display =\n",
              "          google.colab.kernel.accessAllowed ? 'block' : 'none';\n",
              "\n",
              "        async function convertToInteractive(key) {\n",
              "          const element = document.querySelector('#df-918d2992-8838-40f5-adcd-ab90e2578118');\n",
              "          const dataTable =\n",
              "            await google.colab.kernel.invokeFunction('convertToInteractive',\n",
              "                                                     [key], {});\n",
              "          if (!dataTable) return;\n",
              "\n",
              "          const docLinkHtml = 'Like what you see? Visit the ' +\n",
              "            '<a target=\"_blank\" href=https://colab.research.google.com/notebooks/data_table.ipynb>data table notebook</a>'\n",
              "            + ' to learn more about interactive tables.';\n",
              "          element.innerHTML = '';\n",
              "          dataTable['output_type'] = 'display_data';\n",
              "          await google.colab.output.renderOutput(dataTable, element);\n",
              "          const docLink = document.createElement('div');\n",
              "          docLink.innerHTML = docLinkHtml;\n",
              "          element.appendChild(docLink);\n",
              "        }\n",
              "      </script>\n",
              "    </div>\n",
              "  </div>\n",
              "  "
            ]
          },
          "metadata": {},
          "execution_count": 2
        }
      ]
    },
    {
      "cell_type": "markdown",
      "source": [
        "Non-null means there is no missing ness"
      ],
      "metadata": {
        "id": "yf10GauYHsPi"
      }
    },
    {
      "cell_type": "markdown",
      "source": [
        "##Exploratory Data Analysis :- Workex and gmat##"
      ],
      "metadata": {
        "id": "IlAhQJv8FoZs"
      }
    },
    {
      "cell_type": "markdown",
      "source": [
        "1. Mean\n",
        "2. Median\n",
        "3. Mode"
      ],
      "metadata": {
        "id": "CM9YyhUZJwfb"
      }
    },
    {
      "cell_type": "code",
      "source": [
        "# Exploratory Data Analysis\n",
        "# Measures of Central Tendency / First moment business decision\n",
        "education.workex.mean() # '.' is used to refer to the variables within object\n",
        "education.workex.median()\n",
        "education.workex.mode()\n",
        "\n",
        "education.gmat.mean() # '.' is used to refer to the variables within object\n",
        "education.gmat.median()\n",
        "education.gmat.mode()"
      ],
      "metadata": {
        "colab": {
          "base_uri": "https://localhost:8080/"
        },
        "id": "2RRzWFPLFnlV",
        "outputId": "61d299de-e919-408a-c42b-f484a81c6e5c"
      },
      "execution_count": 3,
      "outputs": [
        {
          "output_type": "execute_result",
          "data": {
            "text/plain": [
              "0    710\n",
              "dtype: int64"
            ]
          },
          "metadata": {},
          "execution_count": 3
        }
      ]
    },
    {
      "cell_type": "markdown",
      "source": [
        "##Measures of Dispersion / Second moment business decision##\n"
      ],
      "metadata": {
        "id": "L3Z17FURGBvL"
      }
    },
    {
      "cell_type": "markdown",
      "source": [
        "1. Variance\n",
        "2. Standard Deviation\n",
        "3. Range"
      ],
      "metadata": {
        "id": "UetoqCz_KIO8"
      }
    },
    {
      "cell_type": "code",
      "source": [
        "# Measures of Dispersion / Second moment business decision\n",
        "varWorkex = education.workex.var() # variance\n",
        "stdWorkex = education.workex.std() # standard deviation\n",
        "range_workex = max(education.workex) - min(education.workex) # range\n",
        "\n",
        "varGmat = education.gmat.var() # variance\n",
        "stdGmat = education.gmat.std() # standard deviation\n",
        "range_gmat = max(education.gmat) - min(education.gmat) # range\n",
        "\n",
        "varWorkex\n",
        "stdWorkex\n",
        "range_workex\n",
        "\n",
        "varGmat\n",
        "stdGmat\n",
        "range_gmat"
      ],
      "metadata": {
        "id": "OmeNtjhMF_db"
      },
      "execution_count": null,
      "outputs": []
    },
    {
      "cell_type": "markdown",
      "source": [
        "##Third moment business decision##"
      ],
      "metadata": {
        "id": "mw-aKr47G_i2"
      }
    },
    {
      "cell_type": "markdown",
      "source": [
        "1. Skewness"
      ],
      "metadata": {
        "id": "B1HFrSBKPgNf"
      }
    },
    {
      "cell_type": "code",
      "source": [
        "education.workex.skew()"
      ],
      "metadata": {
        "colab": {
          "base_uri": "https://localhost:8080/"
        },
        "id": "mvCkItyZNbUK",
        "outputId": "a7eff56c-c95c-4b80-ae2b-2c19dabf96a9"
      },
      "execution_count": 13,
      "outputs": [
        {
          "output_type": "execute_result",
          "data": {
            "text/plain": [
              "2.6085365678230614"
            ]
          },
          "metadata": {},
          "execution_count": 13
        }
      ]
    },
    {
      "cell_type": "code",
      "source": [
        "education.gmat.skew()"
      ],
      "metadata": {
        "colab": {
          "base_uri": "https://localhost:8080/"
        },
        "id": "cIdPOcKTGL7i",
        "outputId": "15a8c6d4-e015-46f0-f924-3f181f20f3ca"
      },
      "execution_count": 14,
      "outputs": [
        {
          "output_type": "execute_result",
          "data": {
            "text/plain": [
              "-0.5954765248452923"
            ]
          },
          "metadata": {},
          "execution_count": 14
        }
      ]
    },
    {
      "cell_type": "markdown",
      "source": [
        "##Fourth moment business decision##"
      ],
      "metadata": {
        "id": "VMDyQWlfHD40"
      }
    },
    {
      "cell_type": "markdown",
      "source": [
        "1. Kurtoisis"
      ],
      "metadata": {
        "id": "ReFmXw7IPi54"
      }
    },
    {
      "cell_type": "code",
      "source": [
        "# Fourth moment business decision\n",
        "education.workex.kurt()"
      ],
      "metadata": {
        "colab": {
          "base_uri": "https://localhost:8080/"
        },
        "id": "Y5cIOo2aGN2D",
        "outputId": "f0b87baa-1e78-4f9e-946d-76700d3d5317"
      },
      "execution_count": 6,
      "outputs": [
        {
          "output_type": "execute_result",
          "data": {
            "text/plain": [
              "13.404731601273921"
            ]
          },
          "metadata": {},
          "execution_count": 6
        }
      ]
    },
    {
      "cell_type": "code",
      "source": [
        "education.gmat.kurt()"
      ],
      "metadata": {
        "colab": {
          "base_uri": "https://localhost:8080/"
        },
        "id": "lJlRRiEbN-JC",
        "outputId": "5468f0af-3814-4487-b376-8db1e33c97e2"
      },
      "execution_count": 15,
      "outputs": [
        {
          "output_type": "execute_result",
          "data": {
            "text/plain": [
              "1.167164158069025"
            ]
          },
          "metadata": {},
          "execution_count": 15
        }
      ]
    },
    {
      "cell_type": "markdown",
      "source": [
        "##Data Visualization##"
      ],
      "metadata": {
        "id": "i8q5xvI8HJPb"
      }
    },
    {
      "cell_type": "code",
      "source": [
        "# Data Visualization\n",
        "import matplotlib.pyplot as plt\n",
        "import numpy as np\n",
        "\n",
        "education.shape"
      ],
      "metadata": {
        "colab": {
          "base_uri": "https://localhost:8080/"
        },
        "id": "vL7mk5L8GQWe",
        "outputId": "d8b378ba-974b-49b3-f5e5-f731e35aca5b"
      },
      "execution_count": 17,
      "outputs": [
        {
          "output_type": "execute_result",
          "data": {
            "text/plain": [
              "(773, 3)"
            ]
          },
          "metadata": {},
          "execution_count": 17
        }
      ]
    },
    {
      "cell_type": "markdown",
      "source": [
        "##Barplot##"
      ],
      "metadata": {
        "id": "-np6slAvHUDN"
      }
    },
    {
      "cell_type": "code",
      "source": [
        "# barplot\n",
        "plt.bar(height = education.gmat, x = np.arange(1, 774, 1)) # initializing the parameter"
      ],
      "metadata": {
        "colab": {
          "base_uri": "https://localhost:8080/",
          "height": 283
        },
        "id": "57S8SGIVGq6g",
        "outputId": "d47387f7-10b7-4d86-90ab-84c64939c1ae"
      },
      "execution_count": 18,
      "outputs": [
        {
          "output_type": "execute_result",
          "data": {
            "text/plain": [
              "<BarContainer object of 773 artists>"
            ]
          },
          "metadata": {},
          "execution_count": 18
        },
        {
          "output_type": "display_data",
          "data": {
            "text/plain": [
              "<Figure size 432x288 with 1 Axes>"
            ],
            "image/png": "[encoded data removed]"
          },
          "metadata": {
            "needs_background": "light"
          }
        }
      ]
    },
    {
      "cell_type": "code",
      "source": [
        "plt.bar(height = education.workex, x = np.arange(1, 774, 1))"
      ],
      "metadata": {
        "colab": {
          "base_uri": "https://localhost:8080/",
          "height": 283
        },
        "id": "ttR4twxFOP1V",
        "outputId": "b1ff68aa-d569-4117-ea08-b0e0d42085b4"
      },
      "execution_count": 23,
      "outputs": [
        {
          "output_type": "execute_result",
          "data": {
            "text/plain": [
              "<BarContainer object of 773 artists>"
            ]
          },
          "metadata": {},
          "execution_count": 23
        },
        {
          "output_type": "display_data",
          "data": {
            "text/plain": [
              "<Figure size 432x288 with 1 Axes>"
            ],
            "image/png": "[encoded data removed]"
          },
          "metadata": {
            "needs_background": "light"
          }
        }
      ]
    },
    {
      "cell_type": "markdown",
      "source": [
        "##Histogram##"
      ],
      "metadata": {
        "id": "0rL32b36HWxY"
      }
    },
    {
      "cell_type": "code",
      "source": [
        "# histogram\n",
        "plt.hist(education.gmat, color = 'purple') \n",
        "plt.hist(education.workex, color='red')"
      ],
      "metadata": {
        "colab": {
          "base_uri": "https://localhost:8080/",
          "height": 336
        },
        "id": "BuXZOS2TGxPc",
        "outputId": "11fd7bed-daa1-4e02-be44-740b1d683dfb"
      },
      "execution_count": 24,
      "outputs": [
        {
          "output_type": "execute_result",
          "data": {
            "text/plain": [
              "(array([156., 368., 172.,  49.,  22.,   0.,   2.,   1.,   1.,   2.]),\n",
              " array([  9.,  36.,  63.,  90., 117., 144., 171., 198., 225., 252., 279.]),\n",
              " <a list of 10 Patch objects>)"
            ]
          },
          "metadata": {},
          "execution_count": 24
        },
        {
          "output_type": "display_data",
          "data": {
            "text/plain": [
              "<Figure size 432x288 with 1 Axes>"
            ],
            "image/png": "[encoded data removed]"
          },
          "metadata": {
            "needs_background": "light"
          }
        }
      ]
    },
    {
      "cell_type": "markdown",
      "source": [
        "###Getting Help###"
      ],
      "metadata": {
        "id": "p_wlLQtjQWqR"
      }
    },
    {
      "cell_type": "code",
      "source": [
        "help(plt.hist)"
      ],
      "metadata": {
        "id": "nVol68KlQfc6"
      },
      "execution_count": null,
      "outputs": []
    },
    {
      "cell_type": "markdown",
      "source": [
        "##Box Plotting##"
      ],
      "metadata": {
        "id": "S0fSQ59lHZ3h"
      }
    },
    {
      "cell_type": "code",
      "source": [
        "\n",
        "plt.figure()\n",
        "\n",
        "plt.boxplot(education.gmat) # boxplot\n"
      ],
      "metadata": {
        "colab": {
          "base_uri": "https://localhost:8080/",
          "height": 408
        },
        "id": "G_eGb9xnG1y6",
        "outputId": "7b8360f4-aecf-41e7-9c2e-2337e3913ec4"
      },
      "execution_count": 27,
      "outputs": [
        {
          "output_type": "execute_result",
          "data": {
            "text/plain": [
              "{'whiskers': [<matplotlib.lines.Line2D at 0x7fd539d05a50>,\n",
              "  <matplotlib.lines.Line2D at 0x7fd539d1e090>],\n",
              " 'caps': [<matplotlib.lines.Line2D at 0x7fd539cc2a50>,\n",
              "  <matplotlib.lines.Line2D at 0x7fd539ce8b10>],\n",
              " 'boxes': [<matplotlib.lines.Line2D at 0x7fd539d62c90>],\n",
              " 'medians': [<matplotlib.lines.Line2D at 0x7fd539c7fe10>],\n",
              " 'fliers': [<matplotlib.lines.Line2D at 0x7fd539ca6ed0>],\n",
              " 'means': []}"
            ]
          },
          "metadata": {},
          "execution_count": 27
        },
        {
          "output_type": "display_data",
          "data": {
            "text/plain": [
              "<Figure size 432x288 with 1 Axes>"
            ],
            "image/png": "[encoded data removed]"
          },
          "metadata": {
            "needs_background": "light"
          }
        }
      ]
    },
    {
      "cell_type": "markdown",
      "source": [
        "Dotts are the outliers :- Three dots means there are atleast three outliers"
      ],
      "metadata": {
        "id": "S2QMk8a8RivD"
      }
    },
    {
      "cell_type": "code",
      "source": [
        "plt.boxplot(education.workex) # boxplot"
      ],
      "metadata": {
        "colab": {
          "base_uri": "https://localhost:8080/",
          "height": 408
        },
        "id": "kIdjcrC3aOr0",
        "outputId": "d76375c3-086e-4085-a3b7-c6ef5985cd43"
      },
      "execution_count": 29,
      "outputs": [
        {
          "output_type": "execute_result",
          "data": {
            "text/plain": [
              "{'whiskers': [<matplotlib.lines.Line2D at 0x7fd539f70dd0>,\n",
              "  <matplotlib.lines.Line2D at 0x7fd539f88f90>],\n",
              " 'caps': [<matplotlib.lines.Line2D at 0x7fd539fa0710>,\n",
              "  <matplotlib.lines.Line2D at 0x7fd539f39c90>],\n",
              " 'boxes': [<matplotlib.lines.Line2D at 0x7fd539fe3710>],\n",
              " 'medians': [<matplotlib.lines.Line2D at 0x7fd539f54ed0>],\n",
              " 'fliers': [<matplotlib.lines.Line2D at 0x7fd539f6bd90>],\n",
              " 'means': []}"
            ]
          },
          "metadata": {},
          "execution_count": 29
        },
        {
          "output_type": "display_data",
          "data": {
            "text/plain": [
              "<Figure size 432x288 with 1 Axes>"
            ],
            "image/png": "[encoded data removed]"
          },
          "metadata": {
            "needs_background": "light"
          }
        }
      ]
    },
    {
      "cell_type": "code",
      "source": [],
      "metadata": {
        "id": "vUPK1td6ahth"
      },
      "execution_count": null,
      "outputs": []
    }
  ]
}